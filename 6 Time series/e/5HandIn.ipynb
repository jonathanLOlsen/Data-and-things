{
 "cells": [
  {
   "cell_type": "markdown",
   "metadata": {},
   "source": [
    "## **Exercise**\n",
    "\n",
    "3. Clean and pre-process the dataset as required and prepare the data for modelling.\n",
    "4. Create the lag and rolling windows features for the \"cnt\" column such as: 1 day lag, 1 week lag, 1 month, etc. and last 3 day rolling mean, last 3 hours rolling mean, etc. But it should be based on your dataset and what makes sense for this dataset.\n",
    "6. Implement XGBoost to predict how many bikes will be rented each hour of the last week and evaluate using appropriate metrics."
   ]
  },
  {
   "cell_type": "code",
   "execution_count": 176,
   "metadata": {},
   "outputs": [],
   "source": [
    "import os\n",
    "import kagglehub\n",
    "\n",
    "import pandas as pd\n",
    "import numpy as np\n",
    "import matplotlib.pyplot as plt\n",
    "import seaborn as sns\n",
    "color_pal = sns.color_palette()\n",
    "plt.style.use('fivethirtyeight')\n",
    "\n",
    "from statsmodels.tsa.seasonal import seasonal_decompose\n",
    "from sklearn.linear_model import LinearRegression\n",
    "import xgboost as xgb\n",
    "from sklearn.metrics import mean_squared_error, mean_absolute_error"
   ]
  },
  {
   "cell_type": "code",
   "execution_count": 177,
   "metadata": {},
   "outputs": [
    {
     "name": "stdout",
     "output_type": "stream",
     "text": [
      "Path to dataset files: C:\\Users\\Jlo\\.cache\\kagglehub\\datasets\\lakshmi25npathi\\bike-sharing-dataset\\versions\\1\n"
     ]
    }
   ],
   "source": [
    "path = kagglehub.dataset_download(\"lakshmi25npathi/bike-sharing-dataset\")\n",
    "print(\"Path to dataset files:\", path)"
   ]
  },
  {
   "cell_type": "code",
   "execution_count": 178,
   "metadata": {},
   "outputs": [
    {
     "name": "stdout",
     "output_type": "stream",
     "text": [
      "['day.csv', 'hour.csv', 'Readme.txt']\n"
     ]
    }
   ],
   "source": [
    "dataset_path = path\n",
    "\n",
    "files = os.listdir(dataset_path)\n",
    "print(files)"
   ]
  },
  {
   "cell_type": "code",
   "execution_count": 179,
   "metadata": {},
   "outputs": [
    {
     "data": {
      "text/html": [
       "<div>\n",
       "<style scoped>\n",
       "    .dataframe tbody tr th:only-of-type {\n",
       "        vertical-align: middle;\n",
       "    }\n",
       "\n",
       "    .dataframe tbody tr th {\n",
       "        vertical-align: top;\n",
       "    }\n",
       "\n",
       "    .dataframe thead th {\n",
       "        text-align: right;\n",
       "    }\n",
       "</style>\n",
       "<table border=\"1\" class=\"dataframe\">\n",
       "  <thead>\n",
       "    <tr style=\"text-align: right;\">\n",
       "      <th></th>\n",
       "      <th>instant</th>\n",
       "      <th>dteday</th>\n",
       "      <th>season</th>\n",
       "      <th>yr</th>\n",
       "      <th>mnth</th>\n",
       "      <th>hr</th>\n",
       "      <th>holiday</th>\n",
       "      <th>weekday</th>\n",
       "      <th>workingday</th>\n",
       "      <th>weathersit</th>\n",
       "      <th>temp</th>\n",
       "      <th>atemp</th>\n",
       "      <th>hum</th>\n",
       "      <th>windspeed</th>\n",
       "      <th>casual</th>\n",
       "      <th>registered</th>\n",
       "      <th>cnt</th>\n",
       "    </tr>\n",
       "  </thead>\n",
       "  <tbody>\n",
       "    <tr>\n",
       "      <th>0</th>\n",
       "      <td>1</td>\n",
       "      <td>2011-01-01</td>\n",
       "      <td>1</td>\n",
       "      <td>0</td>\n",
       "      <td>1</td>\n",
       "      <td>0</td>\n",
       "      <td>0</td>\n",
       "      <td>6</td>\n",
       "      <td>0</td>\n",
       "      <td>1</td>\n",
       "      <td>0.24</td>\n",
       "      <td>0.2879</td>\n",
       "      <td>0.81</td>\n",
       "      <td>0.0</td>\n",
       "      <td>3</td>\n",
       "      <td>13</td>\n",
       "      <td>16</td>\n",
       "    </tr>\n",
       "    <tr>\n",
       "      <th>1</th>\n",
       "      <td>2</td>\n",
       "      <td>2011-01-01</td>\n",
       "      <td>1</td>\n",
       "      <td>0</td>\n",
       "      <td>1</td>\n",
       "      <td>1</td>\n",
       "      <td>0</td>\n",
       "      <td>6</td>\n",
       "      <td>0</td>\n",
       "      <td>1</td>\n",
       "      <td>0.22</td>\n",
       "      <td>0.2727</td>\n",
       "      <td>0.80</td>\n",
       "      <td>0.0</td>\n",
       "      <td>8</td>\n",
       "      <td>32</td>\n",
       "      <td>40</td>\n",
       "    </tr>\n",
       "    <tr>\n",
       "      <th>2</th>\n",
       "      <td>3</td>\n",
       "      <td>2011-01-01</td>\n",
       "      <td>1</td>\n",
       "      <td>0</td>\n",
       "      <td>1</td>\n",
       "      <td>2</td>\n",
       "      <td>0</td>\n",
       "      <td>6</td>\n",
       "      <td>0</td>\n",
       "      <td>1</td>\n",
       "      <td>0.22</td>\n",
       "      <td>0.2727</td>\n",
       "      <td>0.80</td>\n",
       "      <td>0.0</td>\n",
       "      <td>5</td>\n",
       "      <td>27</td>\n",
       "      <td>32</td>\n",
       "    </tr>\n",
       "    <tr>\n",
       "      <th>3</th>\n",
       "      <td>4</td>\n",
       "      <td>2011-01-01</td>\n",
       "      <td>1</td>\n",
       "      <td>0</td>\n",
       "      <td>1</td>\n",
       "      <td>3</td>\n",
       "      <td>0</td>\n",
       "      <td>6</td>\n",
       "      <td>0</td>\n",
       "      <td>1</td>\n",
       "      <td>0.24</td>\n",
       "      <td>0.2879</td>\n",
       "      <td>0.75</td>\n",
       "      <td>0.0</td>\n",
       "      <td>3</td>\n",
       "      <td>10</td>\n",
       "      <td>13</td>\n",
       "    </tr>\n",
       "    <tr>\n",
       "      <th>4</th>\n",
       "      <td>5</td>\n",
       "      <td>2011-01-01</td>\n",
       "      <td>1</td>\n",
       "      <td>0</td>\n",
       "      <td>1</td>\n",
       "      <td>4</td>\n",
       "      <td>0</td>\n",
       "      <td>6</td>\n",
       "      <td>0</td>\n",
       "      <td>1</td>\n",
       "      <td>0.24</td>\n",
       "      <td>0.2879</td>\n",
       "      <td>0.75</td>\n",
       "      <td>0.0</td>\n",
       "      <td>0</td>\n",
       "      <td>1</td>\n",
       "      <td>1</td>\n",
       "    </tr>\n",
       "  </tbody>\n",
       "</table>\n",
       "</div>"
      ],
      "text/plain": [
       "   instant      dteday  season  yr  mnth  hr  holiday  weekday  workingday  \\\n",
       "0        1  2011-01-01       1   0     1   0        0        6           0   \n",
       "1        2  2011-01-01       1   0     1   1        0        6           0   \n",
       "2        3  2011-01-01       1   0     1   2        0        6           0   \n",
       "3        4  2011-01-01       1   0     1   3        0        6           0   \n",
       "4        5  2011-01-01       1   0     1   4        0        6           0   \n",
       "\n",
       "   weathersit  temp   atemp   hum  windspeed  casual  registered  cnt  \n",
       "0           1  0.24  0.2879  0.81        0.0       3          13   16  \n",
       "1           1  0.22  0.2727  0.80        0.0       8          32   40  \n",
       "2           1  0.22  0.2727  0.80        0.0       5          27   32  \n",
       "3           1  0.24  0.2879  0.75        0.0       3          10   13  \n",
       "4           1  0.24  0.2879  0.75        0.0       0           1    1  "
      ]
     },
     "execution_count": 179,
     "metadata": {},
     "output_type": "execute_result"
    }
   ],
   "source": [
    "file_path = dataset_path + \"/hour.csv\"\n",
    "\n",
    "df = pd.read_csv(file_path)\n",
    "df.head()"
   ]
  },
  {
   "cell_type": "markdown",
   "metadata": {},
   "source": [
    "3. Clean and pre-process the dataset as required and prepare the data for modelling."
   ]
  },
  {
   "cell_type": "code",
   "execution_count": 180,
   "metadata": {},
   "outputs": [
    {
     "name": "stdout",
     "output_type": "stream",
     "text": [
      "<class 'pandas.core.frame.DataFrame'>\n",
      "RangeIndex: 17379 entries, 0 to 17378\n",
      "Data columns (total 17 columns):\n",
      " #   Column      Non-Null Count  Dtype  \n",
      "---  ------      --------------  -----  \n",
      " 0   instant     17379 non-null  int64  \n",
      " 1   dteday      17379 non-null  object \n",
      " 2   season      17379 non-null  int64  \n",
      " 3   yr          17379 non-null  int64  \n",
      " 4   mnth        17379 non-null  int64  \n",
      " 5   hr          17379 non-null  int64  \n",
      " 6   holiday     17379 non-null  int64  \n",
      " 7   weekday     17379 non-null  int64  \n",
      " 8   workingday  17379 non-null  int64  \n",
      " 9   weathersit  17379 non-null  int64  \n",
      " 10  temp        17379 non-null  float64\n",
      " 11  atemp       17379 non-null  float64\n",
      " 12  hum         17379 non-null  float64\n",
      " 13  windspeed   17379 non-null  float64\n",
      " 14  casual      17379 non-null  int64  \n",
      " 15  registered  17379 non-null  int64  \n",
      " 16  cnt         17379 non-null  int64  \n",
      "dtypes: float64(4), int64(12), object(1)\n",
      "memory usage: 2.3+ MB\n"
     ]
    }
   ],
   "source": [
    "df.info()"
   ]
  },
  {
   "cell_type": "code",
   "execution_count": 181,
   "metadata": {},
   "outputs": [
    {
     "data": {
      "text/plain": [
       "instant       0\n",
       "dteday        0\n",
       "season        0\n",
       "yr            0\n",
       "mnth          0\n",
       "hr            0\n",
       "holiday       0\n",
       "weekday       0\n",
       "workingday    0\n",
       "weathersit    0\n",
       "temp          0\n",
       "atemp         0\n",
       "hum           0\n",
       "windspeed     0\n",
       "casual        0\n",
       "registered    0\n",
       "cnt           0\n",
       "dtype: int64"
      ]
     },
     "execution_count": 181,
     "metadata": {},
     "output_type": "execute_result"
    }
   ],
   "source": [
    "df.isnull().sum()"
   ]
  },
  {
   "cell_type": "code",
   "execution_count": 182,
   "metadata": {},
   "outputs": [
    {
     "data": {
      "text/html": [
       "<div>\n",
       "<style scoped>\n",
       "    .dataframe tbody tr th:only-of-type {\n",
       "        vertical-align: middle;\n",
       "    }\n",
       "\n",
       "    .dataframe tbody tr th {\n",
       "        vertical-align: top;\n",
       "    }\n",
       "\n",
       "    .dataframe thead th {\n",
       "        text-align: right;\n",
       "    }\n",
       "</style>\n",
       "<table border=\"1\" class=\"dataframe\">\n",
       "  <thead>\n",
       "    <tr style=\"text-align: right;\">\n",
       "      <th></th>\n",
       "      <th>instant</th>\n",
       "      <th>season</th>\n",
       "      <th>yr</th>\n",
       "      <th>mnth</th>\n",
       "      <th>hr</th>\n",
       "      <th>holiday</th>\n",
       "      <th>weekday</th>\n",
       "      <th>workingday</th>\n",
       "      <th>weathersit</th>\n",
       "      <th>temp</th>\n",
       "      <th>atemp</th>\n",
       "      <th>hum</th>\n",
       "      <th>windspeed</th>\n",
       "      <th>casual</th>\n",
       "      <th>registered</th>\n",
       "      <th>cnt</th>\n",
       "    </tr>\n",
       "  </thead>\n",
       "  <tbody>\n",
       "    <tr>\n",
       "      <th>count</th>\n",
       "      <td>17379.0000</td>\n",
       "      <td>17379.000000</td>\n",
       "      <td>17379.000000</td>\n",
       "      <td>17379.000000</td>\n",
       "      <td>17379.000000</td>\n",
       "      <td>17379.000000</td>\n",
       "      <td>17379.000000</td>\n",
       "      <td>17379.000000</td>\n",
       "      <td>17379.000000</td>\n",
       "      <td>17379.000000</td>\n",
       "      <td>17379.000000</td>\n",
       "      <td>17379.000000</td>\n",
       "      <td>17379.000000</td>\n",
       "      <td>17379.000000</td>\n",
       "      <td>17379.000000</td>\n",
       "      <td>17379.000000</td>\n",
       "    </tr>\n",
       "    <tr>\n",
       "      <th>mean</th>\n",
       "      <td>8690.0000</td>\n",
       "      <td>2.501640</td>\n",
       "      <td>0.502561</td>\n",
       "      <td>6.537775</td>\n",
       "      <td>11.546752</td>\n",
       "      <td>0.028770</td>\n",
       "      <td>3.003683</td>\n",
       "      <td>0.682721</td>\n",
       "      <td>1.425283</td>\n",
       "      <td>0.496987</td>\n",
       "      <td>0.475775</td>\n",
       "      <td>0.627229</td>\n",
       "      <td>0.190098</td>\n",
       "      <td>35.676218</td>\n",
       "      <td>153.786869</td>\n",
       "      <td>189.463088</td>\n",
       "    </tr>\n",
       "    <tr>\n",
       "      <th>std</th>\n",
       "      <td>5017.0295</td>\n",
       "      <td>1.106918</td>\n",
       "      <td>0.500008</td>\n",
       "      <td>3.438776</td>\n",
       "      <td>6.914405</td>\n",
       "      <td>0.167165</td>\n",
       "      <td>2.005771</td>\n",
       "      <td>0.465431</td>\n",
       "      <td>0.639357</td>\n",
       "      <td>0.192556</td>\n",
       "      <td>0.171850</td>\n",
       "      <td>0.192930</td>\n",
       "      <td>0.122340</td>\n",
       "      <td>49.305030</td>\n",
       "      <td>151.357286</td>\n",
       "      <td>181.387599</td>\n",
       "    </tr>\n",
       "    <tr>\n",
       "      <th>min</th>\n",
       "      <td>1.0000</td>\n",
       "      <td>1.000000</td>\n",
       "      <td>0.000000</td>\n",
       "      <td>1.000000</td>\n",
       "      <td>0.000000</td>\n",
       "      <td>0.000000</td>\n",
       "      <td>0.000000</td>\n",
       "      <td>0.000000</td>\n",
       "      <td>1.000000</td>\n",
       "      <td>0.020000</td>\n",
       "      <td>0.000000</td>\n",
       "      <td>0.000000</td>\n",
       "      <td>0.000000</td>\n",
       "      <td>0.000000</td>\n",
       "      <td>0.000000</td>\n",
       "      <td>1.000000</td>\n",
       "    </tr>\n",
       "    <tr>\n",
       "      <th>25%</th>\n",
       "      <td>4345.5000</td>\n",
       "      <td>2.000000</td>\n",
       "      <td>0.000000</td>\n",
       "      <td>4.000000</td>\n",
       "      <td>6.000000</td>\n",
       "      <td>0.000000</td>\n",
       "      <td>1.000000</td>\n",
       "      <td>0.000000</td>\n",
       "      <td>1.000000</td>\n",
       "      <td>0.340000</td>\n",
       "      <td>0.333300</td>\n",
       "      <td>0.480000</td>\n",
       "      <td>0.104500</td>\n",
       "      <td>4.000000</td>\n",
       "      <td>34.000000</td>\n",
       "      <td>40.000000</td>\n",
       "    </tr>\n",
       "    <tr>\n",
       "      <th>50%</th>\n",
       "      <td>8690.0000</td>\n",
       "      <td>3.000000</td>\n",
       "      <td>1.000000</td>\n",
       "      <td>7.000000</td>\n",
       "      <td>12.000000</td>\n",
       "      <td>0.000000</td>\n",
       "      <td>3.000000</td>\n",
       "      <td>1.000000</td>\n",
       "      <td>1.000000</td>\n",
       "      <td>0.500000</td>\n",
       "      <td>0.484800</td>\n",
       "      <td>0.630000</td>\n",
       "      <td>0.194000</td>\n",
       "      <td>17.000000</td>\n",
       "      <td>115.000000</td>\n",
       "      <td>142.000000</td>\n",
       "    </tr>\n",
       "    <tr>\n",
       "      <th>75%</th>\n",
       "      <td>13034.5000</td>\n",
       "      <td>3.000000</td>\n",
       "      <td>1.000000</td>\n",
       "      <td>10.000000</td>\n",
       "      <td>18.000000</td>\n",
       "      <td>0.000000</td>\n",
       "      <td>5.000000</td>\n",
       "      <td>1.000000</td>\n",
       "      <td>2.000000</td>\n",
       "      <td>0.660000</td>\n",
       "      <td>0.621200</td>\n",
       "      <td>0.780000</td>\n",
       "      <td>0.253700</td>\n",
       "      <td>48.000000</td>\n",
       "      <td>220.000000</td>\n",
       "      <td>281.000000</td>\n",
       "    </tr>\n",
       "    <tr>\n",
       "      <th>max</th>\n",
       "      <td>17379.0000</td>\n",
       "      <td>4.000000</td>\n",
       "      <td>1.000000</td>\n",
       "      <td>12.000000</td>\n",
       "      <td>23.000000</td>\n",
       "      <td>1.000000</td>\n",
       "      <td>6.000000</td>\n",
       "      <td>1.000000</td>\n",
       "      <td>4.000000</td>\n",
       "      <td>1.000000</td>\n",
       "      <td>1.000000</td>\n",
       "      <td>1.000000</td>\n",
       "      <td>0.850700</td>\n",
       "      <td>367.000000</td>\n",
       "      <td>886.000000</td>\n",
       "      <td>977.000000</td>\n",
       "    </tr>\n",
       "  </tbody>\n",
       "</table>\n",
       "</div>"
      ],
      "text/plain": [
       "          instant        season            yr          mnth            hr  \\\n",
       "count  17379.0000  17379.000000  17379.000000  17379.000000  17379.000000   \n",
       "mean    8690.0000      2.501640      0.502561      6.537775     11.546752   \n",
       "std     5017.0295      1.106918      0.500008      3.438776      6.914405   \n",
       "min        1.0000      1.000000      0.000000      1.000000      0.000000   \n",
       "25%     4345.5000      2.000000      0.000000      4.000000      6.000000   \n",
       "50%     8690.0000      3.000000      1.000000      7.000000     12.000000   \n",
       "75%    13034.5000      3.000000      1.000000     10.000000     18.000000   \n",
       "max    17379.0000      4.000000      1.000000     12.000000     23.000000   \n",
       "\n",
       "            holiday       weekday    workingday    weathersit          temp  \\\n",
       "count  17379.000000  17379.000000  17379.000000  17379.000000  17379.000000   \n",
       "mean       0.028770      3.003683      0.682721      1.425283      0.496987   \n",
       "std        0.167165      2.005771      0.465431      0.639357      0.192556   \n",
       "min        0.000000      0.000000      0.000000      1.000000      0.020000   \n",
       "25%        0.000000      1.000000      0.000000      1.000000      0.340000   \n",
       "50%        0.000000      3.000000      1.000000      1.000000      0.500000   \n",
       "75%        0.000000      5.000000      1.000000      2.000000      0.660000   \n",
       "max        1.000000      6.000000      1.000000      4.000000      1.000000   \n",
       "\n",
       "              atemp           hum     windspeed        casual    registered  \\\n",
       "count  17379.000000  17379.000000  17379.000000  17379.000000  17379.000000   \n",
       "mean       0.475775      0.627229      0.190098     35.676218    153.786869   \n",
       "std        0.171850      0.192930      0.122340     49.305030    151.357286   \n",
       "min        0.000000      0.000000      0.000000      0.000000      0.000000   \n",
       "25%        0.333300      0.480000      0.104500      4.000000     34.000000   \n",
       "50%        0.484800      0.630000      0.194000     17.000000    115.000000   \n",
       "75%        0.621200      0.780000      0.253700     48.000000    220.000000   \n",
       "max        1.000000      1.000000      0.850700    367.000000    886.000000   \n",
       "\n",
       "                cnt  \n",
       "count  17379.000000  \n",
       "mean     189.463088  \n",
       "std      181.387599  \n",
       "min        1.000000  \n",
       "25%       40.000000  \n",
       "50%      142.000000  \n",
       "75%      281.000000  \n",
       "max      977.000000  "
      ]
     },
     "execution_count": 182,
     "metadata": {},
     "output_type": "execute_result"
    }
   ],
   "source": [
    "df.describe()"
   ]
  },
  {
   "cell_type": "code",
   "execution_count": 183,
   "metadata": {},
   "outputs": [
    {
     "name": "stdout",
     "output_type": "stream",
     "text": [
      "0\n"
     ]
    }
   ],
   "source": [
    "print(df.duplicated().sum())"
   ]
  },
  {
   "cell_type": "markdown",
   "metadata": {},
   "source": [
    "Instant seems like just a index number so lets drop it so it doest make noice."
   ]
  },
  {
   "cell_type": "code",
   "execution_count": 184,
   "metadata": {},
   "outputs": [],
   "source": [
    "df = df.drop(columns=['instant'])"
   ]
  },
  {
   "cell_type": "markdown",
   "metadata": {},
   "source": [
    "convert dteday to proper datatime"
   ]
  },
  {
   "cell_type": "code",
   "execution_count": 185,
   "metadata": {},
   "outputs": [
    {
     "data": {
      "text/plain": [
       "0        2011-01-01\n",
       "1        2011-01-01\n",
       "2        2011-01-01\n",
       "3        2011-01-01\n",
       "4        2011-01-01\n",
       "            ...    \n",
       "17374    2012-12-31\n",
       "17375    2012-12-31\n",
       "17376    2012-12-31\n",
       "17377    2012-12-31\n",
       "17378    2012-12-31\n",
       "Name: dteday, Length: 17379, dtype: object"
      ]
     },
     "execution_count": 185,
     "metadata": {},
     "output_type": "execute_result"
    }
   ],
   "source": [
    "df['dteday']"
   ]
  },
  {
   "cell_type": "code",
   "execution_count": 186,
   "metadata": {},
   "outputs": [],
   "source": [
    "df['dteday'] = pd.to_datetime(df['dteday'])"
   ]
  },
  {
   "cell_type": "code",
   "execution_count": 187,
   "metadata": {},
   "outputs": [
    {
     "data": {
      "text/plain": [
       "0       2011-01-01\n",
       "1       2011-01-01\n",
       "2       2011-01-01\n",
       "3       2011-01-01\n",
       "4       2011-01-01\n",
       "           ...    \n",
       "17374   2012-12-31\n",
       "17375   2012-12-31\n",
       "17376   2012-12-31\n",
       "17377   2012-12-31\n",
       "17378   2012-12-31\n",
       "Name: dteday, Length: 17379, dtype: datetime64[ns]"
      ]
     },
     "execution_count": 187,
     "metadata": {},
     "output_type": "execute_result"
    }
   ],
   "source": [
    "df['dteday']"
   ]
  },
  {
   "cell_type": "code",
   "execution_count": 188,
   "metadata": {},
   "outputs": [
    {
     "data": {
      "text/plain": [
       "0       2011-01-01\n",
       "1       2011-01-01\n",
       "2       2011-01-01\n",
       "3       2011-01-01\n",
       "4       2011-01-01\n",
       "           ...    \n",
       "17374   2012-12-31\n",
       "17375   2012-12-31\n",
       "17376   2012-12-31\n",
       "17377   2012-12-31\n",
       "17378   2012-12-31\n",
       "Name: dteday, Length: 17379, dtype: datetime64[ns]"
      ]
     },
     "execution_count": 188,
     "metadata": {},
     "output_type": "execute_result"
    }
   ],
   "source": [
    "df['dteday']"
   ]
  },
  {
   "cell_type": "markdown",
   "metadata": {},
   "source": [
    "setting it as the index."
   ]
  },
  {
   "cell_type": "code",
   "execution_count": 189,
   "metadata": {},
   "outputs": [
    {
     "name": "stdout",
     "output_type": "stream",
     "text": [
      "<class 'pandas.core.frame.DataFrame'>\n",
      "RangeIndex: 17379 entries, 0 to 17378\n",
      "Data columns (total 16 columns):\n",
      " #   Column      Non-Null Count  Dtype         \n",
      "---  ------      --------------  -----         \n",
      " 0   dteday      17379 non-null  datetime64[ns]\n",
      " 1   season      17379 non-null  int64         \n",
      " 2   yr          17379 non-null  int64         \n",
      " 3   mnth        17379 non-null  int64         \n",
      " 4   hr          17379 non-null  int64         \n",
      " 5   holiday     17379 non-null  int64         \n",
      " 6   weekday     17379 non-null  int64         \n",
      " 7   workingday  17379 non-null  int64         \n",
      " 8   weathersit  17379 non-null  int64         \n",
      " 9   temp        17379 non-null  float64       \n",
      " 10  atemp       17379 non-null  float64       \n",
      " 11  hum         17379 non-null  float64       \n",
      " 12  windspeed   17379 non-null  float64       \n",
      " 13  casual      17379 non-null  int64         \n",
      " 14  registered  17379 non-null  int64         \n",
      " 15  cnt         17379 non-null  int64         \n",
      "dtypes: datetime64[ns](1), float64(4), int64(11)\n",
      "memory usage: 2.1 MB\n"
     ]
    }
   ],
   "source": [
    "df.info()"
   ]
  },
  {
   "cell_type": "code",
   "execution_count": 190,
   "metadata": {},
   "outputs": [],
   "source": [
    "df = df.set_index('dteday')"
   ]
  },
  {
   "cell_type": "code",
   "execution_count": 191,
   "metadata": {},
   "outputs": [],
   "source": [
    "df = df.sort_index()"
   ]
  },
  {
   "cell_type": "markdown",
   "metadata": {},
   "source": [
    "### 4. Create the lag and rolling windows features for the \"cnt\" column such as: 1 day lag, 1 week lag, 1 month, etc. and last 3 day rolling mean, last 3 hours rolling mean, etc. But it should be based on your dataset and what makes sense for this dataset."
   ]
  },
  {
   "cell_type": "markdown",
   "metadata": {},
   "source": []
  },
  {
   "cell_type": "code",
   "execution_count": 192,
   "metadata": {},
   "outputs": [],
   "source": [
    "# Create lag features for 'cnt'\n",
    "df['lag_1d']   = df['cnt'].shift(24)    # 1 day lag (24 hours)\n",
    "df['lag_1w']   = df['cnt'].shift(168)   # 1 week lag (24 * 7)\n",
    "df['lag_1m']   = df['cnt'].shift(720)   # 1 month lag (approx. 30 days, 24 * 30)"
   ]
  },
  {
   "cell_type": "code",
   "execution_count": 193,
   "metadata": {},
   "outputs": [
    {
     "name": "stdout",
     "output_type": "stream",
     "text": [
      "            cnt  lag_1d  lag_1w  lag_1m\n",
      "dteday                                 \n",
      "2011-01-01   16     NaN     NaN     NaN\n",
      "2011-01-01   40     NaN     NaN     NaN\n",
      "2011-01-01   32     NaN     NaN     NaN\n",
      "2011-01-01   13     NaN     NaN     NaN\n",
      "2011-01-01    1     NaN     NaN     NaN\n",
      "2011-01-01    1     NaN     NaN     NaN\n",
      "2011-01-01    2     NaN     NaN     NaN\n",
      "2011-01-01    3     NaN     NaN     NaN\n",
      "2011-01-01    8     NaN     NaN     NaN\n",
      "2011-01-01   14     NaN     NaN     NaN\n",
      "2011-01-01   36     NaN     NaN     NaN\n",
      "2011-01-01   56     NaN     NaN     NaN\n",
      "2011-01-01   84     NaN     NaN     NaN\n",
      "2011-01-01   94     NaN     NaN     NaN\n",
      "2011-01-01  106     NaN     NaN     NaN\n",
      "2011-01-01  110     NaN     NaN     NaN\n",
      "2011-01-01   93     NaN     NaN     NaN\n",
      "2011-01-01   67     NaN     NaN     NaN\n",
      "2011-01-01   35     NaN     NaN     NaN\n",
      "2011-01-01   37     NaN     NaN     NaN\n",
      "2011-01-01   36     NaN     NaN     NaN\n",
      "2011-01-01   34     NaN     NaN     NaN\n",
      "2011-01-01   28     NaN     NaN     NaN\n",
      "2011-01-01   39     NaN     NaN     NaN\n",
      "2011-01-02   17    16.0     NaN     NaN\n",
      "2011-01-02   17    40.0     NaN     NaN\n",
      "2011-01-02    9    32.0     NaN     NaN\n",
      "2011-01-02    6    13.0     NaN     NaN\n",
      "2011-01-02    3     1.0     NaN     NaN\n",
      "2011-01-02    2     1.0     NaN     NaN\n"
     ]
    }
   ],
   "source": [
    "print(df[['cnt', 'lag_1d', 'lag_1w', 'lag_1m']].head(30))"
   ]
  },
  {
   "cell_type": "code",
   "execution_count": 194,
   "metadata": {},
   "outputs": [],
   "source": [
    "# Create rolling window features for 'cnt'\n",
    "df['roll_mean_3h']  = df['cnt'].rolling(window=3).mean()    # Last 3 hours rolling mean\n",
    "df['roll_mean_3d']  = df['cnt'].rolling(window=72).mean()     # Last 3 days rolling mean (72 hours)\n"
   ]
  },
  {
   "cell_type": "code",
   "execution_count": 195,
   "metadata": {},
   "outputs": [
    {
     "name": "stdout",
     "output_type": "stream",
     "text": [
      "            cnt  roll_mean_3h  roll_mean_3d\n",
      "dteday                                     \n",
      "2011-01-01   16           NaN           NaN\n",
      "2011-01-01   40           NaN           NaN\n",
      "2011-01-01   32     29.333333           NaN\n",
      "2011-01-01   13     28.333333           NaN\n",
      "2011-01-01    1     15.333333           NaN\n",
      "2011-01-01    1      5.000000           NaN\n",
      "2011-01-01    2      1.333333           NaN\n",
      "2011-01-01    3      2.000000           NaN\n",
      "2011-01-01    8      4.333333           NaN\n",
      "2011-01-01   14      8.333333           NaN\n",
      "2011-01-01   36     19.333333           NaN\n",
      "2011-01-01   56     35.333333           NaN\n",
      "2011-01-01   84     58.666667           NaN\n",
      "2011-01-01   94     78.000000           NaN\n",
      "2011-01-01  106     94.666667           NaN\n",
      "2011-01-01  110    103.333333           NaN\n",
      "2011-01-01   93    103.000000           NaN\n",
      "2011-01-01   67     90.000000           NaN\n",
      "2011-01-01   35     65.000000           NaN\n",
      "2011-01-01   37     46.333333           NaN\n",
      "2011-01-01   36     36.000000           NaN\n",
      "2011-01-01   34     35.666667           NaN\n",
      "2011-01-01   28     32.666667           NaN\n",
      "2011-01-01   39     33.666667           NaN\n",
      "2011-01-02   17     28.000000           NaN\n",
      "2011-01-02   17     24.333333           NaN\n",
      "2011-01-02    9     14.333333           NaN\n",
      "2011-01-02    6     10.666667           NaN\n",
      "2011-01-02    3      6.000000           NaN\n",
      "2011-01-02    2      3.666667           NaN\n"
     ]
    }
   ],
   "source": [
    "print(df[['cnt', 'roll_mean_3h', 'roll_mean_3d']].head(30))\n"
   ]
  },
  {
   "cell_type": "code",
   "execution_count": 196,
   "metadata": {},
   "outputs": [
    {
     "data": {
      "text/plain": [
       "<Figure size 640x480 with 0 Axes>"
      ]
     },
     "metadata": {},
     "output_type": "display_data"
    },
    {
     "data": {
      "image/png": "[encoded data removed]",
      "text/plain": [
       "<Figure size 1600x700 with 1 Axes>"
      ]
     },
     "metadata": {},
     "output_type": "display_data"
    }
   ],
   "source": [
    "plt.clf()\n",
    "plt.figure(figsize=(16, 7))\n",
    "plt.plot(df['cnt'], label='Actual')\n",
    "plt.plot(df['lag_1d'], label='Lag 1 day')\n",
    "plt.plot(df['lag_1w'], label='Lag 1 week')\n",
    "plt.legend()\n",
    "plt.title('Lag Features')\n",
    "plt.show()\n"
   ]
  },
  {
   "cell_type": "code",
   "execution_count": 197,
   "metadata": {},
   "outputs": [
    {
     "name": "stdout",
     "output_type": "stream",
     "text": [
      "<class 'pandas.core.frame.DataFrame'>\n",
      "DatetimeIndex: 17379 entries, 2011-01-01 to 2012-12-31\n",
      "Data columns (total 20 columns):\n",
      " #   Column        Non-Null Count  Dtype  \n",
      "---  ------        --------------  -----  \n",
      " 0   season        17379 non-null  int64  \n",
      " 1   yr            17379 non-null  int64  \n",
      " 2   mnth          17379 non-null  int64  \n",
      " 3   hr            17379 non-null  int64  \n",
      " 4   holiday       17379 non-null  int64  \n",
      " 5   weekday       17379 non-null  int64  \n",
      " 6   workingday    17379 non-null  int64  \n",
      " 7   weathersit    17379 non-null  int64  \n",
      " 8   temp          17379 non-null  float64\n",
      " 9   atemp         17379 non-null  float64\n",
      " 10  hum           17379 non-null  float64\n",
      " 11  windspeed     17379 non-null  float64\n",
      " 12  casual        17379 non-null  int64  \n",
      " 13  registered    17379 non-null  int64  \n",
      " 14  cnt           17379 non-null  int64  \n",
      " 15  lag_1d        17355 non-null  float64\n",
      " 16  lag_1w        17211 non-null  float64\n",
      " 17  lag_1m        16659 non-null  float64\n",
      " 18  roll_mean_3h  17377 non-null  float64\n",
      " 19  roll_mean_3d  17308 non-null  float64\n",
      "dtypes: float64(9), int64(11)\n",
      "memory usage: 2.8 MB\n"
     ]
    }
   ],
   "source": [
    "df.info()\n"
   ]
  },
  {
   "cell_type": "code",
   "execution_count": 198,
   "metadata": {},
   "outputs": [
    {
     "name": "stdout",
     "output_type": "stream",
     "text": [
      "<class 'pandas.core.frame.DataFrame'>\n",
      "RangeIndex: 16659 entries, 0 to 16658\n",
      "Data columns (total 21 columns):\n",
      " #   Column        Non-Null Count  Dtype         \n",
      "---  ------        --------------  -----         \n",
      " 0   dteday        16659 non-null  datetime64[ns]\n",
      " 1   season        16659 non-null  int64         \n",
      " 2   yr            16659 non-null  int64         \n",
      " 3   mnth          16659 non-null  int64         \n",
      " 4   hr            16659 non-null  int64         \n",
      " 5   holiday       16659 non-null  int64         \n",
      " 6   weekday       16659 non-null  int64         \n",
      " 7   workingday    16659 non-null  int64         \n",
      " 8   weathersit    16659 non-null  int64         \n",
      " 9   temp          16659 non-null  float64       \n",
      " 10  atemp         16659 non-null  float64       \n",
      " 11  hum           16659 non-null  float64       \n",
      " 12  windspeed     16659 non-null  float64       \n",
      " 13  casual        16659 non-null  int64         \n",
      " 14  registered    16659 non-null  int64         \n",
      " 15  cnt           16659 non-null  int64         \n",
      " 16  lag_1d        16659 non-null  float64       \n",
      " 17  lag_1w        16659 non-null  float64       \n",
      " 18  lag_1m        16659 non-null  float64       \n",
      " 19  roll_mean_3h  16659 non-null  float64       \n",
      " 20  roll_mean_3d  16659 non-null  float64       \n",
      "dtypes: datetime64[ns](1), float64(9), int64(11)\n",
      "memory usage: 2.7 MB\n",
      "None\n"
     ]
    }
   ],
   "source": [
    "df = df.dropna()\n",
    "df = df.reset_index()  # optional: reset the index if you want a simple range index\n",
    "print(df.info())\n"
   ]
  },
  {
   "cell_type": "markdown",
   "metadata": {},
   "source": [
    "### 6. Implement XGBoost to predict how many bikes will be rented each hour of the last week and evaluate using appropriate metrics."
   ]
  },
  {
   "cell_type": "code",
   "execution_count": 199,
   "metadata": {},
   "outputs": [
    {
     "name": "stdout",
     "output_type": "stream",
     "text": [
      "Train shape: (16491, 21)\n",
      "Test shape: (168, 21)\n"
     ]
    }
   ],
   "source": [
    "# For an hourly dataset, 7 days = 168 hours.\n",
    "train = df.iloc[:-168].copy()   # Training set: all data except the last week\n",
    "test = df.iloc[-168:].copy()      # Test set: the last week of data\n",
    "\n",
    "print(\"Train shape:\", train.shape)\n",
    "print(\"Test shape:\", test.shape)\n"
   ]
  },
  {
   "cell_type": "code",
   "execution_count": 200,
   "metadata": {},
   "outputs": [
    {
     "name": "stdout",
     "output_type": "stream",
     "text": [
      "Test period from 2012-12-24 00:00:00 to 2012-12-31 00:00:00\n"
     ]
    }
   ],
   "source": [
    "print(\"Test period from\", test['dteday'].min(), \"to\", test['dteday'].max())\n"
   ]
  },
  {
   "cell_type": "code",
   "execution_count": 201,
   "metadata": {},
   "outputs": [
    {
     "name": "stdout",
     "output_type": "stream",
     "text": [
      "<class 'pandas.core.frame.DataFrame'>\n",
      "RangeIndex: 16659 entries, 0 to 16658\n",
      "Data columns (total 21 columns):\n",
      " #   Column        Non-Null Count  Dtype         \n",
      "---  ------        --------------  -----         \n",
      " 0   dteday        16659 non-null  datetime64[ns]\n",
      " 1   season        16659 non-null  int64         \n",
      " 2   yr            16659 non-null  int64         \n",
      " 3   mnth          16659 non-null  int64         \n",
      " 4   hr            16659 non-null  int64         \n",
      " 5   holiday       16659 non-null  int64         \n",
      " 6   weekday       16659 non-null  int64         \n",
      " 7   workingday    16659 non-null  int64         \n",
      " 8   weathersit    16659 non-null  int64         \n",
      " 9   temp          16659 non-null  float64       \n",
      " 10  atemp         16659 non-null  float64       \n",
      " 11  hum           16659 non-null  float64       \n",
      " 12  windspeed     16659 non-null  float64       \n",
      " 13  casual        16659 non-null  int64         \n",
      " 14  registered    16659 non-null  int64         \n",
      " 15  cnt           16659 non-null  int64         \n",
      " 16  lag_1d        16659 non-null  float64       \n",
      " 17  lag_1w        16659 non-null  float64       \n",
      " 18  lag_1m        16659 non-null  float64       \n",
      " 19  roll_mean_3h  16659 non-null  float64       \n",
      " 20  roll_mean_3d  16659 non-null  float64       \n",
      "dtypes: datetime64[ns](1), float64(9), int64(11)\n",
      "memory usage: 2.7 MB\n"
     ]
    }
   ],
   "source": [
    "df.info()"
   ]
  },
  {
   "cell_type": "code",
   "execution_count": 202,
   "metadata": {},
   "outputs": [
    {
     "name": "stdout",
     "output_type": "stream",
     "text": [
      "Features used: ['hr', 'weekday', 'mnth', 'yr', 'lag_1d', 'lag_1w', 'lag_1m', 'roll_mean_3h', 'roll_mean_3d']\n",
      "   hr  weekday  mnth  yr  lag_1d  lag_1w  lag_1m  roll_mean_3h  roll_mean_3d\n",
      "0   9        3     2   0   116.0     9.0    16.0    109.000000     58.555556\n",
      "1  10        3     2   0    47.0    36.0    40.0    113.000000     58.875000\n",
      "2  11        3     2   0    51.0   108.0    32.0     78.666667     58.708333\n",
      "3  12        3     2   0    55.0   238.0    13.0     59.000000     58.777778\n",
      "4  13        3     2   0    52.0   144.0     1.0     63.666667     58.472222\n"
     ]
    }
   ],
   "source": [
    "# Define the features for XGBoost; adjust based on your earlier feature engineering.\n",
    "FEATURES_XGB = [\n",
    "    'hr', 'weekday', 'mnth', 'yr',  # basic time features\n",
    "    'lag_1d', 'lag_1w', 'lag_1m',     # lag features: 1 day, 1 week, 1 month lags\n",
    "    'roll_mean_3h', 'roll_mean_3d'     # rolling means: last 3 hours, last 3 days\n",
    "]\n",
    "TARGET = 'cnt'\n",
    "\n",
    "# Create training and test feature matrices and target vectors\n",
    "X_train_xgb = train[FEATURES_XGB].copy()\n",
    "y_train_xgb = train[TARGET].copy()\n",
    "X_test_xgb = test[FEATURES_XGB].copy()\n",
    "y_test_xgb = test[TARGET].copy()\n",
    "\n",
    "# If any non-numeric column (e.g., 'dteday') exists in X, drop it.\n",
    "for col in ['dteday']:\n",
    "    if col in X_train_xgb.columns:\n",
    "        X_train_xgb = X_train_xgb.drop(columns=[col])\n",
    "    if col in X_test_xgb.columns:\n",
    "        X_test_xgb = X_test_xgb.drop(columns=[col])\n",
    "\n",
    "print(\"Features used:\", FEATURES_XGB)\n",
    "print(X_train_xgb.head())\n"
   ]
  },
  {
   "cell_type": "code",
   "execution_count": 203,
   "metadata": {},
   "outputs": [],
   "source": [
    "dtrain = xgb.DMatrix(X_train_xgb, label=y_train_xgb)\n",
    "dtest = xgb.DMatrix(X_test_xgb, label=y_test_xgb)"
   ]
  },
  {
   "cell_type": "code",
   "execution_count": 204,
   "metadata": {},
   "outputs": [
    {
     "name": "stdout",
     "output_type": "stream",
     "text": [
      "[0]\ttrain-rmse:181.84154\teval-rmse:141.04831\n"
     ]
    },
    {
     "name": "stderr",
     "output_type": "stream",
     "text": [
      "c:\\Users\\Jlo\\AppData\\Local\\Programs\\Python\\Python313\\Lib\\site-packages\\xgboost\\core.py:723: FutureWarning: Pass `evals` as keyword args.\n",
      "  warnings.warn(msg, FutureWarning)\n"
     ]
    },
    {
     "name": "stdout",
     "output_type": "stream",
     "text": [
      "[100]\ttrain-rmse:93.21705\teval-rmse:69.95510\n",
      "[200]\ttrain-rmse:64.09801\teval-rmse:46.40726\n",
      "[300]\ttrain-rmse:54.60923\teval-rmse:37.84688\n",
      "[400]\ttrain-rmse:50.51881\teval-rmse:34.25171\n",
      "[500]\ttrain-rmse:47.82791\teval-rmse:32.14426\n",
      "[600]\ttrain-rmse:45.81953\teval-rmse:30.45631\n",
      "[700]\ttrain-rmse:44.29939\teval-rmse:29.00343\n",
      "[800]\ttrain-rmse:42.98005\teval-rmse:28.26026\n",
      "[900]\ttrain-rmse:41.93708\teval-rmse:27.59209\n",
      "[1000]\ttrain-rmse:40.99505\teval-rmse:27.18275\n",
      "[1100]\ttrain-rmse:40.12461\teval-rmse:26.74244\n",
      "[1200]\ttrain-rmse:39.35724\teval-rmse:26.46531\n",
      "[1300]\ttrain-rmse:38.67180\teval-rmse:26.22607\n",
      "[1400]\ttrain-rmse:38.00438\teval-rmse:26.02402\n",
      "[1500]\ttrain-rmse:37.36572\teval-rmse:25.81245\n",
      "[1600]\ttrain-rmse:36.75790\teval-rmse:25.60773\n",
      "[1700]\ttrain-rmse:36.22241\teval-rmse:25.46787\n",
      "[1800]\ttrain-rmse:35.73114\teval-rmse:25.27790\n",
      "[1900]\ttrain-rmse:35.29058\teval-rmse:25.21997\n",
      "[2000]\ttrain-rmse:34.84239\teval-rmse:25.13313\n",
      "[2100]\ttrain-rmse:34.35816\teval-rmse:25.05212\n",
      "[2141]\ttrain-rmse:34.22177\teval-rmse:25.06975\n",
      "Best iteration: 2092\n"
     ]
    }
   ],
   "source": [
    "params = {\n",
    "    'objective': 'reg:squarederror',  # Regression objective\n",
    "    'eval_metric': 'rmse',             # Use RMSE for evaluation\n",
    "    'max_depth': 3,                    # Maximum depth of trees\n",
    "    'learning_rate': 0.01,             # Learning rate\n",
    "    'colsample_bytree': 0.8,           # Subsample of features\n",
    "    'subsample': 0.8,                  # Subsample ratio of observations\n",
    "    'seed': 42\n",
    "}\n",
    "\n",
    "watchlist = [(dtrain, 'train'), (dtest, 'eval')]\n",
    "num_round = 4000\n",
    "early_stopping_rounds = 50\n",
    "\n",
    "# Train the XGBoost model with early stopping\n",
    "model = xgb.train(params, dtrain, num_round, watchlist, early_stopping_rounds=early_stopping_rounds, verbose_eval=100)\n",
    "\n",
    "print(\"Best iteration:\", model.best_iteration)\n"
   ]
  },
  {
   "cell_type": "code",
   "execution_count": 205,
   "metadata": {},
   "outputs": [
    {
     "name": "stdout",
     "output_type": "stream",
     "text": [
      "Best iteration: 2092\n"
     ]
    }
   ],
   "source": [
    "print(\"Best iteration:\", model.best_iteration)\n"
   ]
  },
  {
   "cell_type": "code",
   "execution_count": 206,
   "metadata": {},
   "outputs": [
    {
     "name": "stdout",
     "output_type": "stream",
     "text": [
      "XGBoost - Test RMSE: 25.06953342899816\n",
      "XGBoost - Test MAE: 17.51432228088379\n"
     ]
    },
    {
     "data": {
      "image/png": "[encoded data removed]",
      "text/plain": [
       "<Figure size 1000x600 with 1 Axes>"
      ]
     },
     "metadata": {},
     "output_type": "display_data"
    }
   ],
   "source": [
    "import numpy as np\n",
    "from sklearn.metrics import mean_squared_error, mean_absolute_error\n",
    "\n",
    "# Predict on the test set\n",
    "y_pred_xgb = model.predict(dtest)\n",
    "\n",
    "# Calculate RMSE and MAE\n",
    "rmse_xgb = np.sqrt(mean_squared_error(y_test_xgb, y_pred_xgb))\n",
    "mae_xgb = mean_absolute_error(y_test_xgb, y_pred_xgb)\n",
    "\n",
    "print(\"XGBoost - Test RMSE:\", rmse_xgb)\n",
    "print(\"XGBoost - Test MAE:\", mae_xgb)\n",
    "\n",
    "# Plot actual vs. predicted counts for the last week\n",
    "plt.figure(figsize=(10, 6))\n",
    "plt.plot(test.index, y_test_xgb, label='Actual', color='blue')\n",
    "plt.plot(test.index, y_pred_xgb, label='Predicted', color='red', linestyle='dashed')\n",
    "plt.title('Actual vs. Predicted Bike Rentals (Last Week)')\n",
    "plt.xlabel('Datetime')\n",
    "plt.ylabel('Bike Rentals (cnt)')\n",
    "plt.legend()\n",
    "plt.xticks(rotation=45)\n",
    "plt.tight_layout()\n",
    "plt.show()\n"
   ]
  }
 ],
 "metadata": {
  "kernelspec": {
   "display_name": "Python 3",
   "language": "python",
   "name": "python3"
  },
  "language_info": {
   "codemirror_mode": {
    "name": "ipython",
    "version": 3
   },
   "file_extension": ".py",
   "mimetype": "text/x-python",
   "name": "python",
   "nbconvert_exporter": "python",
   "pygments_lexer": "ipython3",
   "version": "3.13.2"
  }
 },
 "nbformat": 4,
 "nbformat_minor": 2
}
