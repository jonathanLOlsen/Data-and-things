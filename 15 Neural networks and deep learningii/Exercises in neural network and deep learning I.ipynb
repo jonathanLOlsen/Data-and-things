{
 "cells": [
  {
   "cell_type": "markdown",
   "id": "5499e3da-49fb-40eb-ac1b-472cf868e000",
   "metadata": {},
   "source": [
    "# Exercises in neural network and deep learning I"
   ]
  },
  {
   "cell_type": "code",
   "execution_count": null,
   "id": "6cbcd5e5-5836-48d4-bce6-bb9f1e72db14",
   "metadata": {},
   "outputs": [],
   "source": []
  },
  {
   "cell_type": "markdown",
   "id": "1d345f40-333b-4d72-b05c-ec4068174d62",
   "metadata": {},
   "source": [
    "## Exercise 1\n",
    "\n",
    "For the classification of movie review model of chapter 4 of the book, please try out the \"4.1.6 Further experiments\" mentioned on page 105. (You can use the code from the chapter 4 notebook \"chapter04_getting-started-with-neural-networks.ipynb\" as your departure.)"
   ]
  },
  {
   "cell_type": "code",
   "execution_count": null,
   "id": "1ce3ca37-39dc-4009-8437-eacf43051867",
   "metadata": {},
   "outputs": [],
   "source": []
  },
  {
   "cell_type": "markdown",
   "id": "130f32d2-1eca-4f9b-8a1a-be0e85f447bf",
   "metadata": {},
   "source": [
    "## Exercise 2\n",
    "\n",
    "For the multiclass classification example of classifying newswires, of chapter 4 of the book, please try out the \"4.2.8 Further experiments\" mentioned on page 113. (You can use the code from the chapter 4 notebook \"chapter04_getting-started-with-neural-networks.ipynb\" as your departure.)"
   ]
  },
  {
   "cell_type": "code",
   "execution_count": null,
   "id": "ad3587ca-8799-4d16-a74d-fb07eaa8d053",
   "metadata": {},
   "outputs": [],
   "source": []
  },
  {
   "cell_type": "markdown",
   "id": "3fdbe228-6644-4bcf-8edd-9bf404704cf4",
   "metadata": {},
   "source": [
    "## Exercise 3\n",
    "\n",
    "For the regression example of predicting house prices, of chapter 4 of the book, please try out further experiments as for the other models. That is try out changing the number of layers and number of units in each layer. (You can use the code from the chapter 4 notebook \"chapter04_getting-started-with-neural-networks.ipynb\" as your departure.)"
   ]
  },
  {
   "cell_type": "code",
   "execution_count": null,
   "id": "78ebec1a-c7e1-42a8-b0f5-9db23eacc5fb",
   "metadata": {},
   "outputs": [],
   "source": []
  }
 ],
 "metadata": {
  "kernelspec": {
   "display_name": "Python 3 (ipykernel)",
   "language": "python",
   "name": "python3"
  },
  "language_info": {
   "codemirror_mode": {
    "name": "ipython",
    "version": 3
   },
   "file_extension": ".py",
   "mimetype": "text/x-python",
   "name": "python",
   "nbconvert_exporter": "python",
   "pygments_lexer": "ipython3",
   "version": "3.10.16"
  }
 },
 "nbformat": 4,
 "nbformat_minor": 5
}
