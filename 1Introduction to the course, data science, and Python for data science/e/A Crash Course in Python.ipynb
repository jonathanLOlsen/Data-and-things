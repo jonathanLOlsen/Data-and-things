{
 "cells": [
  {
   "cell_type": "markdown",
   "id": "8ea2910e",
   "metadata": {},
   "source": [
    "# A Crash Course in Python\n",
    "\n",
    "This notebook is created from the script `crash_course_in_python.py` (retrieved from the books Github: https://github.com/joelgrus/data-science-from-scratch/blob/d5d0f117f41b3ccab3b07f1ee1fa21cfcf69afa1/scratch/crash_course_in_python.py) with some smaller modifications"
   ]
  },
  {
   "cell_type": "code",
   "execution_count": null,
   "id": "941bab9d",
   "metadata": {},
   "outputs": [],
   "source": [
    "\"\"\"\n",
    "This is just code for the introduction to Python.\n",
    "It also won't be used anywhere else in the book.\n",
    "\"\"\""
   ]
  },
  {
   "cell_type": "markdown",
   "id": "bb30fd7f",
   "metadata": {},
   "source": [
    "## Whitespace formatting\n",
    "\n",
    "Many languages use curly braces to delimit blocks of code. Python uses indentation. Python consider tabs and whitespaces as two different things. Always use spaces (maybe your editor or Jupyter Notebook is set to make spaces when you hit the tab button)."
   ]
  },
  {
   "cell_type": "code",
   "execution_count": null,
   "id": "0b20aaec",
   "metadata": {
    "scrolled": true
   },
   "outputs": [],
   "source": [
    "for i in [1, 2, 3, 4, 5]:\n",
    "    print(i)                    # first line in \"for i\" block\n",
    "    for j in [1, 2, 3, 4, 5]:\n",
    "        print(j)                # first line in \"for j\" block\n",
    "        print(i + j)            # last line in \"for j\" block\n",
    "    print(i)                    # last line in \"for i\" block\n",
    "print(\"done looping\")"
   ]
  },
  {
   "cell_type": "code",
   "execution_count": null,
   "id": "3c368806",
   "metadata": {},
   "outputs": [],
   "source": [
    "long_winded_computation = (1 + 2 + 3 + 4 + 5 + 6 + 7 + 8 + 9 + 10 + 11 + 12 +\n",
    "                           13 + 14 + 15 + 16 + 17 + 18 + 19 + 20)"
   ]
  },
  {
   "cell_type": "code",
   "execution_count": null,
   "id": "23acd800",
   "metadata": {},
   "outputs": [],
   "source": [
    "list_of_lists = [[1, 2, 3], [4, 5, 6], [7, 8, 9]]"
   ]
  },
  {
   "cell_type": "code",
   "execution_count": null,
   "id": "89ebb920",
   "metadata": {},
   "outputs": [],
   "source": [
    "list_of_lists"
   ]
  },
  {
   "cell_type": "code",
   "execution_count": null,
   "id": "106d4647",
   "metadata": {},
   "outputs": [],
   "source": [
    "easier_to_read_list_of_lists = [[1, 2, 3],\n",
    "                                [4, 5, 6],\n",
    "                                [7, 8, 9]]"
   ]
  },
  {
   "cell_type": "code",
   "execution_count": null,
   "id": "af00f37a",
   "metadata": {},
   "outputs": [],
   "source": [
    "easier_to_read_list_of_lists"
   ]
  },
  {
   "cell_type": "code",
   "execution_count": null,
   "id": "a3486b91",
   "metadata": {},
   "outputs": [],
   "source": [
    "two_plus_three = 2 + \\\n",
    "                 3"
   ]
  },
  {
   "cell_type": "code",
   "execution_count": null,
   "id": "c91356a8",
   "metadata": {},
   "outputs": [],
   "source": [
    "for i in [1, 2, 3, 4, 5]:\n",
    "\n",
    "    # notice the blank line\n",
    "    print(i)"
   ]
  },
  {
   "cell_type": "markdown",
   "id": "4c16ac55",
   "metadata": {},
   "source": [
    "## Modules\n",
    "\n",
    "Many Python features are note loaded by default and we often use external package for data science. You can also make your own modules. To use any of these you first need to load the module."
   ]
  },
  {
   "cell_type": "code",
   "execution_count": null,
   "id": "ba1fb2eb",
   "metadata": {},
   "outputs": [],
   "source": [
    "# Import an entire module (prefix subsequent function call with the name of the module)\n",
    "import re\n",
    "my_regex = re.compile(\"[0-9]+\", re.I)\n",
    "my_regex"
   ]
  },
  {
   "cell_type": "code",
   "execution_count": null,
   "id": "fe9844e4",
   "metadata": {},
   "outputs": [],
   "source": [
    "# You can define what name you want to call the module by yourself\n",
    "import re as regex\n",
    "my_regex = regex.compile(\"[0-9]+\", regex.I)\n",
    "my_regex"
   ]
  },
  {
   "cell_type": "markdown",
   "id": "ca798df2",
   "metadata": {},
   "source": [
    "Standard conventions for heavily used modules in data science are:"
   ]
  },
  {
   "cell_type": "code",
   "execution_count": null,
   "id": "72c23247",
   "metadata": {},
   "outputs": [],
   "source": [
    "import numpy as np\n",
    "import matplotlib.pyplot as plt\n",
    "import pandas as pd\n",
    "import seaborn as sns\n",
    "import statsmodels as sm"
   ]
  },
  {
   "cell_type": "code",
   "execution_count": null,
   "id": "47eea062",
   "metadata": {},
   "outputs": [],
   "source": [
    "# If you only need a few specific function or classes from a module\n",
    "# you can import then only and use them without a prefic\n",
    "from collections import defaultdict, Counter\n",
    "lookup = defaultdict(int)\n",
    "my_counter = Counter()\n",
    "my_counter"
   ]
  },
  {
   "cell_type": "markdown",
   "id": "fab714ea",
   "metadata": {},
   "source": [
    "You can also import everything from a module to use all it functions without a prefix, but this you should never do! (How to do it: `from re import *`)"
   ]
  },
  {
   "cell_type": "markdown",
   "id": "9e371675",
   "metadata": {},
   "source": [
    "## Functions\n",
    "\n",
    "A function is something that takes zero or more input and return an output. \n",
    "\n",
    "In Python, functions are first-class citizen, in the sense that we can assign them to variables and pass them into other functions etc."
   ]
  },
  {
   "cell_type": "code",
   "execution_count": null,
   "id": "cd4bfea4",
   "metadata": {},
   "outputs": [],
   "source": [
    "# Definition of a function\n",
    "def double(x):\n",
    "    \"\"\"\n",
    "    This is where you put an optional docstring that explains what the\n",
    "    function does. For example, this function multiplies its input by 2.\n",
    "    \"\"\"\n",
    "    return x * 2"
   ]
  },
  {
   "cell_type": "code",
   "execution_count": null,
   "id": "336af37f",
   "metadata": {},
   "outputs": [],
   "source": [
    "double"
   ]
  },
  {
   "cell_type": "code",
   "execution_count": null,
   "id": "6ad5cf3d",
   "metadata": {},
   "outputs": [],
   "source": [
    "double(42)"
   ]
  },
  {
   "cell_type": "code",
   "execution_count": null,
   "id": "b876e339",
   "metadata": {},
   "outputs": [],
   "source": [
    "?double"
   ]
  },
  {
   "cell_type": "code",
   "execution_count": null,
   "id": "8c6d6038",
   "metadata": {},
   "outputs": [],
   "source": [
    "# Or press shift+tab when you're at the function to get the information on the function"
   ]
  },
  {
   "cell_type": "code",
   "execution_count": null,
   "id": "51453945",
   "metadata": {},
   "outputs": [],
   "source": [
    "def apply_to_one(f):\n",
    "    \"\"\"Calls the function f with 1 as its argument\"\"\"\n",
    "    return f(1)"
   ]
  },
  {
   "cell_type": "code",
   "execution_count": null,
   "id": "d0ee5bd8",
   "metadata": {},
   "outputs": [],
   "source": [
    "my_double = double             # refers to the previously defined function\n",
    "x = apply_to_one(my_double)    # equals 2"
   ]
  },
  {
   "cell_type": "code",
   "execution_count": null,
   "id": "fb52c17d",
   "metadata": {},
   "outputs": [],
   "source": [
    "x"
   ]
  },
  {
   "cell_type": "code",
   "execution_count": null,
   "id": "0ec4779d",
   "metadata": {},
   "outputs": [],
   "source": [
    "assert x == 2"
   ]
  },
  {
   "cell_type": "code",
   "execution_count": null,
   "id": "7fbff148",
   "metadata": {},
   "outputs": [],
   "source": [
    "assert x == 4"
   ]
  },
  {
   "cell_type": "code",
   "execution_count": null,
   "id": "13d12691",
   "metadata": {},
   "outputs": [],
   "source": [
    "# \"Define\" functions without naming the using classic lambda notation (when you're not going to use the function again)\n",
    "y = apply_to_one(lambda x: x + 4)\n",
    "assert y == 5"
   ]
  },
  {
   "cell_type": "code",
   "execution_count": null,
   "id": "949b6469",
   "metadata": {},
   "outputs": [],
   "source": [
    "# Arguments to functions can have default arguments\n",
    "def my_print(message = \"my default message\"):\n",
    "    print(message)\n",
    "    \n",
    "my_print(\"hello\")   # prints 'hello'\n",
    "my_print()          # prints 'my default message'"
   ]
  },
  {
   "cell_type": "code",
   "execution_count": null,
   "id": "a22bb3dc",
   "metadata": {},
   "outputs": [],
   "source": [
    "# You can specify an argument by name when calling a function, which can be useful sometimes\n",
    "def full_name(first = \"What's-his-name\", last = \"Something\"):\n",
    "    return first + \" \" + last"
   ]
  },
  {
   "cell_type": "code",
   "execution_count": null,
   "id": "9eb3722c",
   "metadata": {},
   "outputs": [],
   "source": [
    "full_name(\"Joel\", \"Grus\")     # \"Joel Grus\"\n",
    "full_name(\"Joel\")             # \"Joel Something\"\n",
    "full_name(last=\"Grus\")        # \"What's-his-name Grus\""
   ]
  },
  {
   "cell_type": "markdown",
   "id": "928cf813",
   "metadata": {},
   "source": [
    "Note the difference between using `print` and `return` in a function"
   ]
  },
  {
   "cell_type": "code",
   "execution_count": null,
   "id": "4b38a9ee",
   "metadata": {},
   "outputs": [],
   "source": [
    "full_name(\"Joel\", \"Grus\")"
   ]
  },
  {
   "cell_type": "code",
   "execution_count": null,
   "id": "74563d20",
   "metadata": {},
   "outputs": [],
   "source": [
    "full_name(\"Joel\")"
   ]
  },
  {
   "cell_type": "code",
   "execution_count": null,
   "id": "297a63c1",
   "metadata": {},
   "outputs": [],
   "source": [
    "full_name(last=\"Joel\")   # Note how this is different from the previous line"
   ]
  },
  {
   "cell_type": "markdown",
   "id": "bcfd9040",
   "metadata": {},
   "source": [
    "## Strings"
   ]
  },
  {
   "cell_type": "code",
   "execution_count": null,
   "id": "9e0959cc",
   "metadata": {},
   "outputs": [],
   "source": [
    "# Using single or double quotes\n",
    "single_quoted_string = 'data science'\n",
    "double_quoted_string = \"data science\""
   ]
  },
  {
   "cell_type": "code",
   "execution_count": null,
   "id": "c4f2db1f",
   "metadata": {},
   "outputs": [],
   "source": [
    "single_quoted_string"
   ]
  },
  {
   "cell_type": "code",
   "execution_count": null,
   "id": "6515e9f2",
   "metadata": {},
   "outputs": [],
   "source": [
    "double_quoted_string"
   ]
  },
  {
   "cell_type": "code",
   "execution_count": null,
   "id": "dc2a455a",
   "metadata": {},
   "outputs": [],
   "source": [
    "# Define multi line strings\n",
    "multi_line_string = \"\"\"This is the first line.\n",
    "and this is the second line\n",
    "and this is the third line\"\"\"\n",
    "\n",
    "multi_line_string"
   ]
  },
  {
   "cell_type": "code",
   "execution_count": null,
   "id": "08d73da3",
   "metadata": {},
   "outputs": [],
   "source": [
    "# Concattinating strings"
   ]
  },
  {
   "cell_type": "code",
   "execution_count": null,
   "id": "5fd31e7b",
   "metadata": {},
   "outputs": [],
   "source": [
    "first_name = \"Joel\"\n",
    "last_name = \"Grus\"\n",
    "\n",
    "full_name1 = first_name + \" \" + last_name             # string addition\n",
    "full_name2 = \"{0} AwesomeMiddleName {1}\".format(first_name, last_name)  # string.format"
   ]
  },
  {
   "cell_type": "code",
   "execution_count": null,
   "id": "9d849a4b",
   "metadata": {},
   "outputs": [],
   "source": [
    "full_name1"
   ]
  },
  {
   "cell_type": "code",
   "execution_count": null,
   "id": "875d11d2",
   "metadata": {},
   "outputs": [],
   "source": [
    "full_name2"
   ]
  },
  {
   "cell_type": "code",
   "execution_count": null,
   "id": "597bbae7",
   "metadata": {},
   "outputs": [],
   "source": [
    "full_name3 = f\"{first_name} MoreAwesomeMiddleName {last_name}\"\n",
    "\n",
    "full_name3"
   ]
  },
  {
   "cell_type": "markdown",
   "id": "9e552561",
   "metadata": {},
   "source": [
    "## Exceptions\n",
    "\n",
    "When things go wrong Python raises expections. However, you can explicitly handle exceptions using `try` and `except`"
   ]
  },
  {
   "cell_type": "code",
   "execution_count": null,
   "id": "b3598b75",
   "metadata": {},
   "outputs": [],
   "source": [
    "try:\n",
    "    print(0 / 0)\n",
    "except ZeroDivisionError:\n",
    "    print(\"cannot divide by zero\")"
   ]
  },
  {
   "cell_type": "markdown",
   "id": "6e3675af",
   "metadata": {},
   "source": [
    "## List\n",
    "\n",
    "Are the most fundamental data strcuture in Python, which is an ordered collection (sometimes called an array in other languages)"
   ]
  },
  {
   "cell_type": "code",
   "execution_count": null,
   "id": "2d992be5",
   "metadata": {},
   "outputs": [],
   "source": [
    "integer_list = [1, 2, 3]\n",
    "heterogeneous_list = [\"string\", 0.1, True]\n",
    "list_of_lists = [integer_list, heterogeneous_list, []]\n",
    "\n",
    "list_length = len(integer_list)     # equals 3\n",
    "list_sum    = sum(integer_list)     # equals 6"
   ]
  },
  {
   "cell_type": "code",
   "execution_count": null,
   "id": "c6a137cc",
   "metadata": {},
   "outputs": [],
   "source": [
    "integer_list"
   ]
  },
  {
   "cell_type": "code",
   "execution_count": null,
   "id": "e4b70a4f",
   "metadata": {},
   "outputs": [],
   "source": [
    "heterogeneous_list"
   ]
  },
  {
   "cell_type": "code",
   "execution_count": null,
   "id": "4a73cf22",
   "metadata": {},
   "outputs": [],
   "source": [
    "list_of_lists"
   ]
  },
  {
   "cell_type": "code",
   "execution_count": null,
   "id": "6a71d4f5",
   "metadata": {},
   "outputs": [],
   "source": [
    "list_length"
   ]
  },
  {
   "cell_type": "code",
   "execution_count": null,
   "id": "f714a019",
   "metadata": {},
   "outputs": [],
   "source": [
    "list_sum"
   ]
  },
  {
   "cell_type": "code",
   "execution_count": null,
   "id": "952fc94e",
   "metadata": {},
   "outputs": [],
   "source": [
    "# You can subset list by quare brackets\n",
    "x = [0, 1, 2, 3, 4, 5, 6, 7, 8, 9]"
   ]
  },
  {
   "cell_type": "code",
   "execution_count": null,
   "id": "3a12bc79",
   "metadata": {},
   "outputs": [],
   "source": [
    "x[0]          # equals 0, lists are 0-indexed"
   ]
  },
  {
   "cell_type": "code",
   "execution_count": null,
   "id": "99b7624e",
   "metadata": {},
   "outputs": [],
   "source": [
    "x[1]  "
   ]
  },
  {
   "cell_type": "code",
   "execution_count": null,
   "id": "dd61f9ac",
   "metadata": {},
   "outputs": [],
   "source": [
    "x[-1]         # equals 9, 'Pythonic' for last element"
   ]
  },
  {
   "cell_type": "code",
   "execution_count": null,
   "id": "6ac1a0af",
   "metadata": {},
   "outputs": [],
   "source": [
    "x[-2]        # equals 8, 'Pythonic' for next-to-last element"
   ]
  },
  {
   "cell_type": "code",
   "execution_count": null,
   "id": "dfcb8cae",
   "metadata": {},
   "outputs": [],
   "source": [
    "# Or to assign elements of a list\n",
    "x[0] = -1            # now x is [-1, 1, 2, 3, ..., 9]\n",
    "\n",
    "x"
   ]
  },
  {
   "cell_type": "code",
   "execution_count": null,
   "id": "fdf2e13b",
   "metadata": {},
   "outputs": [],
   "source": [
    "# You can slice part of a list using :\n",
    "x[:3] "
   ]
  },
  {
   "cell_type": "code",
   "execution_count": null,
   "id": "4e653d6c",
   "metadata": {},
   "outputs": [],
   "source": [
    "x[3:]"
   ]
  },
  {
   "cell_type": "code",
   "execution_count": null,
   "id": "83c27ae8",
   "metadata": {},
   "outputs": [],
   "source": [
    "x[1:5] # note that it is up the the fifth element, but not including it"
   ]
  },
  {
   "cell_type": "code",
   "execution_count": null,
   "id": "e30eafbe",
   "metadata": {},
   "outputs": [],
   "source": [
    "x[-3:]  # last_three"
   ]
  },
  {
   "cell_type": "code",
   "execution_count": null,
   "id": "0302ac06",
   "metadata": {},
   "outputs": [],
   "source": [
    "x[1:-1]  # without the first and the last element"
   ]
  },
  {
   "cell_type": "code",
   "execution_count": null,
   "id": "49a7f521",
   "metadata": {},
   "outputs": [],
   "source": [
    "x[:]  # A copy of the entire list x"
   ]
  },
  {
   "cell_type": "code",
   "execution_count": null,
   "id": "f9a1e66b",
   "metadata": {},
   "outputs": [],
   "source": [
    "x[5:2:-1]  # A third argument to slicing can be a stride, which can also be negative"
   ]
  },
  {
   "cell_type": "code",
   "execution_count": null,
   "id": "cf7302a5",
   "metadata": {},
   "outputs": [],
   "source": [
    "# Checking for list membership\n",
    "1 in [1, 2, 3]    # True"
   ]
  },
  {
   "cell_type": "code",
   "execution_count": null,
   "id": "2ec104ae",
   "metadata": {},
   "outputs": [],
   "source": [
    "0 in [1, 2, 3]    # False"
   ]
  },
  {
   "cell_type": "code",
   "execution_count": null,
   "id": "27702c40",
   "metadata": {},
   "outputs": [],
   "source": [
    "# Concatinating a list without changing it\n",
    "x = [1, 2, 3]\n",
    "y = x + [4, 5, 6]       # y is [1, 2, 3, 4, 5, 6]; x is unchanged\n",
    "y"
   ]
  },
  {
   "cell_type": "code",
   "execution_count": null,
   "id": "4d26ab1d",
   "metadata": {},
   "outputs": [],
   "source": [
    "x"
   ]
  },
  {
   "cell_type": "code",
   "execution_count": null,
   "id": "1d6263a8",
   "metadata": {},
   "outputs": [],
   "source": [
    "# Extending an excisting list\n",
    "x = [1, 2, 3]\n",
    "x.extend([4, 5, 6]) \n",
    "x # x is now [1, 2, 3, 4, 5, 6]"
   ]
  },
  {
   "cell_type": "code",
   "execution_count": null,
   "id": "d638294e",
   "metadata": {},
   "outputs": [],
   "source": [
    "# Appinding one element at the time\n",
    "x = [1, 2, 3]\n",
    "x.append(0)      # x is now [1, 2, 3, 0]\n",
    "x"
   ]
  },
  {
   "cell_type": "code",
   "execution_count": null,
   "id": "0e94f34b",
   "metadata": {},
   "outputs": [],
   "source": [
    "# unpacking a list\n",
    "x, y = [1, 2]    # now x is 1, y is 2"
   ]
  },
  {
   "cell_type": "code",
   "execution_count": null,
   "id": "6fdc8158",
   "metadata": {},
   "outputs": [],
   "source": [
    "x"
   ]
  },
  {
   "cell_type": "code",
   "execution_count": null,
   "id": "0e723762",
   "metadata": {},
   "outputs": [],
   "source": [
    "y"
   ]
  },
  {
   "cell_type": "code",
   "execution_count": null,
   "id": "70b70482",
   "metadata": {},
   "outputs": [],
   "source": [
    "_, y = [1, 23]    # now y == 23, didn't care about the first element\n",
    "y"
   ]
  },
  {
   "cell_type": "code",
   "execution_count": null,
   "id": "1aa4d4e9",
   "metadata": {},
   "outputs": [],
   "source": [
    "# a list can be sorted\n",
    "x = [4, 1, 2, 3]\n",
    "# sorted returns a new sorted list\n",
    "sorted(x)"
   ]
  },
  {
   "cell_type": "code",
   "execution_count": null,
   "id": "51230697",
   "metadata": {},
   "outputs": [],
   "source": [
    "# the sort method sort an existing list\n",
    "x.sort()\n",
    "x"
   ]
  },
  {
   "cell_type": "markdown",
   "id": "99f73bf2",
   "metadata": {},
   "source": [
    "## List comprehensions\n",
    "\n",
    "A smart way of creating list from existing list by only chosing some elements or applying functions to them."
   ]
  },
  {
   "cell_type": "code",
   "execution_count": null,
   "id": "59c3a95e",
   "metadata": {},
   "outputs": [],
   "source": [
    "[x for x in range(5) if x % 2 == 0]"
   ]
  },
  {
   "cell_type": "code",
   "execution_count": null,
   "id": "d45f2840",
   "metadata": {},
   "outputs": [],
   "source": [
    "[x * x for x in range(5)]"
   ]
  },
  {
   "cell_type": "code",
   "execution_count": null,
   "id": "70d21b95",
   "metadata": {},
   "outputs": [],
   "source": [
    "[x * x for x in range(5) if x % 2 == 0] "
   ]
  },
  {
   "cell_type": "code",
   "execution_count": null,
   "id": "0c685a92",
   "metadata": {},
   "outputs": [],
   "source": [
    "# Also works for dictionaries and sets\n",
    "{x: x * x for x in range(5)}"
   ]
  },
  {
   "cell_type": "code",
   "execution_count": null,
   "id": "65970be7",
   "metadata": {},
   "outputs": [],
   "source": [
    "{x * x for x in [2, 1, -1, -2]} "
   ]
  },
  {
   "cell_type": "code",
   "execution_count": null,
   "id": "bfb248ee",
   "metadata": {},
   "outputs": [],
   "source": [
    "# Underscore can be used if you do not need the element from the original list\n",
    "[0 for _ in range(5)]      # has the same length as range(5)"
   ]
  },
  {
   "cell_type": "code",
   "execution_count": null,
   "id": "2a96bf4d",
   "metadata": {},
   "outputs": [],
   "source": [
    "increasing_pairs = [(x, y)                       # only pairs with x < y,\n",
    "                    for x in range(10)           # range(lo, hi) equals\n",
    "                    for y in range(x + 1, 10)]   # [lo, lo + 1, ..., hi - 1]\n",
    "increasing_pairs"
   ]
  },
  {
   "cell_type": "markdown",
   "id": "c9b6d63f",
   "metadata": {},
   "source": [
    "## Tuples\n",
    "\n",
    "Are like lists but immutable"
   ]
  },
  {
   "cell_type": "code",
   "execution_count": null,
   "id": "7054138e",
   "metadata": {},
   "outputs": [],
   "source": [
    "my_list = [1, 2]\n",
    "my_tuple = (1, 2)\n",
    "other_tuple = 3, 4"
   ]
  },
  {
   "cell_type": "code",
   "execution_count": null,
   "id": "541eec25",
   "metadata": {},
   "outputs": [],
   "source": [
    "my_list"
   ]
  },
  {
   "cell_type": "code",
   "execution_count": null,
   "id": "53c1653e",
   "metadata": {},
   "outputs": [],
   "source": [
    "my_tuple"
   ]
  },
  {
   "cell_type": "code",
   "execution_count": null,
   "id": "337a6c6d",
   "metadata": {},
   "outputs": [],
   "source": [
    "other_tuple"
   ]
  },
  {
   "cell_type": "code",
   "execution_count": null,
   "id": "f584d79d",
   "metadata": {},
   "outputs": [],
   "source": [
    "my_list[1] = 3      # my_list is now [1, 3]\n",
    "my_list"
   ]
  },
  {
   "cell_type": "code",
   "execution_count": null,
   "id": "c773ec92",
   "metadata": {},
   "outputs": [],
   "source": [
    "try:\n",
    "    my_tuple[1] = 3\n",
    "except TypeError:\n",
    "    print(\"cannot modify a tuple\")"
   ]
  },
  {
   "cell_type": "code",
   "execution_count": null,
   "id": "31dfd54f",
   "metadata": {},
   "outputs": [],
   "source": [
    "def sum_and_product(x, y):\n",
    "    return (x + y), (x * y)\n",
    "\n",
    "sp = sum_and_product(2, 3)     # sp is (5, 6)\n",
    "s, p = sum_and_product(5, 10)  # s is 15, p is 50\n",
    "\n",
    "sp"
   ]
  },
  {
   "cell_type": "code",
   "execution_count": null,
   "id": "80a1f710",
   "metadata": {},
   "outputs": [],
   "source": [
    "s"
   ]
  },
  {
   "cell_type": "code",
   "execution_count": null,
   "id": "9ce8efe0",
   "metadata": {},
   "outputs": [],
   "source": [
    "p"
   ]
  },
  {
   "cell_type": "code",
   "execution_count": null,
   "id": "54ee777d",
   "metadata": {},
   "outputs": [],
   "source": [
    "x, y = 1, 2     # now x is 1, y is 2\n",
    "x, y = y, x     # Pythonic way to swap variables; now x is 2, y is 1"
   ]
  },
  {
   "cell_type": "code",
   "execution_count": null,
   "id": "bdb6d1b8",
   "metadata": {},
   "outputs": [],
   "source": [
    "x"
   ]
  },
  {
   "cell_type": "code",
   "execution_count": null,
   "id": "559aae39",
   "metadata": {},
   "outputs": [],
   "source": [
    "y"
   ]
  },
  {
   "cell_type": "markdown",
   "id": "d631808c",
   "metadata": {},
   "source": [
    "## Dictionaries\n",
    "\n",
    "Dictionaries are an important key-value data structure. "
   ]
  },
  {
   "cell_type": "code",
   "execution_count": null,
   "id": "c6215adc",
   "metadata": {},
   "outputs": [],
   "source": [
    "empty_dict = {}                     # Pythonic\n",
    "empty_dict2 = dict()                # less Pythonic\n",
    "grades = {\"Joel\": 80, \"Tim\": 95}    # dictionary literal\n",
    "grades"
   ]
  },
  {
   "cell_type": "code",
   "execution_count": null,
   "id": "766caf04",
   "metadata": {},
   "outputs": [],
   "source": [
    "grades[\"Joel\"] "
   ]
  },
  {
   "cell_type": "code",
   "execution_count": null,
   "id": "e2795097",
   "metadata": {},
   "outputs": [],
   "source": [
    "try:\n",
    "    kates_grade = grades[\"Kate\"]\n",
    "except KeyError:\n",
    "    print(\"no grade for Kate!\")"
   ]
  },
  {
   "cell_type": "code",
   "execution_count": null,
   "id": "22121da8",
   "metadata": {},
   "outputs": [],
   "source": [
    "\"Joel\" in grades"
   ]
  },
  {
   "cell_type": "code",
   "execution_count": null,
   "id": "01495fde",
   "metadata": {},
   "outputs": [],
   "source": [
    "\"Kate\" in grades "
   ]
  },
  {
   "cell_type": "code",
   "execution_count": null,
   "id": "5fbb4a03",
   "metadata": {},
   "outputs": [],
   "source": [
    "grades.get(\"Joel\", 0) # Get method returns a default instead of raising an exception. This default can be specied"
   ]
  },
  {
   "cell_type": "code",
   "execution_count": null,
   "id": "10eea573",
   "metadata": {},
   "outputs": [],
   "source": [
    "grades.get(\"Kate\") "
   ]
  },
  {
   "cell_type": "code",
   "execution_count": null,
   "id": "9523ea3e-10e4-432c-89a4-345901b3e0a5",
   "metadata": {},
   "outputs": [],
   "source": [
    "grades.get(\"Kate\", 0) "
   ]
  },
  {
   "cell_type": "code",
   "execution_count": null,
   "id": "0ee06a87",
   "metadata": {},
   "outputs": [],
   "source": [
    "grades[\"Tim\"] = 99                    # replaces the old value\n",
    "grades[\"Kate\"] = 100                  # adds a third entry\n",
    "grades"
   ]
  },
  {
   "cell_type": "code",
   "execution_count": null,
   "id": "1ecf6888",
   "metadata": {},
   "outputs": [],
   "source": [
    "# Another example of Dictionary with more complex data\n",
    "tweet = {\n",
    "    \"user\" : \"joelgrus\",\n",
    "    \"text\" : \"Data Science is Awesome\",\n",
    "    \"retweet_count\" : 100,\n",
    "    \"hashtags\" : [\"#data\", \"#science\", \"#datascience\", \"#awesome\", \"#yolo\"]\n",
    "}\n",
    "tweet"
   ]
  },
  {
   "cell_type": "code",
   "execution_count": null,
   "id": "20aa4265",
   "metadata": {},
   "outputs": [],
   "source": [
    "     # iterable for the keys"
   ]
  },
  {
   "cell_type": "code",
   "execution_count": null,
   "id": "4b56de30",
   "metadata": {},
   "outputs": [],
   "source": [
    "tweet.values()   # iterable for the values"
   ]
  },
  {
   "cell_type": "code",
   "execution_count": null,
   "id": "443a9e7a",
   "metadata": {},
   "outputs": [],
   "source": [
    "tweet.items()    # iterable for the (key, value) tuples"
   ]
  },
  {
   "cell_type": "code",
   "execution_count": null,
   "id": "7feb56b3",
   "metadata": {},
   "outputs": [],
   "source": [
    "\"user\" in tweet.keys()          # True, but not Pythonic"
   ]
  },
  {
   "cell_type": "code",
   "execution_count": null,
   "id": "8e158212",
   "metadata": {},
   "outputs": [],
   "source": [
    "\"user\" in tweet                 # Pythonic way of checking for keys"
   ]
  },
  {
   "cell_type": "code",
   "execution_count": null,
   "id": "5fa72f9d",
   "metadata": {},
   "outputs": [],
   "source": [
    "\"joelgrus\" in tweet.values()     # True (slow but the only way to check)"
   ]
  },
  {
   "cell_type": "markdown",
   "id": "29fdf896",
   "metadata": {},
   "source": [
    "## Counters\n",
    "\n",
    "Can count the occurences of elements of a list"
   ]
  },
  {
   "cell_type": "code",
   "execution_count": null,
   "id": "9031578a",
   "metadata": {},
   "outputs": [],
   "source": [
    "from collections import Counter\n",
    "c = Counter([0, 1, 2, 0, 5, 3, 1, 1])\n",
    "c"
   ]
  },
  {
   "cell_type": "code",
   "execution_count": null,
   "id": "4706e031",
   "metadata": {},
   "outputs": [],
   "source": [
    "c.most_common(3)"
   ]
  },
  {
   "cell_type": "markdown",
   "id": "efcb010c",
   "metadata": {},
   "source": [
    "## Sets\n",
    "\n",
    "A collection of distinct elements. Uses { and } instead of [ and ] used for lists"
   ]
  },
  {
   "cell_type": "code",
   "execution_count": null,
   "id": "fff69549",
   "metadata": {},
   "outputs": [],
   "source": [
    "s = set()\n",
    "s"
   ]
  },
  {
   "cell_type": "code",
   "execution_count": null,
   "id": "073e2200",
   "metadata": {},
   "outputs": [],
   "source": [
    "s.add(1)       # s is now {1}\n",
    "s"
   ]
  },
  {
   "cell_type": "code",
   "execution_count": null,
   "id": "a09383ce",
   "metadata": {},
   "outputs": [],
   "source": [
    "s.add(2)       # s is now {1, 2}\n",
    "s"
   ]
  },
  {
   "cell_type": "code",
   "execution_count": null,
   "id": "0eec4f0e",
   "metadata": {},
   "outputs": [],
   "source": [
    "s.add(2)       # s is still {1, 2}\n",
    "s"
   ]
  },
  {
   "cell_type": "code",
   "execution_count": null,
   "id": "bd727c91",
   "metadata": {},
   "outputs": [],
   "source": [
    "# The in operation that checks for membership is fast\n",
    "2 in s"
   ]
  },
  {
   "cell_type": "code",
   "execution_count": null,
   "id": "579ab75d",
   "metadata": {},
   "outputs": [],
   "source": [
    "3 in s"
   ]
  },
  {
   "cell_type": "code",
   "execution_count": null,
   "id": "84696a24",
   "metadata": {},
   "outputs": [],
   "source": [
    "# Sets are good at giving us distinct elements\n",
    "set([0, 1, 2, 0, 5, 3, 1, 1])"
   ]
  },
  {
   "cell_type": "markdown",
   "id": "e3d81aa5",
   "metadata": {},
   "source": [
    "## Control flows"
   ]
  },
  {
   "cell_type": "code",
   "execution_count": null,
   "id": "eb72e0ad",
   "metadata": {},
   "outputs": [],
   "source": [
    "if 1 > 2:\n",
    "    message = \"if only 1 were greater than two...\"\n",
    "elif 1 > 3:\n",
    "    message = \"elif stands for 'else if'\"\n",
    "else:\n",
    "    message = \"when all else fails use else (if you want to)\"\n",
    "    \n",
    "message"
   ]
  },
  {
   "cell_type": "code",
   "execution_count": null,
   "id": "23af2a98",
   "metadata": {},
   "outputs": [],
   "source": [
    "\"even\" if x % 2 == 0 else \"odd\""
   ]
  },
  {
   "cell_type": "code",
   "execution_count": null,
   "id": "4aa721f0",
   "metadata": {},
   "outputs": [],
   "source": [
    "# while loops\n",
    "x = 0\n",
    "while x < 10:\n",
    "    print(f\"{x} is less than 10\")\n",
    "    x += 1"
   ]
  },
  {
   "cell_type": "code",
   "execution_count": null,
   "id": "8094fa01",
   "metadata": {},
   "outputs": [],
   "source": [
    "# For loops\n",
    "# range(10) is the numbers 0, 1, ..., 9\n",
    "for x in range(10):\n",
    "    print(f\"{x} is less than 10\")"
   ]
  },
  {
   "cell_type": "code",
   "execution_count": null,
   "id": "4ddd535b",
   "metadata": {},
   "outputs": [],
   "source": [
    "for x in range(10):\n",
    "    if x == 3:\n",
    "        continue  # go immediately to the next iteration\n",
    "    if x == 5:\n",
    "        break     # quit the loop entirely\n",
    "    print(x)"
   ]
  },
  {
   "cell_type": "markdown",
   "id": "11fa69ec",
   "metadata": {},
   "source": [
    "## Booleans"
   ]
  },
  {
   "cell_type": "code",
   "execution_count": null,
   "id": "2e656b40",
   "metadata": {},
   "outputs": [],
   "source": [
    "1 < 2 "
   ]
  },
  {
   "cell_type": "code",
   "execution_count": null,
   "id": "283ffa04",
   "metadata": {},
   "outputs": [],
   "source": [
    "1 >= 2 "
   ]
  },
  {
   "cell_type": "code",
   "execution_count": null,
   "id": "5a8a36d6",
   "metadata": {},
   "outputs": [],
   "source": [
    "True == False"
   ]
  },
  {
   "cell_type": "code",
   "execution_count": null,
   "id": "61d70c88",
   "metadata": {},
   "outputs": [],
   "source": [
    "1 == 1"
   ]
  },
  {
   "cell_type": "code",
   "execution_count": null,
   "id": "97fb86e7",
   "metadata": {},
   "outputs": [],
   "source": [
    "# None represent non existing truth value\n",
    "None == False"
   ]
  },
  {
   "cell_type": "code",
   "execution_count": null,
   "id": "4f2dc913",
   "metadata": {},
   "outputs": [],
   "source": [
    "None == True"
   ]
  },
  {
   "cell_type": "code",
   "execution_count": null,
   "id": "0a44ffea",
   "metadata": {},
   "outputs": [],
   "source": [
    "x = 1 < 2"
   ]
  },
  {
   "cell_type": "code",
   "execution_count": null,
   "id": "ab12966e",
   "metadata": {},
   "outputs": [],
   "source": [
    " x is True"
   ]
  },
  {
   "cell_type": "code",
   "execution_count": null,
   "id": "c0a3f629",
   "metadata": {},
   "outputs": [],
   "source": [
    "x is None"
   ]
  },
  {
   "cell_type": "code",
   "execution_count": null,
   "id": "980f7625",
   "metadata": {},
   "outputs": [],
   "source": [
    "all([1 < 2, 2 < 3, 3 < 4])"
   ]
  },
  {
   "cell_type": "code",
   "execution_count": null,
   "id": "3005aceb",
   "metadata": {},
   "outputs": [],
   "source": [
    "all([1 < 2, 2 < 3, 3 > 4])"
   ]
  },
  {
   "cell_type": "code",
   "execution_count": null,
   "id": "8b4fa57f",
   "metadata": {},
   "outputs": [],
   "source": [
    "any([1 < 2, 2 < 3, 3 > 4])"
   ]
  },
  {
   "cell_type": "code",
   "execution_count": null,
   "id": "55438b32",
   "metadata": {},
   "outputs": [],
   "source": [
    "all([])"
   ]
  },
  {
   "cell_type": "code",
   "execution_count": null,
   "id": "e500f4a5",
   "metadata": {},
   "outputs": [],
   "source": [
    "any([])"
   ]
  },
  {
   "cell_type": "code",
   "execution_count": null,
   "id": "13bf2602",
   "metadata": {},
   "outputs": [],
   "source": [
    "1 < 2 and 2 < 3  # conjunction \"and\""
   ]
  },
  {
   "cell_type": "code",
   "execution_count": null,
   "id": "78dd526f",
   "metadata": {},
   "outputs": [],
   "source": [
    "1 < 2 and 2 > 3"
   ]
  },
  {
   "cell_type": "code",
   "execution_count": null,
   "id": "1da419a1",
   "metadata": {},
   "outputs": [],
   "source": [
    "1 < 2 or 2 > 3 # disjunction \"or\""
   ]
  },
  {
   "cell_type": "code",
   "execution_count": null,
   "id": "419ac548",
   "metadata": {},
   "outputs": [],
   "source": [
    "not 1 < 2 # negation"
   ]
  },
  {
   "cell_type": "markdown",
   "id": "c53d9e74",
   "metadata": {},
   "source": [
    "## Object-Oriented Programming\n",
    "\n",
    "Like many other languages Python allow you define classes and methods on them"
   ]
  },
  {
   "cell_type": "code",
   "execution_count": null,
   "id": "8b7785d5",
   "metadata": {},
   "outputs": [],
   "source": [
    "class CountingClicker:\n",
    "    \"\"\"A class can/should have a docstring, just like a function\"\"\"\n",
    "\n",
    "    def __init__(self, count = 0):\n",
    "        self.count = count\n",
    "\n",
    "    def __repr__(self):\n",
    "        return f\"CountingClicker(count={self.count})\"\n",
    "\n",
    "    def click(self, num_times = 1):\n",
    "        \"\"\"Click the clicker some number of times.\"\"\"\n",
    "        self.count += num_times\n",
    "\n",
    "    def read(self):\n",
    "        return self.count\n",
    "\n",
    "    def reset(self):\n",
    "        self.count = 0"
   ]
  },
  {
   "cell_type": "code",
   "execution_count": null,
   "id": "f8a10789",
   "metadata": {},
   "outputs": [],
   "source": [
    "?CountingClicker"
   ]
  },
  {
   "cell_type": "code",
   "execution_count": null,
   "id": "4d5901ac",
   "metadata": {},
   "outputs": [],
   "source": [
    "CountingClicker()"
   ]
  },
  {
   "cell_type": "code",
   "execution_count": null,
   "id": "91a7a153",
   "metadata": {},
   "outputs": [],
   "source": [
    "clicker = CountingClicker(1)"
   ]
  },
  {
   "cell_type": "code",
   "execution_count": null,
   "id": "5a7f47c9",
   "metadata": {},
   "outputs": [],
   "source": [
    "clicker.read() "
   ]
  },
  {
   "cell_type": "code",
   "execution_count": null,
   "id": "2ec2a66a",
   "metadata": {},
   "outputs": [],
   "source": [
    "clicker.click()\n",
    "clicker.click(7)\n",
    "clicker.read() "
   ]
  },
  {
   "cell_type": "code",
   "execution_count": null,
   "id": "0bc0de4a",
   "metadata": {},
   "outputs": [],
   "source": [
    "clicker"
   ]
  },
  {
   "cell_type": "code",
   "execution_count": null,
   "id": "113fd3ad",
   "metadata": {},
   "outputs": [],
   "source": [
    "# A subclass inherits all the behavior of its parent class.\n",
    "class NoResetClicker(CountingClicker):\n",
    "    # This class has all the same methods as CountingClicker\n",
    "\n",
    "    # Except that it has a reset method that does nothing.\n",
    "    def reset(self):\n",
    "        pass"
   ]
  },
  {
   "cell_type": "markdown",
   "id": "7f1fa1b1",
   "metadata": {},
   "source": [
    "## Iterables and generators\n",
    "\n",
    "Sometimes we need special objects to iterate over in for loops for instance."
   ]
  },
  {
   "cell_type": "code",
   "execution_count": null,
   "id": "2b3eb778",
   "metadata": {},
   "outputs": [],
   "source": [
    "# We can define them as function using the yield operator\n",
    "def generate_range(n):\n",
    "    i = 0\n",
    "    while i < n:\n",
    "        yield i   # every call to yield produces a value of the generator\n",
    "        i += 1"
   ]
  },
  {
   "cell_type": "code",
   "execution_count": null,
   "id": "ec6dbb63",
   "metadata": {},
   "outputs": [],
   "source": [
    "generate_range(10)"
   ]
  },
  {
   "cell_type": "code",
   "execution_count": null,
   "id": "ad48a784",
   "metadata": {},
   "outputs": [],
   "source": [
    "for i in generate_range(10):\n",
    "    print(f\"i: {i}\")"
   ]
  },
  {
   "cell_type": "code",
   "execution_count": null,
   "id": "f1a65cb5",
   "metadata": {},
   "outputs": [],
   "source": [
    "# We can also generate infinite generators\n",
    "def natural_numbers():\n",
    "    \"\"\"returns 1, 2, 3, ...\"\"\"\n",
    "    n = 1\n",
    "    while True:\n",
    "        yield n\n",
    "        n += 1"
   ]
  },
  {
   "cell_type": "code",
   "execution_count": null,
   "id": "de559f59",
   "metadata": {},
   "outputs": [],
   "source": [
    "natural_numbers()"
   ]
  },
  {
   "cell_type": "code",
   "execution_count": null,
   "id": "51f9043b",
   "metadata": {},
   "outputs": [],
   "source": [
    "# Generators can only be used once\n",
    "gen10 = generate_range(10)\n",
    "\n",
    "for i in gen10:\n",
    "    print(f\"i: {i}\")"
   ]
  },
  {
   "cell_type": "code",
   "execution_count": null,
   "id": "d2db7aa1",
   "metadata": {},
   "outputs": [],
   "source": [
    "for i in gen10:\n",
    "    print(f\"i: {i}\")"
   ]
  },
  {
   "cell_type": "code",
   "execution_count": null,
   "id": "f33b2db6",
   "metadata": {},
   "outputs": [],
   "source": [
    "# Using comprehension to define  a generator\n",
    "evens_below_20 = (i for i in generate_range(20) if i % 2 == 0)\n",
    "evens_below_20"
   ]
  },
  {
   "cell_type": "code",
   "execution_count": null,
   "id": "653dd91d",
   "metadata": {},
   "outputs": [],
   "source": [
    "# enumerate let us iterate of the indexes of a list of names\n",
    "names = [\"Alice\", \"Bob\", \"Charlie\", \"Debbie\"]\n",
    "names"
   ]
  },
  {
   "cell_type": "code",
   "execution_count": null,
   "id": "1b3847e1",
   "metadata": {},
   "outputs": [],
   "source": [
    "enumerate(names)"
   ]
  },
  {
   "cell_type": "code",
   "execution_count": null,
   "id": "6be5206d",
   "metadata": {},
   "outputs": [],
   "source": [
    "for i, name in enumerate(names):\n",
    "    print(f\"name {i} is {name}\")"
   ]
  },
  {
   "cell_type": "markdown",
   "id": "d7b48b32",
   "metadata": {},
   "source": [
    "## Randomness\n",
    "\n",
    "The `random` module allow us to generate random numbers - that is \"pseudo random numbers\" based on an internal state that can be set with `random.seed`."
   ]
  },
  {
   "cell_type": "code",
   "execution_count": null,
   "id": "5f198748",
   "metadata": {},
   "outputs": [],
   "source": [
    "import random\n",
    "random.random()"
   ]
  },
  {
   "cell_type": "code",
   "execution_count": null,
   "id": "c9f62a8d",
   "metadata": {},
   "outputs": [],
   "source": [
    "random.random()"
   ]
  },
  {
   "cell_type": "code",
   "execution_count": null,
   "id": "06eeec50",
   "metadata": {},
   "outputs": [],
   "source": [
    "# Setting a seed to ensure we always get the same random number - essential to ensure reproducability\n",
    "random.seed(7439)\n",
    "random.random()"
   ]
  },
  {
   "cell_type": "code",
   "execution_count": null,
   "id": "2dffeced",
   "metadata": {},
   "outputs": [],
   "source": [
    "random.seed(7439)\n",
    "random.random()"
   ]
  },
  {
   "cell_type": "code",
   "execution_count": null,
   "id": "e28999d9",
   "metadata": {},
   "outputs": [],
   "source": [
    "[random.random() for _ in range(4)]"
   ]
  },
  {
   "cell_type": "code",
   "execution_count": null,
   "id": "89f3a2a4",
   "metadata": {},
   "outputs": [],
   "source": [
    "# random drawing from a list of integers\n",
    "random.randrange(10)    # choose randomly from range(10) = [0, 1, ..., 9]"
   ]
  },
  {
   "cell_type": "code",
   "execution_count": null,
   "id": "d7dc936c",
   "metadata": {},
   "outputs": [],
   "source": [
    "random.randrange(3, 6)  # choose randomly from range(3, 6) = [3, 4, 5]"
   ]
  },
  {
   "cell_type": "code",
   "execution_count": null,
   "id": "807ec7ff",
   "metadata": {},
   "outputs": [],
   "source": [
    "# random shuffling\n",
    "up_to_ten = [1, 2, 3, 4, 5, 6, 7, 8, 9, 10]\n",
    "random.shuffle(up_to_ten)\n",
    "up_to_ten"
   ]
  },
  {
   "cell_type": "code",
   "execution_count": null,
   "id": "be68964e",
   "metadata": {},
   "outputs": [],
   "source": [
    "# random choice\n",
    "random.choice([\"Alice\", \"Bob\", \"Charlie\"]) "
   ]
  },
  {
   "cell_type": "code",
   "execution_count": null,
   "id": "632e2a69",
   "metadata": {},
   "outputs": [],
   "source": [
    "# Random sampling without replacement\n",
    "random.sample([1,2,3,4,5,6,7,8,9,10], 7)"
   ]
  },
  {
   "cell_type": "code",
   "execution_count": null,
   "id": "f464e64c",
   "metadata": {},
   "outputs": [],
   "source": [
    "# Random sampling with replacement\n",
    "[random.choice([1,2,3,4,5,6,7,8,9,10]) for _ in range(7)]"
   ]
  },
  {
   "cell_type": "markdown",
   "id": "affc5788",
   "metadata": {},
   "source": [
    "## Regular expressions\n",
    "\n",
    "Regular expression are also useful in Python and in Data Science"
   ]
  },
  {
   "cell_type": "code",
   "execution_count": null,
   "id": "1d4c5a63",
   "metadata": {},
   "outputs": [],
   "source": [
    "import re\n",
    "\n",
    "re_examples = [                        # all of these are true, because\n",
    "    not re.match(\"a\", \"cat\"),              #  'cat' doesn't start with 'a'\n",
    "    re.search(\"a\", \"cat\"),                 #  'cat' has an 'a' in it\n",
    "    not re.search(\"c\", \"dog\"),             #  'dog' doesn't have a 'c' in it\n",
    "    3 == len(re.split(\"[ab]\", \"carbs\")),   #  split on a or b to ['c','r','s']\n",
    "    \"R-D-\" == re.sub(\"[0-9]\", \"-\", \"R2D2\") #  replace digits with dashes\n",
    "    ]\n",
    "\n",
    "re_examples"
   ]
  },
  {
   "cell_type": "code",
   "execution_count": null,
   "id": "6aac240d",
   "metadata": {},
   "outputs": [],
   "source": [
    "not re.match(\"a\", \"cat\")             #  'cat' doesn't start with 'a'"
   ]
  },
  {
   "cell_type": "code",
   "execution_count": null,
   "id": "a97c9277",
   "metadata": {},
   "outputs": [],
   "source": [
    "if re.search(\"a\", \"cat\"):\n",
    "    print(\"That's true\")"
   ]
  },
  {
   "cell_type": "code",
   "execution_count": null,
   "id": "e45b325a",
   "metadata": {},
   "outputs": [],
   "source": [
    "re.search(\"a\", \"cat\")                 #  'cat' has an 'a' in it"
   ]
  },
  {
   "cell_type": "code",
   "execution_count": null,
   "id": "edb72007",
   "metadata": {},
   "outputs": [],
   "source": [
    "if re.search(\"a\", \"cat\"):\n",
    "    print(\"That's true\")"
   ]
  },
  {
   "cell_type": "code",
   "execution_count": null,
   "id": "1a6a0678",
   "metadata": {},
   "outputs": [],
   "source": [
    "re.split(\"[ab]\", \"carbs\")    #  split on a or b to ['c','r','s']"
   ]
  },
  {
   "cell_type": "code",
   "execution_count": null,
   "id": "b07d097b",
   "metadata": {},
   "outputs": [],
   "source": [
    "re.sub(\"[0-9]\", \"-\", \"R2D2\") #  replace digits with dashes"
   ]
  },
  {
   "cell_type": "markdown",
   "id": "65169eb1",
   "metadata": {},
   "source": [
    "## zip and argument unpacking"
   ]
  },
  {
   "cell_type": "code",
   "execution_count": null,
   "id": "a92c0b9f",
   "metadata": {},
   "outputs": [],
   "source": [
    "# Zip iterables together\n",
    "list1 = [\"a\", \"b\", \"c\"]\n",
    "list2 = [1, 2, 3]\n",
    "\n",
    "zip(list1, list2)"
   ]
  },
  {
   "cell_type": "code",
   "execution_count": null,
   "id": "4793d759",
   "metadata": {},
   "outputs": [],
   "source": [
    "[pair for pair in zip(list1, list2)]"
   ]
  },
  {
   "cell_type": "code",
   "execution_count": null,
   "id": "3c9d32bd",
   "metadata": {},
   "outputs": [],
   "source": [
    "zipped = [pair for pair in zip(list1, list2)]\n",
    "zipped"
   ]
  },
  {
   "cell_type": "code",
   "execution_count": null,
   "id": "ce6940f8",
   "metadata": {},
   "outputs": [],
   "source": [
    "letters, numbers = zip(*zipped)"
   ]
  },
  {
   "cell_type": "code",
   "execution_count": null,
   "id": "64b92c21",
   "metadata": {},
   "outputs": [],
   "source": [
    "letters"
   ]
  },
  {
   "cell_type": "code",
   "execution_count": null,
   "id": "8f74fb58",
   "metadata": {},
   "outputs": [],
   "source": [
    "numbers"
   ]
  },
  {
   "cell_type": "markdown",
   "id": "743d16cb",
   "metadata": {},
   "source": [
    "## Type annotations\n",
    "\n",
    "Python is dynamically typed, that is it does not care about the type of objects as long as they are used in a valid way"
   ]
  },
  {
   "cell_type": "code",
   "execution_count": null,
   "id": "8f1122c9",
   "metadata": {},
   "outputs": [],
   "source": [
    "def add(a, b):\n",
    "    return a + b"
   ]
  },
  {
   "cell_type": "code",
   "execution_count": null,
   "id": "b0e0ba45",
   "metadata": {},
   "outputs": [],
   "source": [
    "add(10, 5)    # + is valid for numbers"
   ]
  },
  {
   "cell_type": "code",
   "execution_count": null,
   "id": "8d4f2d86",
   "metadata": {},
   "outputs": [],
   "source": [
    "add([1, 2], [3])   # + is valid for lists"
   ]
  },
  {
   "cell_type": "code",
   "execution_count": null,
   "id": "c3af4d04",
   "metadata": {},
   "outputs": [],
   "source": [
    "add(\"hi \", \"there\")   # + is valid for strings"
   ]
  },
  {
   "cell_type": "code",
   "execution_count": null,
   "id": "ef4bfcbf",
   "metadata": {},
   "outputs": [],
   "source": [
    "try:\n",
    "    add(10, \"five\")\n",
    "except TypeError:\n",
    "    print(\"cannot add an int to a string\")"
   ]
  },
  {
   "cell_type": "code",
   "execution_count": null,
   "id": "ed637f34",
   "metadata": {},
   "outputs": [],
   "source": [
    "# You can add type notation, but doesn't actually do anything\n",
    "def add(a: int, b: int) -> int:\n",
    "    return a + b"
   ]
  },
  {
   "cell_type": "code",
   "execution_count": null,
   "id": "b3c6fb88",
   "metadata": {},
   "outputs": [],
   "source": [
    "add(10, 5)           # you'd like this to be OK"
   ]
  },
  {
   "cell_type": "code",
   "execution_count": null,
   "id": "26a41293",
   "metadata": {},
   "outputs": [],
   "source": [
    "add(\"hi \", \"there\")  # you'd like this to be not OK"
   ]
  },
  {
   "cell_type": "markdown",
   "id": "66ccea44",
   "metadata": {},
   "source": [
    "The book list four reasons for still using type notation (and the book uses them)\n",
    "\n",
    "- A form of documenation\n",
    "- External tools can use it\n",
    "- Makes you think about designing clear functions\n",
    "- Your editor might have functionality that can utilize it"
   ]
  },
  {
   "cell_type": "code",
   "execution_count": null,
   "id": "eb920ea6",
   "metadata": {},
   "outputs": [],
   "source": [
    "# To type annotate a list of floats\n",
    "from typing import List  # note capital L\n",
    "\n",
    "def total(xs: List[float]) -> float:\n",
    "    return sum(xs)"
   ]
  },
  {
   "cell_type": "markdown",
   "id": "c76ef7be",
   "metadata": {},
   "source": [
    "... see the book for more examples of types"
   ]
  },
  {
   "cell_type": "code",
   "execution_count": null,
   "id": "a18a8c6f",
   "metadata": {},
   "outputs": [],
   "source": []
  }
 ],
 "metadata": {
  "kernelspec": {
   "display_name": "Python 3 (ipykernel)",
   "language": "python",
   "name": "python3"
  },
  "language_info": {
   "codemirror_mode": {
    "name": "ipython",
    "version": 3
   },
   "file_extension": ".py",
   "mimetype": "text/x-python",
   "name": "python",
   "nbconvert_exporter": "python",
   "pygments_lexer": "ipython3",
   "version": "3.12.8"
  }
 },
 "nbformat": 4,
 "nbformat_minor": 5
}
