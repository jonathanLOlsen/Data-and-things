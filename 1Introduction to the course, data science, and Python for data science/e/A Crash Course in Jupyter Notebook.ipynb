{
 "cells": [
  {
   "cell_type": "markdown",
   "id": "09d22068",
   "metadata": {},
   "source": [
    "# A Crash Course in Jupyter Notebook"
   ]
  },
  {
   "cell_type": "markdown",
   "id": "b48e882f",
   "metadata": {},
   "source": [
    "## Markdown"
   ]
  },
  {
   "cell_type": "markdown",
   "id": "94231079",
   "metadata": {},
   "source": [
    "# Here is an example of a title...\n",
    "## A sub title...\n",
    "### and a sub sub title"
   ]
  },
  {
   "cell_type": "markdown",
   "id": "ab3682e2",
   "metadata": {},
   "source": [
    "Here is an example of some plain text"
   ]
  },
  {
   "cell_type": "markdown",
   "id": "a044e02a",
   "metadata": {},
   "source": [
    "Here is an example of *italic* and **bold**"
   ]
  },
  {
   "cell_type": "markdown",
   "id": "ddc26db9",
   "metadata": {},
   "source": [
    "Here is an example of a itemiezd list\n",
    "- item 1\n",
    "- item 2\n",
    "    - item 2.1\n",
    "- item 3"
   ]
  },
  {
   "cell_type": "markdown",
   "id": "25ccc4e8",
   "metadata": {},
   "source": [
    " Here is an example of a numbered list\n",
    "1. Numbered item 1\n",
    "1. Numbered item 2\n",
    "    1. A substep\n",
    "    1. A second substep\n",
    "1. Numbered item 3"
   ]
  },
  {
   "cell_type": "markdown",
   "id": "29449a36",
   "metadata": {},
   "source": [
    "Text that looks like code `this could be code`"
   ]
  },
  {
   "cell_type": "markdown",
   "id": "903769e9",
   "metadata": {},
   "source": [
    "Math can be written as this $2 + 2 = 5$"
   ]
  },
  {
   "cell_type": "markdown",
   "id": "5940cd19",
   "metadata": {},
   "source": [
    "... or as this\n",
    "\n",
    "$$\n",
    "2 + 2 = 5\n",
    "$$\n"
   ]
  },
  {
   "cell_type": "markdown",
   "id": "0f9adea4",
   "metadata": {},
   "source": [
    "You can use Latex to write more advanced math: \n",
    "$$\n",
    "\\sum_{n=1}^{N} x_i = \\frac{N * (N + 1)}{2}\n",
    "$$"
   ]
  },
  {
   "cell_type": "markdown",
   "id": "915e54e7",
   "metadata": {},
   "source": [
    "Here is a \"cheat sheet\" for more usefull markdown: https://jupyterbook.org/en/stable/reference/cheatsheet.html\n",
    "\n",
    "Her is another one: https://www.ibm.com/docs/en/watson-studio-local/1.2.3?topic=notebooks-markdown-jupyter-cheatsheet"
   ]
  },
  {
   "cell_type": "markdown",
   "id": "edaff2b1",
   "metadata": {},
   "source": [
    "# Code"
   ]
  },
  {
   "cell_type": "code",
   "execution_count": 1,
   "id": "7de26390",
   "metadata": {},
   "outputs": [],
   "source": [
    "# You can still write comments in code cells like normal python scripts...\n",
    "# but why would you"
   ]
  },
  {
   "cell_type": "code",
   "execution_count": 2,
   "id": "b11000be",
   "metadata": {},
   "outputs": [],
   "source": [
    "x=5"
   ]
  },
  {
   "cell_type": "code",
   "execution_count": 3,
   "id": "66671956",
   "metadata": {},
   "outputs": [
    {
     "data": {
      "text/plain": [
       "5"
      ]
     },
     "execution_count": 3,
     "metadata": {},
     "output_type": "execute_result"
    }
   ],
   "source": [
    "x"
   ]
  },
  {
   "cell_type": "code",
   "execution_count": 4,
   "id": "2d381f29",
   "metadata": {},
   "outputs": [
    {
     "data": {
      "text/plain": [
       "8"
      ]
     },
     "execution_count": 4,
     "metadata": {},
     "output_type": "execute_result"
    }
   ],
   "source": [
    "x=8\n",
    "x"
   ]
  },
  {
   "cell_type": "code",
   "execution_count": 5,
   "id": "8b5a3cf3",
   "metadata": {},
   "outputs": [
    {
     "ename": "NameError",
     "evalue": "name 'y' is not defined",
     "output_type": "error",
     "traceback": [
      "\u001b[1;31m---------------------------------------------------------------------------\u001b[0m",
      "\u001b[1;31mNameError\u001b[0m                                 Traceback (most recent call last)",
      "Cell \u001b[1;32mIn[5], line 1\u001b[0m\n\u001b[1;32m----> 1\u001b[0m \u001b[43my\u001b[49m\n",
      "\u001b[1;31mNameError\u001b[0m: name 'y' is not defined"
     ]
    }
   ],
   "source": [
    "y"
   ]
  },
  {
   "cell_type": "code",
   "execution_count": null,
   "id": "c8e27c75-3276-4670-8933-c17005cb9e4f",
   "metadata": {},
   "outputs": [],
   "source": []
  },
  {
   "cell_type": "code",
   "execution_count": null,
   "id": "7ab7013d",
   "metadata": {},
   "outputs": [],
   "source": [
    "y=2"
   ]
  },
  {
   "cell_type": "markdown",
   "id": "7f01b3f0-1a7e-4013-81dc-78fe026f72d2",
   "metadata": {},
   "source": [
    "If you go back and execute the cell with just `y` now, you will not get an error - cells can be executed in abitrary order so be careful. You can always go to the menu \"Kernel and chose \"Restart kernel and Clear Outputs of All Cells...\" and re-run all cells in order."
   ]
  },
  {
   "cell_type": "markdown",
   "id": "f8d865c9-bf5b-4d15-86cb-1582ac5d90b3",
   "metadata": {},
   "source": [
    "# Keyboard shortcuts"
   ]
  },
  {
   "cell_type": "markdown",
   "id": "be11d7f1-6977-4be1-bbfd-7aaf8ddcad32",
   "metadata": {},
   "source": [
    "Hit `Ctrl+Shift+h` to get a list of all keyboard shortcuts"
   ]
  },
  {
   "cell_type": "code",
   "execution_count": null,
   "id": "afebdbad-0fb2-419c-bcea-ba786dcac03b",
   "metadata": {},
   "outputs": [],
   "source": []
  }
 ],
 "metadata": {
  "kernelspec": {
   "display_name": "Python 3 (ipykernel)",
   "language": "python",
   "name": "python3"
  },
  "language_info": {
   "codemirror_mode": {
    "name": "ipython",
    "version": 3
   },
   "file_extension": ".py",
   "mimetype": "text/x-python",
   "name": "python",
   "nbconvert_exporter": "python",
   "pygments_lexer": "ipython3",
   "version": "3.12.8"
  }
 },
 "nbformat": 4,
 "nbformat_minor": 5
}
