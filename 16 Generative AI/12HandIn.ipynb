{
 "cells": [
  {
   "cell_type": "markdown",
   "metadata": {},
   "source": [
    "Task\n",
    "1. Creat a RAG pipeline that can take following text and answer following questions\n",
    "2. Try different types of chunking to get better answers?\n",
    "3. Does asking questions differently give better answers? Why?\n",
    "4. Try a different similarity search instead of cosine similarity - do the answers improve?\n",
    "\n"
   ]
  },
  {
   "cell_type": "code",
   "execution_count": 1,
   "metadata": {},
   "outputs": [
    {
     "name": "stderr",
     "output_type": "stream",
     "text": [
      "c:\\Users\\Jlo\\AppData\\Local\\Programs\\Python\\Python313\\Lib\\site-packages\\tqdm\\auto.py:21: TqdmWarning: IProgress not found. Please update jupyter and ipywidgets. See https://ipywidgets.readthedocs.io/en/stable/user_install.html\n",
      "  from .autonotebook import tqdm as notebook_tqdm\n"
     ]
    }
   ],
   "source": [
    "import numpy as np\n",
    "from sentence_transformers import SentenceTransformer\n",
    "from sklearn.metrics.pairwise import cosine_similarity, pairwise_distances\n",
    "import re"
   ]
  },
  {
   "cell_type": "markdown",
   "metadata": {},
   "source": [
    "### 1. Creat a RAG pipeline that can take following text and answer following questions"
   ]
  },
  {
   "cell_type": "code",
   "execution_count": 2,
   "metadata": {},
   "outputs": [],
   "source": [
    "MODEL_NAME = 'sentence-transformers/all-MiniLM-L6-v2'\n",
    "model = SentenceTransformer(MODEL_NAME)\n",
    "\n",
    "\n",
    "sample_text = \"\"\"\n",
    "The Amazon rainforest is the largest tropical rainforest in the world, covering approximately 5.5 million square kilometers. It spans across nine countries, including Brazil, Peru, and Colombia. The rainforest is home to around 10% of the known species on Earth, including jaguars, sloths, and thousands of species of insects and birds.\n",
    "\n",
    "Deforestation is a significant threat to the Amazon, with thousands of square kilometers lost each year due to agriculture, logging, and urbanization. This deforestation contributes to climate change, as the rainforest acts as a major carbon sink, absorbing millions of tons of carbon dioxide annually.\n",
    "\n",
    "Indigenous tribes have lived in the Amazon for thousands of years, relying on its rich biodiversity for food, medicine, and shelter. These tribes have unique languages, traditions, and knowledge of the ecosystem. However, many face threats from illegal land encroachment and industrial activities.\n",
    "\n",
    "Scientists believe that the Amazon plays a crucial role in global weather patterns by releasing water vapor into the atmosphere, which influences rainfall across South America and even other continents. The Amazon River, which flows through the rainforest, is the second longest river in the world and carries more water than any other river.\n",
    "\n",
    "Efforts to protect the Amazon include international agreements, conservation programs, and sustainable development projects that aim to balance economic growth with environmental protection. Many organizations and governments are working to reduce illegal logging and promote reforestation initiatives.\n",
    "\"\"\""
   ]
  },
  {
   "cell_type": "code",
   "execution_count": 3,
   "metadata": {},
   "outputs": [],
   "source": [
    "questions = [\n",
    "    \"What is the Amazon rainforest?\",\n",
    "    \"Which countries does the Amazon span across?\",\n",
    "    \"Why is deforestation a problem in the Amazon?\",\n",
    "    \"How does the Amazon rainforest affect global weather patterns?\",\n",
    "    \"What role do indigenous tribes play in the Amazon?\",\n",
    "    \"What is the importance of the Amazon River?\",\n",
    "    \"What types of wildlife can be found in the Amazon?\",\n",
    "    \"How does deforestation contribute to climate change?\",\n",
    "    \"What efforts are being made to protect the Amazon?\",\n",
    "    \"Why is the Amazon considered a major carbon sink?\"\n",
    "]"
   ]
  },
  {
   "cell_type": "markdown",
   "metadata": {},
   "source": [
    "creating function to split the the text, lets start with paragraph level chunking and see how it goes."
   ]
  },
  {
   "cell_type": "code",
   "execution_count": 4,
   "metadata": {},
   "outputs": [],
   "source": [
    "# Function to generate embeddings\n",
    "def get_transformer_embeddings(texts):\n",
    "    return model.encode(texts, convert_to_numpy=True)\n",
    "\n",
    "# Function to retrieve relevant passage\n",
    "def retrieve_passage(query):\n",
    "    query_embedding = get_transformer_embeddings([query])\n",
    "    similarities = cosine_similarity(query_embedding, stored_embeddings)[0]  # Ensure correct shape\n",
    "    best_match_idx = np.argmax(similarities)\n",
    "    return stored_texts[best_match_idx]\n",
    "\n",
    "# Function to answer questions based on stored content\n",
    "def answer_question(query):\n",
    "    relevant_passage = retrieve_passage(query)\n",
    "    return relevant_passage"
   ]
  },
  {
   "cell_type": "code",
   "execution_count": 5,
   "metadata": {},
   "outputs": [],
   "source": [
    "\n",
    "def split_text_paragraph(text):\n",
    "    return [para.strip() for para in re.split(\"\\n+\", text) if para.strip()]\n",
    "\n",
    "# Store document embeddings\n",
    "stored_texts = split_text_paragraph(sample_text)\n",
    "stored_embeddings = model.encode(stored_texts, convert_to_numpy=True)  "
   ]
  },
  {
   "cell_type": "code",
   "execution_count": 6,
   "metadata": {},
   "outputs": [
    {
     "data": {
      "text/plain": [
       "['The Amazon rainforest is the largest tropical rainforest in the world, covering approximately 5.5 million square kilometers. It spans across nine countries, including Brazil, Peru, and Colombia. The rainforest is home to around 10% of the known species on Earth, including jaguars, sloths, and thousands of species of insects and birds.',\n",
       " 'Deforestation is a significant threat to the Amazon, with thousands of square kilometers lost each year due to agriculture, logging, and urbanization. This deforestation contributes to climate change, as the rainforest acts as a major carbon sink, absorbing millions of tons of carbon dioxide annually.',\n",
       " 'Indigenous tribes have lived in the Amazon for thousands of years, relying on its rich biodiversity for food, medicine, and shelter. These tribes have unique languages, traditions, and knowledge of the ecosystem. However, many face threats from illegal land encroachment and industrial activities.',\n",
       " 'Scientists believe that the Amazon plays a crucial role in global weather patterns by releasing water vapor into the atmosphere, which influences rainfall across South America and even other continents. The Amazon River, which flows through the rainforest, is the second longest river in the world and carries more water than any other river.',\n",
       " 'Efforts to protect the Amazon include international agreements, conservation programs, and sustainable development projects that aim to balance economic growth with environmental protection. Many organizations and governments are working to reduce illegal logging and promote reforestation initiatives.']"
      ]
     },
     "execution_count": 6,
     "metadata": {},
     "output_type": "execute_result"
    }
   ],
   "source": [
    "stored_texts"
   ]
  },
  {
   "cell_type": "code",
   "execution_count": 7,
   "metadata": {},
   "outputs": [
    {
     "name": "stdout",
     "output_type": "stream",
     "text": [
      "\n",
      "Sample Questions and Answers:\n",
      "\n",
      "Q: What is the Amazon rainforest?\n",
      "A: The Amazon rainforest is the largest tropical rainforest in the world, covering approximately 5.5 million square kilometers. It spans across nine countries, including Brazil, Peru, and Colombia. The rainforest is home to around 10% of the known species on Earth, including jaguars, sloths, and thousands of species of insects and birds.\n",
      "\n",
      "Q: Which countries does the Amazon span across?\n",
      "A: The Amazon rainforest is the largest tropical rainforest in the world, covering approximately 5.5 million square kilometers. It spans across nine countries, including Brazil, Peru, and Colombia. The rainforest is home to around 10% of the known species on Earth, including jaguars, sloths, and thousands of species of insects and birds.\n",
      "\n",
      "Q: Why is deforestation a problem in the Amazon?\n",
      "A: Deforestation is a significant threat to the Amazon, with thousands of square kilometers lost each year due to agriculture, logging, and urbanization. This deforestation contributes to climate change, as the rainforest acts as a major carbon sink, absorbing millions of tons of carbon dioxide annually.\n",
      "\n",
      "Q: How does the Amazon rainforest affect global weather patterns?\n",
      "A: Scientists believe that the Amazon plays a crucial role in global weather patterns by releasing water vapor into the atmosphere, which influences rainfall across South America and even other continents. The Amazon River, which flows through the rainforest, is the second longest river in the world and carries more water than any other river.\n",
      "\n",
      "Q: What role do indigenous tribes play in the Amazon?\n",
      "A: Indigenous tribes have lived in the Amazon for thousands of years, relying on its rich biodiversity for food, medicine, and shelter. These tribes have unique languages, traditions, and knowledge of the ecosystem. However, many face threats from illegal land encroachment and industrial activities.\n",
      "\n",
      "Q: What is the importance of the Amazon River?\n",
      "A: Scientists believe that the Amazon plays a crucial role in global weather patterns by releasing water vapor into the atmosphere, which influences rainfall across South America and even other continents. The Amazon River, which flows through the rainforest, is the second longest river in the world and carries more water than any other river.\n",
      "\n",
      "Q: What types of wildlife can be found in the Amazon?\n",
      "A: Indigenous tribes have lived in the Amazon for thousands of years, relying on its rich biodiversity for food, medicine, and shelter. These tribes have unique languages, traditions, and knowledge of the ecosystem. However, many face threats from illegal land encroachment and industrial activities.\n",
      "\n",
      "Q: How does deforestation contribute to climate change?\n",
      "A: Deforestation is a significant threat to the Amazon, with thousands of square kilometers lost each year due to agriculture, logging, and urbanization. This deforestation contributes to climate change, as the rainforest acts as a major carbon sink, absorbing millions of tons of carbon dioxide annually.\n",
      "\n",
      "Q: What efforts are being made to protect the Amazon?\n",
      "A: Efforts to protect the Amazon include international agreements, conservation programs, and sustainable development projects that aim to balance economic growth with environmental protection. Many organizations and governments are working to reduce illegal logging and promote reforestation initiatives.\n",
      "\n",
      "Q: Why is the Amazon considered a major carbon sink?\n",
      "A: Deforestation is a significant threat to the Amazon, with thousands of square kilometers lost each year due to agriculture, logging, and urbanization. This deforestation contributes to climate change, as the rainforest acts as a major carbon sink, absorbing millions of tons of carbon dioxide annually.\n",
      "\n"
     ]
    }
   ],
   "source": [
    "print(\"\\nSample Questions and Answers:\\n\")\n",
    "for question in questions:\n",
    "    response = answer_question(question)\n",
    "    print(f\"Q: {question}\\nA: {response}\\n\")\n"
   ]
  },
  {
   "cell_type": "markdown",
   "metadata": {},
   "source": [
    "The result shows that paragraph chunking returns rather large chunks. For example, the answer for \"What is the Amazon rainforest?\" and \"Which countries does the Amazon span across?\" is identical because both questions trigger the retrieval of the entire paragraph covering multiple details. This indicates that while paragraph-level chunks preserve context, they may sometimes be too broad and include more information than necessary for very specific questions."
   ]
  },
  {
   "cell_type": "markdown",
   "metadata": {},
   "source": [
    "### 2. Try different types of chunking to get better answers?"
   ]
  },
  {
   "cell_type": "markdown",
   "metadata": {},
   "source": [
    "Lets try with sentences chucking"
   ]
  },
  {
   "cell_type": "code",
   "execution_count": 8,
   "metadata": {},
   "outputs": [],
   "source": [
    "# Function to split text into meaningful chunks (sentences)\n",
    "def split_text_sentences(text):\n",
    "    sentences = re.split(r'(?<!\\w\\.\\w.)(?<![A-Z][a-z]\\.)(?<=\\.|\\?)\\s', text)\n",
    "    return [sentence.strip() for sentence in sentences if sentence.strip()]"
   ]
  },
  {
   "cell_type": "code",
   "execution_count": 9,
   "metadata": {},
   "outputs": [],
   "source": [
    "stored_texts = split_text_sentences(sample_text)\n",
    "stored_embeddings = model.encode(stored_texts, convert_to_numpy=True)"
   ]
  },
  {
   "cell_type": "code",
   "execution_count": 10,
   "metadata": {},
   "outputs": [
    {
     "data": {
      "text/plain": [
       "['The Amazon rainforest is the largest tropical rainforest in the world, covering approximately 5.5 million square kilometers.',\n",
       " 'It spans across nine countries, including Brazil, Peru, and Colombia.',\n",
       " 'The rainforest is home to around 10% of the known species on Earth, including jaguars, sloths, and thousands of species of insects and birds.',\n",
       " 'Deforestation is a significant threat to the Amazon, with thousands of square kilometers lost each year due to agriculture, logging, and urbanization.',\n",
       " 'This deforestation contributes to climate change, as the rainforest acts as a major carbon sink, absorbing millions of tons of carbon dioxide annually.',\n",
       " 'Indigenous tribes have lived in the Amazon for thousands of years, relying on its rich biodiversity for food, medicine, and shelter.',\n",
       " 'These tribes have unique languages, traditions, and knowledge of the ecosystem.',\n",
       " 'However, many face threats from illegal land encroachment and industrial activities.',\n",
       " 'Scientists believe that the Amazon plays a crucial role in global weather patterns by releasing water vapor into the atmosphere, which influences rainfall across South America and even other continents.',\n",
       " 'The Amazon River, which flows through the rainforest, is the second longest river in the world and carries more water than any other river.',\n",
       " 'Efforts to protect the Amazon include international agreements, conservation programs, and sustainable development projects that aim to balance economic growth with environmental protection.',\n",
       " 'Many organizations and governments are working to reduce illegal logging and promote reforestation initiatives.']"
      ]
     },
     "execution_count": 10,
     "metadata": {},
     "output_type": "execute_result"
    }
   ],
   "source": [
    "#print entire in stored text\n",
    "stored_texts   \n"
   ]
  },
  {
   "cell_type": "code",
   "execution_count": 11,
   "metadata": {},
   "outputs": [
    {
     "name": "stdout",
     "output_type": "stream",
     "text": [
      "\n",
      "Sentence-Level Chunking Results:\n",
      "\n",
      "Q: What is the Amazon rainforest?\n",
      "A: The Amazon rainforest is the largest tropical rainforest in the world, covering approximately 5.5 million square kilometers.\n",
      "\n",
      "Q: Which countries does the Amazon span across?\n",
      "A: It spans across nine countries, including Brazil, Peru, and Colombia.\n",
      "\n",
      "Q: Why is deforestation a problem in the Amazon?\n",
      "A: Deforestation is a significant threat to the Amazon, with thousands of square kilometers lost each year due to agriculture, logging, and urbanization.\n",
      "\n",
      "Q: How does the Amazon rainforest affect global weather patterns?\n",
      "A: Scientists believe that the Amazon plays a crucial role in global weather patterns by releasing water vapor into the atmosphere, which influences rainfall across South America and even other continents.\n",
      "\n",
      "Q: What role do indigenous tribes play in the Amazon?\n",
      "A: Indigenous tribes have lived in the Amazon for thousands of years, relying on its rich biodiversity for food, medicine, and shelter.\n",
      "\n",
      "Q: What is the importance of the Amazon River?\n",
      "A: The Amazon River, which flows through the rainforest, is the second longest river in the world and carries more water than any other river.\n",
      "\n",
      "Q: What types of wildlife can be found in the Amazon?\n",
      "A: Indigenous tribes have lived in the Amazon for thousands of years, relying on its rich biodiversity for food, medicine, and shelter.\n",
      "\n",
      "Q: How does deforestation contribute to climate change?\n",
      "A: This deforestation contributes to climate change, as the rainforest acts as a major carbon sink, absorbing millions of tons of carbon dioxide annually.\n",
      "\n",
      "Q: What efforts are being made to protect the Amazon?\n",
      "A: Efforts to protect the Amazon include international agreements, conservation programs, and sustainable development projects that aim to balance economic growth with environmental protection.\n",
      "\n",
      "Q: Why is the Amazon considered a major carbon sink?\n",
      "A: This deforestation contributes to climate change, as the rainforest acts as a major carbon sink, absorbing millions of tons of carbon dioxide annually.\n",
      "\n"
     ]
    }
   ],
   "source": [
    "print(\"\\nSentence-Level Chunking Results:\\n\")\n",
    "for question in questions:\n",
    "    response = answer_question(question)\n",
    "    print(f\"Q: {question}\\nA: {response}\\n\")"
   ]
  },
  {
   "cell_type": "markdown",
   "metadata": {},
   "source": [
    "The sentence-level chunking results look much more targeted. Instead of returning an entire paragraph, you're now getting a single sentence that directly answers each question. For example, for \"What is the Amazon rainforest? the answer is now just:\n",
    "\n",
    "The Amazon rainforest is the largest tropical rainforest in the world, covering approximately 5.5 million square kilometers.\"\n",
    "\n",
    "This more focused output can be preferable when you need concise answers."
   ]
  },
  {
   "cell_type": "code",
   "execution_count": 12,
   "metadata": {},
   "outputs": [],
   "source": [
    "def split_text_sliding(text, window_size=3, step=1):\n",
    "    # Split text into sentences\n",
    "    sentences = re.split(r'(?<=[.!?])\\s+', text.strip())\n",
    "    chunks = []\n",
    "    # Create overlapping chunks using a sliding window\n",
    "    for i in range(0, len(sentences) - window_size + 1, step):\n",
    "        chunk = \" \".join(sentences[i:i + window_size])\n",
    "        chunks.append(chunk)\n",
    "    return chunks\n",
    "\n"
   ]
  },
  {
   "cell_type": "code",
   "execution_count": 13,
   "metadata": {},
   "outputs": [],
   "source": [
    "stored_texts = split_text_sliding(sample_text, window_size=3, step=1)\n",
    "stored_embeddings = model.encode(stored_texts, convert_to_numpy=True)\n"
   ]
  },
  {
   "cell_type": "code",
   "execution_count": 14,
   "metadata": {},
   "outputs": [
    {
     "data": {
      "text/plain": [
       "['The Amazon rainforest is the largest tropical rainforest in the world, covering approximately 5.5 million square kilometers. It spans across nine countries, including Brazil, Peru, and Colombia. The rainforest is home to around 10% of the known species on Earth, including jaguars, sloths, and thousands of species of insects and birds.',\n",
       " 'It spans across nine countries, including Brazil, Peru, and Colombia. The rainforest is home to around 10% of the known species on Earth, including jaguars, sloths, and thousands of species of insects and birds. Deforestation is a significant threat to the Amazon, with thousands of square kilometers lost each year due to agriculture, logging, and urbanization.',\n",
       " 'The rainforest is home to around 10% of the known species on Earth, including jaguars, sloths, and thousands of species of insects and birds. Deforestation is a significant threat to the Amazon, with thousands of square kilometers lost each year due to agriculture, logging, and urbanization. This deforestation contributes to climate change, as the rainforest acts as a major carbon sink, absorbing millions of tons of carbon dioxide annually.',\n",
       " 'Deforestation is a significant threat to the Amazon, with thousands of square kilometers lost each year due to agriculture, logging, and urbanization. This deforestation contributes to climate change, as the rainforest acts as a major carbon sink, absorbing millions of tons of carbon dioxide annually. Indigenous tribes have lived in the Amazon for thousands of years, relying on its rich biodiversity for food, medicine, and shelter.',\n",
       " 'This deforestation contributes to climate change, as the rainforest acts as a major carbon sink, absorbing millions of tons of carbon dioxide annually. Indigenous tribes have lived in the Amazon for thousands of years, relying on its rich biodiversity for food, medicine, and shelter. These tribes have unique languages, traditions, and knowledge of the ecosystem.',\n",
       " 'Indigenous tribes have lived in the Amazon for thousands of years, relying on its rich biodiversity for food, medicine, and shelter. These tribes have unique languages, traditions, and knowledge of the ecosystem. However, many face threats from illegal land encroachment and industrial activities.',\n",
       " 'These tribes have unique languages, traditions, and knowledge of the ecosystem. However, many face threats from illegal land encroachment and industrial activities. Scientists believe that the Amazon plays a crucial role in global weather patterns by releasing water vapor into the atmosphere, which influences rainfall across South America and even other continents.',\n",
       " 'However, many face threats from illegal land encroachment and industrial activities. Scientists believe that the Amazon plays a crucial role in global weather patterns by releasing water vapor into the atmosphere, which influences rainfall across South America and even other continents. The Amazon River, which flows through the rainforest, is the second longest river in the world and carries more water than any other river.',\n",
       " 'Scientists believe that the Amazon plays a crucial role in global weather patterns by releasing water vapor into the atmosphere, which influences rainfall across South America and even other continents. The Amazon River, which flows through the rainforest, is the second longest river in the world and carries more water than any other river. Efforts to protect the Amazon include international agreements, conservation programs, and sustainable development projects that aim to balance economic growth with environmental protection.',\n",
       " 'The Amazon River, which flows through the rainforest, is the second longest river in the world and carries more water than any other river. Efforts to protect the Amazon include international agreements, conservation programs, and sustainable development projects that aim to balance economic growth with environmental protection. Many organizations and governments are working to reduce illegal logging and promote reforestation initiatives.']"
      ]
     },
     "execution_count": 14,
     "metadata": {},
     "output_type": "execute_result"
    }
   ],
   "source": [
    "stored_texts"
   ]
  },
  {
   "cell_type": "code",
   "execution_count": 15,
   "metadata": {},
   "outputs": [
    {
     "name": "stdout",
     "output_type": "stream",
     "text": [
      "\n",
      "Sliding Window Chunking Results:\n",
      "\n",
      "Q: What is the Amazon rainforest?\n",
      "A: The Amazon rainforest is the largest tropical rainforest in the world, covering approximately 5.5 million square kilometers. It spans across nine countries, including Brazil, Peru, and Colombia. The rainforest is home to around 10% of the known species on Earth, including jaguars, sloths, and thousands of species of insects and birds.\n",
      "\n",
      "Q: Which countries does the Amazon span across?\n",
      "A: It spans across nine countries, including Brazil, Peru, and Colombia. The rainforest is home to around 10% of the known species on Earth, including jaguars, sloths, and thousands of species of insects and birds. Deforestation is a significant threat to the Amazon, with thousands of square kilometers lost each year due to agriculture, logging, and urbanization.\n",
      "\n",
      "Q: Why is deforestation a problem in the Amazon?\n",
      "A: Deforestation is a significant threat to the Amazon, with thousands of square kilometers lost each year due to agriculture, logging, and urbanization. This deforestation contributes to climate change, as the rainforest acts as a major carbon sink, absorbing millions of tons of carbon dioxide annually. Indigenous tribes have lived in the Amazon for thousands of years, relying on its rich biodiversity for food, medicine, and shelter.\n",
      "\n",
      "Q: How does the Amazon rainforest affect global weather patterns?\n",
      "A: These tribes have unique languages, traditions, and knowledge of the ecosystem. However, many face threats from illegal land encroachment and industrial activities. Scientists believe that the Amazon plays a crucial role in global weather patterns by releasing water vapor into the atmosphere, which influences rainfall across South America and even other continents.\n",
      "\n",
      "Q: What role do indigenous tribes play in the Amazon?\n",
      "A: Indigenous tribes have lived in the Amazon for thousands of years, relying on its rich biodiversity for food, medicine, and shelter. These tribes have unique languages, traditions, and knowledge of the ecosystem. However, many face threats from illegal land encroachment and industrial activities.\n",
      "\n",
      "Q: What is the importance of the Amazon River?\n",
      "A: The Amazon River, which flows through the rainforest, is the second longest river in the world and carries more water than any other river. Efforts to protect the Amazon include international agreements, conservation programs, and sustainable development projects that aim to balance economic growth with environmental protection. Many organizations and governments are working to reduce illegal logging and promote reforestation initiatives.\n",
      "\n",
      "Q: What types of wildlife can be found in the Amazon?\n",
      "A: It spans across nine countries, including Brazil, Peru, and Colombia. The rainforest is home to around 10% of the known species on Earth, including jaguars, sloths, and thousands of species of insects and birds. Deforestation is a significant threat to the Amazon, with thousands of square kilometers lost each year due to agriculture, logging, and urbanization.\n",
      "\n",
      "Q: How does deforestation contribute to climate change?\n",
      "A: Deforestation is a significant threat to the Amazon, with thousands of square kilometers lost each year due to agriculture, logging, and urbanization. This deforestation contributes to climate change, as the rainforest acts as a major carbon sink, absorbing millions of tons of carbon dioxide annually. Indigenous tribes have lived in the Amazon for thousands of years, relying on its rich biodiversity for food, medicine, and shelter.\n",
      "\n",
      "Q: What efforts are being made to protect the Amazon?\n",
      "A: These tribes have unique languages, traditions, and knowledge of the ecosystem. However, many face threats from illegal land encroachment and industrial activities. Scientists believe that the Amazon plays a crucial role in global weather patterns by releasing water vapor into the atmosphere, which influences rainfall across South America and even other continents.\n",
      "\n",
      "Q: Why is the Amazon considered a major carbon sink?\n",
      "A: This deforestation contributes to climate change, as the rainforest acts as a major carbon sink, absorbing millions of tons of carbon dioxide annually. Indigenous tribes have lived in the Amazon for thousands of years, relying on its rich biodiversity for food, medicine, and shelter. These tribes have unique languages, traditions, and knowledge of the ecosystem.\n",
      "\n"
     ]
    }
   ],
   "source": [
    "print(\"\\nSliding Window Chunking Results:\\n\")\n",
    "for question in questions:\n",
    "    response = answer_question(question)\n",
    "    print(f\"Q: {question}\\nA: {response}\\n\")"
   ]
  },
  {
   "cell_type": "markdown",
   "metadata": {},
   "source": [
    "the sliding window results indicate that while overlapping chunks can preserve context across sentence boundaries, they may sometimes include extra or even unrelated details. For instance, for the question “How does the Amazon rainforest affect global weather patterns?”, the retrieved chunk begins in one context (indigenous tribes) and then includes information about the rainforest’s role in weather. This happens because the sliding window (e.g., a window of 3 sentences with an overlap) captures multiple sentences at once, and if the window is too large or the step size is too small, you might end up with chunks that mix several topics.\n",
    "\n",
    "In summary:\n",
    "\n",
    "Pros:\n",
    "\n",
    "Sliding window chunking preserves context between adjacent sentences.\n",
    "It can help capture information that spans multiple sentences.\n",
    "\n",
    "Cons:\n",
    "\n",
    "It may include extra details that are not directly relevant to the question.\n",
    "If the window size is too large, the retrieved chunk may become less focused.\n"
   ]
  },
  {
   "cell_type": "markdown",
   "metadata": {},
   "source": [
    "### 3. Does asking questions differently give better answers? Why?"
   ]
  },
  {
   "cell_type": "markdown",
   "metadata": {},
   "source": [
    "Lets try this with our sentence chucking and the question \n",
    "Q: What types of wildlife can be found in the Amazon?\n",
    "that had the aswear:\n",
    "A: Indigenous tribes have lived in the Amazon for thousands of years, relying on its rich biodiversity for food, medicine, and shelter.\n"
   ]
  },
  {
   "cell_type": "code",
   "execution_count": 16,
   "metadata": {},
   "outputs": [],
   "source": [
    "stored_texts = split_text_sentences(sample_text)\n",
    "stored_embeddings = model.encode(stored_texts, convert_to_numpy=True)"
   ]
  },
  {
   "cell_type": "code",
   "execution_count": 17,
   "metadata": {},
   "outputs": [
    {
     "name": "stdout",
     "output_type": "stream",
     "text": [
      "Original Question:\n",
      "Q: What types of wildlife can be found in the Amazon?\n",
      "A: Indigenous tribes have lived in the Amazon for thousands of years, relying on its rich biodiversity for food, medicine, and shelter. \n",
      "\n",
      "Alternative Phrasing 1:\n",
      "Q: Which animals and insects inhabit the Amazon rainforest?\n",
      "A: The rainforest is home to around 10% of the known species on Earth, including jaguars, sloths, and thousands of species of insects and birds. \n",
      "\n"
     ]
    }
   ],
   "source": [
    "# Define the original question and a couple of rephrasings\n",
    "question_original = \"What types of wildlife can be found in the Amazon?\"\n",
    "question_alt1 = \"Which animals and insects inhabit the Amazon rainforest?\"\n",
    "\n",
    "\n",
    "# Retrieve answers using your existing answer_question function\n",
    "answer_original = answer_question(question_original)\n",
    "answer_alt1 = answer_question(question_alt1)\n",
    "\n",
    "print(\"Original Question:\")\n",
    "print(\"Q:\", question_original)\n",
    "print(\"A:\", answer_original, \"\\n\")\n",
    "\n",
    "print(\"Alternative Phrasing 1:\")\n",
    "print(\"Q:\", question_alt1)\n",
    "print(\"A:\", answer_alt1, \"\\n\")\n"
   ]
  },
  {
   "cell_type": "markdown",
   "metadata": {},
   "source": [
    "I noticed that changing the way you ask a question can really change the answer you get from the system. For example, when I asked \"What types of wildlife can be found in the Amazon?\" I got an answer about indigenous tribes. But when I rephrased it to \"Which animals and insects inhabit the Amazon rainforest?\" I got a response that listed jaguars, sloths, and insects. Basically, even small tweaks in the wording change the embedding the model uses, which then changes what text it finds most similar. This shows that rephrasing your question can help get a more accurate or relevant answer."
   ]
  },
  {
   "cell_type": "markdown",
   "metadata": {},
   "source": [
    "### 4. Try a different similarity search instead of cosine similarity - do the answers improve?"
   ]
  },
  {
   "cell_type": "code",
   "execution_count": 18,
   "metadata": {},
   "outputs": [
    {
     "name": "stdout",
     "output_type": "stream",
     "text": [
      "\n",
      "Sentence-Level Chunking with Euclidean Distance Results:\n",
      "\n",
      "Q: What is the Amazon rainforest?\n",
      "A: The Amazon rainforest is the largest tropical rainforest in the world, covering approximately 5.5 million square kilometers.\n",
      "\n",
      "Q: Which countries does the Amazon span across?\n",
      "A: It spans across nine countries, including Brazil, Peru, and Colombia.\n",
      "\n",
      "Q: Why is deforestation a problem in the Amazon?\n",
      "A: Deforestation is a significant threat to the Amazon, with thousands of square kilometers lost each year due to agriculture, logging, and urbanization.\n",
      "\n",
      "Q: How does the Amazon rainforest affect global weather patterns?\n",
      "A: Scientists believe that the Amazon plays a crucial role in global weather patterns by releasing water vapor into the atmosphere, which influences rainfall across South America and even other continents.\n",
      "\n",
      "Q: What role do indigenous tribes play in the Amazon?\n",
      "A: Indigenous tribes have lived in the Amazon for thousands of years, relying on its rich biodiversity for food, medicine, and shelter.\n",
      "\n",
      "Q: What is the importance of the Amazon River?\n",
      "A: The Amazon River, which flows through the rainforest, is the second longest river in the world and carries more water than any other river.\n",
      "\n",
      "Q: What types of wildlife can be found in the Amazon?\n",
      "A: Indigenous tribes have lived in the Amazon for thousands of years, relying on its rich biodiversity for food, medicine, and shelter.\n",
      "\n",
      "Q: How does deforestation contribute to climate change?\n",
      "A: This deforestation contributes to climate change, as the rainforest acts as a major carbon sink, absorbing millions of tons of carbon dioxide annually.\n",
      "\n",
      "Q: What efforts are being made to protect the Amazon?\n",
      "A: Efforts to protect the Amazon include international agreements, conservation programs, and sustainable development projects that aim to balance economic growth with environmental protection.\n",
      "\n",
      "Q: Why is the Amazon considered a major carbon sink?\n",
      "A: This deforestation contributes to climate change, as the rainforest acts as a major carbon sink, absorbing millions of tons of carbon dioxide annually.\n",
      "\n"
     ]
    }
   ],
   "source": [
    "\n",
    "\n",
    "# Alternative retrieval function using Euclidean distance\n",
    "def retrieve_passage_euclidean(query):\n",
    "    # Get the embedding for the query\n",
    "    query_embedding = model.encode([query], convert_to_numpy=True)\n",
    "    # Compute Euclidean distances between the query and each stored embedding\n",
    "    distances = pairwise_distances(query_embedding, stored_embeddings, metric='euclidean')[0]\n",
    "    # Lower distance indicates higher similarity; find the index with the smallest distance\n",
    "    best_match_idx = np.argmin(distances)\n",
    "    return stored_texts[best_match_idx]\n",
    "\n",
    "# Define a new function to answer questions using Euclidean similarity\n",
    "def answer_question_euclidean(query):\n",
    "    return retrieve_passage_euclidean(query)\n",
    "\n",
    "# Now compare answers using Euclidean distance for our list of questions\n",
    "print(\"\\nSentence-Level Chunking with Euclidean Distance Results:\\n\")\n",
    "for question in questions:\n",
    "    response = answer_question_euclidean(question)\n",
    "    print(f\"Q: {question}\\nA: {response}\\n\")\n"
   ]
  }
 ],
 "metadata": {
  "kernelspec": {
   "display_name": "Python 3",
   "language": "python",
   "name": "python3"
  },
  "language_info": {
   "codemirror_mode": {
    "name": "ipython",
    "version": 3
   },
   "file_extension": ".py",
   "mimetype": "text/x-python",
   "name": "python",
   "nbconvert_exporter": "python",
   "pygments_lexer": "ipython3",
   "version": "3.13.2"
  }
 },
 "nbformat": 4,
 "nbformat_minor": 2
}
