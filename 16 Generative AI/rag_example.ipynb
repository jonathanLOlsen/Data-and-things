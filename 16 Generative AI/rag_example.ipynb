{
 "cells": [
  {
   "cell_type": "code",
   "execution_count": 14,
   "metadata": {},
   "outputs": [],
   "source": [
    "import numpy as np\n",
    "from sentence_transformers import SentenceTransformer\n",
    "from sklearn.metrics.pairwise import cosine_similarity\n",
    "import re"
   ]
  },
  {
   "cell_type": "code",
   "execution_count": 15,
   "metadata": {},
   "outputs": [],
   "source": [
    "# Load Sentence Transformer Model\n",
    "MODEL_NAME = \"sentence-transformers/all-MiniLM-L6-v2\"\n",
    "model = SentenceTransformer(MODEL_NAME)\n",
    "\n",
    "# Sample text (Embedded directly in the notebook)\n",
    "sample_text = \"\"\"\n",
    "The Eiffel Tower is one of the most recognizable landmarks in the world. It is located in Paris, France, and was constructed between 1887 and 1889. Designed by Gustave Eiffel, the tower stands at 330 meters tall and was originally built as the entrance arch for the 1889 World's Fair.\n",
    "\n",
    "Over the years, the Eiffel Tower has become a symbol of France and attracts millions of tourists annually. It was initially criticized by many artists and intellectuals, but today it is considered an architectural marvel.\n",
    "\n",
    "The tower consists of three levels that visitors can access, with restaurants and observation decks offering panoramic views of Paris. The structure is repainted every seven years to protect it from rust, using about 60 tons of paint each time.\n",
    "\n",
    "At night, the Eiffel Tower is illuminated with thousands of sparkling lights, making it one of the most breathtaking sights in the city. The lights were first installed in 1985 and have since become an integral part of the tower's charm.\n",
    "\"\"\"\n"
   ]
  },
  {
   "cell_type": "code",
   "execution_count": null,
   "metadata": {},
   "outputs": [],
   "source": [
    "# Function to split text into meaningful chunks (paragraphs)\n",
    "def split_text(text):\n",
    "    return [para.strip() for para in re.split(\"\\n+\", text) if para.strip()]\n",
    "\n",
    "# Store document embeddings\n",
    "stored_texts = split_text(sample_text)  # Store each paragraph separately\n",
    "stored_embeddings = model.encode(stored_texts, convert_to_numpy=True)  # Store embeddings for each chunk"
   ]
  },
  {
   "cell_type": "code",
   "execution_count": 18,
   "metadata": {},
   "outputs": [],
   "source": [
    "#Alternative form of chunking\n",
    "\n",
    "# Function to split text into meaningful chunks (sentences)\n",
    "def split_text(text):\n",
    "    sentences = re.split(r'(?<!\\w\\.\\w.)(?<![A-Z][a-z]\\.)(?<=\\.|\\?)\\s', text)\n",
    "    return [sentence.strip() for sentence in sentences if sentence.strip()]\n",
    "\n",
    "# Store document embeddings\n",
    "stored_texts = split_text(sample_text)  # Store each sentence separately\n",
    "stored_embeddings = model.encode(stored_texts, convert_to_numpy=True)  # Store embeddings for each chunk\n"
   ]
  },
  {
   "cell_type": "code",
   "execution_count": 22,
   "metadata": {},
   "outputs": [
    {
     "data": {
      "text/plain": [
       "['The Eiffel Tower is one of the most recognizable landmarks in the world.',\n",
       " 'It is located in Paris, France, and was constructed between 1887 and 1889.',\n",
       " \"Designed by Gustave Eiffel, the tower stands at 330 meters tall and was originally built as the entrance arch for the 1889 World's Fair.\",\n",
       " 'Over the years, the Eiffel Tower has become a symbol of France and attracts millions of tourists annually.',\n",
       " 'It was initially criticized by many artists and intellectuals, but today it is considered an architectural marvel.',\n",
       " 'The tower consists of three levels that visitors can access, with restaurants and observation decks offering panoramic views of Paris.',\n",
       " 'The structure is repainted every seven years to protect it from rust, using about 60 tons of paint each time.',\n",
       " 'At night, the Eiffel Tower is illuminated with thousands of sparkling lights, making it one of the most breathtaking sights in the city.',\n",
       " \"The lights were first installed in 1985 and have since become an integral part of the tower's charm.\"]"
      ]
     },
     "execution_count": 22,
     "metadata": {},
     "output_type": "execute_result"
    }
   ],
   "source": [
    "stored_texts"
   ]
  },
  {
   "cell_type": "code",
   "execution_count": 19,
   "metadata": {},
   "outputs": [],
   "source": [
    "# Function to generate embeddings\n",
    "def get_transformer_embeddings(texts):\n",
    "    return model.encode(texts, convert_to_numpy=True)\n",
    "\n",
    "# Function to retrieve relevant passage\n",
    "def retrieve_passage(query):\n",
    "    query_embedding = get_transformer_embeddings([query])\n",
    "    similarities = cosine_similarity(query_embedding, stored_embeddings)[0]  # Ensure correct shape\n",
    "    best_match_idx = np.argmax(similarities)\n",
    "    return stored_texts[best_match_idx]\n",
    "\n",
    "# Function to answer questions based on stored content\n",
    "def answer_question(query):\n",
    "    relevant_passage = retrieve_passage(query)\n",
    "    return relevant_passage"
   ]
  },
  {
   "cell_type": "code",
   "execution_count": 24,
   "metadata": {},
   "outputs": [
    {
     "name": "stdout",
     "output_type": "stream",
     "text": [
      "\n",
      "Sample Questions and Answers:\n",
      "\n",
      "Q: In which city is it and which year was it constructed?\n",
      "A: It is located in Paris, France, and was constructed between 1887 and 1889.\n",
      "\n",
      "Q: Which architect designed the Eiffel Tower?\n",
      "A: The Eiffel Tower is one of the most recognizable landmarks in the world.\n",
      "\n",
      "Q: Why was the Eiffel Tower initially built?\n",
      "A: The Eiffel Tower is one of the most recognizable landmarks in the world.\n",
      "\n",
      "Q: How often is the Eiffel Tower repainted?\n",
      "A: The structure is repainted every seven years to protect it from rust, using about 60 tons of paint each time.\n",
      "\n",
      "Q: What happens to the Eiffel Tower at night?\n",
      "A: At night, the Eiffel Tower is illuminated with thousands of sparkling lights, making it one of the most breathtaking sights in the city.\n",
      "\n"
     ]
    }
   ],
   "source": [
    "# Sample Questions and Answers\n",
    "questions = [\n",
    "    \"In which city is it and which year was it constructed?\",\n",
    "    \"Which architect designed the Eiffel Tower?\",\n",
    "    \"Why was the Eiffel Tower initially built?\",\n",
    "    \"How often is the Eiffel Tower repainted?\",\n",
    "    \"What happens to the Eiffel Tower at night?\"\n",
    "]\n",
    "\n",
    "print(\"\\nSample Questions and Answers:\\n\")\n",
    "for question in questions:\n",
    "    response = answer_question(question)\n",
    "    print(f\"Q: {question}\\nA: {response}\\n\")\n",
    "\n"
   ]
  },
  {
   "cell_type": "code",
   "execution_count": null,
   "metadata": {},
   "outputs": [],
   "source": []
  }
 ],
 "metadata": {
  "kernelspec": {
   "display_name": "Python 3",
   "language": "python",
   "name": "python3"
  },
  "language_info": {
   "codemirror_mode": {
    "name": "ipython",
    "version": 3
   },
   "file_extension": ".py",
   "mimetype": "text/x-python",
   "name": "python",
   "nbconvert_exporter": "python",
   "pygments_lexer": "ipython3",
   "version": "3.12.3"
  }
 },
 "nbformat": 4,
 "nbformat_minor": 2
}
