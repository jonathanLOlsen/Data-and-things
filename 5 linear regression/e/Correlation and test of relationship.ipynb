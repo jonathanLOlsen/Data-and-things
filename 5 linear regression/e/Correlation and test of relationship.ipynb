{
 "cells": [
  {
   "cell_type": "markdown",
   "id": "44682b79-7daa-46e6-944a-40849e8229ef",
   "metadata": {},
   "source": [
    "# Correlation and test of relationship\n",
    "\n",
    "In this notebook, we briefly show how to visualize and test for correlation between two variables."
   ]
  },
  {
   "cell_type": "markdown",
   "id": "0ae20424-cc49-4d65-9036-bb0cde949319",
   "metadata": {},
   "source": [
    "First we import the standard packages"
   ]
  },
  {
   "cell_type": "code",
   "execution_count": null,
   "id": "fe46c6aa-4b4f-4aa4-9cc4-a48b76ece40a",
   "metadata": {},
   "outputs": [],
   "source": [
    "import numpy as np\n",
    "import pandas as pd\n",
    "from matplotlib import pyplot as plt\n",
    "import seaborn as sns\n",
    "from scipy import stats"
   ]
  },
  {
   "cell_type": "markdown",
   "id": "c01d31d9-1702-472c-a140-c6724bb125d6",
   "metadata": {},
   "source": [
    "Then we import some example data. In this case Google Analytics webdata about daily users and daily number of purchases in the webshop"
   ]
  },
  {
   "cell_type": "code",
   "execution_count": null,
   "id": "47dd1835-4882-4b70-9a90-b85232d43d74",
   "metadata": {},
   "outputs": [],
   "source": [
    "webdata = pd.read_excel(\"GA users and convertions.xlsx\")"
   ]
  },
  {
   "cell_type": "code",
   "execution_count": null,
   "id": "1eb81017-7f92-4697-819d-20cfb54c7446",
   "metadata": {},
   "outputs": [],
   "source": [
    "webdata"
   ]
  },
  {
   "cell_type": "markdown",
   "id": "bd673298-0443-4841-b761-fa74a9f80b61",
   "metadata": {},
   "source": [
    "## Visualizing correlation between two numeric variables\n",
    "\n",
    "Thus visualize the correlation between two numeric variables, we use a scatterplot."
   ]
  },
  {
   "cell_type": "code",
   "execution_count": null,
   "id": "aff47a29-b9ef-437c-869d-f6b24c153ad1",
   "metadata": {},
   "outputs": [],
   "source": [
    "sns.scatterplot(data = webdata, x = \"Users\", y = \"PurchaseCompleted\")\n",
    "plt.title(\"Visualization of the correlation between users and purchases completed\")\n",
    "plt.savefig('corrplot.png')\n",
    "plt.show()"
   ]
  },
  {
   "cell_type": "markdown",
   "id": "7d151851-ae65-4f10-bcf7-5630485dbdec",
   "metadata": {},
   "source": [
    "## Correlation coefficient\n",
    "\n",
    "To calculate the (Pearson) correlation coefficient between two numeric variables we can either use the `.corr` method in pandas or the `pearsonr` from SciPy."
   ]
  },
  {
   "cell_type": "code",
   "execution_count": null,
   "id": "19b5b0f5-c9b5-467e-b84b-3c9de827f08f",
   "metadata": {},
   "outputs": [],
   "source": [
    "webdata[\"Users\"].corr(webdata[\"PurchaseCompleted\"])"
   ]
  },
  {
   "cell_type": "code",
   "execution_count": null,
   "id": "3972267d-7dbd-4be6-bffc-8a2300cb07e6",
   "metadata": {},
   "outputs": [],
   "source": [
    "stats.pearsonr(webdata[\"Users\"], webdata[\"PurchaseCompleted\"])"
   ]
  },
  {
   "cell_type": "markdown",
   "id": "56a2e2e2-64bc-4eb6-8193-b2ba4ca5325e",
   "metadata": {},
   "source": [
    "## Relationship between a numeric and a categorical variable\n",
    "\n",
    "To visualize the relationship, one can either do a histogram for each value of the categorical or boxplot."
   ]
  },
  {
   "cell_type": "markdown",
   "id": "68def78b-4010-4226-87c0-340d547709f7",
   "metadata": {},
   "source": [
    "We will use the adult dataset af example"
   ]
  },
  {
   "cell_type": "code",
   "execution_count": null,
   "id": "9182d34f-2b05-45a5-afc5-344522be02f7",
   "metadata": {},
   "outputs": [],
   "source": [
    "from ucimlrepo import fetch_ucirepo \n",
    "  \n",
    "adult_temp = fetch_ucirepo(id=2) \n",
    "  \n",
    "X = adult_temp.data.features \n",
    "y = adult_temp.data.targets \n",
    "X[\"income\"] = y\n",
    "adult = X\n",
    "\n",
    "adult.head()"
   ]
  },
  {
   "cell_type": "markdown",
   "id": "eb707147-2016-4de2-ad02-6b2d9b63b008",
   "metadata": {},
   "source": [
    "We look at the relationship between *sex* and *hours-per-week*. We can do both histograms and boxplots."
   ]
  },
  {
   "cell_type": "code",
   "execution_count": null,
   "id": "22fb3f7a-4056-4359-854b-e1da65ed5da5",
   "metadata": {},
   "outputs": [],
   "source": [
    "g=sns.FacetGrid(data = adult, row=\"sex\", height = 5)\n",
    "g.map(sns.histplot, \"hours-per-week\", bins = 12)\n",
    "plt.show()"
   ]
  },
  {
   "cell_type": "code",
   "execution_count": null,
   "id": "297bd944-1785-4257-ac35-584eb7080518",
   "metadata": {},
   "outputs": [],
   "source": [
    "sns.catplot(y=\"hours-per-week\", hue = \"sex\", data = adult, kind=\"box\", height = 7,\n",
    "            showmeans=True,\n",
    "            meanprops={\"marker\":\"X\", \"markerfacecolor\":\"white\", \"markeredgecolor\":\"black\", \"markersize\": \"10\"})\n",
    "plt.show()"
   ]
  },
  {
   "cell_type": "markdown",
   "id": "90ab2bf4-d777-48f1-866e-e2562615daaf",
   "metadata": {},
   "source": [
    "To test is the difference in hours-per-week is significant, we can use the tests from the statistics class such as the Sudent t-test or Mann-Whitney U test."
   ]
  },
  {
   "cell_type": "code",
   "execution_count": null,
   "id": "394881be-0ef0-4a6d-b6bf-421053d584bb",
   "metadata": {},
   "outputs": [],
   "source": [
    "stats.ttest_ind(adult[adult[\"sex\"]==\"Female\"][\"hours-per-week\"], adult[adult[\"sex\"]==\"Male\"][\"hours-per-week\"])"
   ]
  },
  {
   "cell_type": "code",
   "execution_count": null,
   "id": "239b1a84-17f5-43f5-8fa3-9db80851bedf",
   "metadata": {},
   "outputs": [],
   "source": [
    "stats.mannwhitneyu(adult[adult[\"sex\"]==\"Female\"][\"hours-per-week\"], adult[adult[\"sex\"]==\"Male\"][\"hours-per-week\"])"
   ]
  },
  {
   "cell_type": "markdown",
   "id": "02935af2-be39-48ef-9775-c5d3f7672172",
   "metadata": {},
   "source": [
    "## Relationship between two categorical variables\n",
    "\n",
    "For visualizing the relationship we can use a mosaic plot."
   ]
  },
  {
   "cell_type": "code",
   "execution_count": null,
   "id": "facdaba7-cf2d-4a56-97b5-940b975c131e",
   "metadata": {},
   "outputs": [],
   "source": [
    "from statsmodels.graphics.mosaicplot import mosaic\n",
    "\n",
    "mosaic(adult, [\"sex\", \"income\"])\n",
    "plt.show()"
   ]
  },
  {
   "cell_type": "markdown",
   "id": "9262c6bf-d038-44c2-90da-68ea204a2c82",
   "metadata": {},
   "source": [
    "It seems that there is something strange with the *income* variable..."
   ]
  },
  {
   "cell_type": "code",
   "execution_count": null,
   "id": "e8bd7c26-eb93-44d8-940d-721751aa2c7a",
   "metadata": {},
   "outputs": [],
   "source": [
    "adult[\"income\"].groupby(adult[\"income\"]).count()"
   ]
  },
  {
   "cell_type": "markdown",
   "id": "5678b765-85aa-403e-8897-a20678ee78c7",
   "metadata": {},
   "source": [
    "It seems like there are \"<=50k.\" that should be \"<=50k\" and \">50k.\" that should be \">50k\". Thus we can fix it by just replacing \".\" with nothing in the *income* column."
   ]
  },
  {
   "cell_type": "code",
   "execution_count": null,
   "id": "8d837f83-d140-497d-98f6-3b6f1ea61cff",
   "metadata": {},
   "outputs": [],
   "source": [
    "adult['income'] = adult['income'].str.replace('.','')"
   ]
  },
  {
   "cell_type": "code",
   "execution_count": null,
   "id": "01be3f76-534e-4696-b6d6-459941f536d0",
   "metadata": {},
   "outputs": [],
   "source": [
    "adult[\"income\"].groupby(adult[\"income\"]).count()"
   ]
  },
  {
   "cell_type": "code",
   "execution_count": null,
   "id": "9a6654c3-9c6d-4a59-8722-7f8c5f885c2b",
   "metadata": {},
   "outputs": [],
   "source": [
    "mosaic(adult, [\"sex\", \"income\"])\n",
    "plt.show()"
   ]
  },
  {
   "cell_type": "markdown",
   "id": "5a593714-169a-4c66-af95-03379ba6757d",
   "metadata": {},
   "source": [
    "We can get the numbers of each combined group by the pandas cross table"
   ]
  },
  {
   "cell_type": "code",
   "execution_count": null,
   "id": "1842bf62-81e0-46c5-8a7c-f584e36125b7",
   "metadata": {},
   "outputs": [],
   "source": [
    "pd.crosstab(adult[\"sex\"], adult[\"income\"])"
   ]
  },
  {
   "cell_type": "markdown",
   "id": "ba96cc92-416f-4520-b0ea-481145979913",
   "metadata": {},
   "source": [
    "Since there are plenty of individuals in all combined groups, we can use the Chi-squared test to test for whether there is a statistically significant relationship between the two categorical variables. (If there were a combined group with less than 5 individuals, one should use the Fisher's Exact test instead.)"
   ]
  },
  {
   "cell_type": "code",
   "execution_count": null,
   "id": "9024197d-fa32-4aa3-837a-3402996f7c6b",
   "metadata": {},
   "outputs": [],
   "source": [
    "stats.chi2_contingency(pd.crosstab(adult[\"sex\"], adult[\"income\"]))"
   ]
  },
  {
   "cell_type": "markdown",
   "id": "c5ca1f1c-9292-4491-8ac1-355a4da22628",
   "metadata": {},
   "source": [
    "As the p-value is well below our significance level of 0.05, we reject the null hypothesis that there is no relationship between the two groups. Thus, we have statistical significant support for there being a diffence in income across different genders."
   ]
  },
  {
   "cell_type": "code",
   "execution_count": null,
   "id": "b3d87ed3-41ab-45fe-a3bc-3957bc99da43",
   "metadata": {},
   "outputs": [],
   "source": []
  }
 ],
 "metadata": {
  "kernelspec": {
   "display_name": "Python 3 (ipykernel)",
   "language": "python",
   "name": "python3"
  },
  "language_info": {
   "codemirror_mode": {
    "name": "ipython",
    "version": 3
   },
   "file_extension": ".py",
   "mimetype": "text/x-python",
   "name": "python",
   "nbconvert_exporter": "python",
   "pygments_lexer": "ipython3",
   "version": "3.12.8"
  }
 },
 "nbformat": 4,
 "nbformat_minor": 5
}
