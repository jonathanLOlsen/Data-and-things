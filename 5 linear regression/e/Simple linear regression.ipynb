{
 "cells": [
  {
   "cell_type": "markdown",
   "id": "44682b79-7daa-46e6-944a-40849e8229ef",
   "metadata": {},
   "source": [
    "# Simple linear regression\n",
    "\n",
    "In this notebook, we take a closer look at simple linear regression"
   ]
  },
  {
   "cell_type": "markdown",
   "id": "0ae20424-cc49-4d65-9036-bb0cde949319",
   "metadata": {},
   "source": [
    "First we import the standard packages"
   ]
  },
  {
   "cell_type": "code",
   "execution_count": null,
   "id": "fe46c6aa-4b4f-4aa4-9cc4-a48b76ece40a",
   "metadata": {},
   "outputs": [],
   "source": [
    "import numpy as np\n",
    "import pandas as pd\n",
    "from matplotlib import pyplot as plt\n",
    "import seaborn as sns\n",
    "from scipy import stats"
   ]
  },
  {
   "cell_type": "markdown",
   "id": "c01d31d9-1702-472c-a140-c6724bb125d6",
   "metadata": {},
   "source": [
    "Then we import some example data. In this case Google Analytics webdata about daily users and daily number of purchases in the webshop"
   ]
  },
  {
   "cell_type": "code",
   "execution_count": null,
   "id": "47dd1835-4882-4b70-9a90-b85232d43d74",
   "metadata": {},
   "outputs": [],
   "source": [
    "webdata = pd.read_excel(\"GA users and convertions.xlsx\")"
   ]
  },
  {
   "cell_type": "code",
   "execution_count": null,
   "id": "1eb81017-7f92-4697-819d-20cfb54c7446",
   "metadata": {},
   "outputs": [],
   "source": [
    "webdata"
   ]
  },
  {
   "cell_type": "markdown",
   "id": "bd673298-0443-4841-b761-fa74a9f80b61",
   "metadata": {},
   "source": [
    "## Visualizing simple linear regression\n",
    "\n",
    "To visualize the best fitted linear regression line in a scatterplot with Seaborn, we use the function `regplot`."
   ]
  },
  {
   "cell_type": "code",
   "execution_count": null,
   "id": "aff47a29-b9ef-437c-869d-f6b24c153ad1",
   "metadata": {},
   "outputs": [],
   "source": [
    "sns.regplot(data = webdata, x = \"Users\", y = \"PurchaseCompleted\")\n",
    "plt.title(\"Linear regression plot for users and purchases completed\")\n",
    "plt.show()"
   ]
  },
  {
   "cell_type": "markdown",
   "id": "03225932-f7f7-45ca-8389-93a5c6b83161",
   "metadata": {},
   "source": [
    "The shaded area along the regression line is the *confidence interval*, which we will not talk more about for now, but essentially it visualizes the uncertainly associated the regression line. We can remove the confidence interval from our plot if we want:"
   ]
  },
  {
   "cell_type": "code",
   "execution_count": null,
   "id": "016f6bfb-ad6b-4f62-bf56-a54b01d3bc54",
   "metadata": {},
   "outputs": [],
   "source": [
    "sns.regplot(data = webdata, x = \"Users\", y = \"PurchaseCompleted\", ci=None)\n",
    "plt.title(\"Linear regression plot for users and purchases completed\")\n",
    "plt.savefig('corrplot_w_regline.png')\n",
    "plt.show()"
   ]
  },
  {
   "cell_type": "markdown",
   "id": "54aa93b3-c217-4f1d-9a1d-e9ef8c50ebe8",
   "metadata": {},
   "source": [
    "## Fitting a simple linear regression model using OLS\n",
    "\n",
    "We can fit a simple regression line to our data such that the sum of squared errors (residuals) are minimized. We call this approach *\"Ordinary Least Squares\"* (OLS)"
   ]
  },
  {
   "cell_type": "markdown",
   "id": "66a54350-da66-4659-935c-a45fb807b301",
   "metadata": {},
   "source": [
    "We will first use the [statsmodels](https://www.statsmodels.org/stable/index.html) package to fit a OLS model to our data. See also https://www.statsmodels.org/stable/regression.html\n",
    "\n",
    "First we import the relevant package"
   ]
  },
  {
   "cell_type": "code",
   "execution_count": null,
   "id": "c5243609-8900-4966-be7b-d0d405bd46af",
   "metadata": {},
   "outputs": [],
   "source": [
    "import statsmodels.api as sm"
   ]
  },
  {
   "cell_type": "markdown",
   "id": "a8293957-3d57-40c4-bcaf-42ee579685b3",
   "metadata": {},
   "source": [
    "We define our *Users* column to be our X data."
   ]
  },
  {
   "cell_type": "code",
   "execution_count": null,
   "id": "13d6e975-2ac3-4f6a-8f08-b8523e76bc2e",
   "metadata": {},
   "outputs": [],
   "source": [
    "X = webdata[\"Users\"]"
   ]
  },
  {
   "cell_type": "code",
   "execution_count": null,
   "id": "4f29ae68-0945-4ec2-8882-386440b04bf6",
   "metadata": {},
   "outputs": [],
   "source": [
    "X"
   ]
  },
  {
   "cell_type": "markdown",
   "id": "66eb4719-4103-449c-9a3e-c8793d06a18f",
   "metadata": {},
   "source": [
    "Using statsmodels, we have to add the intercept (in the form of a column of 1s)"
   ]
  },
  {
   "cell_type": "code",
   "execution_count": null,
   "id": "dabe622d-beb7-4b13-b19a-728bc0becaeb",
   "metadata": {},
   "outputs": [],
   "source": [
    "X = sm.add_constant(X)"
   ]
  },
  {
   "cell_type": "code",
   "execution_count": null,
   "id": "a65b7a2b-c152-4bc8-ac5c-9b727f6d4587",
   "metadata": {},
   "outputs": [],
   "source": [
    "X"
   ]
  },
  {
   "cell_type": "markdown",
   "id": "d5556fd5-3fd0-46c0-95fe-de7ecc39d84e",
   "metadata": {},
   "source": [
    "We then set the *PurchaseCompleted* column to our y."
   ]
  },
  {
   "cell_type": "code",
   "execution_count": null,
   "id": "66a54778-b312-4470-a2ec-c0301bede5ca",
   "metadata": {},
   "outputs": [],
   "source": [
    "y = webdata[\"PurchaseCompleted\"]"
   ]
  },
  {
   "cell_type": "markdown",
   "id": "21e7b666-f7f4-4dac-8708-e02485864242",
   "metadata": {},
   "source": [
    "We can now fit a simple linear regression model using OLS"
   ]
  },
  {
   "cell_type": "code",
   "execution_count": null,
   "id": "2fae82d4-f388-44f6-9273-99e7ca94a000",
   "metadata": {},
   "outputs": [],
   "source": [
    "linreg_model = sm.OLS(y, X).fit()"
   ]
  },
  {
   "cell_type": "markdown",
   "id": "1875d2a6-16ba-44a4-a703-c26f909f2724",
   "metadata": {},
   "source": [
    "We can get a lot of information about our model from the summary method."
   ]
  },
  {
   "cell_type": "code",
   "execution_count": null,
   "id": "b83556a9-77e9-44de-9d70-c27757f8a8bc",
   "metadata": {},
   "outputs": [],
   "source": [
    "linreg_model.summary()"
   ]
  },
  {
   "cell_type": "markdown",
   "id": "f3a21d3d-65c6-4d0c-99c9-257837289cbe",
   "metadata": {},
   "source": [
    "**Interpretation of the model**\n",
    "\n",
    "Here we see general information about the model at the top, such as R-squared (0.378) and  Adjusted R-squared (0.372). That is, our model explain 37.8% of the variance in purchases completed by the variance in users.\n",
    "\n",
    "This is followed by information about each of the coefficients (including the intercept named \"const\"). The *coef* column is the value for the coefficient found by OLS. The *P>|t|* column give us the p-value associated with that column - if it is less than our significance level, the cofficient is statistically different from 0. This is the most interesting information about the model for now.\n",
    "\n",
    "We see that for each additional user, we can expect 0.0297 purchases completed, that is for 100 additional users we will expect to see almost 3 purchases completed (100*0.0297). With a p-value of basically 0, we can also conclude that this relationship is indeed statistically significant. The intercept of -2.3670 is not quite significant as the p-values is 0.074, which is above 0.05."
   ]
  },
  {
   "cell_type": "markdown",
   "id": "458b60d9-ed05-42c1-8a09-b0c067f21130",
   "metadata": {},
   "source": [
    "### Retrieving coefficients and plotting fitted regression line"
   ]
  },
  {
   "cell_type": "markdown",
   "id": "46de33ae-0cf3-4700-b62f-e59fa6cd6c57",
   "metadata": {},
   "source": [
    "We can also get the parameters or coefficients from the fitted model the following way:"
   ]
  },
  {
   "cell_type": "code",
   "execution_count": null,
   "id": "c0470d78-2937-4ccd-98e8-04f3b697fdc2",
   "metadata": {},
   "outputs": [],
   "source": [
    "linreg_model.params"
   ]
  },
  {
   "cell_type": "markdown",
   "id": "b5784f5b-d4a0-418e-85ab-46417b999310",
   "metadata": {},
   "source": [
    "We can then use that to manually calculate the prediction for each point in webdata:"
   ]
  },
  {
   "cell_type": "code",
   "execution_count": null,
   "id": "58d10f69-044a-4b45-b93e-c900830232de",
   "metadata": {},
   "outputs": [],
   "source": [
    "pred_y = linreg_model.params[\"const\"] + linreg_model.params[\"Users\"]*webdata[\"Users\"]\n",
    "pred_y"
   ]
  },
  {
   "cell_type": "markdown",
   "id": "8737b9ac-2c39-4cb2-b535-49eed6af374b",
   "metadata": {},
   "source": [
    "We can now manually add the OLS regression line to our scatter plot"
   ]
  },
  {
   "cell_type": "code",
   "execution_count": null,
   "id": "e4f74f15-370c-4cdc-9a85-461804651dc5",
   "metadata": {},
   "outputs": [],
   "source": [
    "sns.scatterplot(data = webdata, x = \"Users\", y = \"PurchaseCompleted\")\n",
    "plt.plot(webdata[\"Users\"], pred_y, color = \"orange\")\n",
    "plt.show()"
   ]
  },
  {
   "cell_type": "markdown",
   "id": "d375252d-59f2-4dd3-a9cd-32328a301566",
   "metadata": {},
   "source": [
    "Which looks the same as the regression plot we got from Seaborns regplot:"
   ]
  },
  {
   "cell_type": "code",
   "execution_count": null,
   "id": "2760434b-273a-44d4-b956-b6e6b4c2058a",
   "metadata": {},
   "outputs": [],
   "source": [
    "sns.regplot(data = webdata, x = \"Users\", y = \"PurchaseCompleted\", ci=None)\n",
    "plt.show()"
   ]
  },
  {
   "cell_type": "markdown",
   "id": "9e431f73-30c7-48e2-8820-7b0fb486dd69",
   "metadata": {},
   "source": [
    "We could also have gotten the prediction on our data directly from the model object using the predict method."
   ]
  },
  {
   "cell_type": "code",
   "execution_count": null,
   "id": "f5745fff-5d87-4dca-8342-d757f0bfb802",
   "metadata": {},
   "outputs": [],
   "source": [
    "linreg_model.predict()"
   ]
  },
  {
   "cell_type": "markdown",
   "id": "8e4afac8-f7cb-4401-8e67-29b546ac256b",
   "metadata": {},
   "source": [
    "We can verify that they are the same as our manually calculated predictions."
   ]
  },
  {
   "cell_type": "code",
   "execution_count": null,
   "id": "3b43bc8b-7e32-4005-bc9f-2895e0d48187",
   "metadata": {},
   "outputs": [],
   "source": [
    "pred_test_df = pd.DataFrame({\"PredictMethod\": linreg_model.predict(), \"ManuallyCalculated\" : pred_y})\n",
    "pred_test_df[\"Difference\"] = pred_test_df[\"PredictMethod\"] - pred_test_df[\"ManuallyCalculated\"]\n",
    "pred_test_df"
   ]
  },
  {
   "cell_type": "code",
   "execution_count": null,
   "id": "9145840c-cb18-4c59-89f7-22682d985d05",
   "metadata": {},
   "outputs": [],
   "source": [
    "sum(pred_test_df[\"Difference\"])"
   ]
  },
  {
   "cell_type": "markdown",
   "id": "fe95e1cc-ad31-41b0-891c-dbdb68c48585",
   "metadata": {},
   "source": [
    "Apparently there are some very small rounding errors somewhere, but they are not significant."
   ]
  },
  {
   "cell_type": "markdown",
   "id": "0b1640be-6df3-41a7-a1cd-a22d963a39e9",
   "metadata": {},
   "source": [
    "### Model performance measures"
   ]
  },
  {
   "cell_type": "markdown",
   "id": "ff044b00-4353-4fc8-b2fe-0bf65e859c4e",
   "metadata": {},
   "source": [
    "We can also get the R-squared directly from the fitted model object."
   ]
  },
  {
   "cell_type": "code",
   "execution_count": null,
   "id": "2857be40-6285-498d-a61c-ee17e8483826",
   "metadata": {},
   "outputs": [],
   "source": [
    "linreg_model.rsquared"
   ]
  },
  {
   "cell_type": "code",
   "execution_count": null,
   "id": "8cda14bc-6722-4419-b1f4-9f8fde0c3b70",
   "metadata": {},
   "outputs": [],
   "source": [
    "linreg_model.rsquared_adj"
   ]
  },
  {
   "cell_type": "markdown",
   "id": "09afda5c-b124-4569-b498-1ce09f1a64d1",
   "metadata": {},
   "source": [
    "We can get the residuals of the model also"
   ]
  },
  {
   "cell_type": "code",
   "execution_count": null,
   "id": "df16449e-8361-4397-bd38-5768eeac803e",
   "metadata": {},
   "outputs": [],
   "source": [
    "linreg_model.resid"
   ]
  },
  {
   "cell_type": "markdown",
   "id": "f03182a8-77f3-49e7-8327-1d46728b0322",
   "metadata": {},
   "source": [
    "Using these, we can calculate the *MAE* (Mean Absolute Error)."
   ]
  },
  {
   "cell_type": "code",
   "execution_count": null,
   "id": "177f8586-f3d2-4f74-a57c-6d997d63b2ce",
   "metadata": {},
   "outputs": [],
   "source": [
    "np.mean(np.abs(linreg_model.resid))"
   ]
  },
  {
   "cell_type": "markdown",
   "id": "d9d13a4c-2f9b-46ac-a7cb-b115ae19b0e4",
   "metadata": {},
   "source": [
    "and the *MSE* (Mean Squared Error)."
   ]
  },
  {
   "cell_type": "code",
   "execution_count": null,
   "id": "2c26878f-1f26-4e22-b3ef-7ad0c533756e",
   "metadata": {},
   "outputs": [],
   "source": [
    "np.mean(linreg_model.resid**2)"
   ]
  },
  {
   "cell_type": "markdown",
   "id": "842a54e8-4adb-4963-8022-1e442fdce9a3",
   "metadata": {},
   "source": [
    "and the *RMSE* (Root Mean Squared Error)."
   ]
  },
  {
   "cell_type": "code",
   "execution_count": null,
   "id": "3ac74a29-4d3c-40c1-a83c-b614b1bd1a42",
   "metadata": {},
   "outputs": [],
   "source": [
    "np.sqrt(np.mean(linreg_model.resid**2))"
   ]
  },
  {
   "cell_type": "markdown",
   "id": "1ab23f15-4ffd-487f-8cb2-ae96a800c5f6",
   "metadata": {},
   "source": [
    "## Fitting simple linear regression using scikit-learn\n",
    "\n",
    "We can also use the machine learning package [scikit-learn](https://scikit-learn.org/stable/) to fit a linear regression model (also using OLS). First we import the linear_model submodule."
   ]
  },
  {
   "cell_type": "code",
   "execution_count": null,
   "id": "0af7c6fa-b39f-4fb3-8076-685cf3942b41",
   "metadata": {},
   "outputs": [],
   "source": [
    "from sklearn import linear_model"
   ]
  },
  {
   "cell_type": "markdown",
   "id": "0b6a0725-5baf-4944-b20d-198ecf240253",
   "metadata": {},
   "source": [
    "Then we define a linear regression mode."
   ]
  },
  {
   "cell_type": "code",
   "execution_count": null,
   "id": "dd8a9697-629d-4b72-80e6-f78d24ce9d98",
   "metadata": {},
   "outputs": [],
   "source": [
    "linreg_model_sk = linear_model.LinearRegression()"
   ]
  },
  {
   "cell_type": "markdown",
   "id": "1b24d4ec-80db-4464-9ee2-b47457668f54",
   "metadata": {},
   "source": [
    "For scikit-learn we do not need to have an intercept column explicitly in our X dataset. However, we still need to have it as a pandas dataframe. Thus we define a new X first."
   ]
  },
  {
   "cell_type": "code",
   "execution_count": null,
   "id": "e88a9e3e-87bb-49c5-85f8-47b4b8323341",
   "metadata": {},
   "outputs": [],
   "source": [
    "X_no_int = webdata[[\"Users\"]]"
   ]
  },
  {
   "cell_type": "markdown",
   "id": "87538182-62ee-4091-b908-a0ffbbaaf7a1",
   "metadata": {},
   "source": [
    "We can now fit the model."
   ]
  },
  {
   "cell_type": "code",
   "execution_count": null,
   "id": "aaf1d8d5-123c-42cb-9bed-95eb872f3d67",
   "metadata": {},
   "outputs": [],
   "source": [
    "linreg_model_sk.fit(X_no_int, y)"
   ]
  },
  {
   "cell_type": "markdown",
   "id": "90b0c7c6-41af-4f13-902a-a7571fb1d64b",
   "metadata": {},
   "source": [
    "Getting the coefficient in scikit-learn will give us all the coefficient except the coefficient for the intercept. That we have to get seperately."
   ]
  },
  {
   "cell_type": "code",
   "execution_count": null,
   "id": "8b47867c-2ce4-4c53-9b65-74801615fa95",
   "metadata": {},
   "outputs": [],
   "source": [
    "linreg_model_sk.coef_"
   ]
  },
  {
   "cell_type": "code",
   "execution_count": null,
   "id": "8844f05b-1aa5-4c7f-ac92-f819b28e2807",
   "metadata": {},
   "outputs": [],
   "source": [
    "linreg_model_sk.intercept_"
   ]
  },
  {
   "cell_type": "markdown",
   "id": "5d4c96d9-2031-4dc3-8f9f-14f5b6a69305",
   "metadata": {},
   "source": [
    "We see that we get the same value as for statsmodels OLS."
   ]
  },
  {
   "cell_type": "markdown",
   "id": "5d522fe6-ee19-440a-bc2c-d8281ec018b7",
   "metadata": {},
   "source": [
    "To get the prediction of the model, we can use the `.predict` method. Note that we have to give the method some X data to predict on. This is useful if one have trained the model on some training data and want to predict for some test data."
   ]
  },
  {
   "cell_type": "code",
   "execution_count": null,
   "id": "fc18ff7f-4e84-44bb-a174-ff388527ba8c",
   "metadata": {},
   "outputs": [],
   "source": [
    "linreg_model_sk.predict(X_no_int)"
   ]
  },
  {
   "cell_type": "markdown",
   "id": "d7b1d117-471e-40ed-9f8a-c177d3511915",
   "metadata": {},
   "source": [
    "We can also get the R-squared, but here we need to provide data. This is useful if one have trained a model on some training data and wants to calculate R-squared on some test data."
   ]
  },
  {
   "cell_type": "code",
   "execution_count": null,
   "id": "70080abc-d2ce-4edd-802c-9cf834b83b3c",
   "metadata": {},
   "outputs": [],
   "source": [
    "linreg_model_sk.score(X_no_int, y)"
   ]
  },
  {
   "cell_type": "markdown",
   "id": "e104fa46-569e-4484-a082-95ae1c383b5f",
   "metadata": {},
   "source": [
    "Scikit-learn also comes with a metrics submodule with all sorts of evaluation metrics (See https://scikit-learn.org/stable/modules/classes.html#module-sklearn.metrics)"
   ]
  },
  {
   "cell_type": "code",
   "execution_count": null,
   "id": "9d113df7-8b1d-41d5-829b-f8e12630601e",
   "metadata": {},
   "outputs": [],
   "source": [
    "from sklearn.metrics import r2_score, mean_absolute_error, mean_squared_error, root_mean_squared_error"
   ]
  },
  {
   "cell_type": "markdown",
   "id": "6d44e001-5577-4978-9273-e3dd33ef8442",
   "metadata": {},
   "source": [
    "All of these take the true and the predicted values as arrays. Thus, we first define a variable for the predicted."
   ]
  },
  {
   "cell_type": "code",
   "execution_count": null,
   "id": "132ccfa9-9c03-4a2a-a8e3-5692c090a351",
   "metadata": {},
   "outputs": [],
   "source": [
    "y_pred_sk = linreg_model_sk.predict(X_no_int)"
   ]
  },
  {
   "cell_type": "code",
   "execution_count": null,
   "id": "0d7aca7d-e7f5-4bac-b600-2b863b088d44",
   "metadata": {},
   "outputs": [],
   "source": [
    "r2_score(y, y_pred_sk)"
   ]
  },
  {
   "cell_type": "code",
   "execution_count": null,
   "id": "f1368e75-8cd7-4213-af4f-065ef71c8523",
   "metadata": {},
   "outputs": [],
   "source": [
    "mean_absolute_error(y, y_pred_sk)"
   ]
  },
  {
   "cell_type": "code",
   "execution_count": null,
   "id": "a4fa8ce2-c76b-433f-8ea9-c67181733995",
   "metadata": {},
   "outputs": [],
   "source": [
    "mean_squared_error(y, y_pred_sk)"
   ]
  },
  {
   "cell_type": "code",
   "execution_count": null,
   "id": "b34676f7-c06a-4a1b-9ce5-048b1237ea36",
   "metadata": {},
   "outputs": [],
   "source": [
    "root_mean_squared_error(y, y_pred_sk)"
   ]
  },
  {
   "cell_type": "markdown",
   "id": "44078670-94df-4014-af39-a216816d6830",
   "metadata": {},
   "source": [
    "If you use linear regression as a machine learning model for prediction, don't forget to do a train-test split of your data. (More about this next time!)"
   ]
  },
  {
   "cell_type": "code",
   "execution_count": null,
   "id": "b3d87ed3-41ab-45fe-a3bc-3957bc99da43",
   "metadata": {},
   "outputs": [],
   "source": []
  }
 ],
 "metadata": {
  "kernelspec": {
   "display_name": "Python 3 (ipykernel)",
   "language": "python",
   "name": "python3"
  },
  "language_info": {
   "codemirror_mode": {
    "name": "ipython",
    "version": 3
   },
   "file_extension": ".py",
   "mimetype": "text/x-python",
   "name": "python",
   "nbconvert_exporter": "python",
   "pygments_lexer": "ipython3",
   "version": "3.12.8"
  }
 },
 "nbformat": 4,
 "nbformat_minor": 5
}
