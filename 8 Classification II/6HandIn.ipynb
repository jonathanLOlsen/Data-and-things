{
 "cells": [
  {
   "cell_type": "markdown",
   "metadata": {},
   "source": [
    "## Exercise 2\n",
    "\n",
    "In this exercise, we will predict the two income classes in the adult dataset (The file \"adult.csv\" is also on Moodle). \n",
    "\n",
    "Answer the following questions:\n",
    "1. Clean the `income` variable such that it has only two values\n",
    "2. Select as set of minimum two feature variables you want to use to predict `income`. Do the necessary transformation of these variables.\n",
    "3. Create X and y dataset and split the datasets into training and testing sets\n",
    "4. Train a KNN classifier to predict the variable `income` based on the feature variables selected in 2 - try out some different Ks \n",
    "5. Train a logistic regression classifier to predict the variable `income` based on the feature variables selected in 2 and compare it to the KNN classifier.\n",
    "6. Train a decision tree classifier to predict the variable `income` based on the feature variables selected in 2 and compare it to the previous classifiers.\n",
    "7. Train a random forest classifier to predict the variable `income` based on the feature variables selected in 2 and compare it to the previous classifiers.\n",
    "8. Train a AdaBoost classifier to predict the variable `income` based on the feature variables selected in 2 and compare it to the previous classifiers."
   ]
  },
  {
   "cell_type": "code",
   "execution_count": 100,
   "metadata": {},
   "outputs": [],
   "source": [
    "import pandas as pd\n",
    "import numpy as np\n",
    "import matplotlib.pyplot as plt\n",
    "import seaborn as sns\n",
    "\n",
    "from sklearn.model_selection import train_test_split, cross_val_score\n",
    "\n",
    "from sklearn.neighbors import KNeighborsClassifier\n",
    "from sklearn.preprocessing import MinMaxScaler\n",
    "from sklearn.linear_model import LogisticRegression\n",
    "from sklearn.metrics import ConfusionMatrixDisplay, accuracy_score, confusion_matrix\n",
    "from sklearn.tree import DecisionTreeClassifier\n",
    "from sklearn.ensemble import RandomForestClassifier, AdaBoostClassifier\n",
    "\n"
   ]
  },
  {
   "cell_type": "code",
   "execution_count": 22,
   "metadata": {},
   "outputs": [
    {
     "name": "stdout",
     "output_type": "stream",
     "text": [
      "<class 'pandas.core.frame.DataFrame'>\n",
      "RangeIndex: 48842 entries, 0 to 48841\n",
      "Data columns (total 15 columns):\n",
      " #   Column          Non-Null Count  Dtype \n",
      "---  ------          --------------  ----- \n",
      " 0   age             48842 non-null  int64 \n",
      " 1   workclass       47879 non-null  object\n",
      " 2   fnlwgt          48842 non-null  int64 \n",
      " 3   education       48842 non-null  object\n",
      " 4   education-num   48842 non-null  int64 \n",
      " 5   marital-status  48842 non-null  object\n",
      " 6   occupation      47876 non-null  object\n",
      " 7   relationship    48842 non-null  object\n",
      " 8   race            48842 non-null  object\n",
      " 9   sex             48842 non-null  object\n",
      " 10  capital-gain    48842 non-null  int64 \n",
      " 11  capital-loss    48842 non-null  int64 \n",
      " 12  hours-per-week  48842 non-null  int64 \n",
      " 13  native-country  48568 non-null  object\n",
      " 14  income          48842 non-null  object\n",
      "dtypes: int64(6), object(9)\n",
      "memory usage: 5.6+ MB\n"
     ]
    }
   ],
   "source": [
    "df = pd.read_csv(\"adult.csv\")\n",
    "df.info()"
   ]
  },
  {
   "cell_type": "markdown",
   "metadata": {},
   "source": [
    "### 1 Clean the `income` variable such that it has only two values"
   ]
  },
  {
   "cell_type": "markdown",
   "metadata": {},
   "source": [
    "df['income'].unique()"
   ]
  },
  {
   "cell_type": "markdown",
   "metadata": {},
   "source": [
    "we see that we have a prolem with the \".\" so we rome it so we only have 2 values."
   ]
  },
  {
   "cell_type": "code",
   "execution_count": 23,
   "metadata": {},
   "outputs": [],
   "source": [
    "df['income'] = df['income'].str.replace(r'\\.$', '', regex=True)"
   ]
  },
  {
   "cell_type": "code",
   "execution_count": 24,
   "metadata": {},
   "outputs": [
    {
     "data": {
      "text/plain": [
       "array(['<=50K', '>50K'], dtype=object)"
      ]
     },
     "execution_count": 24,
     "metadata": {},
     "output_type": "execute_result"
    }
   ],
   "source": [
    "df['income'].unique()"
   ]
  },
  {
   "cell_type": "markdown",
   "metadata": {},
   "source": [
    "### 2. Select as set of minimum two feature variables you want to use to predict `income`. Do the necessary transformation of these variables."
   ]
  },
  {
   "cell_type": "markdown",
   "metadata": {},
   "source": [
    "I want to check age and education level."
   ]
  },
  {
   "cell_type": "markdown",
   "metadata": {},
   "source": [
    "lets check this features and see if they need cleaning"
   ]
  },
  {
   "cell_type": "code",
   "execution_count": 25,
   "metadata": {},
   "outputs": [
    {
     "name": "stdout",
     "output_type": "stream",
     "text": [
      "0\n",
      "0\n"
     ]
    }
   ],
   "source": [
    "print(df['education'].isnull().sum())\n",
    "print(df['age'].isnull().sum())\n"
   ]
  },
  {
   "cell_type": "code",
   "execution_count": 26,
   "metadata": {},
   "outputs": [
    {
     "data": {
      "text/plain": [
       "array(['Bachelors', 'HS-grad', '11th', 'Masters', '9th', 'Some-college',\n",
       "       'Assoc-acdm', 'Assoc-voc', '7th-8th', 'Doctorate', 'Prof-school',\n",
       "       '5th-6th', '10th', '1st-4th', 'Preschool', '12th'], dtype=object)"
      ]
     },
     "execution_count": 26,
     "metadata": {},
     "output_type": "execute_result"
    }
   ],
   "source": [
    "df['education'].unique()"
   ]
  },
  {
   "cell_type": "code",
   "execution_count": 27,
   "metadata": {},
   "outputs": [
    {
     "data": {
      "text/plain": [
       "'BachelorsHS-grad11thMasters9thSome-collegeAssoc-acdmAssoc-voc7th-8thDoctorateProf-school5th-6th10th1st-4thPreschool12th'"
      ]
     },
     "execution_count": 27,
     "metadata": {},
     "output_type": "execute_result"
    }
   ],
   "source": [
    "df['education'].unique().sum()"
   ]
  },
  {
   "cell_type": "code",
   "execution_count": 28,
   "metadata": {},
   "outputs": [
    {
     "data": {
      "text/plain": [
       "count    48842.000000\n",
       "mean        38.643585\n",
       "std         13.710510\n",
       "min         17.000000\n",
       "25%         28.000000\n",
       "50%         37.000000\n",
       "75%         48.000000\n",
       "max         90.000000\n",
       "Name: age, dtype: float64"
      ]
     },
     "execution_count": 28,
     "metadata": {},
     "output_type": "execute_result"
    }
   ],
   "source": [
    "df['age'].describe()"
   ]
  },
  {
   "cell_type": "markdown",
   "metadata": {},
   "source": [
    "looks fine"
   ]
  },
  {
   "cell_type": "code",
   "execution_count": 29,
   "metadata": {},
   "outputs": [
    {
     "name": "stdout",
     "output_type": "stream",
     "text": [
      "        age  education_11th  education_12th  education_1st-4th  \\\n",
      "0  0.301370           False           False              False   \n",
      "1  0.452055           False           False              False   \n",
      "2  0.287671           False           False              False   \n",
      "3  0.493151            True           False              False   \n",
      "4  0.150685           False           False              False   \n",
      "\n",
      "   education_5th-6th  education_7th-8th  education_9th  education_Assoc-acdm  \\\n",
      "0              False              False          False                 False   \n",
      "1              False              False          False                 False   \n",
      "2              False              False          False                 False   \n",
      "3              False              False          False                 False   \n",
      "4              False              False          False                 False   \n",
      "\n",
      "   education_Assoc-voc  education_Bachelors  education_Doctorate  \\\n",
      "0                False                 True                False   \n",
      "1                False                 True                False   \n",
      "2                False                False                False   \n",
      "3                False                False                False   \n",
      "4                False                 True                False   \n",
      "\n",
      "   education_HS-grad  education_Masters  education_Preschool  \\\n",
      "0              False              False                False   \n",
      "1              False              False                False   \n",
      "2               True              False                False   \n",
      "3              False              False                False   \n",
      "4              False              False                False   \n",
      "\n",
      "   education_Prof-school  education_Some-college  \n",
      "0                  False                   False  \n",
      "1                  False                   False  \n",
      "2                  False                   False  \n",
      "3                  False                   False  \n",
      "4                  False                   False  \n"
     ]
    }
   ],
   "source": [
    "\n",
    "X = df[['age', 'education']]\n",
    "y = df['income']\n",
    "\n",
    "# Transform the categorical 'education' variable using one-hot encoding\n",
    "X_encoded = pd.get_dummies(X, columns=['education'], drop_first=True)\n",
    "\n",
    "scaler = MinMaxScaler()\n",
    "# Fit and transform the 'age' feature in X_encoded\n",
    "X_encoded['age'] = scaler.fit_transform(X_encoded[['age']])\n",
    "print(X_encoded.head())"
   ]
  },
  {
   "cell_type": "markdown",
   "metadata": {},
   "source": [
    "### 3. Create X and y dataset and split the datasets into training and testing sets"
   ]
  },
  {
   "cell_type": "markdown",
   "metadata": {},
   "source": [
    "we have our features from our previous encoding (features: 'age' and one-hot encoded 'education')"
   ]
  },
  {
   "cell_type": "code",
   "execution_count": 30,
   "metadata": {},
   "outputs": [
    {
     "name": "stdout",
     "output_type": "stream",
     "text": [
      "Training set shape: (39073, 16)\n",
      "Testing set shape: (9769, 16)\n"
     ]
    }
   ],
   "source": [
    "\n",
    "X = X_encoded  \n",
    "y = df['income']\n",
    "\n",
    "# Split the dataset: 80% training, 20% testing\n",
    "X_train, X_test, y_train, y_test = train_test_split(X, y, test_size=0.2, random_state=42, stratify=y)\n",
    "\n",
    "print(\"Training set shape:\", X_train.shape)\n",
    "print(\"Testing set shape:\", X_test.shape)"
   ]
  },
  {
   "cell_type": "markdown",
   "metadata": {},
   "source": [
    "    ### 4. Train a KNN classifier to predict the variable `income` based on the feature variables selected in 2 - try out some different Ks"
   ]
  },
  {
   "cell_type": "markdown",
   "metadata": {},
   "source": [
    "Lets try out some differint k's"
   ]
  },
  {
   "cell_type": "code",
   "execution_count": 38,
   "metadata": {},
   "outputs": [
    {
     "data": {
      "text/plain": [
       "count    20.000000\n",
       "mean      0.769399\n",
       "std       0.014493\n",
       "min       0.718971\n",
       "25%       0.766390\n",
       "50%       0.772174\n",
       "75%       0.777906\n",
       "max       0.785697\n",
       "Name: Mean accuracy, dtype: float64"
      ]
     },
     "execution_count": 38,
     "metadata": {},
     "output_type": "execute_result"
    }
   ],
   "source": [
    "kacclist = [] # list to store accuracy scores\n",
    "for k in range(1, 21):\n",
    "    knn = KNeighborsClassifier(n_neighbors=k)\n",
    "    # Use 5-fold cross-validation on the full dataset (X_encoded, y)\n",
    "    scores = cross_val_score(knn, X_encoded, y, cv=5, scoring='accuracy')\n",
    "    kacclist.append({\"Folds\": k, \"Mean accuracy\": scores.mean()})\n",
    "kaccuracyDF = pd.DataFrame(kacclist)\n",
    "kaccuracyDF[\"Mean accuracy\"].describe()"
   ]
  },
  {
   "cell_type": "code",
   "execution_count": 46,
   "metadata": {},
   "outputs": [
    {
     "data": {
      "text/plain": [
       "[{'Folds': 1, 'Mean accuracy': np.float64(0.7189711177504196)},\n",
       " {'Folds': 2, 'Mean accuracy': np.float64(0.7563368584993111)},\n",
       " {'Folds': 3, 'Mean accuracy': np.float64(0.7538799147280055)},\n",
       " {'Folds': 4, 'Mean accuracy': np.float64(0.7668195114684009)},\n",
       " {'Folds': 5, 'Mean accuracy': np.float64(0.7650997648464124)},\n",
       " {'Folds': 6, 'Mean accuracy': np.float64(0.7683346545998813)},\n",
       " {'Folds': 7, 'Mean accuracy': np.float64(0.7679047860617111)},\n",
       " {'Folds': 8, 'Mean accuracy': np.float64(0.7696653863124331)},\n",
       " {'Folds': 9, 'Mean accuracy': np.float64(0.7639735402121521)},\n",
       " {'Folds': 10, 'Mean accuracy': np.float64(0.774681634285995)},\n",
       " {'Folds': 11, 'Mean accuracy': np.float64(0.7696041079652505)},\n",
       " {'Folds': 12, 'Mean accuracy': np.float64(0.7754186428027149)},\n",
       " {'Folds': 13, 'Mean accuracy': np.float64(0.7756030143992064)},\n",
       " {'Folds': 14, 'Mean accuracy': np.float64(0.777629953397688)},\n",
       " {'Folds': 15, 'Mean accuracy': np.float64(0.7770362239141029)},\n",
       " {'Folds': 16, 'Mean accuracy': np.float64(0.7787354850360275)},\n",
       " {'Folds': 17, 'Mean accuracy': np.float64(0.7806600824668181)},\n",
       " {'Folds': 18, 'Mean accuracy': np.float64(0.779861533613197)},\n",
       " {'Folds': 19, 'Mean accuracy': np.float64(0.7820728295367461)},\n",
       " {'Folds': 20, 'Mean accuracy': np.float64(0.7856967216241451)}]"
      ]
     },
     "execution_count": 46,
     "metadata": {},
     "output_type": "execute_result"
    }
   ],
   "source": [
    "kacclist"
   ]
  },
  {
   "cell_type": "code",
   "execution_count": 39,
   "metadata": {},
   "outputs": [
    {
     "data": {
      "image/png": "[encoded data removed]",
      "text/plain": [
       "<Figure size 640x480 with 1 Axes>"
      ]
     },
     "metadata": {},
     "output_type": "display_data"
    }
   ],
   "source": [
    "plt.plot(kaccuracyDF[\"Folds\"], kaccuracyDF[\"Mean accuracy\"], label = \"Mean accurcay\", color='blue', marker='o', linestyle='solid')    \n",
    "plt.xlabel('Number of folds (k)')\n",
    "plt.ylabel('Mean acuracy')\n",
    "plt.title(\"Accuracy of different Ks\")\n",
    "plt.legend()\n",
    "\n",
    "plt.show()"
   ]
  },
  {
   "cell_type": "markdown",
   "metadata": {},
   "source": [
    "The results show that KNN reaches its highest cross-validated accuracy of about 0.786 at k=20, with performance ranging from roughly 0.719 to 0.786 across all tested k values. As k increases, the model appears to benefit from additional smoothing, eventually peaking at k=20. We therefore select k=20 for our final model. Overall, KNN demonstrates consistent results for predicting income with the chosen features, though performance does vary slightly based on k."
   ]
  },
  {
   "cell_type": "markdown",
   "metadata": {},
   "source": [
    "let take a look "
   ]
  },
  {
   "cell_type": "code",
   "execution_count": 76,
   "metadata": {},
   "outputs": [
    {
     "name": "stdout",
     "output_type": "stream",
     "text": [
      "KNN (k=20) Test Accuracy: 0.7864673968676426\n"
     ]
    }
   ],
   "source": [
    "knn20 = KNeighborsClassifier(n_neighbors=20)\n",
    "knn20.fit(X_train, y_train)\n",
    "y_pred_knn20 = knn20.predict(X_test)\n",
    "knn20_accuracy = accuracy_score(y_test, y_pred_knn20)\n",
    "print(\"KNN (k=20) Test Accuracy:\", knn20_accuracy)"
   ]
  },
  {
   "cell_type": "code",
   "execution_count": 79,
   "metadata": {},
   "outputs": [
    {
     "data": {
      "text/plain": [
       "array([[7001,  430],\n",
       "       [1656,  682]])"
      ]
     },
     "execution_count": 79,
     "metadata": {},
     "output_type": "execute_result"
    }
   ],
   "source": [
    "confusion_matrix(y_test, y_pred_knn20)"
   ]
  },
  {
   "cell_type": "code",
   "execution_count": 83,
   "metadata": {},
   "outputs": [
    {
     "data": {
      "text/plain": [
       "<sklearn.metrics._plot.confusion_matrix.ConfusionMatrixDisplay at 0x2c716eef690>"
      ]
     },
     "execution_count": 83,
     "metadata": {},
     "output_type": "execute_result"
    },
    {
     "data": {
      "image/png": "[encoded data removed]",
      "text/plain": [
       "<Figure size 640x480 with 2 Axes>"
      ]
     },
     "metadata": {},
     "output_type": "display_data"
    }
   ],
   "source": [
    "ConfusionMatrixDisplay(confusion_matrix(y_test, y_pred_knn20)).plot()"
   ]
  },
  {
   "cell_type": "markdown",
   "metadata": {},
   "source": [
    "True Negatives (top-left, 7001): These are instances truly “<=50K” and predicted “<=50K.”\n",
    "False Positives (top-right, 430): These are instances truly “<=50K” but predicted “>50K.”\n",
    "False Negatives (bottom-left, 1656): These are instances truly “>50K” but predicted “<=50K.”\n",
    "True Positives (bottom-right, 682): These are instances truly “>50K” and predicted “>50K."
   ]
  },
  {
   "cell_type": "markdown",
   "metadata": {},
   "source": [
    "### 5. Train a logistic regression classifier to predict the variable `income` based on the feature variables selected in 2 and compare it to the KNN classifier."
   ]
  },
  {
   "cell_type": "code",
   "execution_count": 74,
   "metadata": {},
   "outputs": [
    {
     "name": "stdout",
     "output_type": "stream",
     "text": [
      "Logistic Regression Test Accuracy: 0.7821680827106152\n"
     ]
    }
   ],
   "source": [
    "\n",
    "logreg = LogisticRegression(max_iter=1000)\n",
    "logreg.fit(X_train, y_train)\n",
    "\n",
    "# Predict on the test set using logistic regression\n",
    "y_pred_logreg = logreg.predict(X_test)\n",
    "logreg_accuracy = accuracy_score(y_test, y_pred_logreg)\n",
    "print(\"Logistic Regression Test Accuracy:\", logreg_accuracy)"
   ]
  },
  {
   "cell_type": "markdown",
   "metadata": {},
   "source": [
    "It looks like the logistic regression classifier did slightly worse than our KNN=20, but its so close so i would say its on par.  0.785697 vs  0.7821680827106152"
   ]
  },
  {
   "cell_type": "markdown",
   "metadata": {},
   "source": [
    "lets take look at the confuisson matrix to see what kind of mistakes it makes compared to the knn."
   ]
  },
  {
   "cell_type": "code",
   "execution_count": 65,
   "metadata": {},
   "outputs": [
    {
     "name": "stdout",
     "output_type": "stream",
     "text": [
      "[[7035  396]\n",
      " [1738  600]]\n"
     ]
    },
    {
     "data": {
      "image/png": "[encoded data removed]",
      "text/plain": [
       "<Figure size 640x480 with 2 Axes>"
      ]
     },
     "metadata": {},
     "output_type": "display_data"
    }
   ],
   "source": [
    "# Compute the confusion matrix\n",
    "cm_logreg = confusion_matrix(y_test, y_pred_logreg)\n",
    "\n",
    "# Create a ConfusionMatrixDisplay instance and plot it\n",
    "ConfusionMatrixDisplay(confusion_matrix=cm_logreg).plot()\n",
    "\n",
    "\n",
    "print(cm_logreg)"
   ]
  },
  {
   "cell_type": "markdown",
   "metadata": {},
   "source": [
    "Comparing this to knn20 confusion matrix show a trade-off in how the models classify “>50K” versus “≤50K.” Logistic regression correctly labels more “≤50K” individuals (7035 TN, 396 FP) but misses more “>50K” cases (1738 FN, 600 TP). By contrast, KNN identifies more “>50K” individuals (682 TP) but also incorrectly labels more “≤50K” cases as “>50K” (430 FP). The choice between the two depends on which error false positives or false negatives matters more for the specific goals."
   ]
  },
  {
   "cell_type": "markdown",
   "metadata": {},
   "source": [
    "### 6. Train a decision tree classifier to predict the variable `income` based on the feature variables selected in 2 and compare it to the previous classifiers."
   ]
  },
  {
   "cell_type": "code",
   "execution_count": 89,
   "metadata": {},
   "outputs": [],
   "source": [
    "# Train the decision tree on the training set\n",
    "dtree = DecisionTreeClassifier(random_state=42)\n",
    "dtree.fit(X_train, y_train)\n",
    "\n",
    "# Predict on the test set\n",
    "y_pred_dtree = dtree.predict(X_test)\n",
    "\n"
   ]
  },
  {
   "cell_type": "code",
   "execution_count": 90,
   "metadata": {},
   "outputs": [
    {
     "name": "stdout",
     "output_type": "stream",
     "text": [
      "Decision Tree Test Accuracy: 0.7890265124373017\n"
     ]
    }
   ],
   "source": [
    "# Evaluate the model\n",
    "dtree_accuracy = accuracy_score(y_test, y_pred_dtree)\n",
    "print(\"Decision Tree Test Accuracy:\", dtree_accuracy)"
   ]
  },
  {
   "cell_type": "code",
   "execution_count": 91,
   "metadata": {},
   "outputs": [
    {
     "name": "stdout",
     "output_type": "stream",
     "text": [
      "Confusion Matrix - Decision Tree:\n",
      "[[6909  522]\n",
      " [1539  799]]\n"
     ]
    }
   ],
   "source": [
    "# Confusion Matrix\n",
    "cm_dtree = confusion_matrix(y_test, y_pred_dtree)\n",
    "print(\"Confusion Matrix - Decision Tree:\")\n",
    "print(cm_dtree)"
   ]
  },
  {
   "cell_type": "code",
   "execution_count": 92,
   "metadata": {},
   "outputs": [
    {
     "data": {
      "text/plain": [
       "<sklearn.metrics._plot.confusion_matrix.ConfusionMatrixDisplay at 0x2c7174e3310>"
      ]
     },
     "execution_count": 92,
     "metadata": {},
     "output_type": "execute_result"
    },
    {
     "data": {
      "image/png": "[encoded data removed]",
      "text/plain": [
       "<Figure size 640x480 with 2 Axes>"
      ]
     },
     "metadata": {},
     "output_type": "display_data"
    }
   ],
   "source": [
    "ConfusionMatrixDisplay(cm_dtree).plot()"
   ]
  },
  {
   "cell_type": "markdown",
   "metadata": {},
   "source": [
    "The decision tree classifier achieved an accuracy of about 78.9%, which is a slight improvement over the previous models. Its confusion matrix shows that it correctly classified 6909 “≤50K” cases and 799 “>50K” cases, with 522 false positives and 1539 false negatives. Compared to logistic regression and KNN, the decision tree appears to strike a good balance between the two classes, though it still misclassifies some “>50K” instances. Overall, it demonstrates competitive performance on predicting income using the selected features."
   ]
  },
  {
   "cell_type": "markdown",
   "metadata": {},
   "source": [
    "### 6 Train a random forest classifier to predict the variable `income` based on the feature variables selected in 2 and compare it to the previous classifiers."
   ]
  },
  {
   "cell_type": "code",
   "execution_count": 95,
   "metadata": {},
   "outputs": [
    {
     "name": "stdout",
     "output_type": "stream",
     "text": [
      "Random Forest Test Accuracy: 0.7892312416828744\n"
     ]
    }
   ],
   "source": [
    "rf = RandomForestClassifier(n_estimators=100, random_state=42)\n",
    "rf.fit(X_train, y_train)\n",
    "\n",
    "\n",
    "y_pred_rf = rf.predict(X_test)\n",
    "rf_accuracy = accuracy_score(y_test, y_pred_rf)\n",
    "print(\"Random Forest Test Accuracy:\", rf_accuracy)"
   ]
  },
  {
   "cell_type": "code",
   "execution_count": 96,
   "metadata": {},
   "outputs": [
    {
     "name": "stdout",
     "output_type": "stream",
     "text": [
      "Confusion Matrix - Random Forest:\n",
      "[[6881  550]\n",
      " [1509  829]]\n"
     ]
    }
   ],
   "source": [
    "cm_rf = confusion_matrix(y_test, y_pred_rf)\n",
    "print(\"Confusion Matrix - Random Forest:\")\n",
    "print(cm_rf)\n"
   ]
  },
  {
   "cell_type": "code",
   "execution_count": 97,
   "metadata": {},
   "outputs": [
    {
     "data": {
      "text/plain": [
       "<sklearn.metrics._plot.confusion_matrix.ConfusionMatrixDisplay at 0x2c7284ac530>"
      ]
     },
     "execution_count": 97,
     "metadata": {},
     "output_type": "execute_result"
    },
    {
     "data": {
      "image/png": "[encoded data removed]",
      "text/plain": [
       "<Figure size 640x480 with 2 Axes>"
      ]
     },
     "metadata": {},
     "output_type": "display_data"
    }
   ],
   "source": [
    "ConfusionMatrixDisplay(cm_rf).plot()"
   ]
  },
  {
   "cell_type": "markdown",
   "metadata": {},
   "source": [
    "these results are very simmilar to the priors "
   ]
  },
  {
   "cell_type": "markdown",
   "metadata": {},
   "source": [
    "### 8. Train a AdaBoost classifier to predict the variable `income` based on the feature variables selected in 2 and compare it to the previous classifiers."
   ]
  },
  {
   "cell_type": "markdown",
   "metadata": {},
   "source": []
  },
  {
   "cell_type": "code",
   "execution_count": 101,
   "metadata": {},
   "outputs": [
    {
     "name": "stdout",
     "output_type": "stream",
     "text": [
      "AdaBoost Test Accuracy: 0.7905619817790971\n"
     ]
    }
   ],
   "source": [
    "# Train an AdaBoost classifier on the training set (using 50 estimators by default)\n",
    "ada = AdaBoostClassifier(n_estimators=50, random_state=42)\n",
    "ada.fit(X_train, y_train)\n",
    "\n",
    "# Predict on the test set\n",
    "y_pred_ada = ada.predict(X_test)\n",
    "ada_accuracy = accuracy_score(y_test, y_pred_ada)\n",
    "print(\"AdaBoost Test Accuracy:\", ada_accuracy)"
   ]
  },
  {
   "cell_type": "code",
   "execution_count": 102,
   "metadata": {},
   "outputs": [
    {
     "name": "stdout",
     "output_type": "stream",
     "text": [
      "Confusion Matrix - AdaBoost:\n",
      "[[6870  561]\n",
      " [1485  853]]\n"
     ]
    }
   ],
   "source": [
    "cm_ada = confusion_matrix(y_test, y_pred_ada)\n",
    "print(\"Confusion Matrix - AdaBoost:\")\n",
    "print(cm_ada)"
   ]
  },
  {
   "cell_type": "code",
   "execution_count": 103,
   "metadata": {},
   "outputs": [
    {
     "data": {
      "text/plain": [
       "<sklearn.metrics._plot.confusion_matrix.ConfusionMatrixDisplay at 0x2c728382bd0>"
      ]
     },
     "execution_count": 103,
     "metadata": {},
     "output_type": "execute_result"
    },
    {
     "data": {
      "image/png": "[encoded data removed]",
      "text/plain": [
       "<Figure size 640x480 with 2 Axes>"
      ]
     },
     "metadata": {},
     "output_type": "display_data"
    }
   ],
   "source": [
    "ConfusionMatrixDisplay(cm_ada).plot()"
   ]
  },
  {
   "cell_type": "markdown",
   "metadata": {},
   "source": [
    "AdaBoost achieved a test accuracy of approximately 79.06%. Its confusion matrix shows that it correctly classified 6870 \"≤50K\" cases and 853 \">50K\" cases, with 561 false positives and 1485 false negatives. This performance is comparable to, and slightly better than, some of the other models (like KNN and decision trees), reflecting AdaBoost's strength in combining multiple weak learners for a more robust overall prediction. Depending on the specific cost of misclassifications, AdaBoost can be a strong choice for income prediction."
   ]
  }
 ],
 "metadata": {
  "kernelspec": {
   "display_name": "Python 3",
   "language": "python",
   "name": "python3"
  },
  "language_info": {
   "codemirror_mode": {
    "name": "ipython",
    "version": 3
   },
   "file_extension": ".py",
   "mimetype": "text/x-python",
   "name": "python",
   "nbconvert_exporter": "python",
   "pygments_lexer": "ipython3",
   "version": "3.13.2"
  }
 },
 "nbformat": 4,
 "nbformat_minor": 2
}
