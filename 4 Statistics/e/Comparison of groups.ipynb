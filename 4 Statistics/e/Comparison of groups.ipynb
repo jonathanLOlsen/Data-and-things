{
 "cells": [
  {
   "cell_type": "markdown",
   "id": "d1a58845-70e0-4b15-bca5-3458b2ee242f",
   "metadata": {},
   "source": [
    "# Comparison of groups\n",
    "\n",
    "In this notebook, we are going to look at various examples of how to use statistical tests to compare two or more groups."
   ]
  },
  {
   "cell_type": "markdown",
   "id": "e748ce90-3867-4eda-b644-dc10d1b9e5be",
   "metadata": {},
   "source": [
    "## Setting up\n",
    "\n",
    "Loading packages. (Note the new import of the `stats` module from `scipy`.)"
   ]
  },
  {
   "cell_type": "code",
   "execution_count": 1,
   "id": "594f8c85-aa1a-4a8b-b1b8-14462c47f707",
   "metadata": {},
   "outputs": [],
   "source": [
    "import numpy as np\n",
    "import pandas as pd\n",
    "from matplotlib import pyplot as plt\n",
    "import seaborn as sns\n",
    "from scipy import stats"
   ]
  },
  {
   "cell_type": "markdown",
   "id": "4afa2ceb-cdbc-48cc-9bc9-366b07eb143a",
   "metadata": {},
   "source": [
    "We are going to use the adult dataset as our example, so we fetch it from the UCI ML repo. (It is also on moodle.)"
   ]
  },
  {
   "cell_type": "code",
   "execution_count": 2,
   "id": "d229e6c2-1583-4c75-a188-7604ac7a6e03",
   "metadata": {},
   "outputs": [],
   "source": [
    "from ucimlrepo import fetch_ucirepo \n",
    "  \n",
    "adult_temp = fetch_ucirepo(id=2) \n",
    "  \n",
    "X = adult_temp.data.features \n",
    "y = adult_temp.data.targets \n",
    "X[\"income\"] = y\n",
    "adult = X"
   ]
  },
  {
   "cell_type": "code",
   "execution_count": 3,
   "id": "5948c238-0821-464d-9314-d1eb41518f62",
   "metadata": {},
   "outputs": [
    {
     "data": {
      "text/html": [
       "<div>\n",
       "<style scoped>\n",
       "    .dataframe tbody tr th:only-of-type {\n",
       "        vertical-align: middle;\n",
       "    }\n",
       "\n",
       "    .dataframe tbody tr th {\n",
       "        vertical-align: top;\n",
       "    }\n",
       "\n",
       "    .dataframe thead th {\n",
       "        text-align: right;\n",
       "    }\n",
       "</style>\n",
       "<table border=\"1\" class=\"dataframe\">\n",
       "  <thead>\n",
       "    <tr style=\"text-align: right;\">\n",
       "      <th></th>\n",
       "      <th>age</th>\n",
       "      <th>workclass</th>\n",
       "      <th>fnlwgt</th>\n",
       "      <th>education</th>\n",
       "      <th>education-num</th>\n",
       "      <th>marital-status</th>\n",
       "      <th>occupation</th>\n",
       "      <th>relationship</th>\n",
       "      <th>race</th>\n",
       "      <th>sex</th>\n",
       "      <th>capital-gain</th>\n",
       "      <th>capital-loss</th>\n",
       "      <th>hours-per-week</th>\n",
       "      <th>native-country</th>\n",
       "      <th>income</th>\n",
       "    </tr>\n",
       "  </thead>\n",
       "  <tbody>\n",
       "    <tr>\n",
       "      <th>0</th>\n",
       "      <td>39</td>\n",
       "      <td>State-gov</td>\n",
       "      <td>77516</td>\n",
       "      <td>Bachelors</td>\n",
       "      <td>13</td>\n",
       "      <td>Never-married</td>\n",
       "      <td>Adm-clerical</td>\n",
       "      <td>Not-in-family</td>\n",
       "      <td>White</td>\n",
       "      <td>Male</td>\n",
       "      <td>2174</td>\n",
       "      <td>0</td>\n",
       "      <td>40</td>\n",
       "      <td>United-States</td>\n",
       "      <td>&lt;=50K</td>\n",
       "    </tr>\n",
       "    <tr>\n",
       "      <th>1</th>\n",
       "      <td>50</td>\n",
       "      <td>Self-emp-not-inc</td>\n",
       "      <td>83311</td>\n",
       "      <td>Bachelors</td>\n",
       "      <td>13</td>\n",
       "      <td>Married-civ-spouse</td>\n",
       "      <td>Exec-managerial</td>\n",
       "      <td>Husband</td>\n",
       "      <td>White</td>\n",
       "      <td>Male</td>\n",
       "      <td>0</td>\n",
       "      <td>0</td>\n",
       "      <td>13</td>\n",
       "      <td>United-States</td>\n",
       "      <td>&lt;=50K</td>\n",
       "    </tr>\n",
       "    <tr>\n",
       "      <th>2</th>\n",
       "      <td>38</td>\n",
       "      <td>Private</td>\n",
       "      <td>215646</td>\n",
       "      <td>HS-grad</td>\n",
       "      <td>9</td>\n",
       "      <td>Divorced</td>\n",
       "      <td>Handlers-cleaners</td>\n",
       "      <td>Not-in-family</td>\n",
       "      <td>White</td>\n",
       "      <td>Male</td>\n",
       "      <td>0</td>\n",
       "      <td>0</td>\n",
       "      <td>40</td>\n",
       "      <td>United-States</td>\n",
       "      <td>&lt;=50K</td>\n",
       "    </tr>\n",
       "    <tr>\n",
       "      <th>3</th>\n",
       "      <td>53</td>\n",
       "      <td>Private</td>\n",
       "      <td>234721</td>\n",
       "      <td>11th</td>\n",
       "      <td>7</td>\n",
       "      <td>Married-civ-spouse</td>\n",
       "      <td>Handlers-cleaners</td>\n",
       "      <td>Husband</td>\n",
       "      <td>Black</td>\n",
       "      <td>Male</td>\n",
       "      <td>0</td>\n",
       "      <td>0</td>\n",
       "      <td>40</td>\n",
       "      <td>United-States</td>\n",
       "      <td>&lt;=50K</td>\n",
       "    </tr>\n",
       "    <tr>\n",
       "      <th>4</th>\n",
       "      <td>28</td>\n",
       "      <td>Private</td>\n",
       "      <td>338409</td>\n",
       "      <td>Bachelors</td>\n",
       "      <td>13</td>\n",
       "      <td>Married-civ-spouse</td>\n",
       "      <td>Prof-specialty</td>\n",
       "      <td>Wife</td>\n",
       "      <td>Black</td>\n",
       "      <td>Female</td>\n",
       "      <td>0</td>\n",
       "      <td>0</td>\n",
       "      <td>40</td>\n",
       "      <td>Cuba</td>\n",
       "      <td>&lt;=50K</td>\n",
       "    </tr>\n",
       "    <tr>\n",
       "      <th>...</th>\n",
       "      <td>...</td>\n",
       "      <td>...</td>\n",
       "      <td>...</td>\n",
       "      <td>...</td>\n",
       "      <td>...</td>\n",
       "      <td>...</td>\n",
       "      <td>...</td>\n",
       "      <td>...</td>\n",
       "      <td>...</td>\n",
       "      <td>...</td>\n",
       "      <td>...</td>\n",
       "      <td>...</td>\n",
       "      <td>...</td>\n",
       "      <td>...</td>\n",
       "      <td>...</td>\n",
       "    </tr>\n",
       "    <tr>\n",
       "      <th>48837</th>\n",
       "      <td>39</td>\n",
       "      <td>Private</td>\n",
       "      <td>215419</td>\n",
       "      <td>Bachelors</td>\n",
       "      <td>13</td>\n",
       "      <td>Divorced</td>\n",
       "      <td>Prof-specialty</td>\n",
       "      <td>Not-in-family</td>\n",
       "      <td>White</td>\n",
       "      <td>Female</td>\n",
       "      <td>0</td>\n",
       "      <td>0</td>\n",
       "      <td>36</td>\n",
       "      <td>United-States</td>\n",
       "      <td>&lt;=50K.</td>\n",
       "    </tr>\n",
       "    <tr>\n",
       "      <th>48838</th>\n",
       "      <td>64</td>\n",
       "      <td>NaN</td>\n",
       "      <td>321403</td>\n",
       "      <td>HS-grad</td>\n",
       "      <td>9</td>\n",
       "      <td>Widowed</td>\n",
       "      <td>NaN</td>\n",
       "      <td>Other-relative</td>\n",
       "      <td>Black</td>\n",
       "      <td>Male</td>\n",
       "      <td>0</td>\n",
       "      <td>0</td>\n",
       "      <td>40</td>\n",
       "      <td>United-States</td>\n",
       "      <td>&lt;=50K.</td>\n",
       "    </tr>\n",
       "    <tr>\n",
       "      <th>48839</th>\n",
       "      <td>38</td>\n",
       "      <td>Private</td>\n",
       "      <td>374983</td>\n",
       "      <td>Bachelors</td>\n",
       "      <td>13</td>\n",
       "      <td>Married-civ-spouse</td>\n",
       "      <td>Prof-specialty</td>\n",
       "      <td>Husband</td>\n",
       "      <td>White</td>\n",
       "      <td>Male</td>\n",
       "      <td>0</td>\n",
       "      <td>0</td>\n",
       "      <td>50</td>\n",
       "      <td>United-States</td>\n",
       "      <td>&lt;=50K.</td>\n",
       "    </tr>\n",
       "    <tr>\n",
       "      <th>48840</th>\n",
       "      <td>44</td>\n",
       "      <td>Private</td>\n",
       "      <td>83891</td>\n",
       "      <td>Bachelors</td>\n",
       "      <td>13</td>\n",
       "      <td>Divorced</td>\n",
       "      <td>Adm-clerical</td>\n",
       "      <td>Own-child</td>\n",
       "      <td>Asian-Pac-Islander</td>\n",
       "      <td>Male</td>\n",
       "      <td>5455</td>\n",
       "      <td>0</td>\n",
       "      <td>40</td>\n",
       "      <td>United-States</td>\n",
       "      <td>&lt;=50K.</td>\n",
       "    </tr>\n",
       "    <tr>\n",
       "      <th>48841</th>\n",
       "      <td>35</td>\n",
       "      <td>Self-emp-inc</td>\n",
       "      <td>182148</td>\n",
       "      <td>Bachelors</td>\n",
       "      <td>13</td>\n",
       "      <td>Married-civ-spouse</td>\n",
       "      <td>Exec-managerial</td>\n",
       "      <td>Husband</td>\n",
       "      <td>White</td>\n",
       "      <td>Male</td>\n",
       "      <td>0</td>\n",
       "      <td>0</td>\n",
       "      <td>60</td>\n",
       "      <td>United-States</td>\n",
       "      <td>&gt;50K.</td>\n",
       "    </tr>\n",
       "  </tbody>\n",
       "</table>\n",
       "<p>48842 rows × 15 columns</p>\n",
       "</div>"
      ],
      "text/plain": [
       "       age         workclass  fnlwgt  education  education-num  \\\n",
       "0       39         State-gov   77516  Bachelors             13   \n",
       "1       50  Self-emp-not-inc   83311  Bachelors             13   \n",
       "2       38           Private  215646    HS-grad              9   \n",
       "3       53           Private  234721       11th              7   \n",
       "4       28           Private  338409  Bachelors             13   \n",
       "...    ...               ...     ...        ...            ...   \n",
       "48837   39           Private  215419  Bachelors             13   \n",
       "48838   64               NaN  321403    HS-grad              9   \n",
       "48839   38           Private  374983  Bachelors             13   \n",
       "48840   44           Private   83891  Bachelors             13   \n",
       "48841   35      Self-emp-inc  182148  Bachelors             13   \n",
       "\n",
       "           marital-status         occupation    relationship  \\\n",
       "0           Never-married       Adm-clerical   Not-in-family   \n",
       "1      Married-civ-spouse    Exec-managerial         Husband   \n",
       "2                Divorced  Handlers-cleaners   Not-in-family   \n",
       "3      Married-civ-spouse  Handlers-cleaners         Husband   \n",
       "4      Married-civ-spouse     Prof-specialty            Wife   \n",
       "...                   ...                ...             ...   \n",
       "48837            Divorced     Prof-specialty   Not-in-family   \n",
       "48838             Widowed                NaN  Other-relative   \n",
       "48839  Married-civ-spouse     Prof-specialty         Husband   \n",
       "48840            Divorced       Adm-clerical       Own-child   \n",
       "48841  Married-civ-spouse    Exec-managerial         Husband   \n",
       "\n",
       "                     race     sex  capital-gain  capital-loss  hours-per-week  \\\n",
       "0                   White    Male          2174             0              40   \n",
       "1                   White    Male             0             0              13   \n",
       "2                   White    Male             0             0              40   \n",
       "3                   Black    Male             0             0              40   \n",
       "4                   Black  Female             0             0              40   \n",
       "...                   ...     ...           ...           ...             ...   \n",
       "48837               White  Female             0             0              36   \n",
       "48838               Black    Male             0             0              40   \n",
       "48839               White    Male             0             0              50   \n",
       "48840  Asian-Pac-Islander    Male          5455             0              40   \n",
       "48841               White    Male             0             0              60   \n",
       "\n",
       "      native-country  income  \n",
       "0      United-States   <=50K  \n",
       "1      United-States   <=50K  \n",
       "2      United-States   <=50K  \n",
       "3      United-States   <=50K  \n",
       "4               Cuba   <=50K  \n",
       "...              ...     ...  \n",
       "48837  United-States  <=50K.  \n",
       "48838  United-States  <=50K.  \n",
       "48839  United-States  <=50K.  \n",
       "48840  United-States  <=50K.  \n",
       "48841  United-States   >50K.  \n",
       "\n",
       "[48842 rows x 15 columns]"
      ]
     },
     "execution_count": 3,
     "metadata": {},
     "output_type": "execute_result"
    }
   ],
   "source": [
    "adult"
   ]
  },
  {
   "cell_type": "code",
   "execution_count": 4,
   "id": "8d005ec1-ab1e-442d-956c-48974d01902c",
   "metadata": {},
   "outputs": [
    {
     "name": "stdout",
     "output_type": "stream",
     "text": [
      "<class 'pandas.core.frame.DataFrame'>\n",
      "RangeIndex: 48842 entries, 0 to 48841\n",
      "Data columns (total 15 columns):\n",
      " #   Column          Non-Null Count  Dtype \n",
      "---  ------          --------------  ----- \n",
      " 0   age             48842 non-null  int64 \n",
      " 1   workclass       47879 non-null  object\n",
      " 2   fnlwgt          48842 non-null  int64 \n",
      " 3   education       48842 non-null  object\n",
      " 4   education-num   48842 non-null  int64 \n",
      " 5   marital-status  48842 non-null  object\n",
      " 6   occupation      47876 non-null  object\n",
      " 7   relationship    48842 non-null  object\n",
      " 8   race            48842 non-null  object\n",
      " 9   sex             48842 non-null  object\n",
      " 10  capital-gain    48842 non-null  int64 \n",
      " 11  capital-loss    48842 non-null  int64 \n",
      " 12  hours-per-week  48842 non-null  int64 \n",
      " 13  native-country  48568 non-null  object\n",
      " 14  income          48842 non-null  object\n",
      "dtypes: int64(6), object(9)\n",
      "memory usage: 5.6+ MB\n"
     ]
    }
   ],
   "source": [
    "adult.info()"
   ]
  },
  {
   "cell_type": "markdown",
   "id": "d4b05938-72a2-4fed-ad26-1f8a703ac5fd",
   "metadata": {},
   "source": [
    "## Mann-Whitney U test\n",
    "\n",
    "Let us look at the age of women and men in the dataset."
   ]
  },
  {
   "cell_type": "code",
   "execution_count": 5,
   "id": "345b555f-ce2a-4852-9d28-88ae12b3a3cb",
   "metadata": {},
   "outputs": [
    {
     "data": {
      "image/png": "[encoded data removed]",
      "text/plain": [
       "<Figure size 500x500 with 1 Axes>"
      ]
     },
     "metadata": {},
     "output_type": "display_data"
    }
   ],
   "source": [
    "sns.catplot(x=\"sex\", y = \"age\", hue = \"sex\", data = adult, kind=\"box\",\n",
    "            showmeans=True,\n",
    "            meanprops={\"marker\":\"X\", \"markerfacecolor\":\"white\", \"markeredgecolor\":\"black\", \"markersize\": \"10\"})\n",
    "plt.title(\"Boxplot of age by sex\")\n",
    "plt.show()"
   ]
  },
  {
   "cell_type": "markdown",
   "id": "2e1127d4-7b6b-4cd6-93d7-02d930f0988e",
   "metadata": {},
   "source": [
    "From the box plot, it is unclear whether the mean or medians of the two groups are truly different. So doing a statistical test is certainly warranted. Let us look closer at the two distributions with histograms."
   ]
  },
  {
   "cell_type": "code",
   "execution_count": 6,
   "id": "981de63a-33b0-43de-bf7c-86297b481499",
   "metadata": {},
   "outputs": [
    {
     "data": {
      "text/plain": [
       "<seaborn.axisgrid.FacetGrid at 0x21806ce7f50>"
      ]
     },
     "execution_count": 6,
     "metadata": {},
     "output_type": "execute_result"
    },
    {
     "data": {
      "image/png": "[encoded data removed]",
      "text/plain": [
       "<Figure size 1000x500 with 2 Axes>"
      ]
     },
     "metadata": {},
     "output_type": "display_data"
    }
   ],
   "source": [
    "g=sns.FacetGrid(adult, col=\"sex\", height = 5)\n",
    "g.map(sns.histplot, \"age\")"
   ]
  },
  {
   "cell_type": "markdown",
   "id": "d22be33f-884c-49d1-acc2-73c554a51dea",
   "metadata": {},
   "source": [
    "The male ages do looks somewhat normal, with some level of right skewness as well as some strange spikes. The female ages do not look normally distributed. Thus, while the sample sizes in both groups are large, the Mann-Whitney U test might be a sensible choice."
   ]
  },
  {
   "cell_type": "code",
   "execution_count": 7,
   "id": "66bc6d7c-3df9-401a-b1d7-24d6cb6e8f80",
   "metadata": {},
   "outputs": [
    {
     "data": {
      "text/plain": [
       "MannwhitneyuResult(statistic=np.float64(231802174.0), pvalue=np.float64(5.021115950651662e-109))"
      ]
     },
     "execution_count": 7,
     "metadata": {},
     "output_type": "execute_result"
    }
   ],
   "source": [
    "stats.mannwhitneyu(adult[adult[\"sex\"]==\"Female\"][\"age\"], adult[adult[\"sex\"]==\"Male\"][\"age\"])"
   ]
  },
  {
   "cell_type": "markdown",
   "id": "8a2a9ee1-2a94-4f4a-a9fd-db3df02bbb5a",
   "metadata": {},
   "source": [
    "There is clearly a statistical significant difference, as the p-value is well below 0.05. More formally, as the p-value is below our prior set significance level of 0.05, we reject the null-hypothesis that the two samples (of female and male ages) come from the same distribution in favor of the alternative hypothesis that the two data samples comes from different distributions.\n",
    "\n",
    "Estimates of the two populations medians, we can get by taking the medians of the two samples:"
   ]
  },
  {
   "cell_type": "code",
   "execution_count": 8,
   "id": "3b55333b-1e3b-447d-b122-cbf80b09cd1c",
   "metadata": {},
   "outputs": [
    {
     "data": {
      "text/plain": [
       "sex\n",
       "Female    35.0\n",
       "Male      38.0\n",
       "Name: age, dtype: float64"
      ]
     },
     "execution_count": 8,
     "metadata": {},
     "output_type": "execute_result"
    }
   ],
   "source": [
    "adult.groupby(\"sex\")[\"age\"].median()"
   ]
  },
  {
   "cell_type": "markdown",
   "id": "185bf062-e35a-416c-b508-bfb79e7f2a16",
   "metadata": {},
   "source": [
    "The large sample size, in this case, help us ensure statistical significance. What would happen if we only looked at the first 100 female and first 100 male:"
   ]
  },
  {
   "cell_type": "code",
   "execution_count": 9,
   "id": "28102165-2aa4-4d82-b28f-e05fe2ccb014",
   "metadata": {},
   "outputs": [],
   "source": [
    "first100femaleAges = adult[adult[\"sex\"]==\"Female\"].iloc[:100][\"age\"]\n",
    "first100maleAges = adult[adult[\"sex\"]==\"Male\"].iloc[:100][\"age\"]\n",
    "first100femaleAgesDF = pd.DataFrame({\"age\": first100femaleAges, \"sex\": [\"Female\"]*100})\n",
    "first100maleAgesDF = pd.DataFrame({\"age\": first100maleAges, \"sex\": [\"Male\"]*100})\n",
    "first200AgesDF = pd.concat([first100femaleAgesDF,first100maleAgesDF])"
   ]
  },
  {
   "cell_type": "code",
   "execution_count": 10,
   "id": "32312768-9cd1-4d31-83a9-e66a72a20d12",
   "metadata": {},
   "outputs": [
    {
     "data": {
      "image/png": "[encoded data removed]",
      "text/plain": [
       "<Figure size 500x500 with 1 Axes>"
      ]
     },
     "metadata": {},
     "output_type": "display_data"
    }
   ],
   "source": [
    "sns.catplot(x=\"sex\", y = \"age\", hue = \"sex\", data = first200AgesDF, kind=\"box\",\n",
    "            showmeans=True,\n",
    "            meanprops={\"marker\":\"X\", \"markerfacecolor\":\"white\", \"markeredgecolor\":\"black\", \"markersize\": \"10\"})\n",
    "plt.title(\"Boxplot of age by sex\")\n",
    "plt.show()"
   ]
  },
  {
   "cell_type": "code",
   "execution_count": 11,
   "id": "dfdece70-bc3b-4392-841b-62e2d476b2a1",
   "metadata": {},
   "outputs": [
    {
     "data": {
      "text/plain": [
       "<seaborn.axisgrid.FacetGrid at 0x2182a180800>"
      ]
     },
     "execution_count": 11,
     "metadata": {},
     "output_type": "execute_result"
    },
    {
     "data": {
      "image/png": "[encoded data removed]",
      "text/plain": [
       "<Figure size 1000x500 with 2 Axes>"
      ]
     },
     "metadata": {},
     "output_type": "display_data"
    }
   ],
   "source": [
    "g=sns.FacetGrid(first200AgesDF, col=\"sex\", height = 5)\n",
    "g.map(sns.histplot, \"age\")"
   ]
  },
  {
   "cell_type": "code",
   "execution_count": 12,
   "id": "86a72c15-dac4-48a8-b91a-be54c267b308",
   "metadata": {},
   "outputs": [
    {
     "data": {
      "text/plain": [
       "MannwhitneyuResult(statistic=np.float64(4613.5), pvalue=np.float64(0.34541152100568395))"
      ]
     },
     "execution_count": 12,
     "metadata": {},
     "output_type": "execute_result"
    }
   ],
   "source": [
    "stats.mannwhitneyu(first100femaleAges, first100maleAges)"
   ]
  },
  {
   "cell_type": "markdown",
   "id": "b0e74c40-1ab1-4d51-b47a-06e9617c1659",
   "metadata": {},
   "source": [
    "As the p-value is well above 0.05 we cannot reject the null hypothesis that these two data sample come from the same distribution. Looking at the histogram above, we see that they are somewhat different, but there is just not enough data to truly differentiate the first 100 females from the first 100 males - the difference could be due to chance."
   ]
  },
  {
   "cell_type": "markdown",
   "id": "2a2177ad-30a4-427b-b898-0cc90ed5b2f8",
   "metadata": {},
   "source": [
    "## Kruskal-Wallis test\n",
    "\n",
    "We can also try to apply the Kruskal-Wallis test. It requires that the two distributions are of similar shape and have the same skewness, however. Both the distributions are right-skewed, but they do not have the exact same shape. But let us try the test anyway."
   ]
  },
  {
   "cell_type": "code",
   "execution_count": null,
   "id": "77a12fe8-aa88-4ae2-be86-8f0234469faa",
   "metadata": {},
   "outputs": [],
   "source": [
    "g=sns.FacetGrid(adult, col=\"sex\", height = 5)\n",
    "g.map(sns.histplot, \"age\", bins = 12)"
   ]
  },
  {
   "cell_type": "code",
   "execution_count": null,
   "id": "afde1c52-9e67-49bf-97d5-828643f77329",
   "metadata": {},
   "outputs": [],
   "source": [
    "stats.kruskal(adult[adult[\"sex\"]==\"Female\"][\"age\"], adult[adult[\"sex\"]==\"Male\"][\"age\"])"
   ]
  },
  {
   "cell_type": "markdown",
   "id": "14ade921-a1f5-4de9-8de7-a00b58aa753a",
   "metadata": {},
   "source": [
    "We clearly see significance again, maybe not surprisingly. We can here also try with only 100 in each group:"
   ]
  },
  {
   "cell_type": "code",
   "execution_count": null,
   "id": "b26f72cd-ecbc-4363-b4be-296c5f752b23",
   "metadata": {},
   "outputs": [],
   "source": [
    "stats.kruskal(first100femaleAges, first100maleAges)"
   ]
  },
  {
   "cell_type": "markdown",
   "id": "35a467ed-a641-4fbe-a9ad-843852c6b8fc",
   "metadata": {},
   "source": [
    "Here we get no significance again."
   ]
  },
  {
   "cell_type": "markdown",
   "id": "ad8306bf-8f7f-48a7-8593-a62ef45d6afd",
   "metadata": {},
   "source": [
    "## Wilcoxon Signed-Rank Test\n",
    "\n",
    "To use the Wilcoxon Singed-Rank test we need paired data. However, we do not have any paired data in the adult dataset. Thus, we will look at another data example. This data comes from exercise 8.5.7 of Samuels, Myra L., Witmer, Jeffrey A., and Schaffner, Andrew A. (2016). *Statistics for the Life Sciences*, \n",
    "Fifth Edition, Global Edition, Pearson."
   ]
  },
  {
   "cell_type": "markdown",
   "id": "6fce5166-b375-4b28-89ec-cd1e863a6189",
   "metadata": {},
   "source": [
    "In the example, 10 subjects had their myocardial blood flow measured before and after consuming caffeine."
   ]
  },
  {
   "cell_type": "code",
   "execution_count": null,
   "id": "e643c9e1-a106-4fdb-8b04-c7d3e5f9bf33",
   "metadata": {},
   "outputs": [],
   "source": [
    "caffeineBloodData = pd.DataFrame({\"beforeCaffeine\": [3.43, 3.08, 3.07, 2.65, 2.49, 2.33, 2.31, 2.24, 2.17, 1.34],\n",
    "                                  \"afterCaffeine\": [2.72, 2.94, 1.76, 2.16, 2.00, 2.37, 2.35, 2.26, 1.72, 1.22]})\n",
    "caffeineBloodData"
   ]
  },
  {
   "cell_type": "markdown",
   "id": "ed3bf011-7c67-42e1-b1a4-4ab0c6e26790",
   "metadata": {},
   "source": [
    "The null-hypothesis is now that the intake of caffeine do not have effect any on the blood flow, while the alternative hypothesis is that there is a difference between before and after caffeine intake in the blood flow. Note how this data is paired, as we measure the same person before and after. Moreover, if we plot the difference of before and after in a histogram, we see the difference is not normally distributed:"
   ]
  },
  {
   "cell_type": "code",
   "execution_count": null,
   "id": "05a41bdf-2b46-4a4b-812e-04901a40f31e",
   "metadata": {},
   "outputs": [],
   "source": [
    "sns.histplot(data = caffeineBloodData, x = caffeineBloodData[\"beforeCaffeine\"] - caffeineBloodData[\"afterCaffeine\"])\n",
    "plt.show()"
   ]
  },
  {
   "cell_type": "markdown",
   "id": "dbbb7a1e-b498-4712-a033-a30d249daf68",
   "metadata": {},
   "source": [
    "Thus, this example is an obvious case for a Wilcoxon Signed-Rank test: "
   ]
  },
  {
   "cell_type": "code",
   "execution_count": null,
   "id": "90272183-045a-4cdf-91f6-e1118215097a",
   "metadata": {},
   "outputs": [],
   "source": [
    "stats.wilcoxon(caffeineBloodData[\"beforeCaffeine\"], caffeineBloodData[\"afterCaffeine\"])"
   ]
  },
  {
   "cell_type": "markdown",
   "id": "24fbcb18-60af-42d7-9ed6-01aaad8a0c08",
   "metadata": {},
   "source": [
    "We see that the p-value is just below 0.05, so if we had chosen that as our significance level, we do find statistical evidence to reject the null-hypothesis of not effect of caffeine. It is not strong evidence, though!"
   ]
  },
  {
   "cell_type": "markdown",
   "id": "c93620a3-06e0-4fdd-a682-3f7b56dbfbc3",
   "metadata": {},
   "source": [
    "There is not a good standard plot for paired data, but a scatter plot can be used:"
   ]
  },
  {
   "cell_type": "code",
   "execution_count": null,
   "id": "02134de7-bc24-4334-a11a-4477c07a492e",
   "metadata": {},
   "outputs": [],
   "source": [
    "sns.scatterplot(data = caffeineBloodData, x = \"beforeCaffeine\", y = \"afterCaffeine\")\n",
    "plt.title(\"Scatterplot of blood flow before and after Caffeine intake\")\n",
    "plt.plot([0, 3.5], [0, 3.5], color='green', linestyle='dashed')\n",
    "plt.xlabel(\"Before\")\n",
    "plt.ylabel(\"After\")\n",
    "plt.show()"
   ]
  },
  {
   "cell_type": "markdown",
   "id": "64e2e74f-184d-433d-be5b-f9f918dd4d7f",
   "metadata": {},
   "source": [
    "As most point lay below the identity line here, it suggest that the blood flow actually goes down after the caffeine intake."
   ]
  },
  {
   "cell_type": "markdown",
   "id": "17117ae2-193c-42ee-abe7-a53ef3ee8afe",
   "metadata": {},
   "source": [
    "## Independent/student t-test"
   ]
  },
  {
   "cell_type": "markdown",
   "id": "38cf621e-31f7-475e-ad40-8934dba82874",
   "metadata": {},
   "source": [
    "As age does not seem to be normally distributed, we look at the hours-per-week instead. Hence, we are now interested in whether there is a difference in the average number of hours per week women and men work. Thus, the null-hypothesis will be there is no difference.\n",
    "\n",
    "Let us first look at the two distribution:"
   ]
  },
  {
   "cell_type": "code",
   "execution_count": null,
   "id": "3d4f8f3d-22f6-4f93-b360-8fffb1ba6fab",
   "metadata": {},
   "outputs": [],
   "source": [
    "g=sns.FacetGrid(adult, col=\"sex\", height = 5)\n",
    "g.map(sns.histplot, \"hours-per-week\", bins = 12)\n",
    "plt.show()"
   ]
  },
  {
   "cell_type": "markdown",
   "id": "44f5d936-5ab4-4245-8e5a-10e2827421fc",
   "metadata": {},
   "source": [
    "They seem close to normally distributed without any significant outliers. (There are also statistical tests to test whether some sample data actually come from a normal distribution, but those tests are beyond the scope of this course.) Thus, we can use a student t-test to test whether there is a difference in mean between men and women in regard to working hours per week. Let us first look at a boxplot to visually compare the means:"
   ]
  },
  {
   "cell_type": "code",
   "execution_count": null,
   "id": "5058c4f1-a142-4c0f-af6f-a6ee84ad42f6",
   "metadata": {},
   "outputs": [],
   "source": [
    "sns.catplot(x=\"sex\", y = \"hours-per-week\", hue = \"sex\", data = adult, kind=\"box\",\n",
    "            showmeans=True,\n",
    "            meanprops={\"marker\":\"X\", \"markerfacecolor\":\"white\", \"markeredgecolor\":\"black\", \"markersize\": \"10\"})\n",
    "plt.title(\"Boxplot of hours-per-week by sex\")\n",
    "plt.show()"
   ]
  },
  {
   "cell_type": "markdown",
   "id": "e3c8f741-a658-45bd-b2b2-88941632c0f6",
   "metadata": {},
   "source": [
    "There clearly looks like there is a difference, but let us run the test:"
   ]
  },
  {
   "cell_type": "code",
   "execution_count": null,
   "id": "2f1a0303-5fe6-40c7-841a-41687dfab9d2",
   "metadata": {},
   "outputs": [],
   "source": [
    "stats.ttest_ind(adult[adult[\"sex\"]==\"Female\"][\"hours-per-week\"], adult[adult[\"sex\"]==\"Male\"][\"hours-per-week\"])"
   ]
  },
  {
   "cell_type": "markdown",
   "id": "94cf73da-afb2-45e7-a2e7-7ddf8ff2a693",
   "metadata": {},
   "source": [
    "The p-value is basically 0, so clearly it is below our pre-specified significance level of 0.05. Thus, we reject our null-hypothesis (there is no difference in the average amount of hours women and men work per week) in favor of the alternative hypothesis that there is a difference."
   ]
  },
  {
   "cell_type": "markdown",
   "id": "8f0e2b5d-f81d-435f-a814-c9278a30f3b4",
   "metadata": {},
   "source": [
    "Note that the alternative hypothesis does not specify in which direction the difference is, in other words the alternative hypothesis is 'two-sided' and we have only showed there is a difference. However, we could have chosen as an alternative hypothesis that the average working hours per week was less for women. To do this, we specify the argument `alternative` in the call to our test function:"
   ]
  },
  {
   "cell_type": "code",
   "execution_count": null,
   "id": "241fd430-5405-4774-90fb-cd2a5cf2ecfd",
   "metadata": {},
   "outputs": [],
   "source": [
    "stats.ttest_ind(adult[adult[\"sex\"]==\"Female\"][\"hours-per-week\"], adult[adult[\"sex\"]==\"Male\"][\"hours-per-week\"], alternative = 'less')"
   ]
  },
  {
   "cell_type": "markdown",
   "id": "8e43648e-aa1d-42e1-bd58-441eea0cc796",
   "metadata": {},
   "source": [
    "The p-value is still basically zero, but now we have statistical evidence in favor of the alternative hypothesis that women work fewer hours on average pr. week. (In the particular historic population, this data was sampled from.)\n",
    "\n",
    "If we have chosen the alternative hypothesis that women work more hours per week on average, we would not have gotten a p-value low enough to ensure statistical significance:"
   ]
  },
  {
   "cell_type": "code",
   "execution_count": null,
   "id": "74f9a706-a307-48bb-8bc9-550bb6d0d0e2",
   "metadata": {},
   "outputs": [],
   "source": [
    "stats.ttest_ind(adult[adult[\"sex\"]==\"Female\"][\"hours-per-week\"], adult[adult[\"sex\"]==\"Male\"][\"hours-per-week\"], alternative = 'greater')"
   ]
  },
  {
   "cell_type": "markdown",
   "id": "62b31fdf-ec85-4f02-a943-b9990b4a2011",
   "metadata": {},
   "source": [
    "Let us now try with smaller samples of the first 100 females and males, for the fun of it:"
   ]
  },
  {
   "cell_type": "code",
   "execution_count": null,
   "id": "7ddc4385-5140-410d-b17a-c07e4ece07ce",
   "metadata": {},
   "outputs": [],
   "source": [
    "first100femaleHPW = adult[adult[\"sex\"]==\"Female\"].iloc[:100][\"hours-per-week\"]\n",
    "first100maleHPW = adult[adult[\"sex\"]==\"Male\"].iloc[:100][\"hours-per-week\"]\n",
    "first100femaleHPWDF = pd.DataFrame({\"hours-per-week\": first100femaleHPW, \"sex\": [\"Female\"]*100})\n",
    "first100maleHPWDF = pd.DataFrame({\"hours-per-week\": first100maleHPW, \"sex\": [\"Male\"]*100})\n",
    "first200HPWDF = pd.concat([first100femaleHPWDF,first100maleHPWDF])"
   ]
  },
  {
   "cell_type": "code",
   "execution_count": null,
   "id": "bf73a822-31fe-434a-aea3-643a195427cd",
   "metadata": {},
   "outputs": [],
   "source": [
    "g=sns.FacetGrid(first200HPWDF, col=\"sex\", height = 5)\n",
    "g.map(sns.histplot, \"hours-per-week\", bins = 12)\n",
    "plt.show()"
   ]
  },
  {
   "cell_type": "code",
   "execution_count": null,
   "id": "5c689edc-fa1b-4702-a9d2-ad482f9f729c",
   "metadata": {},
   "outputs": [],
   "source": [
    "sns.catplot(x=\"sex\", y = \"hours-per-week\", hue = \"sex\", data = first200HPWDF, kind=\"box\",\n",
    "            showmeans=True,\n",
    "            meanprops={\"marker\":\"X\", \"markerfacecolor\":\"white\", \"markeredgecolor\":\"black\", \"markersize\": \"10\"})\n",
    "plt.show()"
   ]
  },
  {
   "cell_type": "code",
   "execution_count": null,
   "id": "11aa7dcf-5295-4e20-b25b-b51ff3b48bf9",
   "metadata": {},
   "outputs": [],
   "source": [
    "stats.ttest_ind(first100femaleHPW, first100maleHPW)"
   ]
  },
  {
   "cell_type": "markdown",
   "id": "c81e535a-1551-4a1e-b8a7-7b36893865a4",
   "metadata": {},
   "source": [
    "We again get a statistical significant difference eventhough the strength is much less than before."
   ]
  },
  {
   "cell_type": "markdown",
   "id": "87a7c481-69e5-4bfa-b4db-124dd1d0967d",
   "metadata": {},
   "source": [
    "## Paried t-test"
   ]
  },
  {
   "cell_type": "markdown",
   "id": "38748d26-e371-460e-a20d-ba17b241a4c1",
   "metadata": {},
   "source": [
    "Again we need some paired data, and we will again use data from Samuels, Myra L., Witmer, Jeffrey A., and Schaffner, Andrew A. (2016). *Statistics for the Life Sciences*, Fifth Edition, Global Edition, Pearson. This time data from Example 8.2.4. Here the \"Gumminess\" of a new type of cheese is measured 7 days and 30 days after production."
   ]
  },
  {
   "cell_type": "code",
   "execution_count": null,
   "id": "a2523eca-cc48-49e6-b7fd-06b9340ffb29",
   "metadata": {},
   "outputs": [],
   "source": [
    "cheeseData = pd.DataFrame({\"day7\": [7296, 6325, 8003, 5013, 4637, 8525, 9445, 8794, 5213, 3399],\n",
    "                           \"day30\": [5544, 6120, 5720, 2508, 3743, 5272, 7189, 6794, 4409, 4083]})\n",
    "cheeseData"
   ]
  },
  {
   "cell_type": "markdown",
   "id": "8c495c0c-9fd6-4bea-8ef1-ab59529af587",
   "metadata": {},
   "source": [
    "Let us first visualize the data in a scatterplot:"
   ]
  },
  {
   "cell_type": "code",
   "execution_count": null,
   "id": "e2d935d7-a74a-440d-b344-83fd1530b243",
   "metadata": {},
   "outputs": [],
   "source": [
    "sns.scatterplot(data = cheeseData, x = \"day7\", y = \"day30\")\n",
    "plt.title(\"Scatterplot of cheese gumminess after day 7 and day 30\")\n",
    "plt.plot([0, 10000], [0, 10000], color='green', linestyle='dashed')\n",
    "plt.xlabel(\"day7\")\n",
    "plt.ylabel(\"day30\")\n",
    "plt.show()"
   ]
  },
  {
   "cell_type": "markdown",
   "id": "f50310a6-ad21-404f-8230-47eda3010f7f",
   "metadata": {},
   "source": [
    "It looks like the measure of gumminess goes down from day 7 to day 30. Let us plot the differences between the to days:"
   ]
  },
  {
   "cell_type": "code",
   "execution_count": null,
   "id": "288602c8-5933-4f8f-b382-615377c4f0af",
   "metadata": {},
   "outputs": [],
   "source": [
    "sns.histplot(data = cheeseData, x = cheeseData[\"day7\"] - cheeseData[\"day30\"])\n",
    "plt.xlabel(\"difference in gumminess\")\n",
    "plt.show()"
   ]
  },
  {
   "cell_type": "markdown",
   "id": "4f1c0222-4ab3-4251-afd8-f896552937be",
   "metadata": {},
   "source": [
    "It does not obviouslt look normally distributed, but for the sake of the example, let us assume so. Thus, we will perform a paired t-test:"
   ]
  },
  {
   "cell_type": "code",
   "execution_count": null,
   "id": "1fac65a2-7f37-438c-b026-7081389c796e",
   "metadata": {},
   "outputs": [],
   "source": [
    "stats.ttest_rel(cheeseData[\"day7\"], cheeseData[\"day30\"])"
   ]
  },
  {
   "cell_type": "markdown",
   "id": "ef1a25b8-c57f-472b-880b-2c6f682156a5",
   "metadata": {},
   "source": [
    "The p-value here is actually small enough that we can conclude that there is statistical significant evidence that there is a difference in the cheese gumminess between day 7 and day 30."
   ]
  },
  {
   "cell_type": "markdown",
   "id": "7395d7a3-936e-432b-b138-bb632cbbcd28",
   "metadata": {},
   "source": [
    "## ANOVA"
   ]
  },
  {
   "cell_type": "markdown",
   "id": "247cc240-7d63-4432-a4a5-88e4248da2c7",
   "metadata": {},
   "source": [
    "We will look at whether there is a difference across marital-status in regard to hours-per-week."
   ]
  },
  {
   "cell_type": "code",
   "execution_count": null,
   "id": "a59f836f-e0d2-4976-8939-7deb666f0713",
   "metadata": {},
   "outputs": [],
   "source": [
    "adult.groupby(\"marital-status\")[\"hours-per-week\"].describe()"
   ]
  },
  {
   "cell_type": "markdown",
   "id": "05539814-ed3d-4ccb-81fd-b7155075fbc2",
   "metadata": {},
   "source": [
    "Let us also visualize the data using boxplots and histograms."
   ]
  },
  {
   "cell_type": "code",
   "execution_count": null,
   "id": "6bb943b7-c329-4f0c-a289-82879d3af1e5",
   "metadata": {},
   "outputs": [],
   "source": [
    "sns.catplot(y=\"hours-per-week\", hue = \"marital-status\", data = adult, kind=\"box\", height = 7,\n",
    "            showmeans=True,\n",
    "            meanprops={\"marker\":\"X\", \"markerfacecolor\":\"white\", \"markeredgecolor\":\"black\", \"markersize\": \"10\"})\n",
    "plt.show()"
   ]
  },
  {
   "cell_type": "code",
   "execution_count": null,
   "id": "4499f395-9dd8-4398-a4e8-40de4b0f0e65",
   "metadata": {},
   "outputs": [],
   "source": [
    "g=sns.FacetGrid(adult, row=\"marital-status\", height = 5)\n",
    "g.map(sns.histplot, \"hours-per-week\", bins = 16)\n",
    "plt.show()"
   ]
  },
  {
   "cell_type": "markdown",
   "id": "c067a988-6b7e-48fc-ab2d-ec9052ea0093",
   "metadata": {},
   "source": [
    "The distribution of hours-per-week is not perfectly normally distributed for the different groups, but it is not completely off. Moreover, note that there are more than two values of the categorical variable `marital-status`, thus we cannot use the student t-test as before. Instead, we need to use the ANOVA test."
   ]
  },
  {
   "cell_type": "markdown",
   "id": "fc209908-e3b6-43c1-bcaa-08ea66278e1e",
   "metadata": {},
   "source": [
    "For simplicity, we will only look at the five most common marital-status"
   ]
  },
  {
   "cell_type": "code",
   "execution_count": null,
   "id": "7d62ebb4-4b22-4670-a560-1e6d48086ff4",
   "metadata": {},
   "outputs": [],
   "source": [
    "stats.f_oneway(adult[adult[\"marital-status\"]==\"Divorced\"][\"hours-per-week\"],\n",
    "               adult[adult[\"marital-status\"]==\"Married-civ-spouse\"][\"hours-per-week\"],\n",
    "               adult[adult[\"marital-status\"]==\"Never-married\"][\"hours-per-week\"],\n",
    "               adult[adult[\"marital-status\"]==\"Separated\"][\"hours-per-week\"],\n",
    "               adult[adult[\"marital-status\"]==\"Widowed\"][\"hours-per-week\"])         "
   ]
  },
  {
   "cell_type": "markdown",
   "id": "92069c76-ed24-4f07-bdad-83cb79aebc51",
   "metadata": {},
   "source": [
    "A p-value of 0 clearly tell is that there is a difference, however it does not tell us which groups of marital status that have different working hours per week. Further tests would be need to decide that."
   ]
  },
  {
   "cell_type": "markdown",
   "id": "d46845d9-e81c-45a1-9dab-457294ea943f",
   "metadata": {},
   "source": [
    "## Chi-square Test\n",
    "\n",
    "We can use the Chi-square Test to test categorical distributions against baseline categorical distribution. For instance, we can test for women whether every level of education is equally likely. To do this, we will compare the actual sample distribution of the variable `education` for women with the expected distribution under the null-hypothesis, which in this case would be the uniform distribution.\n",
    "\n",
    "We get the sample distribution of `education` for woman using `.value_counts` and plot it using Seaborn's `countplot`:"
   ]
  },
  {
   "cell_type": "code",
   "execution_count": null,
   "id": "b0914c0d-2383-420b-8abd-b3285830136f",
   "metadata": {},
   "outputs": [],
   "source": [
    "adult[adult[\"sex\"]==\"Female\"][\"education\"].value_counts()"
   ]
  },
  {
   "cell_type": "code",
   "execution_count": null,
   "id": "4428bacb-95d9-4251-a673-60dddf526a49",
   "metadata": {},
   "outputs": [],
   "source": [
    "sns.countplot(adult[adult[\"sex\"]==\"Female\"], y = \"education\")\n",
    "plt.show()"
   ]
  },
  {
   "cell_type": "code",
   "execution_count": null,
   "id": "4b2093ee-8f17-47dd-ad22-8718c4719430",
   "metadata": {},
   "outputs": [],
   "source": [
    "femaleEducationLevels = adult[adult[\"sex\"]==\"Female\"][\"education\"].value_counts().array\n",
    "femaleEducationLevels"
   ]
  },
  {
   "cell_type": "markdown",
   "id": "7826877e-6bc5-49c4-9187-7d9d8405f048",
   "metadata": {},
   "source": [
    "It clearly do not look like every educational level is equally likely, but let us make the test anyway. First we need to calculate the expected values of each educational level under the uniform distribution. Note the probability of each level under the uniform distribution is `1 / len(femaleEducationLevels)`."
   ]
  },
  {
   "cell_type": "code",
   "execution_count": null,
   "id": "8fb8dbd2-a1eb-49cb-802c-b4fa4bf2a6ba",
   "metadata": {},
   "outputs": [],
   "source": [
    "expectedFemaleEducationLevels = np.repeat(1 / len(femaleEducationLevels), len(femaleEducationLevels))\n",
    "expectedFemaleEducationLevels = expectedFemaleEducationLevels * sum(femaleEducationLevels)\n",
    "expectedFemaleEducationLevels"
   ]
  },
  {
   "cell_type": "markdown",
   "id": "8ba9cebe-a54a-4e22-be80-8ae2dd9dc56f",
   "metadata": {},
   "source": [
    "We can now perform a chi-square test to test whether these two arrays represent the same distribution:"
   ]
  },
  {
   "cell_type": "code",
   "execution_count": null,
   "id": "7fbf7671-4a10-44c8-9d77-867d86ebb446",
   "metadata": {},
   "outputs": [],
   "source": [
    "stats.chisquare(femaleEducationLevels, expectedFemaleEducationLevels)"
   ]
  },
  {
   "cell_type": "markdown",
   "id": "93575022-59f3-4ffd-a6c2-0070c0e9def1",
   "metadata": {},
   "source": [
    "The p-value is essentially zero, which is well below a significance level of 0.05. Thus we reject the null-hypothesis that every educational level is equally likely for women (which is well in line with what we saw in the above barplot)."
   ]
  },
  {
   "cell_type": "markdown",
   "id": "605b3f9d-6a50-4404-89ab-858a2fd877ad",
   "metadata": {},
   "source": [
    "The next question of interest could be whether the distribution of different level of education for women is different from that of men. Or, put in other words, is there any correlation between the two categorical variables `sex` and `educations`? We can also use the chi-square test to test for this. First, let us look at the cross table of the two variable `sex` and `educations`, which is also called the contingency table."
   ]
  },
  {
   "cell_type": "code",
   "execution_count": null,
   "id": "2e5d0879-0cd2-4e52-bcc3-278a041f5a38",
   "metadata": {},
   "outputs": [],
   "source": [
    "pd.crosstab(adult[\"sex\"], adult[\"education\"])"
   ]
  },
  {
   "cell_type": "markdown",
   "id": "d161b46e-1ca5-4a87-979f-3f44d18e1b49",
   "metadata": {},
   "source": [
    "It is not clearly from these numbers whether the distributions are different, also because the total number of females and total number of males in the dataset are quite different. However, we can also visualize the two distributions by a barplot using `sex` as the `hue` argument:"
   ]
  },
  {
   "cell_type": "code",
   "execution_count": null,
   "id": "fb5827af-1dfb-42f7-9eaf-b1276c720ed6",
   "metadata": {},
   "outputs": [],
   "source": [
    "sns.countplot(adult, y = \"education\", hue = \"sex\")\n",
    "plt.show()"
   ]
  },
  {
   "cell_type": "markdown",
   "id": "96a65069-947c-46eb-bb96-882a92b36d01",
   "metadata": {},
   "source": [
    "From this, it is still hard to judge if there is a difference in educational level between men and woman, so we will do a chi-square test. Note that from the cross table it is clear that we have more than 5 observations in each cell, so the chi-square test is applicable. \n",
    "\n",
    "Essentially, what we want to do is again to compare these observed numbers to the expected numbers if there were no correlation between the two variables. For each cell of this table, the expected value is the total sum of its row multiplied by the total sum of its column. However, if we use the SciPy function `stats.chi2_contingency` instead of the `stats.chisquare` function we can just pass in the original cross table of observations and the table of expected values will implicitly be calculated for us along with the p-value."
   ]
  },
  {
   "cell_type": "code",
   "execution_count": null,
   "id": "17785653-849c-4e3b-8d16-bdbd0b95e011",
   "metadata": {},
   "outputs": [],
   "source": [
    "stats.chi2_contingency(pd.crosstab(adult[\"sex\"], adult[\"education\"]))"
   ]
  },
  {
   "cell_type": "markdown",
   "id": "a3a60180-8bea-4bd2-85b6-f71d8b0e856e",
   "metadata": {},
   "source": [
    "Here we get a p-value well below a significance level of 0.05, and we reject the null-hypothesis that the two categorical variables `sex` and `education` do not correlate. Thus, we have statistical significant support for the alternative hypothesis that there is a difference in educational level across the two genders. (We just do not know at this put what the difference amount to...)"
   ]
  },
  {
   "cell_type": "markdown",
   "id": "8ed36137-a6a5-473c-925d-736a756a6765",
   "metadata": {},
   "source": [
    "Note here, that the fact that we get significance is also due to our relatively large sample size. If we look at the 100 first rows of the adult dataset, or the first 1000 or first 2000 rows, we do not get a signficance. We need at least the first 3000 rows of this dataset to get a statistical significance."
   ]
  },
  {
   "cell_type": "code",
   "execution_count": null,
   "id": "9fb10a5d-1813-43ba-8cc1-0e6c419cbd9e",
   "metadata": {},
   "outputs": [],
   "source": [
    "stats.chi2_contingency(pd.crosstab(adult.iloc[0:100][\"sex\"], adult.iloc[0:100][\"education\"]))"
   ]
  },
  {
   "cell_type": "code",
   "execution_count": null,
   "id": "3932961e-f313-4fee-8352-a64d287456e8",
   "metadata": {},
   "outputs": [],
   "source": [
    "stats.chi2_contingency(pd.crosstab(adult.iloc[0:1000][\"sex\"], adult.iloc[0:1000][\"education\"]))"
   ]
  },
  {
   "cell_type": "code",
   "execution_count": null,
   "id": "4e4632ac-9b23-4863-b927-c1bab2132116",
   "metadata": {},
   "outputs": [],
   "source": [
    "stats.chi2_contingency(pd.crosstab(adult.iloc[0:2000][\"sex\"], adult.iloc[0:2000][\"education\"]))"
   ]
  },
  {
   "cell_type": "code",
   "execution_count": null,
   "id": "ec67a503-2b14-4274-a700-0743bae56538",
   "metadata": {},
   "outputs": [],
   "source": [
    "stats.chi2_contingency(pd.crosstab(adult.iloc[0:3000][\"sex\"], adult.iloc[0:3000][\"education\"]))"
   ]
  },
  {
   "cell_type": "code",
   "execution_count": null,
   "id": "3f0da906-94e7-48e8-8261-81292fd3fb48",
   "metadata": {},
   "outputs": [],
   "source": [
    "stats.chi2_contingency(pd.crosstab(adult.iloc[0:4000][\"sex\"], adult.iloc[0:4000][\"education\"]))"
   ]
  },
  {
   "cell_type": "code",
   "execution_count": null,
   "id": "bcad076a-74c8-48ab-bbed-f773a1a4bcd4",
   "metadata": {},
   "outputs": [],
   "source": []
  }
 ],
 "metadata": {
  "kernelspec": {
   "display_name": "Python 3",
   "language": "python",
   "name": "python3"
  },
  "language_info": {
   "codemirror_mode": {
    "name": "ipython",
    "version": 3
   },
   "file_extension": ".py",
   "mimetype": "text/x-python",
   "name": "python",
   "nbconvert_exporter": "python",
   "pygments_lexer": "ipython3",
   "version": "3.13.2"
  }
 },
 "nbformat": 4,
 "nbformat_minor": 5
}
