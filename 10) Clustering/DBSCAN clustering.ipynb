{
 "cells": [
  {
   "cell_type": "markdown",
   "metadata": {},
   "source": [
    "# DBSCAN clustering\n",
    " \n",
    "In this notebook, we will look at an example of DBSCAN clustering. First we load the classic modules as well as a few new ones."
   ]
  },
  {
   "cell_type": "code",
   "execution_count": null,
   "metadata": {},
   "outputs": [],
   "source": [
    "import numpy as np\n",
    "import pandas as pd\n",
    "from matplotlib import pyplot as plt\n",
    "import seaborn as sns\n",
    "\n",
    "from sklearn.cluster import KMeans\n",
    "from sklearn.cluster import AgglomerativeClustering\n",
    "\n",
    "from sklearn.cluster import DBSCAN\n",
    "from sklearn.datasets import make_blobs\n",
    "from sklearn.datasets import make_moons\n",
    "from sklearn.preprocessing import StandardScaler"
   ]
  },
  {
   "cell_type": "markdown",
   "metadata": {},
   "source": [
    "We make an example dataset to work with first. Let's make 12 samples at random:"
   ]
  },
  {
   "cell_type": "code",
   "execution_count": null,
   "metadata": {},
   "outputs": [],
   "source": [
    "X, y = make_blobs(random_state=0, n_samples=12)\n",
    "X"
   ]
  },
  {
   "cell_type": "code",
   "execution_count": null,
   "metadata": {},
   "outputs": [],
   "source": [
    "sns.scatterplot(x = X[:, 0], y = X[:, 1])\n",
    "plt.show()"
   ]
  },
  {
   "cell_type": "markdown",
   "metadata": {},
   "source": [
    "We use DBSCAN with default parameters to cluster these samples:\n",
    "* eps=0.5\n",
    "* min_samples=5"
   ]
  },
  {
   "cell_type": "code",
   "execution_count": null,
   "metadata": {},
   "outputs": [],
   "source": [
    "dbscan = DBSCAN()\n",
    "clusters = dbscan.fit_predict(X)     # Note that, we can use the .fit_predict instead of .fit to get the clustering assignments directly \n",
    "print(\"Cluster memberships:\\n{}\".format(clusters))"
   ]
  },
  {
   "cell_type": "markdown",
   "metadata": {},
   "source": [
    "A cluster membership of -1 means the corresponding data point is an outlier.\n",
    "\n",
    "The DBSCAN algorithm with the default setting regards all data points as outliers!\n",
    "\n",
    "The variable *dbscan.labels_* also contains the clustering result, i.e., the cluster label for each data point. Let's plot the clustering result."
   ]
  },
  {
   "cell_type": "code",
   "execution_count": null,
   "metadata": {},
   "outputs": [],
   "source": [
    "visData = pd.DataFrame({\"X1\" : X[:, 0], \"X2\" : X[:, 1]})\n",
    "visData[\"DBSCAN clusters\"] = dbscan.labels_\n",
    "plt.figure(figsize=(8, 6))\n",
    "sns.scatterplot(data = visData, x = \"X1\", y = \"X2\", hue = \"DBSCAN clusters\", palette=\"deep\")\n",
    "plt.title(\"DBSCAN clustering for random data\")\n",
    "plt.show()"
   ]
  },
  {
   "cell_type": "markdown",
   "metadata": {
    "scrolled": true
   },
   "source": [
    "Let us try our with some different values for `min_samples` and `eps`:"
   ]
  },
  {
   "cell_type": "code",
   "execution_count": null,
   "metadata": {},
   "outputs": [],
   "source": [
    "minSamples = [2, 3, 5]\n",
    "eps = [1.0, 1.5, 2.0, 3.0]\n",
    "\n",
    "for ms in minSamples:\n",
    "    for e in eps:\n",
    "        dbscan = DBSCAN(min_samples = ms, eps = e)\n",
    "        clusters = dbscan.fit_predict(X) \n",
    "        visData[\"DBSCAN_ms:{0}_e:{1}\".format(ms, e)] = dbscan.labels_\n",
    "        plt.figure(figsize=(8, 5))\n",
    "        sns.scatterplot(data = visData, x = \"X1\", y = \"X2\", hue = \"DBSCAN_ms:{0}_e:{1}\".format(ms, e), palette=\"deep\")\n",
    "        plt.title(\"DBSCAN clustering with min samples {0} and eps {1}\".format(ms, e))\n",
    "plt.show()\n",
    "        "
   ]
  },
  {
   "cell_type": "markdown",
   "metadata": {},
   "source": [
    "**Observations**:\n",
    "* When eps is fixed, a larger min_samples results in fewer core points, more non-core points and more outliers.\n",
    "* When min_samples is fixed, a larger eps results in more core points, fewer non-core and outliers, and fewer clusters.\n",
    "* All outliers and all in one cluster are two cases that are kinda opposite to each other w.r.t. the setting of eps and min_samples."
   ]
  },
  {
   "cell_type": "markdown",
   "metadata": {},
   "source": [
    "Finally, let us try DBSCAN on the moon example."
   ]
  },
  {
   "cell_type": "code",
   "execution_count": null,
   "metadata": {},
   "outputs": [],
   "source": [
    "X, y = make_moons(n_samples=200, noise=0.05, random_state=0)"
   ]
  },
  {
   "cell_type": "code",
   "execution_count": null,
   "metadata": {},
   "outputs": [],
   "source": [
    "sns.scatterplot(x = X[:, 0], y = X[:, 1])\n",
    "plt.show()"
   ]
  },
  {
   "cell_type": "markdown",
   "metadata": {},
   "source": [
    "Let us first try K-Means clustering:"
   ]
  },
  {
   "cell_type": "code",
   "execution_count": null,
   "metadata": {},
   "outputs": [],
   "source": [
    "kmeans = KMeans(n_clusters=2)\n",
    "kmeans.fit(X)\n",
    "\n",
    "visData = pd.DataFrame({\"X1\": X[:, 0], \"X2\": X[:, 1]})\n",
    "visData[\"K Means Clustering\"] = kmeans.labels_\n",
    "\n",
    "sns.scatterplot(data = visData, x = \"X1\", y = \"X2\", hue = \"K Means Clustering\")\n",
    "plt.scatter(x = kmeans.cluster_centers_[:,0], y = kmeans.cluster_centers_[:,1], color='red', s = 100)\n",
    "plt.title(\"K-Means clustering of moon dat data\")\n",
    "plt.show()"
   ]
  },
  {
   "cell_type": "markdown",
   "metadata": {},
   "source": [
    "Let us also try with Agglomerative clustering:"
   ]
  },
  {
   "cell_type": "code",
   "execution_count": null,
   "metadata": {},
   "outputs": [],
   "source": [
    "aggClustering = AgglomerativeClustering(n_clusters=3)\n",
    "aggClustering.fit(X)\n",
    "\n",
    "visData[\"Agglomerative Clustering\"] = kmeans.labels_\n",
    "\n",
    "sns.scatterplot(data = visData, x = \"X1\", y = \"X2\", hue = \"Agglomerative Clustering\")\n",
    "plt.title(\"Agglomerative clustering of moon dat data\")\n",
    "plt.show()"
   ]
  },
  {
   "cell_type": "markdown",
   "metadata": {},
   "source": [
    "And now finally, with DBSCAN:"
   ]
  },
  {
   "cell_type": "code",
   "execution_count": null,
   "metadata": {},
   "outputs": [],
   "source": [
    "dbscan = DBSCAN(eps=0.2)\n",
    "visData[\"DBSCAN Clustering\"] = dbscan.fit_predict(X)  \n",
    "\n",
    "sns.scatterplot(data = visData, x = \"X1\", y = \"X2\", hue = \"DBSCAN Clustering\")\n",
    "plt.title(\"DBSCAN clustering of moon dat data\")\n",
    "plt.show()"
   ]
  },
  {
   "cell_type": "code",
   "execution_count": null,
   "metadata": {},
   "outputs": [],
   "source": []
  }
 ],
 "metadata": {
  "kernelspec": {
   "display_name": "Python 3 (ipykernel)",
   "language": "python",
   "name": "python3"
  },
  "language_info": {
   "codemirror_mode": {
    "name": "ipython",
    "version": 3
   },
   "file_extension": ".py",
   "mimetype": "text/x-python",
   "name": "python",
   "nbconvert_exporter": "python",
   "pygments_lexer": "ipython3",
   "version": "3.12.8"
  }
 },
 "nbformat": 4,
 "nbformat_minor": 4
}
