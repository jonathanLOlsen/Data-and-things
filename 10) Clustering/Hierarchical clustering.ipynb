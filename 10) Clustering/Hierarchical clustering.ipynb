{
 "cells": [
  {
   "attachments": {},
   "cell_type": "markdown",
   "metadata": {},
   "source": [
    "# Hierarchical clustering\n",
    "\n",
    "In this notebook, we will look at Hierarchical clustering, more specific **Agglomerative clustering**. First, let us import the relevant modules and dataset."
   ]
  },
  {
   "cell_type": "code",
   "execution_count": null,
   "metadata": {},
   "outputs": [],
   "source": [
    "import numpy as np\n",
    "import pandas as pd\n",
    "from matplotlib import pyplot as plt\n",
    "import seaborn as sns\n",
    "\n",
    "from sklearn.preprocessing import MinMaxScaler\n",
    "\n",
    "from sklearn.cluster import AgglomerativeClustering"
   ]
  },
  {
   "cell_type": "code",
   "execution_count": null,
   "metadata": {},
   "outputs": [],
   "source": [
    "data = pd.read_csv(\"Ch5_age_income_data.csv\")\n",
    "X = data[['age', 'income']]"
   ]
  },
  {
   "cell_type": "markdown",
   "metadata": {},
   "source": [
    "Note that Agglomerative clustering is also based on a distance measure, so we need to scale the data here as well."
   ]
  },
  {
   "cell_type": "code",
   "execution_count": null,
   "metadata": {},
   "outputs": [],
   "source": [
    "minMaxScaler = MinMaxScaler()\n",
    "X_scaled_mm = pd.DataFrame(minMaxScaler.fit_transform(X), columns=X.columns)"
   ]
  },
  {
   "cell_type": "markdown",
   "metadata": {},
   "source": [
    "We build the agglomerative clustering model the same as the K-Means model. Note that we do specify a number of clusters. This is to get some actual cluster assignments."
   ]
  },
  {
   "cell_type": "code",
   "execution_count": null,
   "metadata": {},
   "outputs": [],
   "source": [
    "aggClustering = AgglomerativeClustering(n_clusters=3)\n",
    "aggClustering.fit(X_scaled_mm)"
   ]
  },
  {
   "cell_type": "markdown",
   "metadata": {},
   "source": [
    "We can also get the cluster assignments the same way:"
   ]
  },
  {
   "cell_type": "code",
   "execution_count": null,
   "metadata": {},
   "outputs": [],
   "source": [
    "data[\"3aggCluster\"] = aggClustering.labels_\n",
    "data[\"3aggCluster\"]"
   ]
  },
  {
   "cell_type": "markdown",
   "metadata": {},
   "source": [
    "Note, however, that we do not have centroids for Agglomerative clustering, so we do not need to plot them. Let us visualise the Agglomerative clustering for 3 clusters:"
   ]
  },
  {
   "cell_type": "code",
   "execution_count": null,
   "metadata": {},
   "outputs": [],
   "source": [
    "sns.scatterplot(data = data, x = \"age\", y = \"income\", hue = \"3aggCluster\")\n",
    "plt.title(\"Agglomative clustering of the age-income data with 3 clusters\")\n",
    "plt.show()"
   ]
  },
  {
   "cell_type": "markdown",
   "metadata": {},
   "source": [
    "Let us now try to visualize different choices of number of clusters for Agglomerative clustering, in a \"bottom-up away\". We first build a function that takes an `n` and plot the agglomerative clustering for `n` clusters"
   ]
  },
  {
   "cell_type": "code",
   "execution_count": null,
   "metadata": {},
   "outputs": [],
   "source": [
    "def aggClustering(n):\n",
    "    agg = AgglomerativeClustering(n_clusters=n)\n",
    "    agg.fit(X_scaled_mm)\n",
    "\n",
    "    data[\"aggCluster{0}\".format(n)] = agg.labels_\n",
    "\n",
    "    plt.figure(figsize=(8, 6))\n",
    "\n",
    "    sns.scatterplot(data = data, x = \"age\", y = \"income\", hue = \"aggCluster{0}\".format(n), palette=\"deep\")\n",
    "    plt.title(\"Agglomative clustering of the age-income data with {0} clusters\".format(n))\n",
    "    plt.show()"
   ]
  },
  {
   "cell_type": "code",
   "execution_count": null,
   "metadata": {},
   "outputs": [],
   "source": [
    "for cn in range(10, 0, -1):\n",
    "    aggClustering(cn)"
   ]
  },
  {
   "cell_type": "markdown",
   "metadata": {},
   "source": [
    "### Linkage\n",
    "\n",
    "Note that we have not said anything about \"linkage\" or \"Inter-Cluster Similarity\". The default in `AgglomerativeClustering` is *Ward*, but it can easily be changed to *complete*, *average*, or *single*. Let us compare them for 7 clusters:"
   ]
  },
  {
   "cell_type": "code",
   "execution_count": null,
   "metadata": {},
   "outputs": [],
   "source": [
    "n=7\n",
    "\n",
    "LinkageMethod = \"ward\"\n",
    "agg = AgglomerativeClustering(n_clusters=n, linkage=LinkageMethod)\n",
    "agg.fit(X_scaled_mm)\n",
    "data[\"aggCluster{0}{1}\".format(n, LinkageMethod)] = agg.labels_\n",
    "plt.figure(figsize=(8, 6))\n",
    "sns.scatterplot(data = data, x = \"age\", y = \"income\", hue = \"aggCluster{0}{1}\".format(n, LinkageMethod), palette=\"deep\")\n",
    "plt.title(\"Agglomative clustering with linkage '{1}' of the age-income data with {0} clusters\".format(n, LinkageMethod))\n",
    "plt.show()\n",
    "\n",
    "LinkageMethod = \"complete\"\n",
    "agg = AgglomerativeClustering(n_clusters=n, linkage=LinkageMethod)\n",
    "agg.fit(X_scaled_mm)\n",
    "data[\"aggCluster{0}{1}\".format(n, LinkageMethod)] = agg.labels_\n",
    "plt.figure(figsize=(8, 6))\n",
    "sns.scatterplot(data = data, x = \"age\", y = \"income\", hue = \"aggCluster{0}{1}\".format(n, LinkageMethod), palette=\"deep\")\n",
    "plt.title(\"Agglomative clustering with linkage '{1}' of the age-income data with {0} clusters\".format(n, LinkageMethod))\n",
    "plt.show()\n",
    "\n",
    "LinkageMethod = \"average\"\n",
    "agg = AgglomerativeClustering(n_clusters=n, linkage=LinkageMethod)\n",
    "agg.fit(X_scaled_mm)\n",
    "data[\"aggCluster{0}{1}\".format(n, LinkageMethod)] = agg.labels_\n",
    "plt.figure(figsize=(8, 6))\n",
    "sns.scatterplot(data = data, x = \"age\", y = \"income\", hue = \"aggCluster{0}{1}\".format(n, LinkageMethod), palette=\"deep\")\n",
    "plt.title(\"Agglomative clustering with linkage '{1}' of the age-income data with {0} clusters\".format(n, LinkageMethod))\n",
    "plt.show()\n",
    "\n",
    "LinkageMethod = \"single\"\n",
    "agg = AgglomerativeClustering(n_clusters=n, linkage=LinkageMethod)\n",
    "agg.fit(X_scaled_mm)\n",
    "data[\"aggCluster{0}{1}\".format(n, LinkageMethod)] = agg.labels_\n",
    "plt.figure(figsize=(8, 6))\n",
    "sns.scatterplot(data = data, x = \"age\", y = \"income\", hue = \"aggCluster{0}{1}\".format(n, LinkageMethod), palette=\"deep\")\n",
    "plt.title(\"Agglomative clustering with linkage '{1}' of the age-income data with {0} clusters\".format(n, LinkageMethod))\n",
    "plt.show()"
   ]
  },
  {
   "attachments": {},
   "cell_type": "markdown",
   "metadata": {},
   "source": [
    "### Dendrogram\n",
    " \n",
    "Let us now see show how to generate Dendrograms, and how to decide the number of clusters from a Dendrogram. "
   ]
  },
  {
   "cell_type": "markdown",
   "metadata": {},
   "source": [
    "In the script below, we import the hierarchy class of the scipy.cluster library as shc. The hierarchy class has a dendrogram method which takes the value returned by the linkage method of the same class. The linkage method takes the dataset and the method to minimize distances as parameters. We use 'ward' as the method since it minimizes then variants of distances between the clusters."
   ]
  },
  {
   "cell_type": "code",
   "execution_count": null,
   "metadata": {},
   "outputs": [],
   "source": [
    "import scipy.cluster.hierarchy as shc"
   ]
  },
  {
   "cell_type": "code",
   "execution_count": null,
   "metadata": {},
   "outputs": [],
   "source": [
    "plt.figure(figsize=(10, 7))\n",
    "plt.title(\"Dendogram\")\n",
    "dend = shc.dendrogram(shc.linkage(X_scaled_mm, method='ward'))\n",
    "plt.show()"
   ]
  },
  {
   "cell_type": "markdown",
   "metadata": {},
   "source": [
    "We can add a horizontal line to the above plot for particular y values in the following way:"
   ]
  },
  {
   "cell_type": "code",
   "execution_count": null,
   "metadata": {},
   "outputs": [],
   "source": [
    "plt.figure(figsize=(10, 7))\n",
    "plt.title(\"Dendogram\")\n",
    "dend = shc.dendrogram(shc.linkage(X_scaled_mm, method='ward'))\n",
    "\n",
    "plt.axhline(y=13, color='r', linestyle='--')\n",
    "\n",
    "plt.show()"
   ]
  },
  {
   "cell_type": "code",
   "execution_count": null,
   "metadata": {},
   "outputs": [],
   "source": []
  }
 ],
 "metadata": {
  "kernelspec": {
   "display_name": "Python 3 (ipykernel)",
   "language": "python",
   "name": "python3"
  },
  "language_info": {
   "codemirror_mode": {
    "name": "ipython",
    "version": 3
   },
   "file_extension": ".py",
   "mimetype": "text/x-python",
   "name": "python",
   "nbconvert_exporter": "python",
   "pygments_lexer": "ipython3",
   "version": "3.12.8"
  }
 },
 "nbformat": 4,
 "nbformat_minor": 4
}
