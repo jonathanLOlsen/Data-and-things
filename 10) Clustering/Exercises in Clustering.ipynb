{
 "cells": [
  {
   "cell_type": "markdown",
   "id": "51e63e99-c6e0-4afe-a1cb-c72f239f256d",
   "metadata": {},
   "source": [
    "# Exercises in Clustering"
   ]
  },
  {
   "cell_type": "markdown",
   "id": "1719f732-3541-4910-94c3-15769dc0b160",
   "metadata": {},
   "source": [
    "## Exercise 1\n",
    "\n",
    "In this exercise, we will use a bike sharing dataset. The dataset contains coordinates of bike sharing stations in New York given as longitude and latitude values.\n",
    "\n",
    "The dataset is am example dataset from the book [\"Introduction to R for Business Intelligence\"](https://jgendron.github.io/com.packtpub.intro.r.bi/), Packt Publishing Ltd., 2016, by Jay Gendron. The dataset is downloadable from Github [here](https://github.com/jgendron/com.packtpub.intro.r.bi/tree/master/Chapter5-ClusteringAnalysis/data), but is also available on Moodle as \"Ch5_bike_station_locations.csv\".\n",
    "\n",
    "Answer the following questions:\n",
    "1. Apply K-Means clustering to the dataset. Try out different values for K and use the Elbow method to find the best (or a sensible) K.\n",
    "2. Visualize the K-Means clustering result for the best K.\n",
    "3. Apply Agglomerative clustering to the dataset. Draw the Dendrogram and use it to find the best (or a sensible) number of clusters.\n",
    "4. Generate this number of clusters with Agglomerative clustering and visualize the clustering.\n",
    "5. Apply DBSCAN clustering to the dataset. Try out different values for \"eps\" and \"min_samples\" and choose the best values. (Hint: For \"eps\" you probably have to try out values around 0.01.)\n",
    "6. Visual the final DBSCAN clustering you decided upon in 5.\n",
    "7. Calculate the Silhouette scores for the three different \"best clustering\" you found with the three different methods. Also use Adjusted Rand Index to compare the best ones to each other."
   ]
  },
  {
   "cell_type": "code",
   "execution_count": null,
   "id": "39442a72-65b5-4834-8cbf-0952430453b2",
   "metadata": {},
   "outputs": [],
   "source": []
  }
 ],
 "metadata": {
  "kernelspec": {
   "display_name": "Python 3 (ipykernel)",
   "language": "python",
   "name": "python3"
  },
  "language_info": {
   "codemirror_mode": {
    "name": "ipython",
    "version": 3
   },
   "file_extension": ".py",
   "mimetype": "text/x-python",
   "name": "python",
   "nbconvert_exporter": "python",
   "pygments_lexer": "ipython3",
   "version": "3.12.8"
  }
 },
 "nbformat": 4,
 "nbformat_minor": 5
}
