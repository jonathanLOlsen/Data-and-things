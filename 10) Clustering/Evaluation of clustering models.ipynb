{
 "cells": [
  {
   "cell_type": "markdown",
   "metadata": {},
   "source": [
    " # Evaluation of clustering models\n",
    " \n",
    "In this notebook, we will give examples of the following evaluation scores:\n",
    " \n",
    " * Adjusted Rand Index (ARI)\n",
    " * Silhouette Score\n",
    " \n",
    "The first one is used when you have ground truth. The last for cases where you don't have ground truth. Let us first load the relevant modules:"
   ]
  },
  {
   "cell_type": "code",
   "execution_count": null,
   "metadata": {},
   "outputs": [],
   "source": [
    "import numpy as np\n",
    "import pandas as pd\n",
    "from matplotlib import pyplot as plt\n",
    "import seaborn as sns\n",
    "\n",
    "from sklearn.datasets import make_moons\n",
    "from sklearn.preprocessing import StandardScaler\n",
    "from sklearn.cluster import KMeans\n",
    "from sklearn.cluster import AgglomerativeClustering\n",
    "from sklearn.cluster import DBSCAN\n",
    "\n",
    "from sklearn.preprocessing import MinMaxScaler\n",
    "\n",
    "from sklearn.metrics.cluster import adjusted_rand_score\n",
    "from sklearn.metrics.cluster import silhouette_score"
   ]
  },
  {
   "cell_type": "markdown",
   "metadata": {},
   "source": [
    "We will again look at the generated Moon data example:"
   ]
  },
  {
   "cell_type": "code",
   "execution_count": null,
   "metadata": {},
   "outputs": [],
   "source": [
    "X, y = make_moons(n_samples=200, noise=0.05, random_state=0)"
   ]
  },
  {
   "cell_type": "code",
   "execution_count": null,
   "metadata": {},
   "outputs": [],
   "source": [
    "sns.scatterplot(x = X[:, 0], y = X[:, 1])\n",
    "plt.show()"
   ]
  },
  {
   "cell_type": "markdown",
   "metadata": {},
   "source": [
    "Note that this way of generating data, also generates y values even though we are doing unsupervised learning and traditionally do not have any ground truth. However, we can use y to compare a clustering to what we would desire in this case, i.e. two cases:"
   ]
  },
  {
   "cell_type": "code",
   "execution_count": null,
   "metadata": {},
   "outputs": [],
   "source": [
    "sns.scatterplot(x = X[:, 0], y = X[:, 1], hue = y)\n",
    "plt.show()"
   ]
  },
  {
   "cell_type": "markdown",
   "metadata": {},
   "source": [
    "Before we train different clustering algorithms and evaluate them, first standardize the data."
   ]
  },
  {
   "cell_type": "code",
   "execution_count": null,
   "metadata": {},
   "outputs": [],
   "source": [
    "scaler = StandardScaler()\n",
    "scaler.fit(X)\n",
    "X_scaled = scaler.transform(X)"
   ]
  },
  {
   "cell_type": "code",
   "execution_count": null,
   "metadata": {},
   "outputs": [],
   "source": [
    "sns.scatterplot(x = X_scaled[:, 0], y = X_scaled[:, 1], hue = y)\n",
    "plt.show()"
   ]
  },
  {
   "cell_type": "markdown",
   "metadata": {},
   "source": [
    "Let us train the three different clustering algorithms on the data:"
   ]
  },
  {
   "cell_type": "code",
   "execution_count": null,
   "metadata": {},
   "outputs": [],
   "source": [
    "kmeanModel = KMeans(n_clusters=2)\n",
    "clusters_KMeans = kmeanModel.fit_predict(X_scaled)\n",
    "aggClust = AgglomerativeClustering(n_clusters=2)\n",
    "clusters_aggClust = aggClust.fit_predict(X_scaled)\n",
    "dbscan = DBSCAN()\n",
    "clusters_DBSCAN = dbscan.fit_predict(X_scaled) "
   ]
  },
  {
   "cell_type": "markdown",
   "metadata": {},
   "source": [
    "For visualization purposes, let us put it all into a dataframe."
   ]
  },
  {
   "cell_type": "code",
   "execution_count": null,
   "metadata": {},
   "outputs": [],
   "source": [
    "visData = pd.DataFrame({\"X1\": X_scaled[:, 0], \"X2\": X_scaled[:, 1]})\n",
    "visData[\"GroundTruth\"] = y\n",
    "visData[\"KMeans\"] = clusters_KMeans\n",
    "visData[\"Agglomerative\"] = clusters_aggClust\n",
    "visData[\"DBSCAN\"] = clusters_DBSCAN"
   ]
  },
  {
   "cell_type": "code",
   "execution_count": null,
   "metadata": {},
   "outputs": [],
   "source": [
    "fig, axes = plt.subplots(1, 4, figsize=(15, 3))\n",
    "sns.scatterplot(data = visData, x = \"X1\", y = \"X2\", hue = \"GroundTruth\", s=60, ax=axes[0])\n",
    "sns.scatterplot(data = visData, x = \"X1\", y = \"X2\", hue = \"KMeans\", s=60, ax=axes[1])\n",
    "sns.scatterplot(data = visData, x = \"X1\", y = \"X2\", hue = \"Agglomerative\", s=60, ax=axes[2])\n",
    "sns.scatterplot(data = visData, x = \"X1\", y = \"X2\", hue = \"DBSCAN\", s=60, ax=axes[3])\n",
    "plt.show()"
   ]
  },
  {
   "cell_type": "markdown",
   "metadata": {},
   "source": [
    "### Adjusted Rand Index \n",
    "\n",
    "Let's use the Adjusted Rand Index to compare the different clusterings to the ground truth."
   ]
  },
  {
   "cell_type": "code",
   "execution_count": null,
   "metadata": {},
   "outputs": [],
   "source": [
    "ARI_df = pd.DataFrame({\"Clustering method\": [\"KMeans\", \"Agglomerative\", \"DBSCAN\", \"KMeans\"], \n",
    "                       \"Comparative clustering method\": [\"GroundTruth\", \"GroundTruth\", \"GroundTruth\", \"Agglomerative\"],\n",
    "                       \"Adjusted Rand Score\": [adjusted_rand_score(visData[\"KMeans\"], visData[\"GroundTruth\"]),\n",
    "                                               adjusted_rand_score(visData[\"Agglomerative\"], visData[\"GroundTruth\"]),\n",
    "                                               adjusted_rand_score(visData[\"DBSCAN\"], visData[\"GroundTruth\"]),\n",
    "                                               adjusted_rand_score(visData[\"KMeans\"], visData[\"Agglomerative\"])]})\n",
    "ARI_df"
   ]
  },
  {
   "cell_type": "markdown",
   "metadata": {},
   "source": [
    "### Silhouette Score\n",
    "\n",
    "Let's now use the Silhouette Score how good our different clusterings are."
   ]
  },
  {
   "cell_type": "code",
   "execution_count": null,
   "metadata": {},
   "outputs": [],
   "source": [
    "SilScore_df = pd.DataFrame({\"Clustering method\": [\"KMeans\", \"Agglomerative\", \"DBSCAN\"], \n",
    "                       \"Silhouette Score\": [silhouette_score(X=X_scaled, labels=visData[\"KMeans\"]),\n",
    "                                            silhouette_score(X=X_scaled, labels=visData[\"Agglomerative\"]),\n",
    "                                            silhouette_score(X=X_scaled, labels=visData[\"DBSCAN\"])]})\n",
    "SilScore_df"
   ]
  },
  {
   "cell_type": "markdown",
   "metadata": {},
   "source": [
    "We see that DBSCAN does not get the best Silhouette score here, but that is because that Silhouette score is distance based, while the DBSCAN clustering is not completely distane based."
   ]
  },
  {
   "cell_type": "markdown",
   "metadata": {},
   "source": [
    "Finally, let us try to calculate the Silhouette score for different K's for KMeans clustering for the age-income data."
   ]
  },
  {
   "cell_type": "code",
   "execution_count": null,
   "metadata": {},
   "outputs": [],
   "source": [
    "data = pd.read_csv(\"Ch5_age_income_data.csv\")\n",
    "X = data[['age', 'income']]\n",
    "minMaxScaler = MinMaxScaler()\n",
    "X_scaled_mm = pd.DataFrame(minMaxScaler.fit_transform(X), columns=X.columns)"
   ]
  },
  {
   "cell_type": "code",
   "execution_count": null,
   "metadata": {},
   "outputs": [],
   "source": [
    "KMC_data = X_scaled_mm.copy()\n",
    "for k in range(2,11):\n",
    "    kmeanModel = KMeans(n_clusters=k)\n",
    "    clusters = kmeanModel.fit_predict(X_scaled_mm)\n",
    "    KMC_data[\"{0}_clusters\".format(k)] = clusters\n",
    "    sns.scatterplot(data = KMC_data, x = \"age\", y = \"income\", hue = \"{0}_clusters\".format(k), palette=\"deep\")\n",
    "    plt.title(\"{0}-Means clustering with Silhouette score {1}\".format(k, silhouette_score(X=X_scaled_mm, labels = clusters)))\n",
    "    plt.show()"
   ]
  },
  {
   "cell_type": "code",
   "execution_count": null,
   "metadata": {},
   "outputs": [],
   "source": []
  }
 ],
 "metadata": {
  "kernelspec": {
   "display_name": "Python 3 (ipykernel)",
   "language": "python",
   "name": "python3"
  },
  "language_info": {
   "codemirror_mode": {
    "name": "ipython",
    "version": 3
   },
   "file_extension": ".py",
   "mimetype": "text/x-python",
   "name": "python",
   "nbconvert_exporter": "python",
   "pygments_lexer": "ipython3",
   "version": "3.12.8"
  }
 },
 "nbformat": 4,
 "nbformat_minor": 4
}
