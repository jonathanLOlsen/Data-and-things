{
 "cells": [
  {
   "cell_type": "markdown",
   "metadata": {
    "id": "3kQ3BvyLehMH"
   },
   "source": [
    "## **Data Engineering Task Notebook**\n",
    "\n",
    "This notebook is designed to test you through various Data Engineering tasks using the Online Retail II dataset. The tasks will help you develop essential skills in data cleaning, feature engineering, and transforming raw data into valuable insights. You'll explore tasks like handling missing values, aggregating data, creating new features, and performing data joins to simulate real-world data workflows. These tasks will prepare you for more advanced data manipulation and analysis, enhancing your ability to work with large, complex datasets."
   ]
  },
  {
   "cell_type": "markdown",
   "metadata": {
    "id": "-6dqpBX8eayc"
   },
   "source": [
    "# **About the Dataset**\n",
    "This Online Retail II dataset contains transactional data from a UK-based online retailer selling unique gift-ware. The data covers transactions that occurred between December 1, 2009 and December 9, 2011. The retailer primarily serves both individual customers and wholesalers. The products sold by the company are all-occasion gift items, including home décor, kitchenware, and other unique items.\n",
    "\n",
    "The dataset includes detailed information on each transaction, providing valuable insights into customer behavior, sales trends, and product performance over time.\n",
    "\n",
    "\n",
    "\n",
    "## **What can be done with this dataset?**\n",
    "\n",
    "**Customer Behavior Analysis:** Explore purchasing patterns, repeat customers, and sales volume across different customer segments.\n",
    "\n",
    "**Sales Forecasting:** Predict future sales by analyzing past transactions, including seasonal trends and demand fluctuations.\n",
    "\n",
    "**Market Segmentation:** Identify customer groups based on purchase history and demographic data (e.g., by Country).\n",
    "\n",
    "**Product Performance:** Analyze which products are bestsellers and which have low turnover, and how prices influence sales.\n",
    "\n",
    "**Time Series Analysis:** Study trends over time, including hourly, daily, and monthly sales volumes, and identify peak shopping periods.\n",
    "\n",
    "**Anomaly Detection:** Detect potential fraudulent transactions, cancellations, or unusually high sales activity.\n",
    "Association Rule Mining: Discover products that are often purchased together and identify cross-sell opportunities.\n",
    "\n",
    "\n",
    "\n",
    "## **Key Attributes in the Dataset:**\n",
    "\n",
    "**InvoiceNo:** Unique transaction identifier (with cancellations indicated by 'C' prefix).\n",
    "\n",
    "**StockCode:** Unique product code for each item sold.\n",
    "\n",
    "**Description:** Name of the product/item sold.\n",
    "\n",
    "**Quantity:** Quantity of each product sold in the transaction\n",
    ".\n",
    "**InvoiceDate:** Date and time of the transaction.\n",
    "\n",
    "**UnitPrice:** Price per unit of the product.\n",
    "\n",
    "**CustomerID:** Unique identifier for each customer.\n",
    "\n",
    "**Country:** The country where the customer resides.\n",
    "\n",
    "This dataset is a great resource for learning and practicing various data analysis, machine learning, and business intelligence techniques."
   ]
  },
  {
   "cell_type": "markdown",
   "metadata": {
    "id": "pM9Nu--GV-9y"
   },
   "source": [
    "## **Exercise**\n",
    "Complete the following tasks:\n",
    "1. Load the [dataset](https://www.kaggle.com/datasets/lakshmi25npathi/online-retail-dataset) from Kaggle.\n",
    "2. Visualize the dataset and it's structure using appropriate libraries and plots.\n",
    "3. Do some basic cleaning to handle missing values\n",
    "4. Create the following features:\n",
    "  *   Revenue\n",
    "  *   DayOfWeek: to analyze sales trends by weekdays.\n",
    "  *   TotalRevenue for each CustomerID\n",
    "  *   Most popular product based on Revenue.\n",
    "  *   Ordersize by summing Quantity for each InvoiceNo\n",
    "5. Apply a lambda function to:\n",
    "  * Segment customers into tiers based on TotalRevenue (e.g., \"High\", \"Medium\", \"Low\").\n",
    "  * Extract key information from Description and add them as columns (e.g., presence of specific keywords like \"Gift\" or \"Discount\"). At least one extra column should be added\n",
    "  * Categorize transactions as \"Small\", \"Medium\", or \"Large\" based on Revenue.\n",
    "  * **Detect Seasonal Items:** Flag items as \"Christmas\"-themed if the description contains relevant words.\n",
    "  * Classify customers as \"Loyal\", \"Occasional\", or \"One-time\" based on the number of purchases.\n",
    "  *  **Identify Multi-Item Invoices:** Flag invoices with multiple unique items as \"Multi-Item Order\".\n",
    "7. Wrap all fo the above into an ETL pipeline.\n",
    "\n",
    "Extra tasks for practicing GroupBy\n",
    "1. Join CustomerID with TotalRevenue to create Customer_Revenue column\n",
    "2. Group by Country to find total revenue, total customers, and average order size per country.\n",
    "3. Group by StockCode to find top-selling products by quantity.\n",
    "4. Group by CustomerID to calculate the average order value or frequency of purchases.\n",
    "\n",
    "\n",
    "\n",
    "\n",
    "\n",
    "\n",
    "\n",
    "             \n",
    "\n",
    "\n",
    "\n",
    "\n",
    "\n",
    "\n"
   ]
  },
  {
   "cell_type": "markdown",
   "metadata": {},
   "source": [
    "#### first 3 look at them again later\n"
   ]
  },
  {
   "cell_type": "code",
   "execution_count": 3,
   "metadata": {
    "executionInfo": {
     "elapsed": 2663,
     "status": "ok",
     "timestamp": 1738235045392,
     "user": {
      "displayName": "Sadaf Akhter",
      "userId": "13505825868431108941"
     },
     "user_tz": -360
    },
    "id": "GYdhe-Du1eHp"
   },
   "outputs": [
    {
     "name": "stderr",
     "output_type": "stream",
     "text": [
      "c:\\Users\\Jonathan Olsen\\AppData\\Local\\Programs\\Python\\Python312\\Lib\\site-packages\\tqdm\\auto.py:21: TqdmWarning: IProgress not found. Please update jupyter and ipywidgets. See https://ipywidgets.readthedocs.io/en/stable/user_install.html\n",
      "  from .autonotebook import tqdm as notebook_tqdm\n"
     ]
    }
   ],
   "source": [
    "import pandas as pd\n",
    "import numpy as np\n",
    "import matplotlib.pyplot as plt\n",
    "import seaborn as sns\n",
    "import kagglehub\n",
    "import os"
   ]
  },
  {
   "cell_type": "code",
   "execution_count": 4,
   "metadata": {
    "colab": {
     "base_uri": "https://localhost:8080/"
    },
    "executionInfo": {
     "elapsed": 4159,
     "status": "ok",
     "timestamp": 1738235049546,
     "user": {
      "displayName": "Sadaf Akhter",
      "userId": "13505825868431108941"
     },
     "user_tz": -360
    },
    "id": "O7c3o9JK1kKz",
    "outputId": "92db808b-6a34-4193-b6b6-e8cac6437aef"
   },
   "outputs": [
    {
     "name": "stdout",
     "output_type": "stream",
     "text": [
      "Path to dataset files: C:\\Users\\Jonathan Olsen\\.cache\\kagglehub\\datasets\\lakshmi25npathi\\online-retail-dataset\\versions\\1\n"
     ]
    }
   ],
   "source": [
    "path = kagglehub.dataset_download(\"lakshmi25npathi/online-retail-dataset\")\n",
    "\n",
    "print(\"Path to dataset files:\", path)"
   ]
  },
  {
   "cell_type": "code",
   "execution_count": 5,
   "metadata": {
    "colab": {
     "base_uri": "https://localhost:8080/"
    },
    "executionInfo": {
     "elapsed": 7,
     "status": "ok",
     "timestamp": 1738235049546,
     "user": {
      "displayName": "Sadaf Akhter",
      "userId": "13505825868431108941"
     },
     "user_tz": -360
    },
    "id": "co3ZBAL51uhi",
    "outputId": "2d783fb0-9a5f-4374-b09a-6227aea59645"
   },
   "outputs": [
    {
     "name": "stdout",
     "output_type": "stream",
     "text": [
      "['online_retail_II.xlsx']\n"
     ]
    }
   ],
   "source": [
    "dataset_path = path\n",
    "\n",
    "files = os.listdir(dataset_path)\n",
    "print(files)\n"
   ]
  },
  {
   "cell_type": "code",
   "execution_count": 6,
   "metadata": {
    "executionInfo": {
     "elapsed": 65950,
     "status": "ok",
     "timestamp": 1738235115491,
     "user": {
      "displayName": "Sadaf Akhter",
      "userId": "13505825868431108941"
     },
     "user_tz": -360
    },
    "id": "dpcmsUgf10QH"
   },
   "outputs": [],
   "source": [
    "file_path = path + \"/online_retail_II.xlsx\"\n",
    "\n",
    "df = pd.read_excel(file_path)"
   ]
  },
  {
   "cell_type": "code",
   "execution_count": 7,
   "metadata": {
    "colab": {
     "base_uri": "https://localhost:8080/"
    },
    "executionInfo": {
     "elapsed": 14,
     "status": "ok",
     "timestamp": 1738235115491,
     "user": {
      "displayName": "Sadaf Akhter",
      "userId": "13505825868431108941"
     },
     "user_tz": -360
    },
    "id": "SJd_azvt2C62",
    "outputId": "04e1d0a3-a172-4329-eb2a-a05a19a4c556"
   },
   "outputs": [
    {
     "name": "stdout",
     "output_type": "stream",
     "text": [
      "  Invoice StockCode                          Description  Quantity  \\\n",
      "0  489434     85048  15CM CHRISTMAS GLASS BALL 20 LIGHTS        12   \n",
      "1  489434    79323P                   PINK CHERRY LIGHTS        12   \n",
      "2  489434    79323W                  WHITE CHERRY LIGHTS        12   \n",
      "3  489434     22041         RECORD FRAME 7\" SINGLE SIZE         48   \n",
      "4  489434     21232       STRAWBERRY CERAMIC TRINKET BOX        24   \n",
      "\n",
      "          InvoiceDate  Price  Customer ID         Country  \n",
      "0 2009-12-01 07:45:00   6.95      13085.0  United Kingdom  \n",
      "1 2009-12-01 07:45:00   6.75      13085.0  United Kingdom  \n",
      "2 2009-12-01 07:45:00   6.75      13085.0  United Kingdom  \n",
      "3 2009-12-01 07:45:00   2.10      13085.0  United Kingdom  \n",
      "4 2009-12-01 07:45:00   1.25      13085.0  United Kingdom  \n"
     ]
    }
   ],
   "source": [
    "print(df.head())"
   ]
  },
  {
   "cell_type": "code",
   "execution_count": 8,
   "metadata": {
    "colab": {
     "base_uri": "https://localhost:8080/"
    },
    "executionInfo": {
     "elapsed": 12,
     "status": "ok",
     "timestamp": 1738235115492,
     "user": {
      "displayName": "Sadaf Akhter",
      "userId": "13505825868431108941"
     },
     "user_tz": -360
    },
    "id": "Lph_J0Yn2lPk",
    "outputId": "9ee9b13f-779c-44db-a234-55c35e052335"
   },
   "outputs": [
    {
     "name": "stdout",
     "output_type": "stream",
     "text": [
      "<class 'pandas.core.frame.DataFrame'>\n",
      "RangeIndex: 525461 entries, 0 to 525460\n",
      "Data columns (total 8 columns):\n",
      " #   Column       Non-Null Count   Dtype         \n",
      "---  ------       --------------   -----         \n",
      " 0   Invoice      525461 non-null  object        \n",
      " 1   StockCode    525461 non-null  object        \n",
      " 2   Description  522533 non-null  object        \n",
      " 3   Quantity     525461 non-null  int64         \n",
      " 4   InvoiceDate  525461 non-null  datetime64[ns]\n",
      " 5   Price        525461 non-null  float64       \n",
      " 6   Customer ID  417534 non-null  float64       \n",
      " 7   Country      525461 non-null  object        \n",
      "dtypes: datetime64[ns](1), float64(2), int64(1), object(4)\n",
      "memory usage: 32.1+ MB\n",
      "None\n"
     ]
    }
   ],
   "source": [
    "print(df.info())"
   ]
  },
  {
   "cell_type": "code",
   "execution_count": 9,
   "metadata": {
    "colab": {
     "base_uri": "https://localhost:8080/"
    },
    "executionInfo": {
     "elapsed": 1199,
     "status": "ok",
     "timestamp": 1738235116682,
     "user": {
      "displayName": "Sadaf Akhter",
      "userId": "13505825868431108941"
     },
     "user_tz": -360
    },
    "id": "22LeyyfJ2edS",
    "outputId": "dfd3ecfd-6936-430f-fbc4-efe0ac4a6d5d"
   },
   "outputs": [
    {
     "name": "stdout",
     "output_type": "stream",
     "text": [
      "Invoice             0\n",
      "StockCode           0\n",
      "Description      2928\n",
      "Quantity            0\n",
      "InvoiceDate         0\n",
      "Price               0\n",
      "Customer ID    107927\n",
      "Country             0\n",
      "dtype: int64\n"
     ]
    }
   ],
   "source": [
    "print(df.isnull().sum())"
   ]
  },
  {
   "cell_type": "code",
   "execution_count": 14,
   "metadata": {
    "colab": {
     "base_uri": "https://localhost:8080/"
    },
    "executionInfo": {
     "elapsed": 2156,
     "status": "ok",
     "timestamp": 1738235118834,
     "user": {
      "displayName": "Sadaf Akhter",
      "userId": "13505825868431108941"
     },
     "user_tz": -360
    },
    "id": "8vGLQ9cA3TV-",
    "outputId": "f208ff69-3f35-47bd-9b9c-2949314420ba"
   },
   "outputs": [
    {
     "name": "stdout",
     "output_type": "stream",
     "text": [
      "Invoice        0\n",
      "StockCode      0\n",
      "Description    0\n",
      "Quantity       0\n",
      "InvoiceDate    0\n",
      "Price          0\n",
      "Customer ID    0\n",
      "Country        0\n",
      "dtype: int64\n"
     ]
    }
   ],
   "source": [
    "# Fill missing 'Description' using the most common value per 'StockCode'\n",
    "df['Description'] = df.groupby('StockCode')['Description'].transform(lambda x: x.fillna(x.mode()[0]) if not x.mode().empty else x)\n",
    "\n",
    "#Drop rows where 'Customer ID' is missing\n",
    "df = df.dropna(subset=['Customer ID'])\n",
    "\n",
    "print(df.isnull().sum())\n"
   ]
  },
  {
   "cell_type": "code",
   "execution_count": 15,
   "metadata": {
    "colab": {
     "base_uri": "https://localhost:8080/"
    },
    "executionInfo": {
     "elapsed": 1520,
     "status": "ok",
     "timestamp": 1738235120348,
     "user": {
      "displayName": "Sadaf Akhter",
      "userId": "13505825868431108941"
     },
     "user_tz": -360
    },
    "id": "FPIFYje_301D",
    "outputId": "7f3ae8d8-883f-4943-9450-29f9b1d8b738"
   },
   "outputs": [
    {
     "name": "stdout",
     "output_type": "stream",
     "text": [
      "0\n"
     ]
    }
   ],
   "source": [
    "print(df.duplicated().sum())"
   ]
  },
  {
   "cell_type": "code",
   "execution_count": 12,
   "metadata": {
    "colab": {
     "base_uri": "https://localhost:8080/"
    },
    "executionInfo": {
     "elapsed": 7,
     "status": "ok",
     "timestamp": 1738235120349,
     "user": {
      "displayName": "Sadaf Akhter",
      "userId": "13505825868431108941"
     },
     "user_tz": -360
    },
    "id": "GtVhcBDC4CQU",
    "outputId": "ffebf3a2-53df-469b-e71b-2ada7d1df6e1"
   },
   "outputs": [
    {
     "name": "stdout",
     "output_type": "stream",
     "text": [
      "0\n"
     ]
    }
   ],
   "source": [
    "df.drop_duplicates(inplace=True)\n",
    "print(df.duplicated().sum())"
   ]
  },
  {
   "cell_type": "markdown",
   "metadata": {},
   "source": [
    "#### 2. Visualize the dataset and it's structure using appropriate libraries and plots.\n"
   ]
  },
  {
   "cell_type": "code",
   "execution_count": 22,
   "metadata": {},
   "outputs": [
    {
     "data": {
      "image/png": "[encoded data removed]",
      "text/plain": [
       "<Figure size 800x600 with 1 Axes>"
      ]
     },
     "metadata": {},
     "output_type": "display_data"
    }
   ],
   "source": [
    "plt.figure(figsize=(8,6))\n",
    "plt.hist(df['Price'], bins=50, log=True)  # Adjust bins for better distribution\n",
    "plt.xlabel(\"Price\")\n",
    "plt.ylabel(\"Frequency\")\n",
    "plt.title(\"Histogram of Prices (Log Scale)\")\n",
    "plt.show()\n"
   ]
  },
  {
   "cell_type": "code",
   "execution_count": 29,
   "metadata": {},
   "outputs": [
    {
     "data": {
      "text/plain": [
       "Country\n",
       "United Kingdom          372683\n",
       "EIRE                      8705\n",
       "Germany                   8113\n",
       "France                    5692\n",
       "Netherlands               2767\n",
       "Spain                     1271\n",
       "Switzerland               1187\n",
       "Belgium                   1052\n",
       "Portugal                  1023\n",
       "Channel Islands            906\n",
       "Sweden                     882\n",
       "Italy                      729\n",
       "Australia                  654\n",
       "Cyprus                     546\n",
       "Austria                    537\n",
       "Greece                     517\n",
       "Denmark                    428\n",
       "Norway                     369\n",
       "Finland                    354\n",
       "United Arab Emirates       318\n",
       "Unspecified                280\n",
       "USA                        244\n",
       "Japan                      224\n",
       "Poland                     194\n",
       "Malta                      172\n",
       "Lithuania                  154\n",
       "Singapore                  117\n",
       "Canada                      77\n",
       "Thailand                    76\n",
       "Israel                      74\n",
       "Iceland                     71\n",
       "RSA                         65\n",
       "Korea                       63\n",
       "Brazil                      62\n",
       "West Indies                 54\n",
       "Bahrain                     42\n",
       "Nigeria                     30\n",
       "Name: count, dtype: int64"
      ]
     },
     "execution_count": 29,
     "metadata": {},
     "output_type": "execute_result"
    }
   ],
   "source": [
    "country_counts = df['Country'].value_counts()\n",
    "country_counts"
   ]
  },
  {
   "cell_type": "code",
   "execution_count": 30,
   "metadata": {},
   "outputs": [
    {
     "data": {
      "text/plain": [
       "<BarContainer object of 37 artists>"
      ]
     },
     "execution_count": 30,
     "metadata": {},
     "output_type": "execute_result"
    },
    {
     "data": {
      "image/png": "[encoded data removed]",
      "text/plain": [
       "<Figure size 640x480 with 1 Axes>"
      ]
     },
     "metadata": {},
     "output_type": "display_data"
    }
   ],
   "source": [
    "\n",
    "plt.bar(country_counts.index, country_counts.values)"
   ]
  },
  {
   "cell_type": "code",
   "execution_count": 35,
   "metadata": {},
   "outputs": [
    {
     "data": {
      "image/png": "[encoded data removed]",
      "text/plain": [
       "<Figure size 640x480 with 1 Axes>"
      ]
     },
     "metadata": {},
     "output_type": "display_data"
    }
   ],
   "source": [
    "sns.regplot(x=df['Price'], y=df['Quantity'], logx=True)\n",
    "plt.xlabel(\"Price (Log Scale)\")\n",
    "plt.ylabel(\"Quantity\")\n",
    "plt.title(\"Price vs Quantity (Log Scale)\")\n",
    "plt.show()"
   ]
  },
  {
   "cell_type": "code",
   "execution_count": 33,
   "metadata": {},
   "outputs": [
    {
     "name": "stdout",
     "output_type": "stream",
     "text": [
      "             Price  Quantity\n",
      "Price     1.000000 -0.004136\n",
      "Quantity -0.004136  1.000000\n"
     ]
    }
   ],
   "source": [
    "cor = df[['Price', 'Quantity']].corr()\n",
    "print(cor)"
   ]
  },
  {
   "cell_type": "code",
   "execution_count": 36,
   "metadata": {},
   "outputs": [
    {
     "name": "stdout",
     "output_type": "stream",
     "text": [
      "<class 'pandas.core.frame.DataFrame'>\n",
      "Index: 410732 entries, 0 to 525460\n",
      "Data columns (total 8 columns):\n",
      " #   Column       Non-Null Count   Dtype         \n",
      "---  ------       --------------   -----         \n",
      " 0   Invoice      410732 non-null  object        \n",
      " 1   StockCode    410732 non-null  object        \n",
      " 2   Description  410732 non-null  object        \n",
      " 3   Quantity     410732 non-null  int64         \n",
      " 4   InvoiceDate  410732 non-null  datetime64[ns]\n",
      " 5   Price        410732 non-null  float64       \n",
      " 6   Customer ID  410732 non-null  float64       \n",
      " 7   Country      410732 non-null  object        \n",
      "dtypes: datetime64[ns](1), float64(2), int64(1), object(4)\n",
      "memory usage: 28.2+ MB\n"
     ]
    }
   ],
   "source": [
    "df.info()"
   ]
  },
  {
   "cell_type": "markdown",
   "metadata": {},
   "source": [
    "#### 4. Create the following features:\n",
    "*   Revenue\n",
    "*   DayOfWeek: to analyze sales trends by weekdays.\n",
    "*   TotalRevenue for each CustomerID\n",
    "*   Most popular product based on Revenue.\n",
    "*   Ordersize by summing Quantity for each InvoiceNo"
   ]
  },
  {
   "cell_type": "markdown",
   "metadata": {},
   "source": [
    "#### Revenue"
   ]
  },
  {
   "cell_type": "code",
   "execution_count": 57,
   "metadata": {},
   "outputs": [],
   "source": [
    "df['revenue'] = df['Price']*df['Quantity']\n"
   ]
  },
  {
   "cell_type": "markdown",
   "metadata": {},
   "source": [
    "#### DayOfWeek: to analyze sales trends by weekdays."
   ]
  },
  {
   "cell_type": "code",
   "execution_count": 55,
   "metadata": {},
   "outputs": [],
   "source": [
    "df['DayOfWeek'] = df['InvoiceDate'].dt.day_name()  # Get weekday name (e.g., Monday, Tuesday)\n",
    "df['DayOfWeek_Num'] = df['InvoiceDate'].dt.weekday  # Get weekday number (Monday=0, Sunday=6)"
   ]
  },
  {
   "cell_type": "code",
   "execution_count": 58,
   "metadata": {},
   "outputs": [
    {
     "name": "stdout",
     "output_type": "stream",
     "text": [
      "<class 'pandas.core.frame.DataFrame'>\n",
      "Index: 410732 entries, 0 to 525460\n",
      "Data columns (total 11 columns):\n",
      " #   Column         Non-Null Count   Dtype         \n",
      "---  ------         --------------   -----         \n",
      " 0   Invoice        410732 non-null  object        \n",
      " 1   StockCode      410732 non-null  object        \n",
      " 2   Description    410732 non-null  object        \n",
      " 3   Quantity       410732 non-null  int64         \n",
      " 4   InvoiceDate    410732 non-null  datetime64[ns]\n",
      " 5   Price          410732 non-null  float64       \n",
      " 6   Customer ID    410732 non-null  float64       \n",
      " 7   Country        410732 non-null  object        \n",
      " 8   DayOfWeek      410732 non-null  object        \n",
      " 9   DayOfWeek_Num  410732 non-null  int32         \n",
      " 10  revenue        410732 non-null  float64       \n",
      "dtypes: datetime64[ns](1), float64(3), int32(1), int64(1), object(5)\n",
      "memory usage: 36.0+ MB\n"
     ]
    }
   ],
   "source": [
    "df.info()"
   ]
  },
  {
   "cell_type": "code",
   "execution_count": 60,
   "metadata": {},
   "outputs": [
    {
     "data": {
      "text/html": [
       "<div>\n",
       "<style scoped>\n",
       "    .dataframe tbody tr th:only-of-type {\n",
       "        vertical-align: middle;\n",
       "    }\n",
       "\n",
       "    .dataframe tbody tr th {\n",
       "        vertical-align: top;\n",
       "    }\n",
       "\n",
       "    .dataframe thead th {\n",
       "        text-align: right;\n",
       "    }\n",
       "</style>\n",
       "<table border=\"1\" class=\"dataframe\">\n",
       "  <thead>\n",
       "    <tr style=\"text-align: right;\">\n",
       "      <th></th>\n",
       "      <th>Quantity</th>\n",
       "      <th>InvoiceDate</th>\n",
       "      <th>Price</th>\n",
       "      <th>Customer ID</th>\n",
       "      <th>DayOfWeek_Num</th>\n",
       "      <th>revenue</th>\n",
       "    </tr>\n",
       "  </thead>\n",
       "  <tbody>\n",
       "    <tr>\n",
       "      <th>count</th>\n",
       "      <td>410732.000000</td>\n",
       "      <td>410732</td>\n",
       "      <td>410732.000000</td>\n",
       "      <td>410732.000000</td>\n",
       "      <td>410732.000000</td>\n",
       "      <td>410732.000000</td>\n",
       "    </tr>\n",
       "    <tr>\n",
       "      <th>mean</th>\n",
       "      <td>12.922592</td>\n",
       "      <td>2010-06-30 20:01:09.827138304</td>\n",
       "      <td>3.908653</td>\n",
       "      <td>15353.708564</td>\n",
       "      <td>2.671703</td>\n",
       "      <td>20.243993</td>\n",
       "    </tr>\n",
       "    <tr>\n",
       "      <th>min</th>\n",
       "      <td>-9360.000000</td>\n",
       "      <td>2009-12-01 07:45:00</td>\n",
       "      <td>0.001000</td>\n",
       "      <td>12346.000000</td>\n",
       "      <td>0.000000</td>\n",
       "      <td>-25111.090000</td>\n",
       "    </tr>\n",
       "    <tr>\n",
       "      <th>25%</th>\n",
       "      <td>2.000000</td>\n",
       "      <td>2010-03-26 09:46:00</td>\n",
       "      <td>1.250000</td>\n",
       "      <td>13979.000000</td>\n",
       "      <td>1.000000</td>\n",
       "      <td>4.500000</td>\n",
       "    </tr>\n",
       "    <tr>\n",
       "      <th>50%</th>\n",
       "      <td>5.000000</td>\n",
       "      <td>2010-07-08 15:29:00</td>\n",
       "      <td>1.950000</td>\n",
       "      <td>15311.000000</td>\n",
       "      <td>3.000000</td>\n",
       "      <td>11.800000</td>\n",
       "    </tr>\n",
       "    <tr>\n",
       "      <th>75%</th>\n",
       "      <td>12.000000</td>\n",
       "      <td>2010-10-14 12:32:00</td>\n",
       "      <td>3.750000</td>\n",
       "      <td>16797.000000</td>\n",
       "      <td>4.000000</td>\n",
       "      <td>19.500000</td>\n",
       "    </tr>\n",
       "    <tr>\n",
       "      <th>max</th>\n",
       "      <td>19152.000000</td>\n",
       "      <td>2010-12-09 20:01:00</td>\n",
       "      <td>25111.090000</td>\n",
       "      <td>18287.000000</td>\n",
       "      <td>6.000000</td>\n",
       "      <td>15818.400000</td>\n",
       "    </tr>\n",
       "    <tr>\n",
       "      <th>std</th>\n",
       "      <td>102.038529</td>\n",
       "      <td>NaN</td>\n",
       "      <td>71.717492</td>\n",
       "      <td>1681.625304</td>\n",
       "      <td>1.967131</td>\n",
       "      <td>100.714472</td>\n",
       "    </tr>\n",
       "  </tbody>\n",
       "</table>\n",
       "</div>"
      ],
      "text/plain": [
       "            Quantity                    InvoiceDate          Price  \\\n",
       "count  410732.000000                         410732  410732.000000   \n",
       "mean       12.922592  2010-06-30 20:01:09.827138304       3.908653   \n",
       "min     -9360.000000            2009-12-01 07:45:00       0.001000   \n",
       "25%         2.000000            2010-03-26 09:46:00       1.250000   \n",
       "50%         5.000000            2010-07-08 15:29:00       1.950000   \n",
       "75%        12.000000            2010-10-14 12:32:00       3.750000   \n",
       "max     19152.000000            2010-12-09 20:01:00   25111.090000   \n",
       "std       102.038529                            NaN      71.717492   \n",
       "\n",
       "         Customer ID  DayOfWeek_Num        revenue  \n",
       "count  410732.000000  410732.000000  410732.000000  \n",
       "mean    15353.708564       2.671703      20.243993  \n",
       "min     12346.000000       0.000000  -25111.090000  \n",
       "25%     13979.000000       1.000000       4.500000  \n",
       "50%     15311.000000       3.000000      11.800000  \n",
       "75%     16797.000000       4.000000      19.500000  \n",
       "max     18287.000000       6.000000   15818.400000  \n",
       "std      1681.625304       1.967131     100.714472  "
      ]
     },
     "execution_count": 60,
     "metadata": {},
     "output_type": "execute_result"
    }
   ],
   "source": [
    "df.describe()"
   ]
  },
  {
   "cell_type": "markdown",
   "metadata": {},
   "source": [
    "#### TotalRevenue for each CustomerID"
   ]
  },
  {
   "cell_type": "code",
   "execution_count": 62,
   "metadata": {},
   "outputs": [
    {
     "name": "stdout",
     "output_type": "stream",
     "text": [
      "0         1187.08\n",
      "1         1187.08\n",
      "2         1187.08\n",
      "3         1187.08\n",
      "4         1187.08\n",
      "           ...   \n",
      "525456     724.26\n",
      "525457     724.26\n",
      "525458     724.26\n",
      "525459     724.26\n",
      "525460     724.26\n",
      "Name: revenue, Length: 410732, dtype: float64\n"
     ]
    }
   ],
   "source": [
    "customer_total_revenue = df.groupby('Customer ID')['revenue'].transform('sum')\n",
    "print(customer_total_revenue)\n"
   ]
  },
  {
   "cell_type": "code",
   "execution_count": 71,
   "metadata": {},
   "outputs": [],
   "source": [
    "df['customer_total_revenue'] = customer_total_revenue"
   ]
  },
  {
   "cell_type": "code",
   "execution_count": 73,
   "metadata": {},
   "outputs": [
    {
     "name": "stdout",
     "output_type": "stream",
     "text": [
      "<class 'pandas.core.frame.DataFrame'>\n",
      "Index: 410732 entries, 0 to 525460\n",
      "Data columns (total 12 columns):\n",
      " #   Column                  Non-Null Count   Dtype         \n",
      "---  ------                  --------------   -----         \n",
      " 0   Invoice                 410732 non-null  object        \n",
      " 1   StockCode               410732 non-null  object        \n",
      " 2   Description             410732 non-null  object        \n",
      " 3   Quantity                410732 non-null  int64         \n",
      " 4   InvoiceDate             410732 non-null  datetime64[ns]\n",
      " 5   Price                   410732 non-null  float64       \n",
      " 6   Customer ID             410732 non-null  float64       \n",
      " 7   Country                 410732 non-null  object        \n",
      " 8   DayOfWeek               410732 non-null  object        \n",
      " 9   DayOfWeek_Num           410732 non-null  int32         \n",
      " 10  revenue                 410732 non-null  float64       \n",
      " 11  customer_total_revenue  410732 non-null  float64       \n",
      "dtypes: datetime64[ns](1), float64(4), int32(1), int64(1), object(5)\n",
      "memory usage: 39.2+ MB\n"
     ]
    }
   ],
   "source": [
    "df.info()"
   ]
  },
  {
   "cell_type": "code",
   "execution_count": 69,
   "metadata": {},
   "outputs": [
    {
     "data": {
      "image/png": "[encoded data removed]",
      "text/plain": [
       "<Figure size 1200x600 with 1 Axes>"
      ]
     },
     "metadata": {},
     "output_type": "display_data"
    }
   ],
   "source": [
    "# Create a DataFrame with unique Customer IDs and their total revenue\n",
    "customer_revenue_unique = df[['Customer ID']].copy()\n",
    "customer_revenue_unique['TotalRevenue'] = customer_total_revenue\n",
    "customer_revenue_unique = customer_revenue_unique.drop_duplicates()\n",
    "\n",
    "# Sort by total revenue\n",
    "customer_revenue_unique = customer_revenue_unique.sort_values(by='TotalRevenue', ascending=False)\n",
    "\n",
    "# Plot bar chart\n",
    "plt.figure(figsize=(12, 6))\n",
    "plt.bar(customer_revenue_unique['Customer ID'].astype(str), customer_revenue_unique['TotalRevenue'])\n",
    "plt.xlabel('Customer ID')\n",
    "plt.ylabel('Total Revenue')\n",
    "plt.title('Total Revenue per Customer')\n",
    "plt.xticks([], [])  # Hide x-axis labels if too many customers\n",
    "plt.show()\n"
   ]
  },
  {
   "cell_type": "code",
   "execution_count": 70,
   "metadata": {},
   "outputs": [
    {
     "data": {
      "image/png": "[encoded data removed]",
      "text/plain": [
       "<Figure size 1000x600 with 1 Axes>"
      ]
     },
     "metadata": {},
     "output_type": "display_data"
    }
   ],
   "source": [
    "# Keep only the top 20 customers by revenue\n",
    "top_customers = customer_revenue_unique.head(20)\n",
    "\n",
    "# Plot horizontal bar chart for better readability\n",
    "plt.figure(figsize=(10, 6))\n",
    "plt.barh(top_customers['Customer ID'].astype(str), top_customers['TotalRevenue'], color='skyblue')\n",
    "\n",
    "# Labels and title\n",
    "plt.xlabel('Total Revenue')\n",
    "plt.ylabel('Customer ID')\n",
    "plt.title('Top 20 Customers by Revenue')\n",
    "\n",
    "# Show the plot\n",
    "plt.gca().invert_yaxis()  # Highest revenue at the top\n",
    "plt.show()\n"
   ]
  },
  {
   "cell_type": "markdown",
   "metadata": {},
   "source": [
    "#### Most Popular Product based on Revenue"
   ]
  },
  {
   "cell_type": "markdown",
   "metadata": {},
   "source": [
    "I have chosen to do most popular product based on revenue as category low->high. done this for now.\n",
    "might change or add a different form of this later depening on the usecase for this."
   ]
  },
  {
   "cell_type": "code",
   "execution_count": 81,
   "metadata": {},
   "outputs": [
    {
     "data": {
      "text/html": [
       "<div>\n",
       "<style scoped>\n",
       "    .dataframe tbody tr th:only-of-type {\n",
       "        vertical-align: middle;\n",
       "    }\n",
       "\n",
       "    .dataframe tbody tr th {\n",
       "        vertical-align: top;\n",
       "    }\n",
       "\n",
       "    .dataframe thead th {\n",
       "        text-align: right;\n",
       "    }\n",
       "</style>\n",
       "<table border=\"1\" class=\"dataframe\">\n",
       "  <thead>\n",
       "    <tr style=\"text-align: right;\">\n",
       "      <th></th>\n",
       "      <th>Invoice</th>\n",
       "      <th>StockCode</th>\n",
       "      <th>Description</th>\n",
       "      <th>Quantity</th>\n",
       "      <th>InvoiceDate</th>\n",
       "      <th>Price</th>\n",
       "      <th>Customer ID</th>\n",
       "      <th>Country</th>\n",
       "      <th>DayOfWeek</th>\n",
       "      <th>DayOfWeek_Num</th>\n",
       "      <th>revenue</th>\n",
       "      <th>customer_total_revenue</th>\n",
       "      <th>ProductCategory_x</th>\n",
       "      <th>ProductCategory_y</th>\n",
       "    </tr>\n",
       "  </thead>\n",
       "  <tbody>\n",
       "    <tr>\n",
       "      <th>0</th>\n",
       "      <td>489434</td>\n",
       "      <td>85048</td>\n",
       "      <td>15CM CHRISTMAS GLASS BALL 20 LIGHTS</td>\n",
       "      <td>12</td>\n",
       "      <td>2009-12-01 07:45:00</td>\n",
       "      <td>6.95</td>\n",
       "      <td>13085.0</td>\n",
       "      <td>United Kingdom</td>\n",
       "      <td>Tuesday</td>\n",
       "      <td>1</td>\n",
       "      <td>83.4</td>\n",
       "      <td>1187.08</td>\n",
       "      <td>High</td>\n",
       "      <td>High</td>\n",
       "    </tr>\n",
       "    <tr>\n",
       "      <th>1</th>\n",
       "      <td>489434</td>\n",
       "      <td>79323P</td>\n",
       "      <td>PINK CHERRY LIGHTS</td>\n",
       "      <td>12</td>\n",
       "      <td>2009-12-01 07:45:00</td>\n",
       "      <td>6.75</td>\n",
       "      <td>13085.0</td>\n",
       "      <td>United Kingdom</td>\n",
       "      <td>Tuesday</td>\n",
       "      <td>1</td>\n",
       "      <td>81.0</td>\n",
       "      <td>1187.08</td>\n",
       "      <td>High</td>\n",
       "      <td>High</td>\n",
       "    </tr>\n",
       "    <tr>\n",
       "      <th>2</th>\n",
       "      <td>489434</td>\n",
       "      <td>79323W</td>\n",
       "      <td>WHITE CHERRY LIGHTS</td>\n",
       "      <td>12</td>\n",
       "      <td>2009-12-01 07:45:00</td>\n",
       "      <td>6.75</td>\n",
       "      <td>13085.0</td>\n",
       "      <td>United Kingdom</td>\n",
       "      <td>Tuesday</td>\n",
       "      <td>1</td>\n",
       "      <td>81.0</td>\n",
       "      <td>1187.08</td>\n",
       "      <td>High</td>\n",
       "      <td>High</td>\n",
       "    </tr>\n",
       "    <tr>\n",
       "      <th>3</th>\n",
       "      <td>489434</td>\n",
       "      <td>22041</td>\n",
       "      <td>RECORD FRAME 7\" SINGLE SIZE</td>\n",
       "      <td>48</td>\n",
       "      <td>2009-12-01 07:45:00</td>\n",
       "      <td>2.10</td>\n",
       "      <td>13085.0</td>\n",
       "      <td>United Kingdom</td>\n",
       "      <td>Tuesday</td>\n",
       "      <td>1</td>\n",
       "      <td>100.8</td>\n",
       "      <td>1187.08</td>\n",
       "      <td>High</td>\n",
       "      <td>High</td>\n",
       "    </tr>\n",
       "    <tr>\n",
       "      <th>4</th>\n",
       "      <td>489434</td>\n",
       "      <td>21232</td>\n",
       "      <td>STRAWBERRY CERAMIC TRINKET BOX</td>\n",
       "      <td>24</td>\n",
       "      <td>2009-12-01 07:45:00</td>\n",
       "      <td>1.25</td>\n",
       "      <td>13085.0</td>\n",
       "      <td>United Kingdom</td>\n",
       "      <td>Tuesday</td>\n",
       "      <td>1</td>\n",
       "      <td>30.0</td>\n",
       "      <td>1187.08</td>\n",
       "      <td>High</td>\n",
       "      <td>High</td>\n",
       "    </tr>\n",
       "  </tbody>\n",
       "</table>\n",
       "</div>"
      ],
      "text/plain": [
       "  Invoice StockCode                          Description  Quantity  \\\n",
       "0  489434     85048  15CM CHRISTMAS GLASS BALL 20 LIGHTS        12   \n",
       "1  489434    79323P                   PINK CHERRY LIGHTS        12   \n",
       "2  489434    79323W                  WHITE CHERRY LIGHTS        12   \n",
       "3  489434     22041         RECORD FRAME 7\" SINGLE SIZE         48   \n",
       "4  489434     21232       STRAWBERRY CERAMIC TRINKET BOX        24   \n",
       "\n",
       "          InvoiceDate  Price  Customer ID         Country DayOfWeek  \\\n",
       "0 2009-12-01 07:45:00   6.95      13085.0  United Kingdom   Tuesday   \n",
       "1 2009-12-01 07:45:00   6.75      13085.0  United Kingdom   Tuesday   \n",
       "2 2009-12-01 07:45:00   6.75      13085.0  United Kingdom   Tuesday   \n",
       "3 2009-12-01 07:45:00   2.10      13085.0  United Kingdom   Tuesday   \n",
       "4 2009-12-01 07:45:00   1.25      13085.0  United Kingdom   Tuesday   \n",
       "\n",
       "   DayOfWeek_Num  revenue  customer_total_revenue ProductCategory_x  \\\n",
       "0              1     83.4                 1187.08              High   \n",
       "1              1     81.0                 1187.08              High   \n",
       "2              1     81.0                 1187.08              High   \n",
       "3              1    100.8                 1187.08              High   \n",
       "4              1     30.0                 1187.08              High   \n",
       "\n",
       "  ProductCategory_y  \n",
       "0              High  \n",
       "1              High  \n",
       "2              High  \n",
       "3              High  \n",
       "4              High  "
      ]
     },
     "execution_count": 81,
     "metadata": {},
     "output_type": "execute_result"
    }
   ],
   "source": [
    "product_revenue = df.groupby('Description')['revenue'].sum().reset_index()\n",
    "product_revenue['ProductCategory'] = pd.qcut(product_revenue['revenue'], q=3, labels=['Low', 'Medium', 'High'])\n",
    "df = df.merge(product_revenue[['Description', 'ProductCategory']], on='Description', how='left')\n",
    "df.head()"
   ]
  },
  {
   "cell_type": "markdown",
   "metadata": {},
   "source": [
    "#### 5. Ordersize by summing Quantity for each InvoiceNo"
   ]
  },
  {
   "cell_type": "code",
   "execution_count": 82,
   "metadata": {},
   "outputs": [],
   "source": [
    "df['OrderSize'] = df.groupby('Invoice')['Quantity'].transform('sum')"
   ]
  },
  {
   "cell_type": "code",
   "execution_count": 83,
   "metadata": {},
   "outputs": [
    {
     "name": "stdout",
     "output_type": "stream",
     "text": [
      "<class 'pandas.core.frame.DataFrame'>\n",
      "RangeIndex: 410732 entries, 0 to 410731\n",
      "Data columns (total 15 columns):\n",
      " #   Column                  Non-Null Count   Dtype         \n",
      "---  ------                  --------------   -----         \n",
      " 0   Invoice                 410732 non-null  object        \n",
      " 1   StockCode               410732 non-null  object        \n",
      " 2   Description             410732 non-null  object        \n",
      " 3   Quantity                410732 non-null  int64         \n",
      " 4   InvoiceDate             410732 non-null  datetime64[ns]\n",
      " 5   Price                   410732 non-null  float64       \n",
      " 6   Customer ID             410732 non-null  float64       \n",
      " 7   Country                 410732 non-null  object        \n",
      " 8   DayOfWeek               410732 non-null  object        \n",
      " 9   DayOfWeek_Num           410732 non-null  int32         \n",
      " 10  revenue                 410732 non-null  float64       \n",
      " 11  customer_total_revenue  410732 non-null  float64       \n",
      " 12  ProductCategory_x       410732 non-null  category      \n",
      " 13  ProductCategory_y       410732 non-null  category      \n",
      " 14  OrderSize               410732 non-null  int64         \n",
      "dtypes: category(2), datetime64[ns](1), float64(4), int32(1), int64(2), object(5)\n",
      "memory usage: 40.0+ MB\n"
     ]
    }
   ],
   "source": [
    "df.info()"
   ]
  },
  {
   "cell_type": "code",
   "execution_count": 85,
   "metadata": {},
   "outputs": [
    {
     "name": "stdout",
     "output_type": "stream",
     "text": [
      "[ 166   60  193 ... 2154  675 -104]\n"
     ]
    }
   ],
   "source": [
    "print(df['OrderSize'].unique())"
   ]
  },
  {
   "cell_type": "markdown",
   "metadata": {},
   "source": [
    "Negative order sizes ?????"
   ]
  },
  {
   "cell_type": "code",
   "execution_count": 86,
   "metadata": {},
   "outputs": [
    {
     "name": "stdout",
     "output_type": "stream",
     "text": [
      "        Invoice StockCode                       Description  Quantity  \\\n",
      "178     C489449     22087          PAPER BUNTING WHITE LACE       -12   \n",
      "179     C489449    85206A      CREAM FELT EASTER EGG BASKET        -6   \n",
      "180     C489449     21895     POTTING SHED SOW 'N' GROW SET        -4   \n",
      "181     C489449     21896                POTTING SHED TWINE        -6   \n",
      "182     C489449     22083        PAPER CHAIN KIT RETRO SPOT       -12   \n",
      "...         ...       ...                               ...       ...   \n",
      "410359  C538123     22956          36 FOIL HEART CAKE CASES        -2   \n",
      "410360  C538124         M                            Manual        -4   \n",
      "410361  C538124     22699  ROSES REGENCY TEACUP AND SAUCER         -1   \n",
      "410362  C538124     22423          REGENCY CAKESTAND 3 TIER        -1   \n",
      "410555  C538164    35004B       SET OF 3 BLACK FLYING DUCKS        -1   \n",
      "\n",
      "               InvoiceDate  Price  Customer ID         Country DayOfWeek  \\\n",
      "178    2009-12-01 10:33:00   2.95      16321.0       Australia   Tuesday   \n",
      "179    2009-12-01 10:33:00   1.65      16321.0       Australia   Tuesday   \n",
      "180    2009-12-01 10:33:00   4.25      16321.0       Australia   Tuesday   \n",
      "181    2009-12-01 10:33:00   2.10      16321.0       Australia   Tuesday   \n",
      "182    2009-12-01 10:33:00   2.95      16321.0       Australia   Tuesday   \n",
      "...                    ...    ...          ...             ...       ...   \n",
      "410359 2010-12-09 15:41:00   2.10      12605.0         Germany  Thursday   \n",
      "410360 2010-12-09 15:43:00   0.50      15329.0  United Kingdom  Thursday   \n",
      "410361 2010-12-09 15:43:00   2.95      15329.0  United Kingdom  Thursday   \n",
      "410362 2010-12-09 15:43:00  12.75      15329.0  United Kingdom  Thursday   \n",
      "410555 2010-12-09 17:32:00   1.95      14031.0  United Kingdom  Thursday   \n",
      "\n",
      "        DayOfWeek_Num  revenue  customer_total_revenue ProductCategory_x  \\\n",
      "178                 1   -35.40                   34.80              High   \n",
      "179                 1    -9.90                   34.80              High   \n",
      "180                 1   -17.00                   34.80              High   \n",
      "181                 1   -12.60                   34.80              High   \n",
      "182                 1   -35.40                   34.80              High   \n",
      "...               ...      ...                     ...               ...   \n",
      "410359              3    -4.20                 1225.45            Medium   \n",
      "410360              3    -2.00                 1711.98               Low   \n",
      "410361              3    -2.95                 1711.98              High   \n",
      "410362              3   -12.75                 1711.98              High   \n",
      "410555              3    -1.95                23311.74              High   \n",
      "\n",
      "       ProductCategory_y  OrderSize  \n",
      "178                 High       -100  \n",
      "179                 High       -100  \n",
      "180                 High       -100  \n",
      "181                 High       -100  \n",
      "182                 High       -100  \n",
      "...                  ...        ...  \n",
      "410359            Medium         -4  \n",
      "410360               Low         -6  \n",
      "410361              High         -6  \n",
      "410362              High         -6  \n",
      "410555              High         -1  \n",
      "\n",
      "[9816 rows x 15 columns]\n"
     ]
    }
   ],
   "source": [
    "print(df[df['Quantity'] < 0])"
   ]
  },
  {
   "cell_type": "markdown",
   "metadata": {},
   "source": [
    "Might be do to returns ?"
   ]
  },
  {
   "cell_type": "markdown",
   "metadata": {},
   "source": [
    "#### 5. Apply a lambda function to:\n",
    "  * Segment customers into tiers based on TotalRevenue (e.g., \"High\", \"Medium\", \"Low\").\n",
    "  * Extract key information from Description and add them as columns (e.g., presence of specific keywords like \"Gift\" or \"Discount\"). At least one extra column should be added\n",
    "  * Categorize transactions as \"Small\", \"Medium\", or \"Large\" based on Revenue.\n",
    "  * **Detect Seasonal Items:** Flag items as \"Christmas\"-themed if the description contains relevant words.\n",
    "  * Classify customers as \"Loyal\", \"Occasional\", or \"One-time\" based on the number of purchases.\n",
    "  *  **Identify Multi-Item Invoices:** Flag invoices with multiple unique items as \"Multi-Item Order\"."
   ]
  },
  {
   "cell_type": "markdown",
   "metadata": {},
   "source": []
  },
  {
   "cell_type": "markdown",
   "metadata": {},
   "source": [
    "##### Segment customers into tiers based on TotalRevenue (e.g., \"High\", \"Medium\", \"Low\")."
   ]
  },
  {
   "cell_type": "code",
   "execution_count": 87,
   "metadata": {},
   "outputs": [
    {
     "name": "stdout",
     "output_type": "stream",
     "text": [
      "<class 'pandas.core.frame.DataFrame'>\n",
      "RangeIndex: 410732 entries, 0 to 410731\n",
      "Data columns (total 15 columns):\n",
      " #   Column                  Non-Null Count   Dtype         \n",
      "---  ------                  --------------   -----         \n",
      " 0   Invoice                 410732 non-null  object        \n",
      " 1   StockCode               410732 non-null  object        \n",
      " 2   Description             410732 non-null  object        \n",
      " 3   Quantity                410732 non-null  int64         \n",
      " 4   InvoiceDate             410732 non-null  datetime64[ns]\n",
      " 5   Price                   410732 non-null  float64       \n",
      " 6   Customer ID             410732 non-null  float64       \n",
      " 7   Country                 410732 non-null  object        \n",
      " 8   DayOfWeek               410732 non-null  object        \n",
      " 9   DayOfWeek_Num           410732 non-null  int32         \n",
      " 10  revenue                 410732 non-null  float64       \n",
      " 11  customer_total_revenue  410732 non-null  float64       \n",
      " 12  ProductCategory_x       410732 non-null  category      \n",
      " 13  ProductCategory_y       410732 non-null  category      \n",
      " 14  OrderSize               410732 non-null  int64         \n",
      "dtypes: category(2), datetime64[ns](1), float64(4), int32(1), int64(2), object(5)\n",
      "memory usage: 40.0+ MB\n"
     ]
    }
   ],
   "source": [
    "df.info()"
   ]
  },
  {
   "cell_type": "code",
   "execution_count": 92,
   "metadata": {},
   "outputs": [],
   "source": [
    "low_threshold = df['customer_total_revenue'].quantile(0.33)\n",
    "high_threshold = df['customer_total_revenue'].quantile(0.66)\n",
    "\n",
    "# Apply lambda function to classify customers\n",
    "CustomerTier = df['customer_total_revenue'].apply(\n",
    "    lambda x: 'Low' if x <= low_threshold else ('Medium' if x <= high_threshold else 'High')\n",
    ")"
   ]
  },
  {
   "cell_type": "code",
   "execution_count": 98,
   "metadata": {},
   "outputs": [
    {
     "name": "stdout",
     "output_type": "stream",
     "text": [
      "customer_total_revenue\n",
      "High      139211\n",
      "Medium    135968\n",
      "Low       135553\n",
      "Name: count, dtype: int64\n"
     ]
    }
   ],
   "source": [
    "print(CustomerTier.value_counts())"
   ]
  },
  {
   "cell_type": "code",
   "execution_count": 99,
   "metadata": {},
   "outputs": [],
   "source": [
    "df['CustomerTier'] = CustomerTier"
   ]
  },
  {
   "cell_type": "code",
   "execution_count": 100,
   "metadata": {},
   "outputs": [
    {
     "name": "stdout",
     "output_type": "stream",
     "text": [
      "<class 'pandas.core.frame.DataFrame'>\n",
      "RangeIndex: 410732 entries, 0 to 410731\n",
      "Data columns (total 16 columns):\n",
      " #   Column                  Non-Null Count   Dtype         \n",
      "---  ------                  --------------   -----         \n",
      " 0   Invoice                 410732 non-null  object        \n",
      " 1   StockCode               410732 non-null  object        \n",
      " 2   Description             410732 non-null  object        \n",
      " 3   Quantity                410732 non-null  int64         \n",
      " 4   InvoiceDate             410732 non-null  datetime64[ns]\n",
      " 5   Price                   410732 non-null  float64       \n",
      " 6   Customer ID             410732 non-null  float64       \n",
      " 7   Country                 410732 non-null  object        \n",
      " 8   DayOfWeek               410732 non-null  object        \n",
      " 9   DayOfWeek_Num           410732 non-null  int32         \n",
      " 10  revenue                 410732 non-null  float64       \n",
      " 11  customer_total_revenue  410732 non-null  float64       \n",
      " 12  ProductCategory_x       410732 non-null  category      \n",
      " 13  ProductCategory_y       410732 non-null  category      \n",
      " 14  OrderSize               410732 non-null  int64         \n",
      " 15  CustomerTier            410732 non-null  object        \n",
      "dtypes: category(2), datetime64[ns](1), float64(4), int32(1), int64(2), object(6)\n",
      "memory usage: 43.1+ MB\n"
     ]
    }
   ],
   "source": [
    "df.info()"
   ]
  },
  {
   "cell_type": "markdown",
   "metadata": {},
   "source": [
    "##### Extract key information from Description and add them as columns (e.g., presence of specific keywords like \"Gift\" or \"Discount\"). At least one extra column should be added"
   ]
  },
  {
   "cell_type": "code",
   "execution_count": 105,
   "metadata": {},
   "outputs": [],
   "source": [
    "df['Description'] = df['Description'].astype(str).str.lower()\n",
    "\n",
    "# Remove punctuation and split words into lists\n",
    "df['Tokenized_Words'] = df['Description'].apply(lambda x: re.findall(r'\\b\\w+\\b', x))\n",
    "\n",
    "# Flatten the list of all words in the column\n",
    "all_words = [word for sublist in df['Tokenized_Words'] for word in sublist]\n",
    "\n",
    "# Convert to DataFrame and count occurrences\n",
    "word_freq_df = pd.Series(all_words).value_counts().reset_index()\n",
    "word_freq_df.columns = ['Word', 'Frequency']"
   ]
  },
  {
   "cell_type": "code",
   "execution_count": 116,
   "metadata": {},
   "outputs": [
    {
     "data": {
      "text/html": [
       "<div>\n",
       "<style scoped>\n",
       "    .dataframe tbody tr th:only-of-type {\n",
       "        vertical-align: middle;\n",
       "    }\n",
       "\n",
       "    .dataframe tbody tr th {\n",
       "        vertical-align: top;\n",
       "    }\n",
       "\n",
       "    .dataframe thead th {\n",
       "        text-align: right;\n",
       "    }\n",
       "</style>\n",
       "<table border=\"1\" class=\"dataframe\">\n",
       "  <thead>\n",
       "    <tr style=\"text-align: right;\">\n",
       "      <th></th>\n",
       "      <th>Word</th>\n",
       "      <th>Frequency</th>\n",
       "      <th>Stemmed_Word</th>\n",
       "    </tr>\n",
       "  </thead>\n",
       "  <tbody>\n",
       "    <tr>\n",
       "      <th>0</th>\n",
       "      <td>set</td>\n",
       "      <td>40477</td>\n",
       "      <td>set</td>\n",
       "    </tr>\n",
       "    <tr>\n",
       "      <th>1</th>\n",
       "      <td>red</td>\n",
       "      <td>39760</td>\n",
       "      <td>red</td>\n",
       "    </tr>\n",
       "    <tr>\n",
       "      <th>2</th>\n",
       "      <td>bag</td>\n",
       "      <td>32266</td>\n",
       "      <td>bag</td>\n",
       "    </tr>\n",
       "    <tr>\n",
       "      <th>3</th>\n",
       "      <td>heart</td>\n",
       "      <td>31324</td>\n",
       "      <td>heart</td>\n",
       "    </tr>\n",
       "    <tr>\n",
       "      <th>4</th>\n",
       "      <td>of</td>\n",
       "      <td>29809</td>\n",
       "      <td>of</td>\n",
       "    </tr>\n",
       "    <tr>\n",
       "      <th>...</th>\n",
       "      <td>...</td>\n",
       "      <td>...</td>\n",
       "      <td>...</td>\n",
       "    </tr>\n",
       "    <tr>\n",
       "      <th>2137</th>\n",
       "      <td>5l</td>\n",
       "      <td>1</td>\n",
       "      <td>5l</td>\n",
       "    </tr>\n",
       "    <tr>\n",
       "      <th>2138</th>\n",
       "      <td>ol</td>\n",
       "      <td>1</td>\n",
       "      <td>ol</td>\n",
       "    </tr>\n",
       "    <tr>\n",
       "      <th>2139</th>\n",
       "      <td>hollyhock</td>\n",
       "      <td>1</td>\n",
       "      <td>hollyhock</td>\n",
       "    </tr>\n",
       "    <tr>\n",
       "      <th>2140</th>\n",
       "      <td>u</td>\n",
       "      <td>1</td>\n",
       "      <td>u</td>\n",
       "    </tr>\n",
       "    <tr>\n",
       "      <th>2141</th>\n",
       "      <td>25w</td>\n",
       "      <td>1</td>\n",
       "      <td>25w</td>\n",
       "    </tr>\n",
       "  </tbody>\n",
       "</table>\n",
       "<p>2142 rows × 3 columns</p>\n",
       "</div>"
      ],
      "text/plain": [
       "           Word  Frequency Stemmed_Word\n",
       "0           set      40477          set\n",
       "1           red      39760          red\n",
       "2           bag      32266          bag\n",
       "3         heart      31324        heart\n",
       "4            of      29809           of\n",
       "...         ...        ...          ...\n",
       "2137         5l          1           5l\n",
       "2138         ol          1           ol\n",
       "2139  hollyhock          1    hollyhock\n",
       "2140          u          1            u\n",
       "2141        25w          1          25w\n",
       "\n",
       "[2142 rows x 3 columns]"
      ]
     },
     "metadata": {},
     "output_type": "display_data"
    }
   ],
   "source": [
    "#from IPython.display import display\n",
    "\n",
    "display(word_freq_df)"
   ]
  },
  {
   "cell_type": "code",
   "execution_count": 117,
   "metadata": {},
   "outputs": [
    {
     "data": {
      "text/html": [
       "<div>\n",
       "<style scoped>\n",
       "    .dataframe tbody tr th:only-of-type {\n",
       "        vertical-align: middle;\n",
       "    }\n",
       "\n",
       "    .dataframe tbody tr th {\n",
       "        vertical-align: top;\n",
       "    }\n",
       "\n",
       "    .dataframe thead th {\n",
       "        text-align: right;\n",
       "    }\n",
       "</style>\n",
       "<table border=\"1\" class=\"dataframe\">\n",
       "  <thead>\n",
       "    <tr style=\"text-align: right;\">\n",
       "      <th></th>\n",
       "      <th>Stemmed_Word</th>\n",
       "      <th>Frequency</th>\n",
       "    </tr>\n",
       "  </thead>\n",
       "  <tbody>\n",
       "    <tr>\n",
       "      <th>1483</th>\n",
       "      <td>set</td>\n",
       "      <td>41436</td>\n",
       "    </tr>\n",
       "    <tr>\n",
       "      <th>1375</th>\n",
       "      <td>red</td>\n",
       "      <td>40144</td>\n",
       "    </tr>\n",
       "    <tr>\n",
       "      <th>819</th>\n",
       "      <td>heart</td>\n",
       "      <td>35978</td>\n",
       "    </tr>\n",
       "    <tr>\n",
       "      <th>132</th>\n",
       "      <td>bag</td>\n",
       "      <td>32619</td>\n",
       "    </tr>\n",
       "    <tr>\n",
       "      <th>1154</th>\n",
       "      <td>of</td>\n",
       "      <td>29809</td>\n",
       "    </tr>\n",
       "    <tr>\n",
       "      <th>...</th>\n",
       "      <td>...</td>\n",
       "      <td>...</td>\n",
       "    </tr>\n",
       "    <tr>\n",
       "      <th>51</th>\n",
       "      <td>5l</td>\n",
       "      <td>1</td>\n",
       "    </tr>\n",
       "    <tr>\n",
       "      <th>27</th>\n",
       "      <td>25w</td>\n",
       "      <td>1</td>\n",
       "    </tr>\n",
       "    <tr>\n",
       "      <th>1762</th>\n",
       "      <td>ubo</td>\n",
       "      <td>1</td>\n",
       "    </tr>\n",
       "    <tr>\n",
       "      <th>1773</th>\n",
       "      <td>vacuum</td>\n",
       "      <td>1</td>\n",
       "    </tr>\n",
       "    <tr>\n",
       "      <th>5</th>\n",
       "      <td>100cm</td>\n",
       "      <td>1</td>\n",
       "    </tr>\n",
       "  </tbody>\n",
       "</table>\n",
       "<p>1864 rows × 2 columns</p>\n",
       "</div>"
      ],
      "text/plain": [
       "     Stemmed_Word  Frequency\n",
       "1483          set      41436\n",
       "1375          red      40144\n",
       "819         heart      35978\n",
       "132           bag      32619\n",
       "1154           of      29809\n",
       "...           ...        ...\n",
       "51             5l          1\n",
       "27            25w          1\n",
       "1762          ubo          1\n",
       "1773       vacuum          1\n",
       "5           100cm          1\n",
       "\n",
       "[1864 rows x 2 columns]"
      ]
     },
     "metadata": {},
     "output_type": "display_data"
    }
   ],
   "source": [
    "from nltk.stem import PorterStemmer\n",
    "\n",
    "# Initialize the Porter Stemmer\n",
    "stemmer = PorterStemmer()\n",
    "\n",
    "# Apply stemming to all words\n",
    "word_freq_df['Stemmed_Word'] = word_freq_df['Word'].apply(lambda x: stemmer.stem(x))\n",
    "\n",
    "# Group by stemmed words and sum frequencies\n",
    "stemmed_word_freq = word_freq_df.groupby('Stemmed_Word')['Frequency'].sum().reset_index()\n",
    "\n",
    "# Display the most common stemmed words\n",
    "display(stemmed_word_freq.sort_values(by='Frequency', ascending=False))\n"
   ]
  },
  {
   "cell_type": "code",
   "execution_count": 119,
   "metadata": {},
   "outputs": [
    {
     "data": {
      "text/html": [
       "<div>\n",
       "<style scoped>\n",
       "    .dataframe tbody tr th:only-of-type {\n",
       "        vertical-align: middle;\n",
       "    }\n",
       "\n",
       "    .dataframe tbody tr th {\n",
       "        vertical-align: top;\n",
       "    }\n",
       "\n",
       "    .dataframe thead th {\n",
       "        text-align: right;\n",
       "    }\n",
       "</style>\n",
       "<table border=\"1\" class=\"dataframe\">\n",
       "  <thead>\n",
       "    <tr style=\"text-align: right;\">\n",
       "      <th></th>\n",
       "      <th>Stemmed_Word</th>\n",
       "      <th>Frequency</th>\n",
       "    </tr>\n",
       "  </thead>\n",
       "  <tbody>\n",
       "    <tr>\n",
       "      <th>526</th>\n",
       "      <td>discount</td>\n",
       "      <td>97</td>\n",
       "    </tr>\n",
       "  </tbody>\n",
       "</table>\n",
       "</div>"
      ],
      "text/plain": [
       "    Stemmed_Word  Frequency\n",
       "526     discount         97"
      ]
     },
     "metadata": {},
     "output_type": "display_data"
    }
   ],
   "source": [
    "sale_words = ['sale', 'discount', 'offer', 'promo']\n",
    "sale_word_freq = stemmed_word_freq[stemmed_word_freq['Stemmed_Word'].isin(sale_words)]\n",
    "display(sale_word_freq)"
   ]
  },
  {
   "cell_type": "code",
   "execution_count": 120,
   "metadata": {},
   "outputs": [
    {
     "name": "stdout",
     "output_type": "stream",
     "text": [
      "\n",
      "Words found for Sale:\n"
     ]
    },
    {
     "data": {
      "text/html": [
       "<div>\n",
       "<style scoped>\n",
       "    .dataframe tbody tr th:only-of-type {\n",
       "        vertical-align: middle;\n",
       "    }\n",
       "\n",
       "    .dataframe tbody tr th {\n",
       "        vertical-align: top;\n",
       "    }\n",
       "\n",
       "    .dataframe thead th {\n",
       "        text-align: right;\n",
       "    }\n",
       "</style>\n",
       "<table border=\"1\" class=\"dataframe\">\n",
       "  <thead>\n",
       "    <tr style=\"text-align: right;\">\n",
       "      <th></th>\n",
       "      <th>Stemmed_Word</th>\n",
       "      <th>Frequency</th>\n",
       "    </tr>\n",
       "  </thead>\n",
       "  <tbody>\n",
       "    <tr>\n",
       "      <th>526</th>\n",
       "      <td>discount</td>\n",
       "      <td>97</td>\n",
       "    </tr>\n",
       "  </tbody>\n",
       "</table>\n",
       "</div>"
      ],
      "text/plain": [
       "    Stemmed_Word  Frequency\n",
       "526     discount         97"
      ]
     },
     "metadata": {},
     "output_type": "display_data"
    },
    {
     "name": "stdout",
     "output_type": "stream",
     "text": [
      "\n",
      "Words found for Gift:\n"
     ]
    },
    {
     "data": {
      "text/html": [
       "<div>\n",
       "<style scoped>\n",
       "    .dataframe tbody tr th:only-of-type {\n",
       "        vertical-align: middle;\n",
       "    }\n",
       "\n",
       "    .dataframe tbody tr th {\n",
       "        vertical-align: top;\n",
       "    }\n",
       "\n",
       "    .dataframe thead th {\n",
       "        text-align: right;\n",
       "    }\n",
       "</style>\n",
       "<table border=\"1\" class=\"dataframe\">\n",
       "  <thead>\n",
       "    <tr style=\"text-align: right;\">\n",
       "      <th></th>\n",
       "      <th>Stemmed_Word</th>\n",
       "      <th>Frequency</th>\n",
       "    </tr>\n",
       "  </thead>\n",
       "  <tbody>\n",
       "    <tr>\n",
       "      <th>99</th>\n",
       "      <td>anniversari</td>\n",
       "      <td>15</td>\n",
       "    </tr>\n",
       "    <tr>\n",
       "      <th>197</th>\n",
       "      <td>birthday</td>\n",
       "      <td>5340</td>\n",
       "    </tr>\n",
       "    <tr>\n",
       "      <th>756</th>\n",
       "      <td>gift</td>\n",
       "      <td>4307</td>\n",
       "    </tr>\n",
       "    <tr>\n",
       "      <th>1327</th>\n",
       "      <td>present</td>\n",
       "      <td>269</td>\n",
       "    </tr>\n",
       "  </tbody>\n",
       "</table>\n",
       "</div>"
      ],
      "text/plain": [
       "     Stemmed_Word  Frequency\n",
       "99    anniversari         15\n",
       "197      birthday       5340\n",
       "756          gift       4307\n",
       "1327      present        269"
      ]
     },
     "metadata": {},
     "output_type": "display_data"
    },
    {
     "name": "stdout",
     "output_type": "stream",
     "text": [
      "\n",
      "Words found for Luxury:\n"
     ]
    },
    {
     "data": {
      "text/html": [
       "<div>\n",
       "<style scoped>\n",
       "    .dataframe tbody tr th:only-of-type {\n",
       "        vertical-align: middle;\n",
       "    }\n",
       "\n",
       "    .dataframe tbody tr th {\n",
       "        vertical-align: top;\n",
       "    }\n",
       "\n",
       "    .dataframe thead th {\n",
       "        text-align: right;\n",
       "    }\n",
       "</style>\n",
       "<table border=\"1\" class=\"dataframe\">\n",
       "  <thead>\n",
       "    <tr style=\"text-align: right;\">\n",
       "      <th></th>\n",
       "      <th>Stemmed_Word</th>\n",
       "      <th>Frequency</th>\n",
       "    </tr>\n",
       "  </thead>\n",
       "  <tbody>\n",
       "    <tr>\n",
       "      <th>1326</th>\n",
       "      <td>premium</td>\n",
       "      <td>41</td>\n",
       "    </tr>\n",
       "  </tbody>\n",
       "</table>\n",
       "</div>"
      ],
      "text/plain": [
       "     Stemmed_Word  Frequency\n",
       "1326      premium         41"
      ]
     },
     "metadata": {},
     "output_type": "display_data"
    }
   ],
   "source": [
    "# Define word groups using stemmed words\n",
    "word_groups_stemmed = {\n",
    "    'Sale': ['sale', 'discount', 'offer', 'promo', 'special', 'deal'],\n",
    "    'Gift': ['gift', 'present', 'birthday', 'anniversari'],  # anniversary -> anniversari\n",
    "    'Luxury': ['luxuri', 'premium', 'exclus', 'handmad']  # luxury -> luxuri, exclusive -> exclus\n",
    "}\n",
    "\n",
    "# Check which words exist in the stemmed word list\n",
    "for group_name, words in word_groups_stemmed.items():\n",
    "    matched_words = stemmed_word_freq[stemmed_word_freq['Stemmed_Word'].isin(words)]\n",
    "    print(f\"\\nWords found for {group_name}:\")\n",
    "    display(matched_words)\n"
   ]
  },
  {
   "cell_type": "code",
   "execution_count": 121,
   "metadata": {},
   "outputs": [
    {
     "name": "stdout",
     "output_type": "stream",
     "text": [
      "\n",
      "Total Frequency per Group:\n",
      "{'Sale': np.int64(97), 'Gift': np.int64(9931), 'Luxury': np.int64(41)}\n"
     ]
    }
   ],
   "source": [
    "# Calculate total frequency for each group\n",
    "group_frequencies_stemmed = {}\n",
    "\n",
    "for group_name, words in word_groups_stemmed.items():\n",
    "    group_frequencies_stemmed[group_name] = stemmed_word_freq[stemmed_word_freq['Stemmed_Word'].isin(words)]['Frequency'].sum()\n",
    "\n",
    "# Display total frequencies for each group\n",
    "print(\"\\nTotal Frequency per Group:\")\n",
    "print(group_frequencies_stemmed)\n"
   ]
  },
  {
   "cell_type": "code",
   "execution_count": 122,
   "metadata": {},
   "outputs": [
    {
     "data": {
      "text/html": [
       "<div>\n",
       "<style scoped>\n",
       "    .dataframe tbody tr th:only-of-type {\n",
       "        vertical-align: middle;\n",
       "    }\n",
       "\n",
       "    .dataframe tbody tr th {\n",
       "        vertical-align: top;\n",
       "    }\n",
       "\n",
       "    .dataframe thead th {\n",
       "        text-align: right;\n",
       "    }\n",
       "</style>\n",
       "<table border=\"1\" class=\"dataframe\">\n",
       "  <thead>\n",
       "    <tr style=\"text-align: right;\">\n",
       "      <th></th>\n",
       "      <th>Invoice</th>\n",
       "      <th>StockCode</th>\n",
       "      <th>Description</th>\n",
       "      <th>Quantity</th>\n",
       "      <th>InvoiceDate</th>\n",
       "      <th>Price</th>\n",
       "      <th>Customer ID</th>\n",
       "      <th>Country</th>\n",
       "      <th>DayOfWeek</th>\n",
       "      <th>DayOfWeek_Num</th>\n",
       "      <th>revenue</th>\n",
       "      <th>customer_total_revenue</th>\n",
       "      <th>ProductCategory_x</th>\n",
       "      <th>ProductCategory_y</th>\n",
       "      <th>OrderSize</th>\n",
       "      <th>CustomerTier</th>\n",
       "      <th>Tokenized_Words</th>\n",
       "      <th>Has_Sale</th>\n",
       "      <th>Has_Gift</th>\n",
       "      <th>Has_Luxury</th>\n",
       "    </tr>\n",
       "  </thead>\n",
       "  <tbody>\n",
       "    <tr>\n",
       "      <th>0</th>\n",
       "      <td>489434</td>\n",
       "      <td>85048</td>\n",
       "      <td>15cm christmas glass ball 20 lights</td>\n",
       "      <td>12</td>\n",
       "      <td>2009-12-01 07:45:00</td>\n",
       "      <td>6.95</td>\n",
       "      <td>13085.0</td>\n",
       "      <td>United Kingdom</td>\n",
       "      <td>Tuesday</td>\n",
       "      <td>1</td>\n",
       "      <td>83.4</td>\n",
       "      <td>1187.08</td>\n",
       "      <td>High</td>\n",
       "      <td>High</td>\n",
       "      <td>166</td>\n",
       "      <td>Low</td>\n",
       "      <td>[15cm, christmas, glass, ball, 20, lights]</td>\n",
       "      <td>0</td>\n",
       "      <td>0</td>\n",
       "      <td>0</td>\n",
       "    </tr>\n",
       "    <tr>\n",
       "      <th>1</th>\n",
       "      <td>489434</td>\n",
       "      <td>79323P</td>\n",
       "      <td>pink cherry lights</td>\n",
       "      <td>12</td>\n",
       "      <td>2009-12-01 07:45:00</td>\n",
       "      <td>6.75</td>\n",
       "      <td>13085.0</td>\n",
       "      <td>United Kingdom</td>\n",
       "      <td>Tuesday</td>\n",
       "      <td>1</td>\n",
       "      <td>81.0</td>\n",
       "      <td>1187.08</td>\n",
       "      <td>High</td>\n",
       "      <td>High</td>\n",
       "      <td>166</td>\n",
       "      <td>Low</td>\n",
       "      <td>[pink, cherry, lights]</td>\n",
       "      <td>0</td>\n",
       "      <td>0</td>\n",
       "      <td>0</td>\n",
       "    </tr>\n",
       "    <tr>\n",
       "      <th>2</th>\n",
       "      <td>489434</td>\n",
       "      <td>79323W</td>\n",
       "      <td>white cherry lights</td>\n",
       "      <td>12</td>\n",
       "      <td>2009-12-01 07:45:00</td>\n",
       "      <td>6.75</td>\n",
       "      <td>13085.0</td>\n",
       "      <td>United Kingdom</td>\n",
       "      <td>Tuesday</td>\n",
       "      <td>1</td>\n",
       "      <td>81.0</td>\n",
       "      <td>1187.08</td>\n",
       "      <td>High</td>\n",
       "      <td>High</td>\n",
       "      <td>166</td>\n",
       "      <td>Low</td>\n",
       "      <td>[white, cherry, lights]</td>\n",
       "      <td>0</td>\n",
       "      <td>0</td>\n",
       "      <td>0</td>\n",
       "    </tr>\n",
       "    <tr>\n",
       "      <th>3</th>\n",
       "      <td>489434</td>\n",
       "      <td>22041</td>\n",
       "      <td>record frame 7\" single size</td>\n",
       "      <td>48</td>\n",
       "      <td>2009-12-01 07:45:00</td>\n",
       "      <td>2.10</td>\n",
       "      <td>13085.0</td>\n",
       "      <td>United Kingdom</td>\n",
       "      <td>Tuesday</td>\n",
       "      <td>1</td>\n",
       "      <td>100.8</td>\n",
       "      <td>1187.08</td>\n",
       "      <td>High</td>\n",
       "      <td>High</td>\n",
       "      <td>166</td>\n",
       "      <td>Low</td>\n",
       "      <td>[record, frame, 7, single, size]</td>\n",
       "      <td>0</td>\n",
       "      <td>0</td>\n",
       "      <td>0</td>\n",
       "    </tr>\n",
       "    <tr>\n",
       "      <th>4</th>\n",
       "      <td>489434</td>\n",
       "      <td>21232</td>\n",
       "      <td>strawberry ceramic trinket box</td>\n",
       "      <td>24</td>\n",
       "      <td>2009-12-01 07:45:00</td>\n",
       "      <td>1.25</td>\n",
       "      <td>13085.0</td>\n",
       "      <td>United Kingdom</td>\n",
       "      <td>Tuesday</td>\n",
       "      <td>1</td>\n",
       "      <td>30.0</td>\n",
       "      <td>1187.08</td>\n",
       "      <td>High</td>\n",
       "      <td>High</td>\n",
       "      <td>166</td>\n",
       "      <td>Low</td>\n",
       "      <td>[strawberry, ceramic, trinket, box]</td>\n",
       "      <td>0</td>\n",
       "      <td>0</td>\n",
       "      <td>0</td>\n",
       "    </tr>\n",
       "    <tr>\n",
       "      <th>5</th>\n",
       "      <td>489434</td>\n",
       "      <td>22064</td>\n",
       "      <td>pink doughnut trinket pot</td>\n",
       "      <td>24</td>\n",
       "      <td>2009-12-01 07:45:00</td>\n",
       "      <td>1.65</td>\n",
       "      <td>13085.0</td>\n",
       "      <td>United Kingdom</td>\n",
       "      <td>Tuesday</td>\n",
       "      <td>1</td>\n",
       "      <td>39.6</td>\n",
       "      <td>1187.08</td>\n",
       "      <td>High</td>\n",
       "      <td>High</td>\n",
       "      <td>166</td>\n",
       "      <td>Low</td>\n",
       "      <td>[pink, doughnut, trinket, pot]</td>\n",
       "      <td>0</td>\n",
       "      <td>0</td>\n",
       "      <td>0</td>\n",
       "    </tr>\n",
       "    <tr>\n",
       "      <th>6</th>\n",
       "      <td>489434</td>\n",
       "      <td>21871</td>\n",
       "      <td>save the planet mug</td>\n",
       "      <td>24</td>\n",
       "      <td>2009-12-01 07:45:00</td>\n",
       "      <td>1.25</td>\n",
       "      <td>13085.0</td>\n",
       "      <td>United Kingdom</td>\n",
       "      <td>Tuesday</td>\n",
       "      <td>1</td>\n",
       "      <td>30.0</td>\n",
       "      <td>1187.08</td>\n",
       "      <td>High</td>\n",
       "      <td>High</td>\n",
       "      <td>166</td>\n",
       "      <td>Low</td>\n",
       "      <td>[save, the, planet, mug]</td>\n",
       "      <td>0</td>\n",
       "      <td>0</td>\n",
       "      <td>0</td>\n",
       "    </tr>\n",
       "    <tr>\n",
       "      <th>7</th>\n",
       "      <td>489434</td>\n",
       "      <td>21523</td>\n",
       "      <td>fancy font home sweet home doormat</td>\n",
       "      <td>10</td>\n",
       "      <td>2009-12-01 07:45:00</td>\n",
       "      <td>5.95</td>\n",
       "      <td>13085.0</td>\n",
       "      <td>United Kingdom</td>\n",
       "      <td>Tuesday</td>\n",
       "      <td>1</td>\n",
       "      <td>59.5</td>\n",
       "      <td>1187.08</td>\n",
       "      <td>High</td>\n",
       "      <td>High</td>\n",
       "      <td>166</td>\n",
       "      <td>Low</td>\n",
       "      <td>[fancy, font, home, sweet, home, doormat]</td>\n",
       "      <td>0</td>\n",
       "      <td>0</td>\n",
       "      <td>0</td>\n",
       "    </tr>\n",
       "    <tr>\n",
       "      <th>8</th>\n",
       "      <td>489435</td>\n",
       "      <td>22350</td>\n",
       "      <td>cat bowl</td>\n",
       "      <td>12</td>\n",
       "      <td>2009-12-01 07:46:00</td>\n",
       "      <td>2.55</td>\n",
       "      <td>13085.0</td>\n",
       "      <td>United Kingdom</td>\n",
       "      <td>Tuesday</td>\n",
       "      <td>1</td>\n",
       "      <td>30.6</td>\n",
       "      <td>1187.08</td>\n",
       "      <td>High</td>\n",
       "      <td>High</td>\n",
       "      <td>60</td>\n",
       "      <td>Low</td>\n",
       "      <td>[cat, bowl]</td>\n",
       "      <td>0</td>\n",
       "      <td>0</td>\n",
       "      <td>0</td>\n",
       "    </tr>\n",
       "    <tr>\n",
       "      <th>9</th>\n",
       "      <td>489435</td>\n",
       "      <td>22349</td>\n",
       "      <td>dog bowl , chasing ball design</td>\n",
       "      <td>12</td>\n",
       "      <td>2009-12-01 07:46:00</td>\n",
       "      <td>3.75</td>\n",
       "      <td>13085.0</td>\n",
       "      <td>United Kingdom</td>\n",
       "      <td>Tuesday</td>\n",
       "      <td>1</td>\n",
       "      <td>45.0</td>\n",
       "      <td>1187.08</td>\n",
       "      <td>High</td>\n",
       "      <td>High</td>\n",
       "      <td>60</td>\n",
       "      <td>Low</td>\n",
       "      <td>[dog, bowl, chasing, ball, design]</td>\n",
       "      <td>0</td>\n",
       "      <td>0</td>\n",
       "      <td>0</td>\n",
       "    </tr>\n",
       "  </tbody>\n",
       "</table>\n",
       "</div>"
      ],
      "text/plain": [
       "  Invoice StockCode                          Description  Quantity  \\\n",
       "0  489434     85048  15cm christmas glass ball 20 lights        12   \n",
       "1  489434    79323P                   pink cherry lights        12   \n",
       "2  489434    79323W                  white cherry lights        12   \n",
       "3  489434     22041         record frame 7\" single size         48   \n",
       "4  489434     21232       strawberry ceramic trinket box        24   \n",
       "5  489434     22064           pink doughnut trinket pot         24   \n",
       "6  489434     21871                  save the planet mug        24   \n",
       "7  489434     21523   fancy font home sweet home doormat        10   \n",
       "8  489435     22350                            cat bowl         12   \n",
       "9  489435     22349       dog bowl , chasing ball design        12   \n",
       "\n",
       "          InvoiceDate  Price  Customer ID         Country DayOfWeek  \\\n",
       "0 2009-12-01 07:45:00   6.95      13085.0  United Kingdom   Tuesday   \n",
       "1 2009-12-01 07:45:00   6.75      13085.0  United Kingdom   Tuesday   \n",
       "2 2009-12-01 07:45:00   6.75      13085.0  United Kingdom   Tuesday   \n",
       "3 2009-12-01 07:45:00   2.10      13085.0  United Kingdom   Tuesday   \n",
       "4 2009-12-01 07:45:00   1.25      13085.0  United Kingdom   Tuesday   \n",
       "5 2009-12-01 07:45:00   1.65      13085.0  United Kingdom   Tuesday   \n",
       "6 2009-12-01 07:45:00   1.25      13085.0  United Kingdom   Tuesday   \n",
       "7 2009-12-01 07:45:00   5.95      13085.0  United Kingdom   Tuesday   \n",
       "8 2009-12-01 07:46:00   2.55      13085.0  United Kingdom   Tuesday   \n",
       "9 2009-12-01 07:46:00   3.75      13085.0  United Kingdom   Tuesday   \n",
       "\n",
       "   DayOfWeek_Num  revenue  customer_total_revenue ProductCategory_x  \\\n",
       "0              1     83.4                 1187.08              High   \n",
       "1              1     81.0                 1187.08              High   \n",
       "2              1     81.0                 1187.08              High   \n",
       "3              1    100.8                 1187.08              High   \n",
       "4              1     30.0                 1187.08              High   \n",
       "5              1     39.6                 1187.08              High   \n",
       "6              1     30.0                 1187.08              High   \n",
       "7              1     59.5                 1187.08              High   \n",
       "8              1     30.6                 1187.08              High   \n",
       "9              1     45.0                 1187.08              High   \n",
       "\n",
       "  ProductCategory_y  OrderSize CustomerTier  \\\n",
       "0              High        166          Low   \n",
       "1              High        166          Low   \n",
       "2              High        166          Low   \n",
       "3              High        166          Low   \n",
       "4              High        166          Low   \n",
       "5              High        166          Low   \n",
       "6              High        166          Low   \n",
       "7              High        166          Low   \n",
       "8              High         60          Low   \n",
       "9              High         60          Low   \n",
       "\n",
       "                              Tokenized_Words  Has_Sale  Has_Gift  Has_Luxury  \n",
       "0  [15cm, christmas, glass, ball, 20, lights]         0         0           0  \n",
       "1                      [pink, cherry, lights]         0         0           0  \n",
       "2                     [white, cherry, lights]         0         0           0  \n",
       "3            [record, frame, 7, single, size]         0         0           0  \n",
       "4         [strawberry, ceramic, trinket, box]         0         0           0  \n",
       "5              [pink, doughnut, trinket, pot]         0         0           0  \n",
       "6                    [save, the, planet, mug]         0         0           0  \n",
       "7   [fancy, font, home, sweet, home, doormat]         0         0           0  \n",
       "8                                 [cat, bowl]         0         0           0  \n",
       "9          [dog, bowl, chasing, ball, design]         0         0           0  "
      ]
     },
     "metadata": {},
     "output_type": "display_data"
    }
   ],
   "source": [
    "# Function to check if any of the words from a group exist in a description\n",
    "def contains_group_word(description, group_words):\n",
    "    return 1 if any(word in str(description).lower() for word in group_words) else 0\n",
    "\n",
    "# Apply the function for each group\n",
    "for group_name, words in word_groups_stemmed.items():\n",
    "    df[f'Has_{group_name}'] = df['Description'].apply(lambda x: contains_group_word(x, words))\n"
   ]
  },
  {
   "cell_type": "code",
   "execution_count": 124,
   "metadata": {},
   "outputs": [
    {
     "name": "stdout",
     "output_type": "stream",
     "text": [
      "            Quantity                    InvoiceDate          Price  \\\n",
      "count  410732.000000                         410732  410732.000000   \n",
      "mean       12.922592  2010-06-30 20:01:09.827138304       3.908653   \n",
      "min     -9360.000000            2009-12-01 07:45:00       0.001000   \n",
      "25%         2.000000            2010-03-26 09:46:00       1.250000   \n",
      "50%         5.000000            2010-07-08 15:29:00       1.950000   \n",
      "75%        12.000000            2010-10-14 12:32:00       3.750000   \n",
      "max     19152.000000            2010-12-09 20:01:00   25111.090000   \n",
      "std       102.038529                            NaN      71.717492   \n",
      "\n",
      "         Customer ID  DayOfWeek_Num        revenue  customer_total_revenue  \\\n",
      "count  410732.000000  410732.000000  410732.000000           410732.000000   \n",
      "mean    15353.708564       2.671703      20.243993            10927.694398   \n",
      "min     12346.000000       0.000000  -25111.090000           -25111.090000   \n",
      "25%     13979.000000       1.000000       4.500000             1132.200000   \n",
      "50%     15311.000000       3.000000      11.800000             2545.920000   \n",
      "75%     16797.000000       4.000000      19.500000             6445.370000   \n",
      "max     18287.000000       6.000000   15818.400000           341776.730000   \n",
      "std      1681.625304       1.967131     100.714472            31492.748190   \n",
      "\n",
      "           OrderSize       Has_Sale       Has_Gift     Has_Luxury  \n",
      "count  410732.000000  410732.000000  410732.000000  410732.000000  \n",
      "mean      401.742723       0.000236       0.023891       0.000100  \n",
      "min    -87167.000000       0.000000       0.000000       0.000000  \n",
      "25%       118.000000       0.000000       0.000000       0.000000  \n",
      "50%       220.000000       0.000000       0.000000       0.000000  \n",
      "75%       397.000000       0.000000       0.000000       0.000000  \n",
      "max     87167.000000       1.000000       1.000000       1.000000  \n",
      "std      1998.980764       0.015366       0.152711       0.009991  \n"
     ]
    }
   ],
   "source": [
    "print(df.describe())"
   ]
  },
  {
   "cell_type": "markdown",
   "metadata": {},
   "source": [
    "##### Categorize transactions as \"Small\", \"Medium\", or \"Large\" based on Revenue."
   ]
  },
  {
   "cell_type": "code",
   "execution_count": 126,
   "metadata": {},
   "outputs": [
    {
     "data": {
      "text/html": [
       "<div>\n",
       "<style scoped>\n",
       "    .dataframe tbody tr th:only-of-type {\n",
       "        vertical-align: middle;\n",
       "    }\n",
       "\n",
       "    .dataframe tbody tr th {\n",
       "        vertical-align: top;\n",
       "    }\n",
       "\n",
       "    .dataframe thead th {\n",
       "        text-align: right;\n",
       "    }\n",
       "</style>\n",
       "<table border=\"1\" class=\"dataframe\">\n",
       "  <thead>\n",
       "    <tr style=\"text-align: right;\">\n",
       "      <th></th>\n",
       "      <th>Invoice</th>\n",
       "      <th>revenue</th>\n",
       "      <th>TransactionSize</th>\n",
       "    </tr>\n",
       "  </thead>\n",
       "  <tbody>\n",
       "    <tr>\n",
       "      <th>0</th>\n",
       "      <td>489434</td>\n",
       "      <td>83.4</td>\n",
       "      <td>Large</td>\n",
       "    </tr>\n",
       "    <tr>\n",
       "      <th>1</th>\n",
       "      <td>489434</td>\n",
       "      <td>81.0</td>\n",
       "      <td>Large</td>\n",
       "    </tr>\n",
       "    <tr>\n",
       "      <th>2</th>\n",
       "      <td>489434</td>\n",
       "      <td>81.0</td>\n",
       "      <td>Large</td>\n",
       "    </tr>\n",
       "    <tr>\n",
       "      <th>3</th>\n",
       "      <td>489434</td>\n",
       "      <td>100.8</td>\n",
       "      <td>Large</td>\n",
       "    </tr>\n",
       "    <tr>\n",
       "      <th>4</th>\n",
       "      <td>489434</td>\n",
       "      <td>30.0</td>\n",
       "      <td>Large</td>\n",
       "    </tr>\n",
       "    <tr>\n",
       "      <th>5</th>\n",
       "      <td>489434</td>\n",
       "      <td>39.6</td>\n",
       "      <td>Large</td>\n",
       "    </tr>\n",
       "    <tr>\n",
       "      <th>6</th>\n",
       "      <td>489434</td>\n",
       "      <td>30.0</td>\n",
       "      <td>Large</td>\n",
       "    </tr>\n",
       "    <tr>\n",
       "      <th>7</th>\n",
       "      <td>489434</td>\n",
       "      <td>59.5</td>\n",
       "      <td>Large</td>\n",
       "    </tr>\n",
       "    <tr>\n",
       "      <th>8</th>\n",
       "      <td>489435</td>\n",
       "      <td>30.6</td>\n",
       "      <td>Large</td>\n",
       "    </tr>\n",
       "    <tr>\n",
       "      <th>9</th>\n",
       "      <td>489435</td>\n",
       "      <td>45.0</td>\n",
       "      <td>Large</td>\n",
       "    </tr>\n",
       "  </tbody>\n",
       "</table>\n",
       "</div>"
      ],
      "text/plain": [
       "  Invoice  revenue TransactionSize\n",
       "0  489434     83.4           Large\n",
       "1  489434     81.0           Large\n",
       "2  489434     81.0           Large\n",
       "3  489434    100.8           Large\n",
       "4  489434     30.0           Large\n",
       "5  489434     39.6           Large\n",
       "6  489434     30.0           Large\n",
       "7  489434     59.5           Large\n",
       "8  489435     30.6           Large\n",
       "9  489435     45.0           Large"
      ]
     },
     "metadata": {},
     "output_type": "display_data"
    }
   ],
   "source": [
    "# Define revenue percentiles for categorization\n",
    "low_threshold = df['revenue'].quantile(0.33)\n",
    "high_threshold = df['revenue'].quantile(0.66)\n",
    "\n",
    "# Apply lambda function to classify transactions\n",
    "df['TransactionSize'] = df['revenue'].apply(\n",
    "    lambda x: 'Small' if x <= low_threshold else ('Medium' if x <= high_threshold else 'Large')\n",
    ")\n",
    "\n",
    "# Display updated DataFrame\n",
    "display(df[['Invoice', 'revenue', 'TransactionSize']].head(10))\n"
   ]
  },
  {
   "cell_type": "markdown",
   "metadata": {},
   "source": [
    "#### Flag items as \"Christmas\"-themed if the description contains relevant words."
   ]
  },
  {
   "cell_type": "code",
   "execution_count": 127,
   "metadata": {},
   "outputs": [
    {
     "data": {
      "text/html": [
       "<div>\n",
       "<style scoped>\n",
       "    .dataframe tbody tr th:only-of-type {\n",
       "        vertical-align: middle;\n",
       "    }\n",
       "\n",
       "    .dataframe tbody tr th {\n",
       "        vertical-align: top;\n",
       "    }\n",
       "\n",
       "    .dataframe thead th {\n",
       "        text-align: right;\n",
       "    }\n",
       "</style>\n",
       "<table border=\"1\" class=\"dataframe\">\n",
       "  <thead>\n",
       "    <tr style=\"text-align: right;\">\n",
       "      <th></th>\n",
       "      <th>Description</th>\n",
       "      <th>Is_Christmas_Item</th>\n",
       "    </tr>\n",
       "  </thead>\n",
       "  <tbody>\n",
       "    <tr>\n",
       "      <th>0</th>\n",
       "      <td>15cm christmas glass ball 20 lights</td>\n",
       "      <td>1</td>\n",
       "    </tr>\n",
       "    <tr>\n",
       "      <th>1</th>\n",
       "      <td>pink cherry lights</td>\n",
       "      <td>0</td>\n",
       "    </tr>\n",
       "    <tr>\n",
       "      <th>2</th>\n",
       "      <td>white cherry lights</td>\n",
       "      <td>0</td>\n",
       "    </tr>\n",
       "    <tr>\n",
       "      <th>3</th>\n",
       "      <td>record frame 7\" single size</td>\n",
       "      <td>0</td>\n",
       "    </tr>\n",
       "    <tr>\n",
       "      <th>4</th>\n",
       "      <td>strawberry ceramic trinket box</td>\n",
       "      <td>0</td>\n",
       "    </tr>\n",
       "    <tr>\n",
       "      <th>5</th>\n",
       "      <td>pink doughnut trinket pot</td>\n",
       "      <td>0</td>\n",
       "    </tr>\n",
       "    <tr>\n",
       "      <th>6</th>\n",
       "      <td>save the planet mug</td>\n",
       "      <td>0</td>\n",
       "    </tr>\n",
       "    <tr>\n",
       "      <th>7</th>\n",
       "      <td>fancy font home sweet home doormat</td>\n",
       "      <td>0</td>\n",
       "    </tr>\n",
       "    <tr>\n",
       "      <th>8</th>\n",
       "      <td>cat bowl</td>\n",
       "      <td>0</td>\n",
       "    </tr>\n",
       "    <tr>\n",
       "      <th>9</th>\n",
       "      <td>dog bowl , chasing ball design</td>\n",
       "      <td>0</td>\n",
       "    </tr>\n",
       "  </tbody>\n",
       "</table>\n",
       "</div>"
      ],
      "text/plain": [
       "                           Description  Is_Christmas_Item\n",
       "0  15cm christmas glass ball 20 lights                  1\n",
       "1                   pink cherry lights                  0\n",
       "2                  white cherry lights                  0\n",
       "3         record frame 7\" single size                   0\n",
       "4       strawberry ceramic trinket box                  0\n",
       "5           pink doughnut trinket pot                   0\n",
       "6                  save the planet mug                  0\n",
       "7   fancy font home sweet home doormat                  0\n",
       "8                            cat bowl                   0\n",
       "9       dog bowl , chasing ball design                  0"
      ]
     },
     "metadata": {},
     "output_type": "display_data"
    }
   ],
   "source": [
    "christmas_keywords = ['christmas', 'xmas', 'noel', 'santa']\n",
    "\n",
    "df['Is_Christmas_Item'] = df['Description'].apply(lambda x: 1 if any(word in str(x).lower() for word in christmas_keywords) else 0)\n",
    "\n",
    "# Display updated DataFrame\n",
    "display(df[['Description', 'Is_Christmas_Item']].head(10))\n"
   ]
  },
  {
   "cell_type": "code",
   "execution_count": 128,
   "metadata": {},
   "outputs": [
    {
     "name": "stdout",
     "output_type": "stream",
     "text": [
      "Total Christmas-themed items: 16052\n"
     ]
    }
   ],
   "source": [
    "# Count the number of Christmas items\n",
    "christmas_item_count = df['Is_Christmas_Item'].sum()\n",
    "\n",
    "# Display the count\n",
    "print(f\"Total Christmas-themed items: {christmas_item_count}\")\n"
   ]
  }
 ],
 "metadata": {
  "colab": {
   "provenance": []
  },
  "kernelspec": {
   "display_name": "Python 3",
   "name": "python3"
  },
  "language_info": {
   "codemirror_mode": {
    "name": "ipython",
    "version": 3
   },
   "file_extension": ".py",
   "mimetype": "text/x-python",
   "name": "python",
   "nbconvert_exporter": "python",
   "pygments_lexer": "ipython3",
   "version": "3.12.6"
  }
 },
 "nbformat": 4,
 "nbformat_minor": 0
}
