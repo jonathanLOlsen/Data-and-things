{
 "cells": [
  {
   "cell_type": "markdown",
   "metadata": {},
   "source": [
    "## Execise 1 mlflow\n",
    "\n",
    "In this exercise, do the following:\n",
    "1. Load the dataset used in the time series example - Energy consumption data. You can find it in the notebook \"TSA_Example\" in Time Series folder in Moodle.\n",
    "2. Setup a nested MLFlow loop where different modelling experiments can be tracked and the use the dataset in point 1 to experiment and track models. You should do following combinations:\n",
    "    1. At least 3 model types\n",
    "    2. At least 3 different feature combinations\n",
    "    3. At least 3 different options for 3 different hyperparameters\n",
    "    4. At least 3 different time splits for train test\n",
    "3. For each option in the combination, you should calculate & log the following in MLFlow:\n",
    "    1. RMSE\n",
    "    2. MAE\n",
    "    3. Plot of actual vs predicted for 1 month data\n",
    "    4. Plot of actual vs predicted for 1 week of data\n",
    "    5. All of the combination info in point 2, such as which model, what feature combindation, what hyperparameter, what train test split has been used\n",
    "4. Turn on MLFlow UI and track your experiments"
   ]
  },
  {
   "cell_type": "markdown",
   "metadata": {},
   "source": []
  }
 ],
 "metadata": {
  "language_info": {
   "name": "python"
  }
 },
 "nbformat": 4,
 "nbformat_minor": 2
}
