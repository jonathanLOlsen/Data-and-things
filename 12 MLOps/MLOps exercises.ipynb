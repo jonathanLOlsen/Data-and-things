{
 "cells": [
  {
   "cell_type": "markdown",
   "id": "68dc0175-b2ca-4c23-92a5-19f30bbc975b",
   "metadata": {},
   "source": [
    "# MLOps exercises"
   ]
  },
  {
   "cell_type": "markdown",
   "id": "bb3a76de-8b93-465e-86af-0c2a8e9ea02e",
   "metadata": {},
   "source": [
    "## Execise 1\n",
    "\n",
    "In this exercise, do the following:\n",
    "1. Create a function that preprocess new ames data in the same way as the original ames data was preprocessed in step 5 in the `MLOps.ipynb` notebook.\n",
    "2. Create a function that takes as input a new ames dataset and a model. The function should pre-process the new data and evaluate the model on that new data using mean absolute error.\n",
    "3. Test the function from 2. on the \"NewAmesData1.csv\" dataset and the best model from the `MLOps.ipynb` notebook.\n",
    "4. Test the function from 2. on the \"NewAmesData2.csv\" dataset and the best model from the `MLOps.ipynb` notebook. Do you see any drift?\n",
    "5. Do you see a data drift in \"NewAmesData2.csv\"? If so, for which variables?\n",
    "6. Do you see a data drift in \"NewAmesData4.csv\"? If so, for which variables?\n",
    "7. Create a function that retrain a model on the new data as well as the old training data\n",
    "8. Retrain the `model_final` on the new data \"NewAmesData1.csv\" as well as the old training data, using the function from 5. Then test the new model on the old testset.\n",
    "9. Split the \"NewAmesData2.csv\" dataset into a train and test set. Train  the best model from the `MLOps.ipynb` notebook on the training part and test it on the test part. Did you get a better model? Now combine your new training data with the original training data and retrain the model on that. Did that give you a better model?"
   ]
  },
  {
   "cell_type": "code",
   "execution_count": null,
   "id": "e6ac6a31-ec39-4d31-aa94-4c8ef9f0d5c3",
   "metadata": {},
   "outputs": [],
   "source": []
  }
 ],
 "metadata": {
  "kernelspec": {
   "display_name": "Python 3",
   "language": "python",
   "name": "python3"
  },
  "language_info": {
   "codemirror_mode": {
    "name": "ipython",
    "version": 3
   },
   "file_extension": ".py",
   "mimetype": "text/x-python",
   "name": "python",
   "nbconvert_exporter": "python",
   "pygments_lexer": "ipython3",
   "version": "3.12.3"
  }
 },
 "nbformat": 4,
 "nbformat_minor": 5
}
