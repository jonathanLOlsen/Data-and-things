{
 "cells": [
  {
   "cell_type": "markdown",
   "metadata": {},
   "source": [
    "## Exercise 1\n",
    "\n",
    "Using the \"Coursera Courses Dataset 2021\" available at kaggle ([https://www.kaggle.com/datasets/khusheekapoor/coursera-courses-dataset-2021](https://www.kaggle.com/datasets/khusheekapoor/coursera-courses-dataset-2021)) or on moodle, to do the following:\n",
    "\n",
    "1. Create a Content-based filtering recommender system based on the Course Descriptions.\n",
    "2. Create a Content-based filtering recommender system based on the Skills.\n",
    "\n",
    "Using the \"Book Recommendation Dataset\" available at kaggle ([https://www.kaggle.com/datasets/arashnic/book-recommendation-dataset](https://www.kaggle.com/datasets/arashnic/book-recommendation-dataset)) or on moodle, to do the following:\n",
    "\n",
    "3. Load in the `Ratings.csv` file (on moodle, it is called `Books_Ratings.csv`). Group by `User-ID` and sort by `Book-Rating` in descending order to get the users who rated most books. Filter the rating data to only contain the 200 users that rated most books.\n",
    "4. Create a Collaborative filtering recommender system based on the user ratings from 3 together with the `Books.csv` dataset."
   ]
  },
  {
   "cell_type": "markdown",
   "metadata": {},
   "source": [
    "### Using the \"Coursera Courses Dataset 2021\" available at kaggle ([https://www.kaggle.com/datasets/khusheekapoor/coursera-courses-dataset-2021](https://www.kaggle.com/datasets/khusheekapoor/coursera-courses-dataset-2021)) or on moodle, to do the following:"
   ]
  },
  {
   "cell_type": "code",
   "execution_count": 1,
   "metadata": {},
   "outputs": [
    {
     "name": "stderr",
     "output_type": "stream",
     "text": [
      "c:\\Users\\Jlo\\AppData\\Local\\Programs\\Python\\Python313\\Lib\\site-packages\\tqdm\\auto.py:21: TqdmWarning: IProgress not found. Please update jupyter and ipywidgets. See https://ipywidgets.readthedocs.io/en/stable/user_install.html\n",
      "  from .autonotebook import tqdm as notebook_tqdm\n"
     ]
    }
   ],
   "source": [
    "import kagglehub\n",
    "import os\n",
    "import pandas as pd\n",
    "from sklearn.feature_extraction.text import TfidfVectorizer\n",
    "from sklearn.metrics.pairwise import cosine_similarity\n"
   ]
  },
  {
   "cell_type": "markdown",
   "metadata": {},
   "source": [
    "path"
   ]
  },
  {
   "cell_type": "code",
   "execution_count": 2,
   "metadata": {},
   "outputs": [
    {
     "name": "stdout",
     "output_type": "stream",
     "text": [
      "Path to dataset files: C:\\Users\\Jlo\\.cache\\kagglehub\\datasets\\khusheekapoor\\coursera-courses-dataset-2021\\versions\\1\n"
     ]
    }
   ],
   "source": [
    "path = kagglehub.dataset_download(\"khusheekapoor/coursera-courses-dataset-2021\")\n",
    "print(\"Path to dataset files:\", path)\n"
   ]
  },
  {
   "cell_type": "code",
   "execution_count": 3,
   "metadata": {},
   "outputs": [
    {
     "name": "stdout",
     "output_type": "stream",
     "text": [
      "['Coursera.csv']\n"
     ]
    }
   ],
   "source": [
    "dataset_path = path\n",
    "\n",
    "files = os.listdir(dataset_path)\n",
    "print(files)"
   ]
  },
  {
   "cell_type": "code",
   "execution_count": 4,
   "metadata": {},
   "outputs": [
    {
     "data": {
      "text/html": [
       "<div>\n",
       "<style scoped>\n",
       "    .dataframe tbody tr th:only-of-type {\n",
       "        vertical-align: middle;\n",
       "    }\n",
       "\n",
       "    .dataframe tbody tr th {\n",
       "        vertical-align: top;\n",
       "    }\n",
       "\n",
       "    .dataframe thead th {\n",
       "        text-align: right;\n",
       "    }\n",
       "</style>\n",
       "<table border=\"1\" class=\"dataframe\">\n",
       "  <thead>\n",
       "    <tr style=\"text-align: right;\">\n",
       "      <th></th>\n",
       "      <th>Course Name</th>\n",
       "      <th>University</th>\n",
       "      <th>Difficulty Level</th>\n",
       "      <th>Course Rating</th>\n",
       "      <th>Course URL</th>\n",
       "      <th>Course Description</th>\n",
       "      <th>Skills</th>\n",
       "    </tr>\n",
       "  </thead>\n",
       "  <tbody>\n",
       "    <tr>\n",
       "      <th>0</th>\n",
       "      <td>Write A Feature Length Screenplay For Film Or ...</td>\n",
       "      <td>Michigan State University</td>\n",
       "      <td>Beginner</td>\n",
       "      <td>4.8</td>\n",
       "      <td>https://www.coursera.org/learn/write-a-feature...</td>\n",
       "      <td>Write a Full Length Feature Film Script  In th...</td>\n",
       "      <td>Drama  Comedy  peering  screenwriting  film  D...</td>\n",
       "    </tr>\n",
       "    <tr>\n",
       "      <th>1</th>\n",
       "      <td>Business Strategy: Business Model Canvas Analy...</td>\n",
       "      <td>Coursera Project Network</td>\n",
       "      <td>Beginner</td>\n",
       "      <td>4.8</td>\n",
       "      <td>https://www.coursera.org/learn/canvas-analysis...</td>\n",
       "      <td>By the end of this guided project, you will be...</td>\n",
       "      <td>Finance  business plan  persona (user experien...</td>\n",
       "    </tr>\n",
       "    <tr>\n",
       "      <th>2</th>\n",
       "      <td>Silicon Thin Film Solar Cells</td>\n",
       "      <td>�cole Polytechnique</td>\n",
       "      <td>Advanced</td>\n",
       "      <td>4.1</td>\n",
       "      <td>https://www.coursera.org/learn/silicon-thin-fi...</td>\n",
       "      <td>This course consists of a general presentation...</td>\n",
       "      <td>chemistry  physics  Solar Energy  film  lambda...</td>\n",
       "    </tr>\n",
       "    <tr>\n",
       "      <th>3</th>\n",
       "      <td>Finance for Managers</td>\n",
       "      <td>IESE Business School</td>\n",
       "      <td>Intermediate</td>\n",
       "      <td>4.8</td>\n",
       "      <td>https://www.coursera.org/learn/operational-fin...</td>\n",
       "      <td>When it comes to numbers, there is always more...</td>\n",
       "      <td>accounts receivable  dupont analysis  analysis...</td>\n",
       "    </tr>\n",
       "    <tr>\n",
       "      <th>4</th>\n",
       "      <td>Retrieve Data using Single-Table SQL Queries</td>\n",
       "      <td>Coursera Project Network</td>\n",
       "      <td>Beginner</td>\n",
       "      <td>4.6</td>\n",
       "      <td>https://www.coursera.org/learn/single-table-sq...</td>\n",
       "      <td>In this course you�ll learn how to effectively...</td>\n",
       "      <td>Data Analysis  select (sql)  database manageme...</td>\n",
       "    </tr>\n",
       "  </tbody>\n",
       "</table>\n",
       "</div>"
      ],
      "text/plain": [
       "                                         Course Name  \\\n",
       "0  Write A Feature Length Screenplay For Film Or ...   \n",
       "1  Business Strategy: Business Model Canvas Analy...   \n",
       "2                      Silicon Thin Film Solar Cells   \n",
       "3                               Finance for Managers   \n",
       "4       Retrieve Data using Single-Table SQL Queries   \n",
       "\n",
       "                  University Difficulty Level Course Rating  \\\n",
       "0  Michigan State University         Beginner           4.8   \n",
       "1   Coursera Project Network         Beginner           4.8   \n",
       "2        �cole Polytechnique         Advanced           4.1   \n",
       "3       IESE Business School     Intermediate           4.8   \n",
       "4   Coursera Project Network         Beginner           4.6   \n",
       "\n",
       "                                          Course URL  \\\n",
       "0  https://www.coursera.org/learn/write-a-feature...   \n",
       "1  https://www.coursera.org/learn/canvas-analysis...   \n",
       "2  https://www.coursera.org/learn/silicon-thin-fi...   \n",
       "3  https://www.coursera.org/learn/operational-fin...   \n",
       "4  https://www.coursera.org/learn/single-table-sq...   \n",
       "\n",
       "                                  Course Description  \\\n",
       "0  Write a Full Length Feature Film Script  In th...   \n",
       "1  By the end of this guided project, you will be...   \n",
       "2  This course consists of a general presentation...   \n",
       "3  When it comes to numbers, there is always more...   \n",
       "4  In this course you�ll learn how to effectively...   \n",
       "\n",
       "                                              Skills  \n",
       "0  Drama  Comedy  peering  screenwriting  film  D...  \n",
       "1  Finance  business plan  persona (user experien...  \n",
       "2  chemistry  physics  Solar Energy  film  lambda...  \n",
       "3  accounts receivable  dupont analysis  analysis...  \n",
       "4  Data Analysis  select (sql)  database manageme...  "
      ]
     },
     "execution_count": 4,
     "metadata": {},
     "output_type": "execute_result"
    }
   ],
   "source": [
    "file_path = dataset_path + \"/Coursera.csv\"\n",
    "\n",
    "df_coursera = pd.read_csv(file_path)\n",
    "df_coursera.head()"
   ]
  },
  {
   "cell_type": "code",
   "execution_count": 5,
   "metadata": {},
   "outputs": [
    {
     "name": "stdout",
     "output_type": "stream",
     "text": [
      "Index(['Course Name', 'University', 'Difficulty Level', 'Course Rating',\n",
      "       'Course URL', 'Course Description', 'Skills'],\n",
      "      dtype='object')\n"
     ]
    }
   ],
   "source": [
    "print(df_coursera.columns)"
   ]
  },
  {
   "cell_type": "code",
   "execution_count": 6,
   "metadata": {},
   "outputs": [
    {
     "name": "stdout",
     "output_type": "stream",
     "text": [
      "<class 'pandas.core.frame.DataFrame'>\n",
      "RangeIndex: 3522 entries, 0 to 3521\n",
      "Data columns (total 7 columns):\n",
      " #   Column              Non-Null Count  Dtype \n",
      "---  ------              --------------  ----- \n",
      " 0   Course Name         3522 non-null   object\n",
      " 1   University          3522 non-null   object\n",
      " 2   Difficulty Level    3522 non-null   object\n",
      " 3   Course Rating       3522 non-null   object\n",
      " 4   Course URL          3522 non-null   object\n",
      " 5   Course Description  3522 non-null   object\n",
      " 6   Skills              3522 non-null   object\n",
      "dtypes: object(7)\n",
      "memory usage: 192.7+ KB\n"
     ]
    }
   ],
   "source": [
    "df_coursera.info()"
   ]
  },
  {
   "cell_type": "code",
   "execution_count": 7,
   "metadata": {},
   "outputs": [],
   "source": [
    "# (Optional) Clean the text fields: remove punctuation, lower-case, etc.\n",
    "df_coursera['Course Description'] = df_coursera['Course Description'].fillna(\"\").str.lower()\n",
    "df_coursera['Skills'] = df_coursera['Skills'].fillna(\"\").str.lower()"
   ]
  },
  {
   "cell_type": "markdown",
   "metadata": {},
   "source": [
    "### 1. Create a Content-based filtering recommender system based on the Course Descriptions."
   ]
  },
  {
   "cell_type": "code",
   "execution_count": 8,
   "metadata": {},
   "outputs": [],
   "source": [
    "tfidf_desc = TfidfVectorizer(stop_words='english')\n",
    "desc_matrix = tfidf_desc.fit_transform(df_coursera['Course Description'])\n",
    "\n",
    "cosine_sim_desc = cosine_similarity(desc_matrix, desc_matrix)"
   ]
  },
  {
   "cell_type": "code",
   "execution_count": 9,
   "metadata": {},
   "outputs": [],
   "source": [
    "def recommend_courses_by_description(course_index, top_n=5):\n",
    "    # Enumerate similarity scores, sort, and return top_n courses (excluding itself)\n",
    "    sim_scores = list(enumerate(cosine_sim_desc[course_index]))\n",
    "    sim_scores = sorted(sim_scores, key=lambda x: x[1], reverse=True)\n",
    "    sim_scores = [score for score in sim_scores if score[0] != course_index]\n",
    "    recommended_indices = [i for i, score in sim_scores[:top_n]]\n",
    "    return df_coursera.iloc[recommended_indices][['Course Name', 'University', 'Course Description']]\n"
   ]
  },
  {
   "cell_type": "code",
   "execution_count": 10,
   "metadata": {},
   "outputs": [
    {
     "name": "stdout",
     "output_type": "stream",
     "text": [
      "Recommendations based on Course Description for course index 0:\n",
      "                                            Course Name  \\\n",
      "1481  Script Writing: Write a Pilot Episode for a TV...   \n",
      "1629                             Write Your First Novel   \n",
      "3481                                 Transmedia Writing   \n",
      "\n",
      "                     University  \\\n",
      "1481  Michigan State University   \n",
      "1629  Michigan State University   \n",
      "3481  Michigan State University   \n",
      "\n",
      "                                     Course Description  \n",
      "1481  what you�ll achieve:   in this project-centere...  \n",
      "1629  write your first novel  if you�ve ever had the...  \n",
      "3481  do you have a desire to write a novel, write a...  \n"
     ]
    }
   ],
   "source": [
    "print(\"Recommendations based on Course Description for course index 0:\")\n",
    "print(recommend_courses_by_description(0, top_n=3))"
   ]
  },
  {
   "cell_type": "markdown",
   "metadata": {},
   "source": [
    "### 2. Create a Content-based filtering recommender system based on the Skills."
   ]
  },
  {
   "cell_type": "code",
   "execution_count": 11,
   "metadata": {},
   "outputs": [],
   "source": [
    "# Vectorize the Skills column using TF-IDF.\n",
    "tfidf_skills = TfidfVectorizer(stop_words='english')\n",
    "skills_matrix = tfidf_skills.fit_transform(df_coursera['Skills'])\n",
    "\n",
    "# Compute cosine similarity for skills.\n",
    "cosine_sim_skills = cosine_similarity(skills_matrix, skills_matrix)\n",
    "\n"
   ]
  },
  {
   "cell_type": "code",
   "execution_count": 12,
   "metadata": {},
   "outputs": [],
   "source": [
    "def recommend_courses_by_skills(course_index, top_n=5):\n",
    "    sim_scores = list(enumerate(cosine_sim_skills[course_index]))\n",
    "    sim_scores = sorted(sim_scores, key=lambda x: x[1], reverse=True)\n",
    "    sim_scores = [score for score in sim_scores if score[0] != course_index]\n",
    "    recommended_indices = [i for i, score in sim_scores[:top_n]]\n",
    "    return df_coursera.iloc[recommended_indices][['Course Name', 'University', 'Skills']]"
   ]
  },
  {
   "cell_type": "code",
   "execution_count": 13,
   "metadata": {},
   "outputs": [
    {
     "name": "stdout",
     "output_type": "stream",
     "text": [
      "Recommendations based on Skills for course index 0:\n",
      "                                            Course Name  \\\n",
      "1451  Creative Writing: The Craft of Setting and Des...   \n",
      "1481  Script Writing: Write a Pilot Episode for a TV...   \n",
      "3462               Creative Writing: The Craft of Style   \n",
      "\n",
      "                     University  \\\n",
      "1451        Wesleyan University   \n",
      "1481  Michigan State University   \n",
      "3462        Wesleyan University   \n",
      "\n",
      "                                                 Skills  \n",
      "1451  copywriting  storytelling  fiction writing  hu...  \n",
      "1481  bible  film  film studies  cinematography  wri...  \n",
      "3462  creative writing  fiction writing  film  copyw...  \n"
     ]
    }
   ],
   "source": [
    "# Test recommender for course index 0.\n",
    "print(\"Recommendations based on Skills for course index 0:\")\n",
    "print(recommend_courses_by_skills(0, top_n=3))"
   ]
  },
  {
   "cell_type": "markdown",
   "metadata": {},
   "source": [
    "### Using the \"Book Recommendation Dataset\" available at kaggle ([https://www.kaggle.com/datasets/arashnic/book-recommendation-dataset](https://www.kaggle.com/datasets/arashnic/book-recommendation-dataset)) or on moodle, to do the following:\n"
   ]
  },
  {
   "cell_type": "markdown",
   "metadata": {},
   "source": [
    "### 3. Load in the `Ratings.csv` file (on moodle, it is called `Books_Ratings.csv`). Group by `User-ID` and sort by `Book-Rating` in descending order to get the users who rated most books. Filter the rating data to only contain the 200 users that rated most books."
   ]
  },
  {
   "cell_type": "markdown",
   "metadata": {},
   "source": []
  },
  {
   "cell_type": "code",
   "execution_count": 14,
   "metadata": {},
   "outputs": [
    {
     "name": "stdout",
     "output_type": "stream",
     "text": [
      "Path to dataset files: C:\\Users\\Jlo\\.cache\\kagglehub\\datasets\\arashnic\\book-recommendation-dataset\\versions\\3\n"
     ]
    }
   ],
   "source": [
    "path = kagglehub.dataset_download(\"arashnic/book-recommendation-dataset\")\n",
    "print(\"Path to dataset files:\", path)"
   ]
  },
  {
   "cell_type": "code",
   "execution_count": 15,
   "metadata": {},
   "outputs": [
    {
     "name": "stdout",
     "output_type": "stream",
     "text": [
      "['Books.csv', 'classicRec.png', 'DeepRec.png', 'Ratings.csv', 'recsys_taxonomy2.png', 'Users.csv']\n"
     ]
    }
   ],
   "source": [
    "dataset_path = path\n",
    "\n",
    "files = os.listdir(dataset_path)\n",
    "print(files)"
   ]
  },
  {
   "cell_type": "code",
   "execution_count": 16,
   "metadata": {},
   "outputs": [
    {
     "data": {
      "text/html": [
       "<div>\n",
       "<style scoped>\n",
       "    .dataframe tbody tr th:only-of-type {\n",
       "        vertical-align: middle;\n",
       "    }\n",
       "\n",
       "    .dataframe tbody tr th {\n",
       "        vertical-align: top;\n",
       "    }\n",
       "\n",
       "    .dataframe thead th {\n",
       "        text-align: right;\n",
       "    }\n",
       "</style>\n",
       "<table border=\"1\" class=\"dataframe\">\n",
       "  <thead>\n",
       "    <tr style=\"text-align: right;\">\n",
       "      <th></th>\n",
       "      <th>User-ID</th>\n",
       "      <th>ISBN</th>\n",
       "      <th>Book-Rating</th>\n",
       "    </tr>\n",
       "  </thead>\n",
       "  <tbody>\n",
       "    <tr>\n",
       "      <th>0</th>\n",
       "      <td>276725</td>\n",
       "      <td>034545104X</td>\n",
       "      <td>0</td>\n",
       "    </tr>\n",
       "    <tr>\n",
       "      <th>1</th>\n",
       "      <td>276726</td>\n",
       "      <td>0155061224</td>\n",
       "      <td>5</td>\n",
       "    </tr>\n",
       "    <tr>\n",
       "      <th>2</th>\n",
       "      <td>276727</td>\n",
       "      <td>0446520802</td>\n",
       "      <td>0</td>\n",
       "    </tr>\n",
       "    <tr>\n",
       "      <th>3</th>\n",
       "      <td>276729</td>\n",
       "      <td>052165615X</td>\n",
       "      <td>3</td>\n",
       "    </tr>\n",
       "    <tr>\n",
       "      <th>4</th>\n",
       "      <td>276729</td>\n",
       "      <td>0521795028</td>\n",
       "      <td>6</td>\n",
       "    </tr>\n",
       "  </tbody>\n",
       "</table>\n",
       "</div>"
      ],
      "text/plain": [
       "   User-ID        ISBN  Book-Rating\n",
       "0   276725  034545104X            0\n",
       "1   276726  0155061224            5\n",
       "2   276727  0446520802            0\n",
       "3   276729  052165615X            3\n",
       "4   276729  0521795028            6"
      ]
     },
     "execution_count": 16,
     "metadata": {},
     "output_type": "execute_result"
    }
   ],
   "source": [
    "df_ratings = pd.read_csv(dataset_path + \"/Ratings.csv\")\n",
    "df_ratings.head()"
   ]
  },
  {
   "cell_type": "code",
   "execution_count": 17,
   "metadata": {},
   "outputs": [
    {
     "name": "stdout",
     "output_type": "stream",
     "text": [
      "<class 'pandas.core.frame.DataFrame'>\n",
      "RangeIndex: 1149780 entries, 0 to 1149779\n",
      "Data columns (total 3 columns):\n",
      " #   Column       Non-Null Count    Dtype \n",
      "---  ------       --------------    ----- \n",
      " 0   User-ID      1149780 non-null  int64 \n",
      " 1   ISBN         1149780 non-null  object\n",
      " 2   Book-Rating  1149780 non-null  int64 \n",
      "dtypes: int64(2), object(1)\n",
      "memory usage: 26.3+ MB\n"
     ]
    }
   ],
   "source": [
    "df_ratings.info()"
   ]
  },
  {
   "cell_type": "code",
   "execution_count": 18,
   "metadata": {},
   "outputs": [],
   "source": [
    "user_rating_counts = df_ratings.groupby('User-ID').size().reset_index(name='rating_count')"
   ]
  },
  {
   "cell_type": "code",
   "execution_count": 19,
   "metadata": {},
   "outputs": [
    {
     "data": {
      "text/html": [
       "<div>\n",
       "<style scoped>\n",
       "    .dataframe tbody tr th:only-of-type {\n",
       "        vertical-align: middle;\n",
       "    }\n",
       "\n",
       "    .dataframe tbody tr th {\n",
       "        vertical-align: top;\n",
       "    }\n",
       "\n",
       "    .dataframe thead th {\n",
       "        text-align: right;\n",
       "    }\n",
       "</style>\n",
       "<table border=\"1\" class=\"dataframe\">\n",
       "  <thead>\n",
       "    <tr style=\"text-align: right;\">\n",
       "      <th></th>\n",
       "      <th>User-ID</th>\n",
       "      <th>rating_count</th>\n",
       "    </tr>\n",
       "  </thead>\n",
       "  <tbody>\n",
       "    <tr>\n",
       "      <th>4213</th>\n",
       "      <td>11676</td>\n",
       "      <td>13602</td>\n",
       "    </tr>\n",
       "    <tr>\n",
       "      <th>74815</th>\n",
       "      <td>198711</td>\n",
       "      <td>7550</td>\n",
       "    </tr>\n",
       "    <tr>\n",
       "      <th>58113</th>\n",
       "      <td>153662</td>\n",
       "      <td>6109</td>\n",
       "    </tr>\n",
       "    <tr>\n",
       "      <th>37356</th>\n",
       "      <td>98391</td>\n",
       "      <td>5891</td>\n",
       "    </tr>\n",
       "    <tr>\n",
       "      <th>13576</th>\n",
       "      <td>35859</td>\n",
       "      <td>5850</td>\n",
       "    </tr>\n",
       "  </tbody>\n",
       "</table>\n",
       "</div>"
      ],
      "text/plain": [
       "       User-ID  rating_count\n",
       "4213     11676         13602\n",
       "74815   198711          7550\n",
       "58113   153662          6109\n",
       "37356    98391          5891\n",
       "13576    35859          5850"
      ]
     },
     "execution_count": 19,
     "metadata": {},
     "output_type": "execute_result"
    }
   ],
   "source": [
    "user_rating_counts = user_rating_counts.sort_values('rating_count', ascending=False)\n",
    "user_rating_counts.head()"
   ]
  },
  {
   "cell_type": "code",
   "execution_count": 20,
   "metadata": {},
   "outputs": [],
   "source": [
    "top_users = user_rating_counts.head(200)['User-ID']"
   ]
  },
  {
   "cell_type": "code",
   "execution_count": 21,
   "metadata": {},
   "outputs": [
    {
     "name": "stdout",
     "output_type": "stream",
     "text": [
      "<class 'pandas.core.frame.DataFrame'>\n",
      "Index: 288349 entries, 4330 to 1147616\n",
      "Data columns (total 3 columns):\n",
      " #   Column       Non-Null Count   Dtype \n",
      "---  ------       --------------   ----- \n",
      " 0   User-ID      288349 non-null  int64 \n",
      " 1   ISBN         288349 non-null  object\n",
      " 2   Book-Rating  288349 non-null  int64 \n",
      "dtypes: int64(2), object(1)\n",
      "memory usage: 8.8+ MB\n"
     ]
    }
   ],
   "source": [
    "ratings_filtered = df_ratings[df_ratings['User-ID'].isin(top_users)]\n",
    "ratings_filtered.info()"
   ]
  },
  {
   "cell_type": "code",
   "execution_count": 22,
   "metadata": {},
   "outputs": [
    {
     "name": "stdout",
     "output_type": "stream",
     "text": [
      "User-Item Rating Matrix shape: (200, 142394)\n",
      "ISBN      9022906116  *0515128325  0 7336 1053 6  0000000000  00000000000  \\\n",
      "User-ID                                                                     \n",
      "3363             0.0          0.0            0.0         0.0          0.0   \n",
      "6251             0.0          0.0            0.0         0.0          0.0   \n",
      "6575             0.0          0.0            0.0         0.0          0.0   \n",
      "7346             0.0          0.0            0.0         0.0          0.0   \n",
      "11601            0.0          0.0            0.0         0.0          0.0   \n",
      "\n",
      "ISBN     0000000051  0000001481  0000913154  0001046438  000104687X  ...  \\\n",
      "User-ID                                                              ...   \n",
      "3363            0.0         0.0         0.0         0.0         0.0  ...   \n",
      "6251            0.0         0.0         0.0         0.0         0.0  ...   \n",
      "6575            0.0         0.0         0.0         0.0         0.0  ...   \n",
      "7346            0.0         0.0         0.0         0.0         0.0  ...   \n",
      "11601           0.0         0.0         0.0         0.0         0.0  ...   \n",
      "\n",
      "ISBN     TBR0385495641  THEALLTRUETRA  THECATASTROPH  THEFLYINGACE  \\\n",
      "User-ID                                                              \n",
      "3363               0.0            0.0            0.0           0.0   \n",
      "6251               0.0            0.0            0.0           0.0   \n",
      "6575               0.0            0.0            0.0           0.0   \n",
      "7346               0.0            0.0            0.0           0.0   \n",
      "11601              0.0            0.0            0.0           0.0   \n",
      "\n",
      "ISBN     X000000000  YOUTELLEM,AND  ZR903CX0003  \\0432534220\\\"\"  \\\n",
      "User-ID                                                           \n",
      "3363            0.0            0.0          0.0             0.0   \n",
      "6251            0.0            0.0          0.0             0.0   \n",
      "6575            0.0            0.0          0.0             0.0   \n",
      "7346            0.0            0.0          0.0             0.0   \n",
      "11601           0.0            0.0          0.0             0.0   \n",
      "\n",
      "ISBN     \\2842053052\\\"\"  b00005wz75  \n",
      "User-ID                              \n",
      "3363                0.0         0.0  \n",
      "6251                0.0         0.0  \n",
      "6575                0.0         0.0  \n",
      "7346                0.0         0.0  \n",
      "11601               0.0         0.0  \n",
      "\n",
      "[5 rows x 142394 columns]\n"
     ]
    }
   ],
   "source": [
    "# Create a pivot table with User-ID as rows, ISBN as columns, and Book-Rating as values.\n",
    "rating_matrix = ratings_filtered.pivot_table(index='User-ID', columns='ISBN', values='Book-Rating').fillna(0)\n",
    "\n",
    "# Inspect the rating matrix shape and a snippet of the data.\n",
    "print(\"User-Item Rating Matrix shape:\", rating_matrix.shape)\n",
    "print(rating_matrix.head())"
   ]
  },
  {
   "cell_type": "code",
   "execution_count": 23,
   "metadata": {},
   "outputs": [
    {
     "name": "stdout",
     "output_type": "stream",
     "text": [
      "<class 'pandas.core.frame.DataFrame'>\n",
      "Index: 200 entries, 3363 to 278418\n",
      "Columns: 142394 entries,  9022906116 to b00005wz75\n",
      "dtypes: float64(142394)\n",
      "memory usage: 217.3 MB\n"
     ]
    }
   ],
   "source": [
    "rating_matrix.info()"
   ]
  },
  {
   "cell_type": "code",
   "execution_count": 24,
   "metadata": {},
   "outputs": [
    {
     "name": "stdout",
     "output_type": "stream",
     "text": [
      "User similarity matrix shape: (200, 200)\n",
      "User-ID    3363      6251      6575      7346      11601     11676     12538   \\\n",
      "User-ID                                                                         \n",
      "3363     1.000000  0.000000  0.026157  0.012896  0.000000  0.016370  0.009182   \n",
      "6251     0.000000  1.000000  0.032732  0.009438  0.018611  0.032008  0.000000   \n",
      "6575     0.026157  0.032732  1.000000  0.052928  0.011933  0.051280  0.018886   \n",
      "7346     0.012896  0.009438  0.052928  1.000000  0.007270  0.042078  0.024509   \n",
      "11601    0.000000  0.018611  0.011933  0.007270  1.000000  0.014299  0.024588   \n",
      "\n",
      "User-ID    13552     15408     16634   ...    264321    265115    265313  \\\n",
      "User-ID                                ...                                 \n",
      "3363     0.007846  0.012360  0.000000  ...  0.005057  0.005149  0.000000   \n",
      "6251     0.009843  0.005789  0.019615  ...  0.012436  0.006767  0.015009   \n",
      "6575     0.011312  0.018628  0.010907  ...  0.018278  0.029977  0.004107   \n",
      "7346     0.024780  0.004911  0.005137  ...  0.010439  0.043436  0.000000   \n",
      "11601    0.000000  0.003902  0.000000  ...  0.005988  0.000000  0.010538   \n",
      "\n",
      "User-ID    266226    269566  271284    274061    274308    275970    278418  \n",
      "User-ID                                                                      \n",
      "3363     0.000000  0.000000     0.0  0.000000  0.000000  0.000000  0.000000  \n",
      "6251     0.004478  0.022183     0.0  0.000000  0.012826  0.011408  0.018669  \n",
      "6575     0.014794  0.014086     0.0  0.000000  0.025058  0.030758  0.000000  \n",
      "7346     0.016691  0.023860     0.0  0.016799  0.007140  0.019675  0.000000  \n",
      "11601    0.000000  0.000000     0.0  0.000000  0.000000  0.006901  0.018506  \n",
      "\n",
      "[5 rows x 200 columns]\n"
     ]
    }
   ],
   "source": [
    "\n",
    "\n",
    "# Compute cosine similarity between users based on their rating vectors.\n",
    "user_similarity = cosine_similarity(rating_matrix)\n",
    "user_similarity_df = pd.DataFrame(user_similarity, index=rating_matrix.index, columns=rating_matrix.index)\n",
    "\n",
    "print(\"User similarity matrix shape:\", user_similarity_df.shape)\n",
    "print(user_similarity_df.head())\n"
   ]
  },
  {
   "cell_type": "markdown",
   "metadata": {},
   "source": [
    "### 4. Create a Collaborative filtering recommender system based on the user ratings from 3 together with the `Books.csv` dataset."
   ]
  },
  {
   "cell_type": "code",
   "execution_count": 25,
   "metadata": {},
   "outputs": [
    {
     "name": "stdout",
     "output_type": "stream",
     "text": [
      "         ISBN                                         Book-Title  \\\n",
      "0  0195153448                                Classical Mythology   \n",
      "1  0002005018                                       Clara Callan   \n",
      "2  0060973129                               Decision in Normandy   \n",
      "3  0374157065  Flu: The Story of the Great Influenza Pandemic...   \n",
      "4  0393045218                             The Mummies of Urumchi   \n",
      "\n",
      "            Book-Author Year-Of-Publication                   Publisher  \\\n",
      "0    Mark P. O. Morford                2002     Oxford University Press   \n",
      "1  Richard Bruce Wright                2001       HarperFlamingo Canada   \n",
      "2          Carlo D'Este                1991             HarperPerennial   \n",
      "3      Gina Bari Kolata                1999        Farrar Straus Giroux   \n",
      "4       E. J. W. Barber                1999  W. W. Norton &amp; Company   \n",
      "\n",
      "                                         Image-URL-S  \\\n",
      "0  http://images.amazon.com/images/P/0195153448.0...   \n",
      "1  http://images.amazon.com/images/P/0002005018.0...   \n",
      "2  http://images.amazon.com/images/P/0060973129.0...   \n",
      "3  http://images.amazon.com/images/P/0374157065.0...   \n",
      "4  http://images.amazon.com/images/P/0393045218.0...   \n",
      "\n",
      "                                         Image-URL-M  \\\n",
      "0  http://images.amazon.com/images/P/0195153448.0...   \n",
      "1  http://images.amazon.com/images/P/0002005018.0...   \n",
      "2  http://images.amazon.com/images/P/0060973129.0...   \n",
      "3  http://images.amazon.com/images/P/0374157065.0...   \n",
      "4  http://images.amazon.com/images/P/0393045218.0...   \n",
      "\n",
      "                                         Image-URL-L  \n",
      "0  http://images.amazon.com/images/P/0195153448.0...  \n",
      "1  http://images.amazon.com/images/P/0002005018.0...  \n",
      "2  http://images.amazon.com/images/P/0060973129.0...  \n",
      "3  http://images.amazon.com/images/P/0374157065.0...  \n",
      "4  http://images.amazon.com/images/P/0393045218.0...  \n"
     ]
    },
    {
     "name": "stderr",
     "output_type": "stream",
     "text": [
      "C:\\Users\\Jlo\\AppData\\Local\\Temp\\ipykernel_25284\\550797334.py:2: DtypeWarning: Columns (3) have mixed types. Specify dtype option on import or set low_memory=False.\n",
      "  df_books = pd.read_csv(\"Books.csv\")\n"
     ]
    }
   ],
   "source": [
    "# Load the Books.csv dataset to get book details (adjust file path as needed)\n",
    "df_books = pd.read_csv(\"Books.csv\")\n",
    "\n",
    "# Inspect the books data; expected columns include 'Book-ID', 'Book-Title', 'Book-Author', etc.\n",
    "print(df_books.head())\n",
    "\n",
    "\n"
   ]
  },
  {
   "cell_type": "code",
   "execution_count": 29,
   "metadata": {},
   "outputs": [
    {
     "name": "stdout",
     "output_type": "stream",
     "text": [
      "<class 'pandas.core.frame.DataFrame'>\n",
      "RangeIndex: 271360 entries, 0 to 271359\n",
      "Data columns (total 8 columns):\n",
      " #   Column               Non-Null Count   Dtype \n",
      "---  ------               --------------   ----- \n",
      " 0   ISBN                 271360 non-null  object\n",
      " 1   Book-Title           271360 non-null  object\n",
      " 2   Book-Author          271358 non-null  object\n",
      " 3   Year-Of-Publication  271360 non-null  object\n",
      " 4   Publisher            271358 non-null  object\n",
      " 5   Image-URL-S          271360 non-null  object\n",
      " 6   Image-URL-M          271360 non-null  object\n",
      " 7   Image-URL-L          271357 non-null  object\n",
      "dtypes: object(8)\n",
      "memory usage: 16.6+ MB\n"
     ]
    }
   ],
   "source": [
    "df_books.info()"
   ]
  },
  {
   "cell_type": "code",
   "execution_count": 30,
   "metadata": {},
   "outputs": [],
   "source": [
    "def recommend_books(user_id, rating_matrix, user_similarity_df, df_books, top_n=5):\n",
    "    # Get similarity scores for the target user with other users.\n",
    "    sim_scores = user_similarity_df.loc[user_id]\n",
    "    # Exclude the target user.\n",
    "    sim_scores = sim_scores.drop(user_id)\n",
    "    # Get the top 5 most similar users.\n",
    "    similar_users = sim_scores.sort_values(ascending=False).head(5).index\n",
    "    \n",
    "    # Aggregate ratings from similar users (you can compute a weighted average based on similarity).\n",
    "    similar_ratings = rating_matrix.loc[similar_users]\n",
    "    # Compute the average rating for each book among these similar users.\n",
    "    avg_ratings = similar_ratings.mean(axis=0)\n",
    "    \n",
    "    # Find books the target user has not rated.\n",
    "    target_user_ratings = rating_matrix.loc[user_id]\n",
    "    unrated_books = target_user_ratings[target_user_ratings == 0].index\n",
    "    \n",
    "    # Filter average ratings to only include unrated books.\n",
    "    recommendations = avg_ratings.loc[unrated_books].sort_values(ascending=False).head(top_n)\n",
    "    \n",
    "    # Merge with the books dataset to get book details.\n",
    "    recommended_books = df_books[df_books['ISBN'].isin(recommendations.index)]\n",
    "    return recommended_books\n",
    "\n"
   ]
  },
  {
   "cell_type": "code",
   "execution_count": 31,
   "metadata": {},
   "outputs": [
    {
     "name": "stdout",
     "output_type": "stream",
     "text": [
      "Recommended Books for User 11676\n",
      "                                         Book-Title           Book-Author\n",
      "4269   White Oleander : A Novel (Oprah's Book Club)           Janet Fitch\n",
      "10950                              The Runaway Jury          JOHN GRISHAM\n",
      "15611                   Little House on the Prairie  Laura Ingalls Wilder\n",
      "24362                The Long Winter (Little House)  Laura Ingalls Wilder\n",
      "26127                                      Palomino        DANIELLE STEEL\n"
     ]
    }
   ],
   "source": [
    "# Test the recommender for a sample user (for example, the first user in top_users)\n",
    "test_user = top_users.iloc[0]\n",
    "recommended_books = recommend_books(test_user, rating_matrix, user_similarity_df, df_books, top_n=5)\n",
    "print(\"Recommended Books for User\", test_user)\n",
    "print(recommended_books[['Book-Title', 'Book-Author']])"
   ]
  }
 ],
 "metadata": {
  "kernelspec": {
   "display_name": "Python 3",
   "language": "python",
   "name": "python3"
  },
  "language_info": {
   "codemirror_mode": {
    "name": "ipython",
    "version": 3
   },
   "file_extension": ".py",
   "mimetype": "text/x-python",
   "name": "python",
   "nbconvert_exporter": "python",
   "pygments_lexer": "ipython3",
   "version": "3.13.2"
  }
 },
 "nbformat": 4,
 "nbformat_minor": 2
}
