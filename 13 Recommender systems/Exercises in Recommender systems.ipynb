{
 "cells": [
  {
   "cell_type": "markdown",
   "id": "e22c86bb-0222-4a1b-bc99-cc19b0a937c8",
   "metadata": {},
   "source": [
    "# Exercises in Recommender systems\n",
    "\n",
    "This notebook contains exercises in Recommender systems"
   ]
  },
  {
   "cell_type": "code",
   "execution_count": null,
   "id": "4b330364-859c-4e63-9c3f-4a7c6db8b210",
   "metadata": {},
   "outputs": [],
   "source": []
  },
  {
   "cell_type": "markdown",
   "id": "ec3d5bd8-7a3d-4c08-b89f-7bf6934e7c1a",
   "metadata": {},
   "source": [
    "## Exercise 1\n",
    "\n",
    "Using the \"Coursera Courses Dataset 2021\" available at kaggle ([https://www.kaggle.com/datasets/khusheekapoor/coursera-courses-dataset-2021](https://www.kaggle.com/datasets/khusheekapoor/coursera-courses-dataset-2021)) or on moodle, to do the following:\n",
    "\n",
    "1. Create a Content-based filtering recommender system based on the Course Descriptions.\n",
    "2. Create a Content-based filtering recommender system based on the Skills.\n",
    "\n",
    "Using the \"Book Recommendation Dataset\" available at kaggle ([https://www.kaggle.com/datasets/arashnic/book-recommendation-dataset](https://www.kaggle.com/datasets/arashnic/book-recommendation-dataset)) or on moodle, to do the following:\n",
    "\n",
    "3. Load in the `Ratings.csv` file (on moodle, it is called `Books_Ratings.csv`). Group by `User-ID` and sort by `Book-Rating` in descending order to get the users who rated most books. Filter the rating data to only contain the 200 users that rated most books.\n",
    "4. Create a Collaborative filtering recommender system based on the user ratings from 3 together with the `Books.csv` dataset."
   ]
  },
  {
   "cell_type": "code",
   "execution_count": null,
   "id": "b47623a3-48c8-422e-a095-f5b2b503b853",
   "metadata": {},
   "outputs": [],
   "source": []
  },
  {
   "cell_type": "markdown",
   "id": "ff520700-6927-44c0-8ec6-4133b87bd485",
   "metadata": {},
   "source": [
    "## Exercise 2\n",
    "\n",
    "Using the \"Coursera Courses Dataset 2021\" from Exercise 1, to do the following:\n",
    "\n",
    "1. [Optional] Create a Content-based filtering recommender system based on both the Course Descriptions and the Skills.\n",
    "2. [Optional] Can you come up with a way of including Difficulty Level and Course Rating in your recommender system?"
   ]
  },
  {
   "cell_type": "code",
   "execution_count": null,
   "id": "0d88e9f5-91fd-430b-a9e4-957993639f5e",
   "metadata": {},
   "outputs": [],
   "source": []
  }
 ],
 "metadata": {
  "kernelspec": {
   "display_name": "Python 3 (ipykernel)",
   "language": "python",
   "name": "python3"
  },
  "language_info": {
   "codemirror_mode": {
    "name": "ipython",
    "version": 3
   },
   "file_extension": ".py",
   "mimetype": "text/x-python",
   "name": "python",
   "nbconvert_exporter": "python",
   "pygments_lexer": "ipython3",
   "version": "3.10.16"
  }
 },
 "nbformat": 4,
 "nbformat_minor": 5
}
