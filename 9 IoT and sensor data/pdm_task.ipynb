{
 "cells": [
  {
   "cell_type": "markdown",
   "metadata": {},
   "source": [
    "# Data & Things\n",
    "\n",
    "## Lecture : IoT and Data"
   ]
  },
  {
   "cell_type": "markdown",
   "metadata": {},
   "source": [
    "# Simulate sensor data & apply PCA\n",
    "\n",
    "In this exercise, you will do the following:\n",
    "1. Simulate sensor data\n",
    "2. Apply PCA to simulated data\n",
    "3. Simulate a new point\n",
    "4. Find out which region the new point belongs to"
   ]
  },
  {
   "cell_type": "code",
   "execution_count": 1,
   "metadata": {},
   "outputs": [],
   "source": [
    "import numpy as np\n",
    "import pandas as pd\n",
    "import matplotlib.pyplot as plt\n",
    "from sklearn.decomposition import PCA\n",
    "from sklearn.preprocessing import StandardScaler"
   ]
  },
  {
   "cell_type": "code",
   "execution_count": 2,
   "metadata": {},
   "outputs": [
    {
     "name": "stdout",
     "output_type": "stream",
     "text": [
      "Sample Data:\n",
      "     Sensor1    Sensor2    Sensor3    Sensor4    Sensor5    Sensor6  \\\n",
      "0  59.934283  36.430105  56.965725  10.388561  40.562849  51.964123   \n",
      "1  47.239714  43.895011  55.671472  28.905288  70.259050  48.722836   \n",
      "2  62.963772  38.062380  31.279604  38.269433  46.046264  69.045816   \n",
      "3  80.475599  52.223362  61.606686  53.008380  51.826387  80.671624   \n",
      "4  45.336935  73.963573  20.218348  70.503249  64.367814  63.756941   \n",
      "\n",
      "     Sensor7    Sensor8    Sensor9   Sensor10   Sensor11   Sensor12  \\\n",
      "0  51.576755  56.403048  63.280022  69.217891  70.611892  66.017477   \n",
      "1  61.262950  72.314233  44.082680  42.605706  26.897905  49.021813   \n",
      "2  56.832040  19.905237  48.678273  38.418383  61.518745  41.079748   \n",
      "3  24.456718  84.807115  46.507354  68.681245  37.630232  53.375301   \n",
      "4  46.295596  56.621738  60.301076  -4.610793  43.471946   7.484493   \n",
      "\n",
      "    Sensor13   Sensor14   Sensor15   Sensor16   Sensor17   Sensor18  \\\n",
      "0  45.626995  72.350652  44.689254  77.397560  78.652455  13.535035   \n",
      "1  57.663772  55.924865  32.846243  47.839698  30.996639  43.242011   \n",
      "2  64.712840  57.699750  58.957432  28.348263  80.791904  50.558823   \n",
      "3  26.347709  25.898816  29.722450  77.854218  67.340775  65.921706   \n",
      "4  52.034782  58.049158  72.706695  47.756466  31.983535  50.238633   \n",
      "\n",
      "    Sensor19   Sensor20  \n",
      "0  58.255621  69.225168  \n",
      "1  85.468972  78.684232  \n",
      "2  19.530576  49.933817  \n",
      "3  46.339473  54.707042  \n",
      "4  47.968296  35.593104  \n"
     ]
    }
   ],
   "source": [
    "# Step 1 Simulate synthetic predictive maintenance dataset\n",
    "np.random.seed(42)\n",
    "time_steps = 10000\n",
    "\n",
    "sensors = {}\n",
    "for i in range(1, 21):\n",
    "    sensors[f'Sensor{i}'] = np.linspace(50, 100, time_steps) + np.random.normal(0, 20, time_steps)\n",
    "\n",
    "# Combine into a DataFrame\n",
    "data = pd.DataFrame(sensors)\n",
    "\n",
    "print(\"Sample Data:\")\n",
    "print(data.head())"
   ]
  },
  {
   "cell_type": "code",
   "execution_count": 3,
   "metadata": {},
   "outputs": [
    {
     "name": "stdout",
     "output_type": "stream",
     "text": [
      "Scaled Data Sample:\n",
      "    Sensor1   Sensor2   Sensor3   Sensor4   Sensor5   Sensor6   Sensor7  \\\n",
      "0 -0.610580 -1.566006 -0.725010 -2.596654 -1.407431 -0.927666 -0.969437   \n",
      "1 -1.126525 -1.265030 -0.777771 -1.850742 -0.198347 -1.057996 -0.572396   \n",
      "2 -0.487452 -1.500195 -1.772111 -1.473524 -1.184173 -0.240819 -0.754021   \n",
      "3  0.224281 -0.929241 -0.535820 -0.879792 -0.948835  0.226649 -2.081098   \n",
      "4 -1.203859 -0.052701 -2.223025 -0.175043 -0.438209 -0.453482 -1.185914   \n",
      "\n",
      "    Sensor8   Sensor9  Sensor10  Sensor11  Sensor12  Sensor13  Sensor14  \\\n",
      "0 -0.746813 -0.479506 -0.232249 -0.186682 -0.367113 -1.184181 -0.110562   \n",
      "1 -0.106939 -1.258090 -1.320570 -1.955170 -1.054209 -0.697301 -0.772550   \n",
      "2 -2.214587 -1.071707 -1.491814 -0.554553 -1.375289 -0.412171 -0.701019   \n",
      "3  0.395468 -1.159753 -0.254195 -1.520984 -0.878208 -1.964016 -1.982653   \n",
      "4 -0.738018 -0.600323 -3.251518 -1.284652 -2.733470 -0.924990 -0.686938   \n",
      "\n",
      "   Sensor15  Sensor16  Sensor17  Sensor18  Sensor19  Sensor20  \n",
      "0 -1.220616  0.099576  0.149868 -2.489953 -0.664518 -0.238621  \n",
      "1 -1.696973 -1.108663 -1.769317 -1.291246  0.441852  0.145353  \n",
      "2 -0.646714 -1.905416  0.236027 -0.996005 -2.238900 -1.021719  \n",
      "3 -1.822619  0.118243 -0.305674 -0.376097 -1.148973 -0.827958  \n",
      "4 -0.093683 -1.112065 -1.729573 -1.008925 -1.082753 -1.603855  \n"
     ]
    }
   ],
   "source": [
    "# Step 2: Standardize the data\n",
    "scaler = StandardScaler()\n",
    "scaled_data = scaler.fit_transform(data)\n",
    "\n",
    "# Display scaled data\n",
    "print(\"Scaled Data Sample:\")\n",
    "print(pd.DataFrame(scaled_data, columns=data.columns).head())"
   ]
  },
  {
   "cell_type": "markdown",
   "metadata": {},
   "source": [
    "Do the following tasks:\n",
    "1. Apply PCA with upto 5 components\n",
    "2. Visualize how much variance of the dataset is defined by each component\n",
    "3. Visualize the first 2 principal components and color them by timestep\n",
    "4. Simulate a new position using code below\n",
    "5. Plot the new point in the original 2D PCA graph"
   ]
  }
 ],
 "metadata": {
  "kernelspec": {
   "display_name": "Python 3",
   "language": "python",
   "name": "python3"
  },
  "language_info": {
   "codemirror_mode": {
    "name": "ipython",
    "version": 3
   },
   "file_extension": ".py",
   "mimetype": "text/x-python",
   "name": "python",
   "nbconvert_exporter": "python",
   "pygments_lexer": "ipython3",
   "version": "3.12.6"
  }
 },
 "nbformat": 4,
 "nbformat_minor": 2
}
