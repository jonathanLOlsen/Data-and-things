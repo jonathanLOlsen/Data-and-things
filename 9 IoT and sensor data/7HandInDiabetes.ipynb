{
 "cells": [
  {
   "cell_type": "markdown",
   "metadata": {},
   "source": [
    "## **Exercise**\n",
    "1. Use the diabetes.csv dataset to do the following:​\n",
    "\n",
    "Select the following 4 attributes (3 features + 1 class label) :​\n",
    "\n",
    "Glucose, BloodPressure, Insulin, Outcome​\n",
    "\n",
    "2. Normalize Glucose, BloodPressure and Insulin to [0, 1] using MinMax.​\n",
    "\n",
    "3. Store the new data (3 normalized features + 1 class label) in another dataset S.​\n",
    "\n",
    "4. Modify the MQTT example to do the following:​\n",
    "\n",
    "The publisher publishes records in S continuously. When it reaches the end of S, it continues to send from the beginning again.​\n",
    "\n",
    "The subscriber continuously receives the data. For each latest record r received, apply the 3NN classification to the last 5 records before r, and compare the classification result with the Outcome label in r.​\n",
    "\n",
    "Repeat this for 1000 times, and report the number of correct classifications. ​\n",
    "\n",
    "​\n"
   ]
  },
  {
   "cell_type": "code",
   "execution_count": 1,
   "metadata": {},
   "outputs": [],
   "source": [
    "import pandas as pd\n",
    "import numpy as np\n",
    "from sklearn.preprocessing import MinMaxScaler\n",
    "import time\n",
    "import paho.mqtt.client as mqtt"
   ]
  },
  {
   "cell_type": "code",
   "execution_count": 2,
   "metadata": {},
   "outputs": [],
   "source": [
    "df_diabetes = pd.read_csv(\"diabetes.csv\")"
   ]
  },
  {
   "cell_type": "markdown",
   "metadata": {},
   "source": [
    "### 1. Use the diabetes.csv dataset to do the following:​\n",
    "\n",
    "Select the following 4 attributes (3 features + 1 class label) :​\n",
    "\n",
    "Glucose, BloodPressure, Insulin, Outcome​"
   ]
  },
  {
   "cell_type": "code",
   "execution_count": 3,
   "metadata": {},
   "outputs": [],
   "source": [
    "df_S = df_diabetes[['Glucose', 'BloodPressure', 'Insulin', 'Outcome']].copy()"
   ]
  },
  {
   "cell_type": "code",
   "execution_count": 4,
   "metadata": {},
   "outputs": [
    {
     "data": {
      "text/html": [
       "<div>\n",
       "<style scoped>\n",
       "    .dataframe tbody tr th:only-of-type {\n",
       "        vertical-align: middle;\n",
       "    }\n",
       "\n",
       "    .dataframe tbody tr th {\n",
       "        vertical-align: top;\n",
       "    }\n",
       "\n",
       "    .dataframe thead th {\n",
       "        text-align: right;\n",
       "    }\n",
       "</style>\n",
       "<table border=\"1\" class=\"dataframe\">\n",
       "  <thead>\n",
       "    <tr style=\"text-align: right;\">\n",
       "      <th></th>\n",
       "      <th>Glucose</th>\n",
       "      <th>BloodPressure</th>\n",
       "      <th>Insulin</th>\n",
       "      <th>Outcome</th>\n",
       "    </tr>\n",
       "  </thead>\n",
       "  <tbody>\n",
       "    <tr>\n",
       "      <th>0</th>\n",
       "      <td>148</td>\n",
       "      <td>72</td>\n",
       "      <td>0</td>\n",
       "      <td>1</td>\n",
       "    </tr>\n",
       "    <tr>\n",
       "      <th>1</th>\n",
       "      <td>85</td>\n",
       "      <td>66</td>\n",
       "      <td>0</td>\n",
       "      <td>0</td>\n",
       "    </tr>\n",
       "    <tr>\n",
       "      <th>2</th>\n",
       "      <td>183</td>\n",
       "      <td>64</td>\n",
       "      <td>0</td>\n",
       "      <td>1</td>\n",
       "    </tr>\n",
       "    <tr>\n",
       "      <th>3</th>\n",
       "      <td>89</td>\n",
       "      <td>66</td>\n",
       "      <td>94</td>\n",
       "      <td>0</td>\n",
       "    </tr>\n",
       "    <tr>\n",
       "      <th>4</th>\n",
       "      <td>137</td>\n",
       "      <td>40</td>\n",
       "      <td>168</td>\n",
       "      <td>1</td>\n",
       "    </tr>\n",
       "  </tbody>\n",
       "</table>\n",
       "</div>"
      ],
      "text/plain": [
       "   Glucose  BloodPressure  Insulin  Outcome\n",
       "0      148             72        0        1\n",
       "1       85             66        0        0\n",
       "2      183             64        0        1\n",
       "3       89             66       94        0\n",
       "4      137             40      168        1"
      ]
     },
     "execution_count": 4,
     "metadata": {},
     "output_type": "execute_result"
    }
   ],
   "source": [
    "df_S.head()"
   ]
  },
  {
   "cell_type": "code",
   "execution_count": 5,
   "metadata": {},
   "outputs": [
    {
     "name": "stdout",
     "output_type": "stream",
     "text": [
      "<class 'pandas.core.frame.DataFrame'>\n",
      "RangeIndex: 768 entries, 0 to 767\n",
      "Data columns (total 4 columns):\n",
      " #   Column         Non-Null Count  Dtype\n",
      "---  ------         --------------  -----\n",
      " 0   Glucose        768 non-null    int64\n",
      " 1   BloodPressure  768 non-null    int64\n",
      " 2   Insulin        768 non-null    int64\n",
      " 3   Outcome        768 non-null    int64\n",
      "dtypes: int64(4)\n",
      "memory usage: 24.1 KB\n"
     ]
    }
   ],
   "source": [
    "df_S.info()"
   ]
  },
  {
   "cell_type": "markdown",
   "metadata": {},
   "source": [
    "2. Normalize Glucose, BloodPressure and Insulin to [0, 1] using MinMax.​"
   ]
  },
  {
   "cell_type": "code",
   "execution_count": 6,
   "metadata": {},
   "outputs": [],
   "source": [
    "min_max_scaler = MinMaxScaler()\n",
    "df_S[['Glucose', 'BloodPressure', 'Insulin']] = min_max_scaler.fit_transform(df_S[['Glucose', 'BloodPressure', 'Insulin']])"
   ]
  },
  {
   "cell_type": "code",
   "execution_count": null,
   "metadata": {},
   "outputs": [
    {
     "name": "stdout",
     "output_type": "stream",
     "text": [
      "    Glucose  BloodPressure   Insulin  Outcome\n",
      "0  0.743719       0.590164  0.000000        1\n",
      "1  0.427136       0.540984  0.000000        0\n",
      "2  0.919598       0.524590  0.000000        1\n",
      "3  0.447236       0.540984  0.111111        0\n",
      "4  0.688442       0.327869  0.198582        1\n"
     ]
    },
    {
     "ename": "",
     "evalue": "",
     "output_type": "error",
     "traceback": [
      "\u001b[1;31mThe Kernel crashed while executing code in the current cell or a previous cell. \n",
      "\u001b[1;31mPlease review the code in the cell(s) to identify a possible cause of the failure. \n",
      "\u001b[1;31mClick <a href='https://aka.ms/vscodeJupyterKernelCrash'>here</a> for more info. \n",
      "\u001b[1;31mView Jupyter <a href='command:jupyter.viewOutput'>log</a> for further details."
     ]
    }
   ],
   "source": [
    "print(df_S.head())"
   ]
  },
  {
   "cell_type": "markdown",
   "metadata": {},
   "source": [
    "loaded the diabetes dataset, selected the 4 desired columns, and copyed them into a new DataFrame S.\n",
    "used MinMaxScaler to normalize Glucose, BloodPressure, and Insulin to the [0, 1] range."
   ]
  },
  {
   "cell_type": "markdown",
   "metadata": {},
   "source": []
  },
  {
   "cell_type": "code",
   "execution_count": null,
   "metadata": {},
   "outputs": [
    {
     "name": "stdout",
     "output_type": "stream",
     "text": [
      "Publisher: Starting data publication...\n"
     ]
    }
   ],
   "source": [
    "records = df_S.to_dict('records')\n",
    "period = len(records)\n",
    "\n",
    "# --- Set Up MQTT Publisher ---\n",
    "mqttc = mqtt.Client()\n",
    "mqttc.connect(\"mqtt.eclipseprojects.io\", 1883, 60)\n",
    "\n",
    "if __name__ == \"__main__\":\n",
    "    print(\"Publisher: Starting data publication...\")\n",
    "    index = 0\n",
    "    while True:\n",
    "        # Cycle through records continuously\n",
    "        record = records[index % period]\n",
    "        # Publish the record as a JSON string (you could use json.dumps if needed)\n",
    "        mqttc.publish(\"myroom/diabetes\", str(record))\n",
    "        # Publish a new record every 2 seconds\n",
    "        time.sleep(0.1)\n",
    "        index += 1"
   ]
  },
  {
   "cell_type": "markdown",
   "metadata": {},
   "source": []
  }
 ],
 "metadata": {
  "kernelspec": {
   "display_name": "Python 3",
   "language": "python",
   "name": "python3"
  },
  "language_info": {
   "codemirror_mode": {
    "name": "ipython",
    "version": 3
   },
   "file_extension": ".py",
   "mimetype": "text/x-python",
   "name": "python",
   "nbconvert_exporter": "python",
   "pygments_lexer": "ipython3",
   "version": "3.13.2"
  }
 },
 "nbformat": 4,
 "nbformat_minor": 2
}
